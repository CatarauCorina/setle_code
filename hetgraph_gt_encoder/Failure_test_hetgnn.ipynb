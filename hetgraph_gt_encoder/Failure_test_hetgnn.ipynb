{
 "cells": [
  {
   "cell_type": "code",
   "execution_count": 1,
   "id": "3e8aeb17-7759-441e-991c-8bec262d4234",
   "metadata": {},
   "outputs": [],
   "source": [
    "import os\n",
    "\n",
    "os.environ['NEO4J_BOLT_URL']='bolt://localhost:7687'\n",
    "os.environ['NEO_PASS']='rl123456'\n",
    "os.environ['NEO_USER']='neo4j'"
   ]
  },
  {
   "cell_type": "code",
   "execution_count": 2,
   "id": "80de96fc-2da9-4a95-9b6c-ee866e04c738",
   "metadata": {},
   "outputs": [
    {
     "name": "stdout",
     "output_type": "stream",
     "text": [
      "C:\\Users\\WorkStation\\Documents\\rl_main_loop_create_env\\hetgraph_gt_encoder\n"
     ]
    }
   ],
   "source": [
    "import torch\n",
    "from data_helpers.data_preparation import StateLoader\n",
    "from models.HeCo import HeCo\n",
    "from heco_params import heco_params\n",
    "\n",
    "count_mps=2\n",
    "args = heco_params()\n",
    "device = torch.device(\"cuda\" if torch.cuda.is_available() else \"cpu\")"
   ]
  },
  {
   "cell_type": "code",
   "execution_count": 3,
   "id": "7f2d0643",
   "metadata": {},
   "outputs": [
    {
     "name": "stdout",
     "output_type": "stream",
     "text": [
      "C:\\Users\\WorkStation\\Documents\\rl_main_loop_create_env\\hetgraph_gt_encoder\\ep_data\\CreateLevelBelt-v0\\false\\4-f37eb877-b166-4051-b3af-068130e1e141-20836.pickle\n",
      "C:\\Users\\WorkStation\\Documents\\rl_main_loop_create_env\\hetgraph_gt_encoder\\ep_data\\CreateLevelBelt-v0\\false\\4-f37eb877-b166-4051-b3af-068130e1e141-20836.pickle\n",
      "C:\\Users\\WorkStation\\Documents\\rl_main_loop_create_env\\hetgraph_gt_encoder\\ep_data\\CreateLevelBelt-v0\\false\\4-f37eb877-b166-4051-b3af-068130e1e141-20836.pickle\n",
      "C:\\Users\\WorkStation\\Documents\\rl_main_loop_create_env\\hetgraph_gt_encoder\\ep_data\\CreateLevelBelt-v0\\false\\4-f37eb877-b166-4051-b3af-068130e1e141-20836.pickle\n",
      "C:\\Users\\WorkStation\\Documents\\rl_main_loop_create_env\\hetgraph_gt_encoder\\ep_data\\CreateLevelBelt-v0\\false\\4-f37eb877-b166-4051-b3af-068130e1e141-21277.pickle\n",
      "C:\\Users\\WorkStation\\Documents\\rl_main_loop_create_env\\hetgraph_gt_encoder\\ep_data\\CreateLevelBelt-v0\\false\\4-f37eb877-b166-4051-b3af-068130e1e141-21277.pickle\n",
      "C:\\Users\\WorkStation\\Documents\\rl_main_loop_create_env\\hetgraph_gt_encoder\\ep_data\\CreateLevelBelt-v0\\false\\4-f37eb877-b166-4051-b3af-068130e1e141-21277.pickle\n",
      "C:\\Users\\WorkStation\\Documents\\rl_main_loop_create_env\\hetgraph_gt_encoder\\ep_data\\CreateLevelBelt-v0\\false\\4-f37eb877-b166-4051-b3af-068130e1e141-21277.pickle\n",
      "C:\\Users\\WorkStation\\Documents\\rl_main_loop_create_env\\hetgraph_gt_encoder\\ep_data\\CreateLevelPush-v0\\false\\4-f37eb877-b166-4051-b3af-068130e1e141-2718.pickle\n",
      "C:\\Users\\WorkStation\\Documents\\rl_main_loop_create_env\\hetgraph_gt_encoder\\ep_data\\CreateLevelPush-v0\\false\\4-f37eb877-b166-4051-b3af-068130e1e141-2718.pickle\n",
      "C:\\Users\\WorkStation\\Documents\\rl_main_loop_create_env\\hetgraph_gt_encoder\\ep_data\\CreateLevelPush-v0\\false\\4-f37eb877-b166-4051-b3af-068130e1e141-2718.pickle\n",
      "C:\\Users\\WorkStation\\Documents\\rl_main_loop_create_env\\hetgraph_gt_encoder\\ep_data\\CreateLevelPush-v0\\false\\4-f37eb877-b166-4051-b3af-068130e1e141-2718.pickle\n"
     ]
    }
   ],
   "source": [
    "st_loader = StateLoader(nr_mps=2, mps=None)\n",
    "(batch_pos1, batch_pos2, batch_neg1), all_state_keys, all_aff_keys, all_obj_keys, action_keys, (fstate_p1, fstate_p2, fstate_n1) = st_loader.get_subgraph_episode_data(batch_size=1)\n",
    "feats = batch_pos1[0][0]\n",
    "nei_index = batch_pos1[0][1]\n",
    "mps = st_loader.generate_mps_episode(nei_index,  fstate_p1)\n",
    "mps_dims = [mp.shape[1] for mp in mps]\n",
    "feats_dim_list = [i.shape[1] for i in batch_pos1[0][0]]"
   ]
  },
  {
   "cell_type": "code",
   "execution_count": 6,
   "id": "bd806d05",
   "metadata": {},
   "outputs": [],
   "source": [
    "def get_data_for_episode(st_loader, batch, full_state):\n",
    "    feats = batch[0][0]\n",
    "    nei_index = batch[0][1]\n",
    "    mps = st_loader.generate_mps_episode(nei_index, full_state)\n",
    "    return feats, nei_index, mps\n"
   ]
  },
  {
   "cell_type": "code",
   "execution_count": 5,
   "id": "dd1afba7",
   "metadata": {},
   "outputs": [],
   "source": [
    "def get_encoding_task_incp(model, task, succ):\n",
    "    alpha=0.5\n",
    "    loss_type=None\n",
    "    push_succ_1, all_state_keys, all_aff_keys, all_obj_keys, action_keys, fstate_push_succ_p1, anchor_file_push_succ_1 = st_loader.get_subgraph_episode_data_by_task_incp(task_1=task, succ_fail=succ)\n",
    "    feats_push_succ_1, nei_index_push_succ_1, mps_push_succ_1 = get_data_for_episode(st_loader, push_succ_1, fstate_push_succ_p1)\n",
    "    z_sc_push_succ_1, z_mp_push_succ_1, intra_push_succ_1, inter_push_succ_1 = model(feats_push_succ_1, mps_push_succ_1,nei_index_push_succ_1, alpha, loss_type, testing=True)\n",
    "    return z_sc_push_succ_1, anchor_file_push_succ_1"
   ]
  },
  {
   "cell_type": "code",
   "execution_count": 7,
   "id": "4b1b8988",
   "metadata": {},
   "outputs": [],
   "source": [
    "def get_encoding_task(model, ep_ids, task, succ):\n",
    "    alpha=0.5\n",
    "    loss_type=None\n",
    "    push_succ_1, all_state_keys, all_aff_keys, all_obj_keys, action_keys, fstate_push_succ_p1, anchor_file_push_succ_1 = st_loader.get_subgraph_episode_data_by_ids(ep_ids)\n",
    "    feats_push_succ_1, nei_index_push_succ_1, mps_push_succ_1 = get_data_for_episode(st_loader, push_succ_1, fstate_push_succ_p1)\n",
    "    z_sc_push_succ_1, z_mp_push_succ_1, intra_push_succ_1, inter_push_succ_1 = model(feats_push_succ_1, mps_push_succ_1,nei_index_push_succ_1, alpha, loss_type, testing=True)\n",
    "    return z_sc_push_succ_1, anchor_file_push_succ_1"
   ]
  },
  {
   "cell_type": "code",
   "execution_count": 8,
   "id": "1c409c1c",
   "metadata": {},
   "outputs": [],
   "source": [
    "def get_encoding_task_new(model, ep_ids):\n",
    "    alpha=0.5\n",
    "    loss_type=None\n",
    "    push_succ_1, all_state_keys, all_aff_keys, all_obj_keys, action_keys, fstate_push_succ_p1, anchor_file_push_succ_1 = st_loader.get_subgraph_episode_data_by_id(ep_ids)\n",
    "    feats_push_succ_1, nei_index_push_succ_1, mps_push_succ_1 = get_data_for_episode(st_loader, push_succ_1, fstate_push_succ_p1)\n",
    "    z_sc_push_succ_1, z_mp_push_succ_1, intra_push_succ_1, inter_push_succ_1 = model(feats_push_succ_1, mps_push_succ_1,nei_index_push_succ_1, alpha, loss_type, testing=True)\n",
    "    return z_sc_push_succ_1, anchor_file_push_succ_1"
   ]
  },
  {
   "cell_type": "code",
   "execution_count": 9,
   "id": "5a3b18c4",
   "metadata": {},
   "outputs": [
    {
     "name": "stdout",
     "output_type": "stream",
     "text": [
      "ep_triplet_1.2_29_0.0.pkl\n",
      "ep_triplet_1.5_25_0.0.pkl\n",
      "ep_hybrid_1.5_19_0.1439601331949234.pkl\n",
      "ep_hybrid_1.5_19_0.1439601331949234.pkl\n",
      "['C:\\\\Users\\\\WorkStation\\\\Documents\\\\rl_main_loop_create_env\\\\hetgraph_gt_encoder\\\\checkpoints_12_cum20\\\\ep_triplet_1.2_29_0.0.pkl', 'C:\\\\Users\\\\WorkStation\\\\Documents\\\\rl_main_loop_create_env\\\\hetgraph_gt_encoder\\\\checkpoints_15_cum20\\\\ep_triplet_1.5_25_0.0.pkl', 'C:\\\\Users\\\\WorkStation\\\\Documents\\\\rl_main_loop_create_env\\\\hetgraph_gt_encoder\\\\checkpoints_hybrid\\\\ep_hybrid_1.5_19_0.1439601331949234.pkl']\n"
     ]
    }
   ],
   "source": [
    "dirs= ['checkpoints_12_cum20', 'checkpoints_15_cum20','checkpoints_hybrid']\n",
    "\n",
    "checkpoints = []\n",
    "for check_dir in dirs:\n",
    "    PATH_TO_CHECKPOINTS = os.path.join(str(os.getcwd()),check_dir)\n",
    "    files = os.listdir(PATH_TO_CHECKPOINTS)\n",
    "\n",
    "    if check_dir == 'checkpoints_hybrid':\n",
    "        file = files[33]\n",
    "        print(files[33])\n",
    "        print(file)\n",
    "    else:\n",
    "        print(files[21])\n",
    "        file = files[21]\n",
    "    \n",
    "    checkpoint_path = os.path.join(PATH_TO_CHECKPOINTS, file)\n",
    "    checkpoints.append(checkpoint_path)\n",
    "    \n",
    "print(checkpoints)\n"
   ]
  },
  {
   "cell_type": "code",
   "execution_count": 10,
   "id": "84db013a",
   "metadata": {},
   "outputs": [],
   "source": [
    "def compute_encodings_incp(checkpoint):\n",
    "    tasks = [\"CreateLevelPush-v0\",\n",
    "                       \"CreateLevelBuckets-v0\",\n",
    "                       \"CreateLevelBasket-v0\",\"CreateLevelBelt-v0\",\n",
    "                       \"CreateLevelObstacle-v0\"]\n",
    "    succ_fail = ['true', 'false']\n",
    "    model = HeCo(args.hidden_dim, feats_dim_list, args.feat_drop, args.attn_drop,\n",
    "                 count_mps, args.sample_rate, args.nei_num, args.tau, args.lam, mps_dims).to(device)\n",
    "    model.load_state_dict(torch.load(checkpoint))\n",
    "    files_used = []\n",
    "\n",
    "    model.eval()\n",
    "    z_encodings = []\n",
    "    labels = []\n",
    "    # Loop through tasks and outcomes to fetch episodes\n",
    "    for task in tasks:\n",
    "        for outcome in succ_fail:\n",
    "            for _ in range(num_episodes_per_type):\n",
    "                #try:\n",
    "                z_sc, anchor_file = get_encoding_task_incp(model, task, outcome)\n",
    "                files_used.append(anchor_file)\n",
    "                z_encodings.append(z_sc)\n",
    "                labels.append((task, outcome))\n",
    "#                 #except:\n",
    "#                     print(task)\n",
    "#                     continue\n",
    "\n",
    "    # Convert list of tensors to a tensor for efficient operations\n",
    "    if len(z_encodings) > 0:\n",
    "        z_encodings = torch.stack(z_encodings)\n",
    "    return z_encodings, labels, files_used"
   ]
  },
  {
   "cell_type": "code",
   "execution_count": 11,
   "id": "8e7da613",
   "metadata": {},
   "outputs": [],
   "source": [
    "def compute_encodings(checkpoint, ep_ids):\n",
    "    tasks = [\"CreateLevelPush-v0\",\n",
    "                       \"CreateLevelBuckets-v0\",\n",
    "                       \"CreateLevelBasket-v0\",\"CreateLevelBelt-v0\",\n",
    "                       \"CreateLevelObstacle-v0\"]\n",
    "    succ_fail = ['true', 'false']\n",
    "    model = HeCo(args.hidden_dim, feats_dim_list, args.feat_drop, args.attn_drop,\n",
    "                 count_mps, args.sample_rate, args.nei_num, args.tau, args.lam, mps_dims).to(device)\n",
    "    model.load_state_dict(torch.load(checkpoint))\n",
    "\n",
    "    model.eval()\n",
    "    z_encodings = []\n",
    "    labels = []\n",
    "    for path_ep in ep_ids:\n",
    "        path_ep =path_ep.replace('ep_data_incomplete_40','ep_data')\n",
    "        print(path_ep)\n",
    "        z_sc, anchor_file = get_encoding_task_new(model,path_ep)\n",
    "        z_encodings.append(z_sc)\n",
    "        task = os.path.basename(os.path.dirname(os.path.dirname(path_ep)))\n",
    "        outcome = os.path.basename(os.path.dirname(path_ep))\n",
    "        labels.append((task, outcome))\n",
    "        \n",
    "    # Loop through tasks and outcomes to fetch episodes\n",
    "#     for task in tasks:\n",
    "#         for outcome in succ_fail:\n",
    "#             for _ in range(num_episodes_per_type):\n",
    "#                 z_sc, anchor_file = get_encoding_task(model,ep_ids, task, outcome)\n",
    "#                 z_encodings.append(z_sc)\n",
    "#                 labels.append((task, outcome))\n",
    "#                 except Exception as e:\n",
    "#                     print(e)\n",
    "#                     print(task)\n",
    "#                     continue\n",
    "\n",
    "    # Convert list of tensors to a tensor for efficient operations\n",
    "    z_encodings = torch.stack(z_encodings)\n",
    "    return z_encodings, labels"
   ]
  },
  {
   "cell_type": "code",
   "execution_count": 12,
   "id": "bab1ac47",
   "metadata": {},
   "outputs": [],
   "source": [
    "import torch\n",
    "import torch.nn.functional as F\n",
    "from collections import defaultdict\n",
    "import pandas as pd\n",
    "import matplotlib.pyplot as plt\n",
    "import seaborn as sns\n",
    "from sklearn.cluster import KMeans\n",
    "from sklearn.decomposition import PCA\n",
    "\n",
    "def compute_clusters_by_outcome(z_encodings, labels, tasks):\n",
    "    # Convert tensor to numpy for sklearn compatibility\n",
    "    z_encodings_np = z_encodings.cpu().detach().numpy()\n",
    "    z_encodings_np = z_encodings_np.squeeze(1)  # Ensure the encodings are 2D: [num_samples, feature_dim]\n",
    "\n",
    "    # Prepare dataframes for success and failure episodes\n",
    "    df = pd.DataFrame({\n",
    "        'task': [label[0] for label in labels],  # Original task names\n",
    "        'outcome': [label[1] for label in labels]  # Success/Failure outcome\n",
    "    })\n",
    "    \n",
    "    # Filter the encodings based on success and failure\n",
    "    success_indices = df[df['outcome'] == 'true'].index\n",
    "    failure_indices = df[df['outcome'] == 'false'].index\n",
    "\n",
    "    z_success = z_encodings_np[success_indices]\n",
    "    z_failure = z_encodings_np[failure_indices]\n",
    "\n",
    "    # Define number of clusters as the number of unique tasks\n",
    "    n_clusters = len(tasks)\n",
    "\n",
    "    # Perform K-means clustering on successful episodes\n",
    "    kmeans_success = KMeans(n_clusters=n_clusters, random_state=42)\n",
    "    cluster_labels_success = kmeans_success.fit_predict(z_success)\n",
    "    \n",
    "    # Create a DataFrame for successful episodes with their cluster labels\n",
    "    df_clusters_success = pd.DataFrame({\n",
    "        'task': df.loc[success_indices, 'task'].values,\n",
    "        'cluster': cluster_labels_success\n",
    "    })\n",
    "\n",
    "    # Perform K-means clustering on unsuccessful episodes\n",
    "    kmeans_failure = KMeans(n_clusters=n_clusters, random_state=42)\n",
    "    cluster_labels_failure = kmeans_failure.fit_predict(z_failure)\n",
    "\n",
    "    # Create a DataFrame for unsuccessful episodes with their cluster labels\n",
    "    df_clusters_failure = pd.DataFrame({\n",
    "        'task': df.loc[failure_indices, 'task'].values,\n",
    "        'cluster': cluster_labels_failure\n",
    "    })\n",
    "\n",
    "    # Visualize the clusters for successful episodes using PCA\n",
    "    pca_success = PCA(n_components=2)\n",
    "    z_success_pca = pca_success.fit_transform(z_success)\n",
    "    plt.figure(figsize=(10, 8))\n",
    "    sns.scatterplot(\n",
    "        x=z_success_pca[:, 0], y=z_success_pca[:, 1],\n",
    "        hue=df_clusters_success['task'],\n",
    "        palette='tab10', s=100\n",
    "    )\n",
    "    plt.title('K-means Clustering of Successful Episodes (PCA Reduced)')\n",
    "    plt.xlabel('PCA Component 1')\n",
    "    plt.ylabel('PCA Component 2')\n",
    "    plt.legend(loc='best', bbox_to_anchor=(1.05, 1), title='Task')\n",
    "    plt.tight_layout()\n",
    "    plt.show()\n",
    "\n",
    "    # Visualize the clusters for unsuccessful episodes using PCA\n",
    "    pca_failure = PCA(n_components=2)\n",
    "    z_failure_pca = pca_failure.fit_transform(z_failure)\n",
    "    plt.figure(figsize=(10, 8))\n",
    "    sns.scatterplot(\n",
    "        x=z_failure_pca[:, 0], y=z_failure_pca[:, 1],\n",
    "        hue=df_clusters_failure['task'],\n",
    "        palette='tab10', s=100\n",
    "    )\n",
    "    plt.title('K-means Clustering of Unsuccessful Episodes (PCA Reduced)')\n",
    "    plt.xlabel('PCA Component 1')\n",
    "    plt.ylabel('PCA Component 2')\n",
    "    plt.legend(loc='best', bbox_to_anchor=(1.05, 1), title='Task')\n",
    "    plt.tight_layout()\n",
    "    plt.show()\n",
    "\n",
    "    # Evaluate clustering by task for success\n",
    "    print(\"Cluster counts per task for successful episodes:\")\n",
    "    print(df_clusters_success.groupby(['task', 'cluster']).size())\n",
    "\n",
    "    # Evaluate clustering by task for failure\n",
    "    print(\"\\nCluster counts per task for unsuccessful episodes:\")\n",
    "    print(df_clusters_failure.groupby(['task', 'cluster']).size())\n",
    "\n",
    "    return df_clusters_success, df_clusters_failure"
   ]
  },
  {
   "cell_type": "code",
   "execution_count": 13,
   "id": "666b25af",
   "metadata": {},
   "outputs": [
    {
     "data": {
      "text/plain": [
       "['C:\\\\Users\\\\WorkStation\\\\Documents\\\\rl_main_loop_create_env\\\\hetgraph_gt_encoder\\\\checkpoints_12_cum20\\\\ep_triplet_1.2_29_0.0.pkl',\n",
       " 'C:\\\\Users\\\\WorkStation\\\\Documents\\\\rl_main_loop_create_env\\\\hetgraph_gt_encoder\\\\checkpoints_15_cum20\\\\ep_triplet_1.5_25_0.0.pkl',\n",
       " 'C:\\\\Users\\\\WorkStation\\\\Documents\\\\rl_main_loop_create_env\\\\hetgraph_gt_encoder\\\\checkpoints_hybrid\\\\ep_hybrid_1.5_19_0.1439601331949234.pkl']"
      ]
     },
     "execution_count": 13,
     "metadata": {},
     "output_type": "execute_result"
    }
   ],
   "source": [
    "checkpoints"
   ]
  },
  {
   "cell_type": "code",
   "execution_count": 14,
   "id": "b970445c",
   "metadata": {},
   "outputs": [
    {
     "name": "stdout",
     "output_type": "stream",
     "text": [
      "C:\\Users\\WorkStation\\Documents\\rl_main_loop_create_env\\hetgraph_gt_encoder\\ep_data_incomplete_40\\CreateLevelPush-v0\\true\n",
      "C:\\Users\\WorkStation\\Documents\\rl_main_loop_create_env\\hetgraph_gt_encoder\\ep_data_incomplete_40\\CreateLevelPush-v0\\true\\4-f37eb877-b166-4051-b3af-068130e1e141-727.pickle\n",
      "C:\\Users\\WorkStation\\Documents\\rl_main_loop_create_env\\hetgraph_gt_encoder\\ep_data_incomplete_40\\CreateLevelPush-v0\\true\\4-f37eb877-b166-4051-b3af-068130e1e141-727.pickle\n",
      "C:\\Users\\WorkStation\\Documents\\rl_main_loop_create_env\\hetgraph_gt_encoder\\ep_data_incomplete_40\\CreateLevelPush-v0\\true\\4-f37eb877-b166-4051-b3af-068130e1e141-727.pickle\n",
      "C:\\Users\\WorkStation\\Documents\\rl_main_loop_create_env\\hetgraph_gt_encoder\\ep_data_incomplete_40\\CreateLevelPush-v0\\true\\4-f37eb877-b166-4051-b3af-068130e1e141-727.pickle\n"
     ]
    },
    {
     "name": "stderr",
     "output_type": "stream",
     "text": [
      "C:\\Users\\WorkStation\\Documents\\rl_main_loop_create_env\\hetgraph_gt_encoder\\models\\sc_encoder.py:30: UserWarning: Implicit dimension choice for softmax has been deprecated. Change the call to include dim=X as an argument.\n",
      "  beta = self.softmax(beta)\n",
      "C:\\Users\\WorkStation\\Documents\\rl_main_loop_create_env\\hetgraph_gt_encoder\\models\\mp_encoder.py:95: UserWarning: Implicit dimension choice for softmax has been deprecated. Change the call to include dim=X as an argument.\n",
      "  beta = self.softmax(beta)\n"
     ]
    },
    {
     "name": "stdout",
     "output_type": "stream",
     "text": [
      "C:\\Users\\WorkStation\\Documents\\rl_main_loop_create_env\\hetgraph_gt_encoder\\ep_data_incomplete_40\\CreateLevelPush-v0\\true\n",
      "C:\\Users\\WorkStation\\Documents\\rl_main_loop_create_env\\hetgraph_gt_encoder\\ep_data_incomplete_40\\CreateLevelPush-v0\\true\\4-f37eb877-b166-4051-b3af-068130e1e141-1146.pickle\n",
      "C:\\Users\\WorkStation\\Documents\\rl_main_loop_create_env\\hetgraph_gt_encoder\\ep_data_incomplete_40\\CreateLevelPush-v0\\true\\4-f37eb877-b166-4051-b3af-068130e1e141-1146.pickle\n",
      "C:\\Users\\WorkStation\\Documents\\rl_main_loop_create_env\\hetgraph_gt_encoder\\ep_data_incomplete_40\\CreateLevelPush-v0\\true\\4-f37eb877-b166-4051-b3af-068130e1e141-1146.pickle\n",
      "C:\\Users\\WorkStation\\Documents\\rl_main_loop_create_env\\hetgraph_gt_encoder\\ep_data_incomplete_40\\CreateLevelPush-v0\\true\\4-f37eb877-b166-4051-b3af-068130e1e141-1146.pickle\n"
     ]
    },
    {
     "name": "stderr",
     "output_type": "stream",
     "text": [
      "C:\\Users\\WorkStation\\Documents\\rl_main_loop_create_env\\hetgraph_gt_encoder\\models\\sc_encoder.py:30: UserWarning: Implicit dimension choice for softmax has been deprecated. Change the call to include dim=X as an argument.\n",
      "  beta = self.softmax(beta)\n",
      "C:\\Users\\WorkStation\\Documents\\rl_main_loop_create_env\\hetgraph_gt_encoder\\models\\mp_encoder.py:95: UserWarning: Implicit dimension choice for softmax has been deprecated. Change the call to include dim=X as an argument.\n",
      "  beta = self.softmax(beta)\n"
     ]
    },
    {
     "name": "stdout",
     "output_type": "stream",
     "text": [
      "C:\\Users\\WorkStation\\Documents\\rl_main_loop_create_env\\hetgraph_gt_encoder\\ep_data_incomplete_40\\CreateLevelPush-v0\\true\n",
      "C:\\Users\\WorkStation\\Documents\\rl_main_loop_create_env\\hetgraph_gt_encoder\\ep_data_incomplete_40\\CreateLevelPush-v0\\true\\4-f37eb877-b166-4051-b3af-068130e1e141-371.pickle\n",
      "C:\\Users\\WorkStation\\Documents\\rl_main_loop_create_env\\hetgraph_gt_encoder\\ep_data_incomplete_40\\CreateLevelPush-v0\\true\\4-f37eb877-b166-4051-b3af-068130e1e141-371.pickle\n",
      "C:\\Users\\WorkStation\\Documents\\rl_main_loop_create_env\\hetgraph_gt_encoder\\ep_data_incomplete_40\\CreateLevelPush-v0\\true\\4-f37eb877-b166-4051-b3af-068130e1e141-371.pickle\n",
      "C:\\Users\\WorkStation\\Documents\\rl_main_loop_create_env\\hetgraph_gt_encoder\\ep_data_incomplete_40\\CreateLevelPush-v0\\true\\4-f37eb877-b166-4051-b3af-068130e1e141-371.pickle\n"
     ]
    },
    {
     "name": "stderr",
     "output_type": "stream",
     "text": [
      "C:\\Users\\WorkStation\\Documents\\rl_main_loop_create_env\\hetgraph_gt_encoder\\models\\sc_encoder.py:30: UserWarning: Implicit dimension choice for softmax has been deprecated. Change the call to include dim=X as an argument.\n",
      "  beta = self.softmax(beta)\n",
      "C:\\Users\\WorkStation\\Documents\\rl_main_loop_create_env\\hetgraph_gt_encoder\\models\\mp_encoder.py:95: UserWarning: Implicit dimension choice for softmax has been deprecated. Change the call to include dim=X as an argument.\n",
      "  beta = self.softmax(beta)\n"
     ]
    },
    {
     "name": "stdout",
     "output_type": "stream",
     "text": [
      "C:\\Users\\WorkStation\\Documents\\rl_main_loop_create_env\\hetgraph_gt_encoder\\ep_data_incomplete_40\\CreateLevelPush-v0\\true\n",
      "C:\\Users\\WorkStation\\Documents\\rl_main_loop_create_env\\hetgraph_gt_encoder\\ep_data_incomplete_40\\CreateLevelPush-v0\\true\\4-f37eb877-b166-4051-b3af-068130e1e141-727.pickle\n",
      "C:\\Users\\WorkStation\\Documents\\rl_main_loop_create_env\\hetgraph_gt_encoder\\ep_data_incomplete_40\\CreateLevelPush-v0\\true\\4-f37eb877-b166-4051-b3af-068130e1e141-727.pickle\n",
      "C:\\Users\\WorkStation\\Documents\\rl_main_loop_create_env\\hetgraph_gt_encoder\\ep_data_incomplete_40\\CreateLevelPush-v0\\true\\4-f37eb877-b166-4051-b3af-068130e1e141-727.pickle\n",
      "C:\\Users\\WorkStation\\Documents\\rl_main_loop_create_env\\hetgraph_gt_encoder\\ep_data_incomplete_40\\CreateLevelPush-v0\\true\\4-f37eb877-b166-4051-b3af-068130e1e141-727.pickle\n"
     ]
    },
    {
     "name": "stderr",
     "output_type": "stream",
     "text": [
      "C:\\Users\\WorkStation\\Documents\\rl_main_loop_create_env\\hetgraph_gt_encoder\\models\\sc_encoder.py:30: UserWarning: Implicit dimension choice for softmax has been deprecated. Change the call to include dim=X as an argument.\n",
      "  beta = self.softmax(beta)\n",
      "C:\\Users\\WorkStation\\Documents\\rl_main_loop_create_env\\hetgraph_gt_encoder\\models\\mp_encoder.py:95: UserWarning: Implicit dimension choice for softmax has been deprecated. Change the call to include dim=X as an argument.\n",
      "  beta = self.softmax(beta)\n"
     ]
    },
    {
     "name": "stdout",
     "output_type": "stream",
     "text": [
      "C:\\Users\\WorkStation\\Documents\\rl_main_loop_create_env\\hetgraph_gt_encoder\\ep_data_incomplete_40\\CreateLevelPush-v0\\true\n",
      "C:\\Users\\WorkStation\\Documents\\rl_main_loop_create_env\\hetgraph_gt_encoder\\ep_data_incomplete_40\\CreateLevelPush-v0\\true\\4-f37eb877-b166-4051-b3af-068130e1e141-0.pickle\n",
      "C:\\Users\\WorkStation\\Documents\\rl_main_loop_create_env\\hetgraph_gt_encoder\\ep_data_incomplete_40\\CreateLevelPush-v0\\true\\4-f37eb877-b166-4051-b3af-068130e1e141-0.pickle\n",
      "C:\\Users\\WorkStation\\Documents\\rl_main_loop_create_env\\hetgraph_gt_encoder\\ep_data_incomplete_40\\CreateLevelPush-v0\\true\\4-f37eb877-b166-4051-b3af-068130e1e141-0.pickle\n",
      "C:\\Users\\WorkStation\\Documents\\rl_main_loop_create_env\\hetgraph_gt_encoder\\ep_data_incomplete_40\\CreateLevelPush-v0\\true\\4-f37eb877-b166-4051-b3af-068130e1e141-0.pickle\n"
     ]
    },
    {
     "name": "stderr",
     "output_type": "stream",
     "text": [
      "C:\\Users\\WorkStation\\Documents\\rl_main_loop_create_env\\hetgraph_gt_encoder\\models\\sc_encoder.py:30: UserWarning: Implicit dimension choice for softmax has been deprecated. Change the call to include dim=X as an argument.\n",
      "  beta = self.softmax(beta)\n",
      "C:\\Users\\WorkStation\\Documents\\rl_main_loop_create_env\\hetgraph_gt_encoder\\models\\mp_encoder.py:95: UserWarning: Implicit dimension choice for softmax has been deprecated. Change the call to include dim=X as an argument.\n",
      "  beta = self.softmax(beta)\n"
     ]
    },
    {
     "name": "stdout",
     "output_type": "stream",
     "text": [
      "C:\\Users\\WorkStation\\Documents\\rl_main_loop_create_env\\hetgraph_gt_encoder\\ep_data_incomplete_40\\CreateLevelPush-v0\\false\n",
      "C:\\Users\\WorkStation\\Documents\\rl_main_loop_create_env\\hetgraph_gt_encoder\\ep_data_incomplete_40\\CreateLevelPush-v0\\false\\4-f37eb877-b166-4051-b3af-068130e1e141-4716.pickle\n",
      "C:\\Users\\WorkStation\\Documents\\rl_main_loop_create_env\\hetgraph_gt_encoder\\ep_data_incomplete_40\\CreateLevelPush-v0\\false\\4-f37eb877-b166-4051-b3af-068130e1e141-4716.pickle\n",
      "C:\\Users\\WorkStation\\Documents\\rl_main_loop_create_env\\hetgraph_gt_encoder\\ep_data_incomplete_40\\CreateLevelPush-v0\\false\\4-f37eb877-b166-4051-b3af-068130e1e141-4716.pickle\n",
      "C:\\Users\\WorkStation\\Documents\\rl_main_loop_create_env\\hetgraph_gt_encoder\\ep_data_incomplete_40\\CreateLevelPush-v0\\false\\4-f37eb877-b166-4051-b3af-068130e1e141-4716.pickle\n"
     ]
    },
    {
     "name": "stderr",
     "output_type": "stream",
     "text": [
      "C:\\Users\\WorkStation\\Documents\\rl_main_loop_create_env\\hetgraph_gt_encoder\\models\\sc_encoder.py:30: UserWarning: Implicit dimension choice for softmax has been deprecated. Change the call to include dim=X as an argument.\n",
      "  beta = self.softmax(beta)\n",
      "C:\\Users\\WorkStation\\Documents\\rl_main_loop_create_env\\hetgraph_gt_encoder\\models\\mp_encoder.py:95: UserWarning: Implicit dimension choice for softmax has been deprecated. Change the call to include dim=X as an argument.\n",
      "  beta = self.softmax(beta)\n"
     ]
    },
    {
     "name": "stdout",
     "output_type": "stream",
     "text": [
      "C:\\Users\\WorkStation\\Documents\\rl_main_loop_create_env\\hetgraph_gt_encoder\\ep_data_incomplete_40\\CreateLevelPush-v0\\false\n",
      "C:\\Users\\WorkStation\\Documents\\rl_main_loop_create_env\\hetgraph_gt_encoder\\ep_data_incomplete_40\\CreateLevelPush-v0\\false\\4-f37eb877-b166-4051-b3af-068130e1e141-1893.pickle\n",
      "C:\\Users\\WorkStation\\Documents\\rl_main_loop_create_env\\hetgraph_gt_encoder\\ep_data_incomplete_40\\CreateLevelPush-v0\\false\\4-f37eb877-b166-4051-b3af-068130e1e141-1893.pickle\n",
      "C:\\Users\\WorkStation\\Documents\\rl_main_loop_create_env\\hetgraph_gt_encoder\\ep_data_incomplete_40\\CreateLevelPush-v0\\false\\4-f37eb877-b166-4051-b3af-068130e1e141-1893.pickle\n",
      "C:\\Users\\WorkStation\\Documents\\rl_main_loop_create_env\\hetgraph_gt_encoder\\ep_data_incomplete_40\\CreateLevelPush-v0\\false\\4-f37eb877-b166-4051-b3af-068130e1e141-1893.pickle\n"
     ]
    },
    {
     "name": "stderr",
     "output_type": "stream",
     "text": [
      "C:\\Users\\WorkStation\\Documents\\rl_main_loop_create_env\\hetgraph_gt_encoder\\models\\sc_encoder.py:30: UserWarning: Implicit dimension choice for softmax has been deprecated. Change the call to include dim=X as an argument.\n",
      "  beta = self.softmax(beta)\n",
      "C:\\Users\\WorkStation\\Documents\\rl_main_loop_create_env\\hetgraph_gt_encoder\\models\\mp_encoder.py:95: UserWarning: Implicit dimension choice for softmax has been deprecated. Change the call to include dim=X as an argument.\n",
      "  beta = self.softmax(beta)\n"
     ]
    },
    {
     "name": "stdout",
     "output_type": "stream",
     "text": [
      "C:\\Users\\WorkStation\\Documents\\rl_main_loop_create_env\\hetgraph_gt_encoder\\ep_data_incomplete_40\\CreateLevelPush-v0\\false\n",
      "C:\\Users\\WorkStation\\Documents\\rl_main_loop_create_env\\hetgraph_gt_encoder\\ep_data_incomplete_40\\CreateLevelPush-v0\\false\\4-f37eb877-b166-4051-b3af-068130e1e141-3723.pickle\n",
      "C:\\Users\\WorkStation\\Documents\\rl_main_loop_create_env\\hetgraph_gt_encoder\\ep_data_incomplete_40\\CreateLevelPush-v0\\false\\4-f37eb877-b166-4051-b3af-068130e1e141-3723.pickle\n",
      "C:\\Users\\WorkStation\\Documents\\rl_main_loop_create_env\\hetgraph_gt_encoder\\ep_data_incomplete_40\\CreateLevelPush-v0\\false\\4-f37eb877-b166-4051-b3af-068130e1e141-3723.pickle\n",
      "C:\\Users\\WorkStation\\Documents\\rl_main_loop_create_env\\hetgraph_gt_encoder\\ep_data_incomplete_40\\CreateLevelPush-v0\\false\\4-f37eb877-b166-4051-b3af-068130e1e141-3723.pickle\n"
     ]
    },
    {
     "name": "stderr",
     "output_type": "stream",
     "text": [
      "C:\\Users\\WorkStation\\Documents\\rl_main_loop_create_env\\hetgraph_gt_encoder\\models\\sc_encoder.py:30: UserWarning: Implicit dimension choice for softmax has been deprecated. Change the call to include dim=X as an argument.\n",
      "  beta = self.softmax(beta)\n",
      "C:\\Users\\WorkStation\\Documents\\rl_main_loop_create_env\\hetgraph_gt_encoder\\models\\mp_encoder.py:95: UserWarning: Implicit dimension choice for softmax has been deprecated. Change the call to include dim=X as an argument.\n",
      "  beta = self.softmax(beta)\n"
     ]
    },
    {
     "name": "stdout",
     "output_type": "stream",
     "text": [
      "C:\\Users\\WorkStation\\Documents\\rl_main_loop_create_env\\hetgraph_gt_encoder\\ep_data_incomplete_40\\CreateLevelPush-v0\\false\n",
      "C:\\Users\\WorkStation\\Documents\\rl_main_loop_create_env\\hetgraph_gt_encoder\\ep_data_incomplete_40\\CreateLevelPush-v0\\false\\4-f37eb877-b166-4051-b3af-068130e1e141-1387.pickle\n",
      "C:\\Users\\WorkStation\\Documents\\rl_main_loop_create_env\\hetgraph_gt_encoder\\ep_data_incomplete_40\\CreateLevelPush-v0\\false\\4-f37eb877-b166-4051-b3af-068130e1e141-1387.pickle\n",
      "C:\\Users\\WorkStation\\Documents\\rl_main_loop_create_env\\hetgraph_gt_encoder\\ep_data_incomplete_40\\CreateLevelPush-v0\\false\\4-f37eb877-b166-4051-b3af-068130e1e141-1387.pickle\n",
      "C:\\Users\\WorkStation\\Documents\\rl_main_loop_create_env\\hetgraph_gt_encoder\\ep_data_incomplete_40\\CreateLevelPush-v0\\false\\4-f37eb877-b166-4051-b3af-068130e1e141-1387.pickle\n"
     ]
    },
    {
     "name": "stderr",
     "output_type": "stream",
     "text": [
      "C:\\Users\\WorkStation\\Documents\\rl_main_loop_create_env\\hetgraph_gt_encoder\\models\\sc_encoder.py:30: UserWarning: Implicit dimension choice for softmax has been deprecated. Change the call to include dim=X as an argument.\n",
      "  beta = self.softmax(beta)\n",
      "C:\\Users\\WorkStation\\Documents\\rl_main_loop_create_env\\hetgraph_gt_encoder\\models\\mp_encoder.py:95: UserWarning: Implicit dimension choice for softmax has been deprecated. Change the call to include dim=X as an argument.\n",
      "  beta = self.softmax(beta)\n"
     ]
    },
    {
     "name": "stdout",
     "output_type": "stream",
     "text": [
      "C:\\Users\\WorkStation\\Documents\\rl_main_loop_create_env\\hetgraph_gt_encoder\\ep_data_incomplete_40\\CreateLevelPush-v0\\false\n",
      "C:\\Users\\WorkStation\\Documents\\rl_main_loop_create_env\\hetgraph_gt_encoder\\ep_data_incomplete_40\\CreateLevelPush-v0\\false\\4-f37eb877-b166-4051-b3af-068130e1e141-4812.pickle\n",
      "C:\\Users\\WorkStation\\Documents\\rl_main_loop_create_env\\hetgraph_gt_encoder\\ep_data_incomplete_40\\CreateLevelPush-v0\\false\\4-f37eb877-b166-4051-b3af-068130e1e141-4812.pickle\n",
      "C:\\Users\\WorkStation\\Documents\\rl_main_loop_create_env\\hetgraph_gt_encoder\\ep_data_incomplete_40\\CreateLevelPush-v0\\false\\4-f37eb877-b166-4051-b3af-068130e1e141-4812.pickle\n",
      "C:\\Users\\WorkStation\\Documents\\rl_main_loop_create_env\\hetgraph_gt_encoder\\ep_data_incomplete_40\\CreateLevelPush-v0\\false\\4-f37eb877-b166-4051-b3af-068130e1e141-4812.pickle\n"
     ]
    },
    {
     "name": "stderr",
     "output_type": "stream",
     "text": [
      "C:\\Users\\WorkStation\\Documents\\rl_main_loop_create_env\\hetgraph_gt_encoder\\models\\sc_encoder.py:30: UserWarning: Implicit dimension choice for softmax has been deprecated. Change the call to include dim=X as an argument.\n",
      "  beta = self.softmax(beta)\n",
      "C:\\Users\\WorkStation\\Documents\\rl_main_loop_create_env\\hetgraph_gt_encoder\\models\\mp_encoder.py:95: UserWarning: Implicit dimension choice for softmax has been deprecated. Change the call to include dim=X as an argument.\n",
      "  beta = self.softmax(beta)\n"
     ]
    },
    {
     "name": "stdout",
     "output_type": "stream",
     "text": [
      "C:\\Users\\WorkStation\\Documents\\rl_main_loop_create_env\\hetgraph_gt_encoder\\ep_data_incomplete_40\\CreateLevelBuckets-v0\\true\n",
      "C:\\Users\\WorkStation\\Documents\\rl_main_loop_create_env\\hetgraph_gt_encoder\\ep_data_incomplete_40\\CreateLevelBuckets-v0\\true\\4-f37eb877-b166-4051-b3af-068130e1e141-7604.pickle\n",
      "C:\\Users\\WorkStation\\Documents\\rl_main_loop_create_env\\hetgraph_gt_encoder\\ep_data_incomplete_40\\CreateLevelBuckets-v0\\true\\4-f37eb877-b166-4051-b3af-068130e1e141-7604.pickle\n",
      "C:\\Users\\WorkStation\\Documents\\rl_main_loop_create_env\\hetgraph_gt_encoder\\ep_data_incomplete_40\\CreateLevelBuckets-v0\\true\\4-f37eb877-b166-4051-b3af-068130e1e141-7604.pickle\n",
      "C:\\Users\\WorkStation\\Documents\\rl_main_loop_create_env\\hetgraph_gt_encoder\\ep_data_incomplete_40\\CreateLevelBuckets-v0\\true\\4-f37eb877-b166-4051-b3af-068130e1e141-7604.pickle\n"
     ]
    },
    {
     "name": "stderr",
     "output_type": "stream",
     "text": [
      "C:\\Users\\WorkStation\\Documents\\rl_main_loop_create_env\\hetgraph_gt_encoder\\models\\sc_encoder.py:30: UserWarning: Implicit dimension choice for softmax has been deprecated. Change the call to include dim=X as an argument.\n",
      "  beta = self.softmax(beta)\n",
      "C:\\Users\\WorkStation\\Documents\\rl_main_loop_create_env\\hetgraph_gt_encoder\\models\\mp_encoder.py:95: UserWarning: Implicit dimension choice for softmax has been deprecated. Change the call to include dim=X as an argument.\n",
      "  beta = self.softmax(beta)\n"
     ]
    },
    {
     "name": "stdout",
     "output_type": "stream",
     "text": [
      "C:\\Users\\WorkStation\\Documents\\rl_main_loop_create_env\\hetgraph_gt_encoder\\ep_data_incomplete_40\\CreateLevelBuckets-v0\\true\n",
      "C:\\Users\\WorkStation\\Documents\\rl_main_loop_create_env\\hetgraph_gt_encoder\\ep_data_incomplete_40\\CreateLevelBuckets-v0\\true\\4-f37eb877-b166-4051-b3af-068130e1e141-8272.pickle\n",
      "C:\\Users\\WorkStation\\Documents\\rl_main_loop_create_env\\hetgraph_gt_encoder\\ep_data_incomplete_40\\CreateLevelBuckets-v0\\true\\4-f37eb877-b166-4051-b3af-068130e1e141-8272.pickle\n",
      "C:\\Users\\WorkStation\\Documents\\rl_main_loop_create_env\\hetgraph_gt_encoder\\ep_data_incomplete_40\\CreateLevelBuckets-v0\\true\\4-f37eb877-b166-4051-b3af-068130e1e141-8272.pickle\n",
      "C:\\Users\\WorkStation\\Documents\\rl_main_loop_create_env\\hetgraph_gt_encoder\\ep_data_incomplete_40\\CreateLevelBuckets-v0\\true\\4-f37eb877-b166-4051-b3af-068130e1e141-8272.pickle\n"
     ]
    },
    {
     "name": "stderr",
     "output_type": "stream",
     "text": [
      "C:\\Users\\WorkStation\\Documents\\rl_main_loop_create_env\\hetgraph_gt_encoder\\models\\sc_encoder.py:30: UserWarning: Implicit dimension choice for softmax has been deprecated. Change the call to include dim=X as an argument.\n",
      "  beta = self.softmax(beta)\n",
      "C:\\Users\\WorkStation\\Documents\\rl_main_loop_create_env\\hetgraph_gt_encoder\\models\\mp_encoder.py:95: UserWarning: Implicit dimension choice for softmax has been deprecated. Change the call to include dim=X as an argument.\n",
      "  beta = self.softmax(beta)\n"
     ]
    },
    {
     "name": "stdout",
     "output_type": "stream",
     "text": [
      "C:\\Users\\WorkStation\\Documents\\rl_main_loop_create_env\\hetgraph_gt_encoder\\ep_data_incomplete_40\\CreateLevelBuckets-v0\\true\n",
      "C:\\Users\\WorkStation\\Documents\\rl_main_loop_create_env\\hetgraph_gt_encoder\\ep_data_incomplete_40\\CreateLevelBuckets-v0\\true\\4-f37eb877-b166-4051-b3af-068130e1e141-7527.pickle\n",
      "C:\\Users\\WorkStation\\Documents\\rl_main_loop_create_env\\hetgraph_gt_encoder\\ep_data_incomplete_40\\CreateLevelBuckets-v0\\true\\4-f37eb877-b166-4051-b3af-068130e1e141-7527.pickle\n",
      "C:\\Users\\WorkStation\\Documents\\rl_main_loop_create_env\\hetgraph_gt_encoder\\ep_data_incomplete_40\\CreateLevelBuckets-v0\\true\\4-f37eb877-b166-4051-b3af-068130e1e141-7527.pickle\n",
      "C:\\Users\\WorkStation\\Documents\\rl_main_loop_create_env\\hetgraph_gt_encoder\\ep_data_incomplete_40\\CreateLevelBuckets-v0\\true\\4-f37eb877-b166-4051-b3af-068130e1e141-7527.pickle\n"
     ]
    },
    {
     "name": "stderr",
     "output_type": "stream",
     "text": [
      "C:\\Users\\WorkStation\\Documents\\rl_main_loop_create_env\\hetgraph_gt_encoder\\models\\sc_encoder.py:30: UserWarning: Implicit dimension choice for softmax has been deprecated. Change the call to include dim=X as an argument.\n",
      "  beta = self.softmax(beta)\n",
      "C:\\Users\\WorkStation\\Documents\\rl_main_loop_create_env\\hetgraph_gt_encoder\\models\\mp_encoder.py:95: UserWarning: Implicit dimension choice for softmax has been deprecated. Change the call to include dim=X as an argument.\n",
      "  beta = self.softmax(beta)\n"
     ]
    },
    {
     "name": "stdout",
     "output_type": "stream",
     "text": [
      "C:\\Users\\WorkStation\\Documents\\rl_main_loop_create_env\\hetgraph_gt_encoder\\ep_data_incomplete_40\\CreateLevelBuckets-v0\\true\n",
      "C:\\Users\\WorkStation\\Documents\\rl_main_loop_create_env\\hetgraph_gt_encoder\\ep_data_incomplete_40\\CreateLevelBuckets-v0\\true\\4-f37eb877-b166-4051-b3af-068130e1e141-7604.pickle\n",
      "C:\\Users\\WorkStation\\Documents\\rl_main_loop_create_env\\hetgraph_gt_encoder\\ep_data_incomplete_40\\CreateLevelBuckets-v0\\true\\4-f37eb877-b166-4051-b3af-068130e1e141-7604.pickle\n",
      "C:\\Users\\WorkStation\\Documents\\rl_main_loop_create_env\\hetgraph_gt_encoder\\ep_data_incomplete_40\\CreateLevelBuckets-v0\\true\\4-f37eb877-b166-4051-b3af-068130e1e141-7604.pickle\n",
      "C:\\Users\\WorkStation\\Documents\\rl_main_loop_create_env\\hetgraph_gt_encoder\\ep_data_incomplete_40\\CreateLevelBuckets-v0\\true\\4-f37eb877-b166-4051-b3af-068130e1e141-7604.pickle\n"
     ]
    },
    {
     "name": "stderr",
     "output_type": "stream",
     "text": [
      "C:\\Users\\WorkStation\\Documents\\rl_main_loop_create_env\\hetgraph_gt_encoder\\models\\sc_encoder.py:30: UserWarning: Implicit dimension choice for softmax has been deprecated. Change the call to include dim=X as an argument.\n",
      "  beta = self.softmax(beta)\n",
      "C:\\Users\\WorkStation\\Documents\\rl_main_loop_create_env\\hetgraph_gt_encoder\\models\\mp_encoder.py:95: UserWarning: Implicit dimension choice for softmax has been deprecated. Change the call to include dim=X as an argument.\n",
      "  beta = self.softmax(beta)\n"
     ]
    },
    {
     "name": "stdout",
     "output_type": "stream",
     "text": [
      "C:\\Users\\WorkStation\\Documents\\rl_main_loop_create_env\\hetgraph_gt_encoder\\ep_data_incomplete_40\\CreateLevelBuckets-v0\\true\n",
      "C:\\Users\\WorkStation\\Documents\\rl_main_loop_create_env\\hetgraph_gt_encoder\\ep_data_incomplete_40\\CreateLevelBuckets-v0\\true\\4-f37eb877-b166-4051-b3af-068130e1e141-8125.pickle\n",
      "C:\\Users\\WorkStation\\Documents\\rl_main_loop_create_env\\hetgraph_gt_encoder\\ep_data_incomplete_40\\CreateLevelBuckets-v0\\true\\4-f37eb877-b166-4051-b3af-068130e1e141-8125.pickle\n",
      "C:\\Users\\WorkStation\\Documents\\rl_main_loop_create_env\\hetgraph_gt_encoder\\ep_data_incomplete_40\\CreateLevelBuckets-v0\\true\\4-f37eb877-b166-4051-b3af-068130e1e141-8125.pickle\n",
      "C:\\Users\\WorkStation\\Documents\\rl_main_loop_create_env\\hetgraph_gt_encoder\\ep_data_incomplete_40\\CreateLevelBuckets-v0\\true\\4-f37eb877-b166-4051-b3af-068130e1e141-8125.pickle\n"
     ]
    },
    {
     "name": "stderr",
     "output_type": "stream",
     "text": [
      "C:\\Users\\WorkStation\\Documents\\rl_main_loop_create_env\\hetgraph_gt_encoder\\models\\sc_encoder.py:30: UserWarning: Implicit dimension choice for softmax has been deprecated. Change the call to include dim=X as an argument.\n",
      "  beta = self.softmax(beta)\n",
      "C:\\Users\\WorkStation\\Documents\\rl_main_loop_create_env\\hetgraph_gt_encoder\\models\\mp_encoder.py:95: UserWarning: Implicit dimension choice for softmax has been deprecated. Change the call to include dim=X as an argument.\n",
      "  beta = self.softmax(beta)\n"
     ]
    },
    {
     "name": "stdout",
     "output_type": "stream",
     "text": [
      "C:\\Users\\WorkStation\\Documents\\rl_main_loop_create_env\\hetgraph_gt_encoder\\ep_data_incomplete_40\\CreateLevelBuckets-v0\\false\n",
      "C:\\Users\\WorkStation\\Documents\\rl_main_loop_create_env\\hetgraph_gt_encoder\\ep_data_incomplete_40\\CreateLevelBuckets-v0\\false\\4-f37eb877-b166-4051-b3af-068130e1e141-19394.pickle\n",
      "C:\\Users\\WorkStation\\Documents\\rl_main_loop_create_env\\hetgraph_gt_encoder\\ep_data_incomplete_40\\CreateLevelBuckets-v0\\false\\4-f37eb877-b166-4051-b3af-068130e1e141-19394.pickle\n",
      "C:\\Users\\WorkStation\\Documents\\rl_main_loop_create_env\\hetgraph_gt_encoder\\ep_data_incomplete_40\\CreateLevelBuckets-v0\\false\\4-f37eb877-b166-4051-b3af-068130e1e141-19394.pickle\n",
      "C:\\Users\\WorkStation\\Documents\\rl_main_loop_create_env\\hetgraph_gt_encoder\\ep_data_incomplete_40\\CreateLevelBuckets-v0\\false\\4-f37eb877-b166-4051-b3af-068130e1e141-19394.pickle\n"
     ]
    },
    {
     "name": "stderr",
     "output_type": "stream",
     "text": [
      "C:\\Users\\WorkStation\\Documents\\rl_main_loop_create_env\\hetgraph_gt_encoder\\models\\sc_encoder.py:30: UserWarning: Implicit dimension choice for softmax has been deprecated. Change the call to include dim=X as an argument.\n",
      "  beta = self.softmax(beta)\n",
      "C:\\Users\\WorkStation\\Documents\\rl_main_loop_create_env\\hetgraph_gt_encoder\\models\\mp_encoder.py:95: UserWarning: Implicit dimension choice for softmax has been deprecated. Change the call to include dim=X as an argument.\n",
      "  beta = self.softmax(beta)\n"
     ]
    },
    {
     "name": "stdout",
     "output_type": "stream",
     "text": [
      "C:\\Users\\WorkStation\\Documents\\rl_main_loop_create_env\\hetgraph_gt_encoder\\ep_data_incomplete_40\\CreateLevelBuckets-v0\\false\n",
      "C:\\Users\\WorkStation\\Documents\\rl_main_loop_create_env\\hetgraph_gt_encoder\\ep_data_incomplete_40\\CreateLevelBuckets-v0\\false\\4-f37eb877-b166-4051-b3af-068130e1e141-19167.pickle\n",
      "C:\\Users\\WorkStation\\Documents\\rl_main_loop_create_env\\hetgraph_gt_encoder\\ep_data_incomplete_40\\CreateLevelBuckets-v0\\false\\4-f37eb877-b166-4051-b3af-068130e1e141-19167.pickle\n",
      "C:\\Users\\WorkStation\\Documents\\rl_main_loop_create_env\\hetgraph_gt_encoder\\ep_data_incomplete_40\\CreateLevelBuckets-v0\\false\\4-f37eb877-b166-4051-b3af-068130e1e141-19167.pickle\n",
      "C:\\Users\\WorkStation\\Documents\\rl_main_loop_create_env\\hetgraph_gt_encoder\\ep_data_incomplete_40\\CreateLevelBuckets-v0\\false\\4-f37eb877-b166-4051-b3af-068130e1e141-19167.pickle\n"
     ]
    },
    {
     "name": "stderr",
     "output_type": "stream",
     "text": [
      "C:\\Users\\WorkStation\\Documents\\rl_main_loop_create_env\\hetgraph_gt_encoder\\models\\sc_encoder.py:30: UserWarning: Implicit dimension choice for softmax has been deprecated. Change the call to include dim=X as an argument.\n",
      "  beta = self.softmax(beta)\n",
      "C:\\Users\\WorkStation\\Documents\\rl_main_loop_create_env\\hetgraph_gt_encoder\\models\\mp_encoder.py:95: UserWarning: Implicit dimension choice for softmax has been deprecated. Change the call to include dim=X as an argument.\n",
      "  beta = self.softmax(beta)\n"
     ]
    },
    {
     "name": "stdout",
     "output_type": "stream",
     "text": [
      "C:\\Users\\WorkStation\\Documents\\rl_main_loop_create_env\\hetgraph_gt_encoder\\ep_data_incomplete_40\\CreateLevelBuckets-v0\\false\n",
      "C:\\Users\\WorkStation\\Documents\\rl_main_loop_create_env\\hetgraph_gt_encoder\\ep_data_incomplete_40\\CreateLevelBuckets-v0\\false\\4-f37eb877-b166-4051-b3af-068130e1e141-19573.pickle\n",
      "C:\\Users\\WorkStation\\Documents\\rl_main_loop_create_env\\hetgraph_gt_encoder\\ep_data_incomplete_40\\CreateLevelBuckets-v0\\false\\4-f37eb877-b166-4051-b3af-068130e1e141-19573.pickle\n",
      "C:\\Users\\WorkStation\\Documents\\rl_main_loop_create_env\\hetgraph_gt_encoder\\ep_data_incomplete_40\\CreateLevelBuckets-v0\\false\\4-f37eb877-b166-4051-b3af-068130e1e141-19573.pickle\n",
      "C:\\Users\\WorkStation\\Documents\\rl_main_loop_create_env\\hetgraph_gt_encoder\\ep_data_incomplete_40\\CreateLevelBuckets-v0\\false\\4-f37eb877-b166-4051-b3af-068130e1e141-19573.pickle\n"
     ]
    },
    {
     "name": "stderr",
     "output_type": "stream",
     "text": [
      "C:\\Users\\WorkStation\\Documents\\rl_main_loop_create_env\\hetgraph_gt_encoder\\models\\sc_encoder.py:30: UserWarning: Implicit dimension choice for softmax has been deprecated. Change the call to include dim=X as an argument.\n",
      "  beta = self.softmax(beta)\n",
      "C:\\Users\\WorkStation\\Documents\\rl_main_loop_create_env\\hetgraph_gt_encoder\\models\\mp_encoder.py:95: UserWarning: Implicit dimension choice for softmax has been deprecated. Change the call to include dim=X as an argument.\n",
      "  beta = self.softmax(beta)\n"
     ]
    },
    {
     "name": "stdout",
     "output_type": "stream",
     "text": [
      "C:\\Users\\WorkStation\\Documents\\rl_main_loop_create_env\\hetgraph_gt_encoder\\ep_data_incomplete_40\\CreateLevelBuckets-v0\\false\n",
      "C:\\Users\\WorkStation\\Documents\\rl_main_loop_create_env\\hetgraph_gt_encoder\\ep_data_incomplete_40\\CreateLevelBuckets-v0\\false\\4-f37eb877-b166-4051-b3af-068130e1e141-19820.pickle\n",
      "C:\\Users\\WorkStation\\Documents\\rl_main_loop_create_env\\hetgraph_gt_encoder\\ep_data_incomplete_40\\CreateLevelBuckets-v0\\false\\4-f37eb877-b166-4051-b3af-068130e1e141-19820.pickle\n",
      "C:\\Users\\WorkStation\\Documents\\rl_main_loop_create_env\\hetgraph_gt_encoder\\ep_data_incomplete_40\\CreateLevelBuckets-v0\\false\\4-f37eb877-b166-4051-b3af-068130e1e141-19820.pickle\n",
      "C:\\Users\\WorkStation\\Documents\\rl_main_loop_create_env\\hetgraph_gt_encoder\\ep_data_incomplete_40\\CreateLevelBuckets-v0\\false\\4-f37eb877-b166-4051-b3af-068130e1e141-19820.pickle\n"
     ]
    },
    {
     "name": "stderr",
     "output_type": "stream",
     "text": [
      "C:\\Users\\WorkStation\\Documents\\rl_main_loop_create_env\\hetgraph_gt_encoder\\models\\sc_encoder.py:30: UserWarning: Implicit dimension choice for softmax has been deprecated. Change the call to include dim=X as an argument.\n",
      "  beta = self.softmax(beta)\n",
      "C:\\Users\\WorkStation\\Documents\\rl_main_loop_create_env\\hetgraph_gt_encoder\\models\\mp_encoder.py:95: UserWarning: Implicit dimension choice for softmax has been deprecated. Change the call to include dim=X as an argument.\n",
      "  beta = self.softmax(beta)\n"
     ]
    },
    {
     "name": "stdout",
     "output_type": "stream",
     "text": [
      "C:\\Users\\WorkStation\\Documents\\rl_main_loop_create_env\\hetgraph_gt_encoder\\ep_data_incomplete_40\\CreateLevelBuckets-v0\\false\n",
      "C:\\Users\\WorkStation\\Documents\\rl_main_loop_create_env\\hetgraph_gt_encoder\\ep_data_incomplete_40\\CreateLevelBuckets-v0\\false\\4-f37eb877-b166-4051-b3af-068130e1e141-19337.pickle\n",
      "C:\\Users\\WorkStation\\Documents\\rl_main_loop_create_env\\hetgraph_gt_encoder\\ep_data_incomplete_40\\CreateLevelBuckets-v0\\false\\4-f37eb877-b166-4051-b3af-068130e1e141-19337.pickle\n",
      "C:\\Users\\WorkStation\\Documents\\rl_main_loop_create_env\\hetgraph_gt_encoder\\ep_data_incomplete_40\\CreateLevelBuckets-v0\\false\\4-f37eb877-b166-4051-b3af-068130e1e141-19337.pickle\n",
      "C:\\Users\\WorkStation\\Documents\\rl_main_loop_create_env\\hetgraph_gt_encoder\\ep_data_incomplete_40\\CreateLevelBuckets-v0\\false\\4-f37eb877-b166-4051-b3af-068130e1e141-19337.pickle\n"
     ]
    },
    {
     "name": "stderr",
     "output_type": "stream",
     "text": [
      "C:\\Users\\WorkStation\\Documents\\rl_main_loop_create_env\\hetgraph_gt_encoder\\models\\sc_encoder.py:30: UserWarning: Implicit dimension choice for softmax has been deprecated. Change the call to include dim=X as an argument.\n",
      "  beta = self.softmax(beta)\n",
      "C:\\Users\\WorkStation\\Documents\\rl_main_loop_create_env\\hetgraph_gt_encoder\\models\\mp_encoder.py:95: UserWarning: Implicit dimension choice for softmax has been deprecated. Change the call to include dim=X as an argument.\n",
      "  beta = self.softmax(beta)\n"
     ]
    },
    {
     "name": "stdout",
     "output_type": "stream",
     "text": [
      "C:\\Users\\WorkStation\\Documents\\rl_main_loop_create_env\\hetgraph_gt_encoder\\ep_data_incomplete_40\\CreateLevelBasket-v0\\true\n",
      "C:\\Users\\WorkStation\\Documents\\rl_main_loop_create_env\\hetgraph_gt_encoder\\ep_data_incomplete_40\\CreateLevelBasket-v0\\true\\4-f37eb877-b166-4051-b3af-068130e1e141-18357.pickle\n",
      "C:\\Users\\WorkStation\\Documents\\rl_main_loop_create_env\\hetgraph_gt_encoder\\ep_data_incomplete_40\\CreateLevelBasket-v0\\true\\4-f37eb877-b166-4051-b3af-068130e1e141-18357.pickle\n",
      "C:\\Users\\WorkStation\\Documents\\rl_main_loop_create_env\\hetgraph_gt_encoder\\ep_data_incomplete_40\\CreateLevelBasket-v0\\true\\4-f37eb877-b166-4051-b3af-068130e1e141-18357.pickle\n",
      "C:\\Users\\WorkStation\\Documents\\rl_main_loop_create_env\\hetgraph_gt_encoder\\ep_data_incomplete_40\\CreateLevelBasket-v0\\true\\4-f37eb877-b166-4051-b3af-068130e1e141-18357.pickle\n"
     ]
    },
    {
     "name": "stderr",
     "output_type": "stream",
     "text": [
      "C:\\Users\\WorkStation\\Documents\\rl_main_loop_create_env\\hetgraph_gt_encoder\\models\\sc_encoder.py:30: UserWarning: Implicit dimension choice for softmax has been deprecated. Change the call to include dim=X as an argument.\n",
      "  beta = self.softmax(beta)\n",
      "C:\\Users\\WorkStation\\Documents\\rl_main_loop_create_env\\hetgraph_gt_encoder\\models\\mp_encoder.py:95: UserWarning: Implicit dimension choice for softmax has been deprecated. Change the call to include dim=X as an argument.\n",
      "  beta = self.softmax(beta)\n"
     ]
    },
    {
     "name": "stdout",
     "output_type": "stream",
     "text": [
      "C:\\Users\\WorkStation\\Documents\\rl_main_loop_create_env\\hetgraph_gt_encoder\\ep_data_incomplete_40\\CreateLevelBasket-v0\\true\n",
      "C:\\Users\\WorkStation\\Documents\\rl_main_loop_create_env\\hetgraph_gt_encoder\\ep_data_incomplete_40\\CreateLevelBasket-v0\\true\\4-f37eb877-b166-4051-b3af-068130e1e141-18357.pickle\n",
      "C:\\Users\\WorkStation\\Documents\\rl_main_loop_create_env\\hetgraph_gt_encoder\\ep_data_incomplete_40\\CreateLevelBasket-v0\\true\\4-f37eb877-b166-4051-b3af-068130e1e141-18357.pickle\n",
      "C:\\Users\\WorkStation\\Documents\\rl_main_loop_create_env\\hetgraph_gt_encoder\\ep_data_incomplete_40\\CreateLevelBasket-v0\\true\\4-f37eb877-b166-4051-b3af-068130e1e141-18357.pickle\n",
      "C:\\Users\\WorkStation\\Documents\\rl_main_loop_create_env\\hetgraph_gt_encoder\\ep_data_incomplete_40\\CreateLevelBasket-v0\\true\\4-f37eb877-b166-4051-b3af-068130e1e141-18357.pickle\n"
     ]
    },
    {
     "name": "stderr",
     "output_type": "stream",
     "text": [
      "C:\\Users\\WorkStation\\Documents\\rl_main_loop_create_env\\hetgraph_gt_encoder\\models\\sc_encoder.py:30: UserWarning: Implicit dimension choice for softmax has been deprecated. Change the call to include dim=X as an argument.\n",
      "  beta = self.softmax(beta)\n",
      "C:\\Users\\WorkStation\\Documents\\rl_main_loop_create_env\\hetgraph_gt_encoder\\models\\mp_encoder.py:95: UserWarning: Implicit dimension choice for softmax has been deprecated. Change the call to include dim=X as an argument.\n",
      "  beta = self.softmax(beta)\n"
     ]
    },
    {
     "name": "stdout",
     "output_type": "stream",
     "text": [
      "C:\\Users\\WorkStation\\Documents\\rl_main_loop_create_env\\hetgraph_gt_encoder\\ep_data_incomplete_40\\CreateLevelBasket-v0\\true\n",
      "C:\\Users\\WorkStation\\Documents\\rl_main_loop_create_env\\hetgraph_gt_encoder\\ep_data_incomplete_40\\CreateLevelBasket-v0\\true\\4-f37eb877-b166-4051-b3af-068130e1e141-18647.pickle\n",
      "C:\\Users\\WorkStation\\Documents\\rl_main_loop_create_env\\hetgraph_gt_encoder\\ep_data_incomplete_40\\CreateLevelBasket-v0\\true\\4-f37eb877-b166-4051-b3af-068130e1e141-18647.pickle\n",
      "C:\\Users\\WorkStation\\Documents\\rl_main_loop_create_env\\hetgraph_gt_encoder\\ep_data_incomplete_40\\CreateLevelBasket-v0\\true\\4-f37eb877-b166-4051-b3af-068130e1e141-18647.pickle\n",
      "C:\\Users\\WorkStation\\Documents\\rl_main_loop_create_env\\hetgraph_gt_encoder\\ep_data_incomplete_40\\CreateLevelBasket-v0\\true\\4-f37eb877-b166-4051-b3af-068130e1e141-18647.pickle\n"
     ]
    },
    {
     "name": "stderr",
     "output_type": "stream",
     "text": [
      "C:\\Users\\WorkStation\\Documents\\rl_main_loop_create_env\\hetgraph_gt_encoder\\models\\sc_encoder.py:30: UserWarning: Implicit dimension choice for softmax has been deprecated. Change the call to include dim=X as an argument.\n",
      "  beta = self.softmax(beta)\n",
      "C:\\Users\\WorkStation\\Documents\\rl_main_loop_create_env\\hetgraph_gt_encoder\\models\\mp_encoder.py:95: UserWarning: Implicit dimension choice for softmax has been deprecated. Change the call to include dim=X as an argument.\n",
      "  beta = self.softmax(beta)\n"
     ]
    },
    {
     "name": "stdout",
     "output_type": "stream",
     "text": [
      "C:\\Users\\WorkStation\\Documents\\rl_main_loop_create_env\\hetgraph_gt_encoder\\ep_data_incomplete_40\\CreateLevelBasket-v0\\true\n",
      "C:\\Users\\WorkStation\\Documents\\rl_main_loop_create_env\\hetgraph_gt_encoder\\ep_data_incomplete_40\\CreateLevelBasket-v0\\true\\4-f37eb877-b166-4051-b3af-068130e1e141-18455.pickle\n",
      "C:\\Users\\WorkStation\\Documents\\rl_main_loop_create_env\\hetgraph_gt_encoder\\ep_data_incomplete_40\\CreateLevelBasket-v0\\true\\4-f37eb877-b166-4051-b3af-068130e1e141-18455.pickle\n",
      "C:\\Users\\WorkStation\\Documents\\rl_main_loop_create_env\\hetgraph_gt_encoder\\ep_data_incomplete_40\\CreateLevelBasket-v0\\true\\4-f37eb877-b166-4051-b3af-068130e1e141-18455.pickle\n",
      "C:\\Users\\WorkStation\\Documents\\rl_main_loop_create_env\\hetgraph_gt_encoder\\ep_data_incomplete_40\\CreateLevelBasket-v0\\true\\4-f37eb877-b166-4051-b3af-068130e1e141-18455.pickle\n"
     ]
    },
    {
     "name": "stderr",
     "output_type": "stream",
     "text": [
      "C:\\Users\\WorkStation\\Documents\\rl_main_loop_create_env\\hetgraph_gt_encoder\\models\\sc_encoder.py:30: UserWarning: Implicit dimension choice for softmax has been deprecated. Change the call to include dim=X as an argument.\n",
      "  beta = self.softmax(beta)\n",
      "C:\\Users\\WorkStation\\Documents\\rl_main_loop_create_env\\hetgraph_gt_encoder\\models\\mp_encoder.py:95: UserWarning: Implicit dimension choice for softmax has been deprecated. Change the call to include dim=X as an argument.\n",
      "  beta = self.softmax(beta)\n"
     ]
    },
    {
     "name": "stdout",
     "output_type": "stream",
     "text": [
      "C:\\Users\\WorkStation\\Documents\\rl_main_loop_create_env\\hetgraph_gt_encoder\\ep_data_incomplete_40\\CreateLevelBasket-v0\\true\n",
      "C:\\Users\\WorkStation\\Documents\\rl_main_loop_create_env\\hetgraph_gt_encoder\\ep_data_incomplete_40\\CreateLevelBasket-v0\\true\\4-f37eb877-b166-4051-b3af-068130e1e141-18357.pickle\n",
      "C:\\Users\\WorkStation\\Documents\\rl_main_loop_create_env\\hetgraph_gt_encoder\\ep_data_incomplete_40\\CreateLevelBasket-v0\\true\\4-f37eb877-b166-4051-b3af-068130e1e141-18357.pickle\n",
      "C:\\Users\\WorkStation\\Documents\\rl_main_loop_create_env\\hetgraph_gt_encoder\\ep_data_incomplete_40\\CreateLevelBasket-v0\\true\\4-f37eb877-b166-4051-b3af-068130e1e141-18357.pickle\n",
      "C:\\Users\\WorkStation\\Documents\\rl_main_loop_create_env\\hetgraph_gt_encoder\\ep_data_incomplete_40\\CreateLevelBasket-v0\\true\\4-f37eb877-b166-4051-b3af-068130e1e141-18357.pickle\n"
     ]
    },
    {
     "name": "stderr",
     "output_type": "stream",
     "text": [
      "C:\\Users\\WorkStation\\Documents\\rl_main_loop_create_env\\hetgraph_gt_encoder\\models\\sc_encoder.py:30: UserWarning: Implicit dimension choice for softmax has been deprecated. Change the call to include dim=X as an argument.\n",
      "  beta = self.softmax(beta)\n",
      "C:\\Users\\WorkStation\\Documents\\rl_main_loop_create_env\\hetgraph_gt_encoder\\models\\mp_encoder.py:95: UserWarning: Implicit dimension choice for softmax has been deprecated. Change the call to include dim=X as an argument.\n",
      "  beta = self.softmax(beta)\n"
     ]
    },
    {
     "name": "stdout",
     "output_type": "stream",
     "text": [
      "C:\\Users\\WorkStation\\Documents\\rl_main_loop_create_env\\hetgraph_gt_encoder\\ep_data_incomplete_40\\CreateLevelBasket-v0\\false\n",
      "C:\\Users\\WorkStation\\Documents\\rl_main_loop_create_env\\hetgraph_gt_encoder\\ep_data_incomplete_40\\CreateLevelBasket-v0\\false\\4-f37eb877-b166-4051-b3af-068130e1e141-20623.pickle\n",
      "C:\\Users\\WorkStation\\Documents\\rl_main_loop_create_env\\hetgraph_gt_encoder\\ep_data_incomplete_40\\CreateLevelBasket-v0\\false\\4-f37eb877-b166-4051-b3af-068130e1e141-20623.pickle\n",
      "C:\\Users\\WorkStation\\Documents\\rl_main_loop_create_env\\hetgraph_gt_encoder\\ep_data_incomplete_40\\CreateLevelBasket-v0\\false\\4-f37eb877-b166-4051-b3af-068130e1e141-20623.pickle\n",
      "C:\\Users\\WorkStation\\Documents\\rl_main_loop_create_env\\hetgraph_gt_encoder\\ep_data_incomplete_40\\CreateLevelBasket-v0\\false\\4-f37eb877-b166-4051-b3af-068130e1e141-20623.pickle\n"
     ]
    },
    {
     "name": "stderr",
     "output_type": "stream",
     "text": [
      "C:\\Users\\WorkStation\\Documents\\rl_main_loop_create_env\\hetgraph_gt_encoder\\models\\sc_encoder.py:30: UserWarning: Implicit dimension choice for softmax has been deprecated. Change the call to include dim=X as an argument.\n",
      "  beta = self.softmax(beta)\n",
      "C:\\Users\\WorkStation\\Documents\\rl_main_loop_create_env\\hetgraph_gt_encoder\\models\\mp_encoder.py:95: UserWarning: Implicit dimension choice for softmax has been deprecated. Change the call to include dim=X as an argument.\n",
      "  beta = self.softmax(beta)\n"
     ]
    },
    {
     "name": "stdout",
     "output_type": "stream",
     "text": [
      "C:\\Users\\WorkStation\\Documents\\rl_main_loop_create_env\\hetgraph_gt_encoder\\ep_data_incomplete_40\\CreateLevelBasket-v0\\false\n",
      "C:\\Users\\WorkStation\\Documents\\rl_main_loop_create_env\\hetgraph_gt_encoder\\ep_data_incomplete_40\\CreateLevelBasket-v0\\false\\4-f37eb877-b166-4051-b3af-068130e1e141-20653.pickle\n",
      "C:\\Users\\WorkStation\\Documents\\rl_main_loop_create_env\\hetgraph_gt_encoder\\ep_data_incomplete_40\\CreateLevelBasket-v0\\false\\4-f37eb877-b166-4051-b3af-068130e1e141-20653.pickle\n",
      "C:\\Users\\WorkStation\\Documents\\rl_main_loop_create_env\\hetgraph_gt_encoder\\ep_data_incomplete_40\\CreateLevelBasket-v0\\false\\4-f37eb877-b166-4051-b3af-068130e1e141-20653.pickle\n",
      "C:\\Users\\WorkStation\\Documents\\rl_main_loop_create_env\\hetgraph_gt_encoder\\ep_data_incomplete_40\\CreateLevelBasket-v0\\false\\4-f37eb877-b166-4051-b3af-068130e1e141-20653.pickle\n"
     ]
    },
    {
     "name": "stderr",
     "output_type": "stream",
     "text": [
      "C:\\Users\\WorkStation\\Documents\\rl_main_loop_create_env\\hetgraph_gt_encoder\\models\\sc_encoder.py:30: UserWarning: Implicit dimension choice for softmax has been deprecated. Change the call to include dim=X as an argument.\n",
      "  beta = self.softmax(beta)\n",
      "C:\\Users\\WorkStation\\Documents\\rl_main_loop_create_env\\hetgraph_gt_encoder\\models\\mp_encoder.py:95: UserWarning: Implicit dimension choice for softmax has been deprecated. Change the call to include dim=X as an argument.\n",
      "  beta = self.softmax(beta)\n"
     ]
    },
    {
     "name": "stdout",
     "output_type": "stream",
     "text": [
      "C:\\Users\\WorkStation\\Documents\\rl_main_loop_create_env\\hetgraph_gt_encoder\\ep_data_incomplete_40\\CreateLevelBasket-v0\\false\n",
      "C:\\Users\\WorkStation\\Documents\\rl_main_loop_create_env\\hetgraph_gt_encoder\\ep_data_incomplete_40\\CreateLevelBasket-v0\\false\\4-f37eb877-b166-4051-b3af-068130e1e141-20258.pickle\n",
      "C:\\Users\\WorkStation\\Documents\\rl_main_loop_create_env\\hetgraph_gt_encoder\\ep_data_incomplete_40\\CreateLevelBasket-v0\\false\\4-f37eb877-b166-4051-b3af-068130e1e141-20258.pickle\n",
      "C:\\Users\\WorkStation\\Documents\\rl_main_loop_create_env\\hetgraph_gt_encoder\\ep_data_incomplete_40\\CreateLevelBasket-v0\\false\\4-f37eb877-b166-4051-b3af-068130e1e141-20258.pickle\n",
      "C:\\Users\\WorkStation\\Documents\\rl_main_loop_create_env\\hetgraph_gt_encoder\\ep_data_incomplete_40\\CreateLevelBasket-v0\\false\\4-f37eb877-b166-4051-b3af-068130e1e141-20258.pickle\n"
     ]
    },
    {
     "name": "stderr",
     "output_type": "stream",
     "text": [
      "C:\\Users\\WorkStation\\Documents\\rl_main_loop_create_env\\hetgraph_gt_encoder\\models\\sc_encoder.py:30: UserWarning: Implicit dimension choice for softmax has been deprecated. Change the call to include dim=X as an argument.\n",
      "  beta = self.softmax(beta)\n",
      "C:\\Users\\WorkStation\\Documents\\rl_main_loop_create_env\\hetgraph_gt_encoder\\models\\mp_encoder.py:95: UserWarning: Implicit dimension choice for softmax has been deprecated. Change the call to include dim=X as an argument.\n",
      "  beta = self.softmax(beta)\n"
     ]
    },
    {
     "name": "stdout",
     "output_type": "stream",
     "text": [
      "C:\\Users\\WorkStation\\Documents\\rl_main_loop_create_env\\hetgraph_gt_encoder\\ep_data_incomplete_40\\CreateLevelBasket-v0\\false\n",
      "C:\\Users\\WorkStation\\Documents\\rl_main_loop_create_env\\hetgraph_gt_encoder\\ep_data_incomplete_40\\CreateLevelBasket-v0\\false\\4-f37eb877-b166-4051-b3af-068130e1e141-20319.pickle\n",
      "C:\\Users\\WorkStation\\Documents\\rl_main_loop_create_env\\hetgraph_gt_encoder\\ep_data_incomplete_40\\CreateLevelBasket-v0\\false\\4-f37eb877-b166-4051-b3af-068130e1e141-20319.pickle\n",
      "C:\\Users\\WorkStation\\Documents\\rl_main_loop_create_env\\hetgraph_gt_encoder\\ep_data_incomplete_40\\CreateLevelBasket-v0\\false\\4-f37eb877-b166-4051-b3af-068130e1e141-20319.pickle\n",
      "C:\\Users\\WorkStation\\Documents\\rl_main_loop_create_env\\hetgraph_gt_encoder\\ep_data_incomplete_40\\CreateLevelBasket-v0\\false\\4-f37eb877-b166-4051-b3af-068130e1e141-20319.pickle\n"
     ]
    },
    {
     "name": "stderr",
     "output_type": "stream",
     "text": [
      "C:\\Users\\WorkStation\\Documents\\rl_main_loop_create_env\\hetgraph_gt_encoder\\models\\sc_encoder.py:30: UserWarning: Implicit dimension choice for softmax has been deprecated. Change the call to include dim=X as an argument.\n",
      "  beta = self.softmax(beta)\n",
      "C:\\Users\\WorkStation\\Documents\\rl_main_loop_create_env\\hetgraph_gt_encoder\\models\\mp_encoder.py:95: UserWarning: Implicit dimension choice for softmax has been deprecated. Change the call to include dim=X as an argument.\n",
      "  beta = self.softmax(beta)\n"
     ]
    },
    {
     "name": "stdout",
     "output_type": "stream",
     "text": [
      "C:\\Users\\WorkStation\\Documents\\rl_main_loop_create_env\\hetgraph_gt_encoder\\ep_data_incomplete_40\\CreateLevelBasket-v0\\false\n",
      "C:\\Users\\WorkStation\\Documents\\rl_main_loop_create_env\\hetgraph_gt_encoder\\ep_data_incomplete_40\\CreateLevelBasket-v0\\false\\4-f37eb877-b166-4051-b3af-068130e1e141-20450.pickle\n",
      "C:\\Users\\WorkStation\\Documents\\rl_main_loop_create_env\\hetgraph_gt_encoder\\ep_data_incomplete_40\\CreateLevelBasket-v0\\false\\4-f37eb877-b166-4051-b3af-068130e1e141-20450.pickle\n",
      "C:\\Users\\WorkStation\\Documents\\rl_main_loop_create_env\\hetgraph_gt_encoder\\ep_data_incomplete_40\\CreateLevelBasket-v0\\false\\4-f37eb877-b166-4051-b3af-068130e1e141-20450.pickle\n",
      "C:\\Users\\WorkStation\\Documents\\rl_main_loop_create_env\\hetgraph_gt_encoder\\ep_data_incomplete_40\\CreateLevelBasket-v0\\false\\4-f37eb877-b166-4051-b3af-068130e1e141-20450.pickle\n"
     ]
    },
    {
     "name": "stderr",
     "output_type": "stream",
     "text": [
      "C:\\Users\\WorkStation\\Documents\\rl_main_loop_create_env\\hetgraph_gt_encoder\\models\\sc_encoder.py:30: UserWarning: Implicit dimension choice for softmax has been deprecated. Change the call to include dim=X as an argument.\n",
      "  beta = self.softmax(beta)\n",
      "C:\\Users\\WorkStation\\Documents\\rl_main_loop_create_env\\hetgraph_gt_encoder\\models\\mp_encoder.py:95: UserWarning: Implicit dimension choice for softmax has been deprecated. Change the call to include dim=X as an argument.\n",
      "  beta = self.softmax(beta)\n"
     ]
    },
    {
     "name": "stdout",
     "output_type": "stream",
     "text": [
      "C:\\Users\\WorkStation\\Documents\\rl_main_loop_create_env\\hetgraph_gt_encoder\\ep_data_incomplete_40\\CreateLevelBelt-v0\\true\n",
      "C:\\Users\\WorkStation\\Documents\\rl_main_loop_create_env\\hetgraph_gt_encoder\\ep_data_incomplete_40\\CreateLevelBelt-v0\\true\\4-f37eb877-b166-4051-b3af-068130e1e141-18915.pickle\n",
      "C:\\Users\\WorkStation\\Documents\\rl_main_loop_create_env\\hetgraph_gt_encoder\\ep_data_incomplete_40\\CreateLevelBelt-v0\\true\\4-f37eb877-b166-4051-b3af-068130e1e141-18915.pickle\n",
      "C:\\Users\\WorkStation\\Documents\\rl_main_loop_create_env\\hetgraph_gt_encoder\\ep_data_incomplete_40\\CreateLevelBelt-v0\\true\\4-f37eb877-b166-4051-b3af-068130e1e141-18915.pickle\n",
      "C:\\Users\\WorkStation\\Documents\\rl_main_loop_create_env\\hetgraph_gt_encoder\\ep_data_incomplete_40\\CreateLevelBelt-v0\\true\\4-f37eb877-b166-4051-b3af-068130e1e141-18915.pickle\n"
     ]
    },
    {
     "name": "stderr",
     "output_type": "stream",
     "text": [
      "C:\\Users\\WorkStation\\Documents\\rl_main_loop_create_env\\hetgraph_gt_encoder\\models\\sc_encoder.py:30: UserWarning: Implicit dimension choice for softmax has been deprecated. Change the call to include dim=X as an argument.\n",
      "  beta = self.softmax(beta)\n",
      "C:\\Users\\WorkStation\\Documents\\rl_main_loop_create_env\\hetgraph_gt_encoder\\models\\mp_encoder.py:95: UserWarning: Implicit dimension choice for softmax has been deprecated. Change the call to include dim=X as an argument.\n",
      "  beta = self.softmax(beta)\n"
     ]
    },
    {
     "name": "stdout",
     "output_type": "stream",
     "text": [
      "C:\\Users\\WorkStation\\Documents\\rl_main_loop_create_env\\hetgraph_gt_encoder\\ep_data_incomplete_40\\CreateLevelBelt-v0\\true\n",
      "C:\\Users\\WorkStation\\Documents\\rl_main_loop_create_env\\hetgraph_gt_encoder\\ep_data_incomplete_40\\CreateLevelBelt-v0\\true\\4-f37eb877-b166-4051-b3af-068130e1e141-14303.pickle\n",
      "C:\\Users\\WorkStation\\Documents\\rl_main_loop_create_env\\hetgraph_gt_encoder\\ep_data_incomplete_40\\CreateLevelBelt-v0\\true\\4-f37eb877-b166-4051-b3af-068130e1e141-14303.pickle\n",
      "C:\\Users\\WorkStation\\Documents\\rl_main_loop_create_env\\hetgraph_gt_encoder\\ep_data_incomplete_40\\CreateLevelBelt-v0\\true\\4-f37eb877-b166-4051-b3af-068130e1e141-14303.pickle\n",
      "C:\\Users\\WorkStation\\Documents\\rl_main_loop_create_env\\hetgraph_gt_encoder\\ep_data_incomplete_40\\CreateLevelBelt-v0\\true\\4-f37eb877-b166-4051-b3af-068130e1e141-14303.pickle\n"
     ]
    },
    {
     "name": "stderr",
     "output_type": "stream",
     "text": [
      "C:\\Users\\WorkStation\\Documents\\rl_main_loop_create_env\\hetgraph_gt_encoder\\models\\sc_encoder.py:30: UserWarning: Implicit dimension choice for softmax has been deprecated. Change the call to include dim=X as an argument.\n",
      "  beta = self.softmax(beta)\n",
      "C:\\Users\\WorkStation\\Documents\\rl_main_loop_create_env\\hetgraph_gt_encoder\\models\\mp_encoder.py:95: UserWarning: Implicit dimension choice for softmax has been deprecated. Change the call to include dim=X as an argument.\n",
      "  beta = self.softmax(beta)\n"
     ]
    },
    {
     "name": "stdout",
     "output_type": "stream",
     "text": [
      "C:\\Users\\WorkStation\\Documents\\rl_main_loop_create_env\\hetgraph_gt_encoder\\ep_data_incomplete_40\\CreateLevelBelt-v0\\true\n",
      "C:\\Users\\WorkStation\\Documents\\rl_main_loop_create_env\\hetgraph_gt_encoder\\ep_data_incomplete_40\\CreateLevelBelt-v0\\true\\4-f37eb877-b166-4051-b3af-068130e1e141-12715.pickle\n",
      "C:\\Users\\WorkStation\\Documents\\rl_main_loop_create_env\\hetgraph_gt_encoder\\ep_data_incomplete_40\\CreateLevelBelt-v0\\true\\4-f37eb877-b166-4051-b3af-068130e1e141-12715.pickle\n",
      "C:\\Users\\WorkStation\\Documents\\rl_main_loop_create_env\\hetgraph_gt_encoder\\ep_data_incomplete_40\\CreateLevelBelt-v0\\true\\4-f37eb877-b166-4051-b3af-068130e1e141-12715.pickle\n",
      "C:\\Users\\WorkStation\\Documents\\rl_main_loop_create_env\\hetgraph_gt_encoder\\ep_data_incomplete_40\\CreateLevelBelt-v0\\true\\4-f37eb877-b166-4051-b3af-068130e1e141-12715.pickle\n"
     ]
    },
    {
     "name": "stderr",
     "output_type": "stream",
     "text": [
      "C:\\Users\\WorkStation\\Documents\\rl_main_loop_create_env\\hetgraph_gt_encoder\\models\\sc_encoder.py:30: UserWarning: Implicit dimension choice for softmax has been deprecated. Change the call to include dim=X as an argument.\n",
      "  beta = self.softmax(beta)\n",
      "C:\\Users\\WorkStation\\Documents\\rl_main_loop_create_env\\hetgraph_gt_encoder\\models\\mp_encoder.py:95: UserWarning: Implicit dimension choice for softmax has been deprecated. Change the call to include dim=X as an argument.\n",
      "  beta = self.softmax(beta)\n"
     ]
    },
    {
     "name": "stdout",
     "output_type": "stream",
     "text": [
      "C:\\Users\\WorkStation\\Documents\\rl_main_loop_create_env\\hetgraph_gt_encoder\\ep_data_incomplete_40\\CreateLevelBelt-v0\\true\n",
      "C:\\Users\\WorkStation\\Documents\\rl_main_loop_create_env\\hetgraph_gt_encoder\\ep_data_incomplete_40\\CreateLevelBelt-v0\\true\\4-f37eb877-b166-4051-b3af-068130e1e141-12715.pickle\n",
      "C:\\Users\\WorkStation\\Documents\\rl_main_loop_create_env\\hetgraph_gt_encoder\\ep_data_incomplete_40\\CreateLevelBelt-v0\\true\\4-f37eb877-b166-4051-b3af-068130e1e141-12715.pickle\n",
      "C:\\Users\\WorkStation\\Documents\\rl_main_loop_create_env\\hetgraph_gt_encoder\\ep_data_incomplete_40\\CreateLevelBelt-v0\\true\\4-f37eb877-b166-4051-b3af-068130e1e141-12715.pickle\n",
      "C:\\Users\\WorkStation\\Documents\\rl_main_loop_create_env\\hetgraph_gt_encoder\\ep_data_incomplete_40\\CreateLevelBelt-v0\\true\\4-f37eb877-b166-4051-b3af-068130e1e141-12715.pickle\n"
     ]
    },
    {
     "name": "stderr",
     "output_type": "stream",
     "text": [
      "C:\\Users\\WorkStation\\Documents\\rl_main_loop_create_env\\hetgraph_gt_encoder\\models\\sc_encoder.py:30: UserWarning: Implicit dimension choice for softmax has been deprecated. Change the call to include dim=X as an argument.\n",
      "  beta = self.softmax(beta)\n",
      "C:\\Users\\WorkStation\\Documents\\rl_main_loop_create_env\\hetgraph_gt_encoder\\models\\mp_encoder.py:95: UserWarning: Implicit dimension choice for softmax has been deprecated. Change the call to include dim=X as an argument.\n",
      "  beta = self.softmax(beta)\n"
     ]
    },
    {
     "name": "stdout",
     "output_type": "stream",
     "text": [
      "C:\\Users\\WorkStation\\Documents\\rl_main_loop_create_env\\hetgraph_gt_encoder\\ep_data_incomplete_40\\CreateLevelBelt-v0\\true\n",
      "C:\\Users\\WorkStation\\Documents\\rl_main_loop_create_env\\hetgraph_gt_encoder\\ep_data_incomplete_40\\CreateLevelBelt-v0\\true\\4-f37eb877-b166-4051-b3af-068130e1e141-13740.pickle\n",
      "C:\\Users\\WorkStation\\Documents\\rl_main_loop_create_env\\hetgraph_gt_encoder\\ep_data_incomplete_40\\CreateLevelBelt-v0\\true\\4-f37eb877-b166-4051-b3af-068130e1e141-13740.pickle\n",
      "C:\\Users\\WorkStation\\Documents\\rl_main_loop_create_env\\hetgraph_gt_encoder\\ep_data_incomplete_40\\CreateLevelBelt-v0\\true\\4-f37eb877-b166-4051-b3af-068130e1e141-13740.pickle\n",
      "C:\\Users\\WorkStation\\Documents\\rl_main_loop_create_env\\hetgraph_gt_encoder\\ep_data_incomplete_40\\CreateLevelBelt-v0\\true\\4-f37eb877-b166-4051-b3af-068130e1e141-13740.pickle\n"
     ]
    },
    {
     "name": "stderr",
     "output_type": "stream",
     "text": [
      "C:\\Users\\WorkStation\\Documents\\rl_main_loop_create_env\\hetgraph_gt_encoder\\models\\sc_encoder.py:30: UserWarning: Implicit dimension choice for softmax has been deprecated. Change the call to include dim=X as an argument.\n",
      "  beta = self.softmax(beta)\n",
      "C:\\Users\\WorkStation\\Documents\\rl_main_loop_create_env\\hetgraph_gt_encoder\\models\\mp_encoder.py:95: UserWarning: Implicit dimension choice for softmax has been deprecated. Change the call to include dim=X as an argument.\n",
      "  beta = self.softmax(beta)\n"
     ]
    },
    {
     "name": "stdout",
     "output_type": "stream",
     "text": [
      "C:\\Users\\WorkStation\\Documents\\rl_main_loop_create_env\\hetgraph_gt_encoder\\ep_data_incomplete_40\\CreateLevelBelt-v0\\false\n",
      "C:\\Users\\WorkStation\\Documents\\rl_main_loop_create_env\\hetgraph_gt_encoder\\ep_data_incomplete_40\\CreateLevelBelt-v0\\false\\4-f37eb877-b166-4051-b3af-068130e1e141-21516.pickle\n",
      "C:\\Users\\WorkStation\\Documents\\rl_main_loop_create_env\\hetgraph_gt_encoder\\ep_data_incomplete_40\\CreateLevelBelt-v0\\false\\4-f37eb877-b166-4051-b3af-068130e1e141-21516.pickle\n",
      "C:\\Users\\WorkStation\\Documents\\rl_main_loop_create_env\\hetgraph_gt_encoder\\ep_data_incomplete_40\\CreateLevelBelt-v0\\false\\4-f37eb877-b166-4051-b3af-068130e1e141-21516.pickle\n",
      "C:\\Users\\WorkStation\\Documents\\rl_main_loop_create_env\\hetgraph_gt_encoder\\ep_data_incomplete_40\\CreateLevelBelt-v0\\false\\4-f37eb877-b166-4051-b3af-068130e1e141-21516.pickle\n"
     ]
    },
    {
     "name": "stderr",
     "output_type": "stream",
     "text": [
      "C:\\Users\\WorkStation\\Documents\\rl_main_loop_create_env\\hetgraph_gt_encoder\\models\\sc_encoder.py:30: UserWarning: Implicit dimension choice for softmax has been deprecated. Change the call to include dim=X as an argument.\n",
      "  beta = self.softmax(beta)\n",
      "C:\\Users\\WorkStation\\Documents\\rl_main_loop_create_env\\hetgraph_gt_encoder\\models\\mp_encoder.py:95: UserWarning: Implicit dimension choice for softmax has been deprecated. Change the call to include dim=X as an argument.\n",
      "  beta = self.softmax(beta)\n"
     ]
    },
    {
     "name": "stdout",
     "output_type": "stream",
     "text": [
      "C:\\Users\\WorkStation\\Documents\\rl_main_loop_create_env\\hetgraph_gt_encoder\\ep_data_incomplete_40\\CreateLevelBelt-v0\\false\n",
      "C:\\Users\\WorkStation\\Documents\\rl_main_loop_create_env\\hetgraph_gt_encoder\\ep_data_incomplete_40\\CreateLevelBelt-v0\\false\\4-f37eb877-b166-4051-b3af-068130e1e141-21581.pickle\n",
      "C:\\Users\\WorkStation\\Documents\\rl_main_loop_create_env\\hetgraph_gt_encoder\\ep_data_incomplete_40\\CreateLevelBelt-v0\\false\\4-f37eb877-b166-4051-b3af-068130e1e141-21581.pickle\n",
      "C:\\Users\\WorkStation\\Documents\\rl_main_loop_create_env\\hetgraph_gt_encoder\\ep_data_incomplete_40\\CreateLevelBelt-v0\\false\\4-f37eb877-b166-4051-b3af-068130e1e141-21581.pickle\n",
      "C:\\Users\\WorkStation\\Documents\\rl_main_loop_create_env\\hetgraph_gt_encoder\\ep_data_incomplete_40\\CreateLevelBelt-v0\\false\\4-f37eb877-b166-4051-b3af-068130e1e141-21581.pickle\n"
     ]
    },
    {
     "name": "stderr",
     "output_type": "stream",
     "text": [
      "C:\\Users\\WorkStation\\Documents\\rl_main_loop_create_env\\hetgraph_gt_encoder\\models\\sc_encoder.py:30: UserWarning: Implicit dimension choice for softmax has been deprecated. Change the call to include dim=X as an argument.\n",
      "  beta = self.softmax(beta)\n",
      "C:\\Users\\WorkStation\\Documents\\rl_main_loop_create_env\\hetgraph_gt_encoder\\models\\mp_encoder.py:95: UserWarning: Implicit dimension choice for softmax has been deprecated. Change the call to include dim=X as an argument.\n",
      "  beta = self.softmax(beta)\n"
     ]
    },
    {
     "name": "stdout",
     "output_type": "stream",
     "text": [
      "C:\\Users\\WorkStation\\Documents\\rl_main_loop_create_env\\hetgraph_gt_encoder\\ep_data_incomplete_40\\CreateLevelBelt-v0\\false\n",
      "C:\\Users\\WorkStation\\Documents\\rl_main_loop_create_env\\hetgraph_gt_encoder\\ep_data_incomplete_40\\CreateLevelBelt-v0\\false\\4-f37eb877-b166-4051-b3af-068130e1e141-21190.pickle\n",
      "C:\\Users\\WorkStation\\Documents\\rl_main_loop_create_env\\hetgraph_gt_encoder\\ep_data_incomplete_40\\CreateLevelBelt-v0\\false\\4-f37eb877-b166-4051-b3af-068130e1e141-21190.pickle\n",
      "C:\\Users\\WorkStation\\Documents\\rl_main_loop_create_env\\hetgraph_gt_encoder\\ep_data_incomplete_40\\CreateLevelBelt-v0\\false\\4-f37eb877-b166-4051-b3af-068130e1e141-21190.pickle\n",
      "C:\\Users\\WorkStation\\Documents\\rl_main_loop_create_env\\hetgraph_gt_encoder\\ep_data_incomplete_40\\CreateLevelBelt-v0\\false\\4-f37eb877-b166-4051-b3af-068130e1e141-21190.pickle\n"
     ]
    },
    {
     "name": "stderr",
     "output_type": "stream",
     "text": [
      "C:\\Users\\WorkStation\\Documents\\rl_main_loop_create_env\\hetgraph_gt_encoder\\models\\sc_encoder.py:30: UserWarning: Implicit dimension choice for softmax has been deprecated. Change the call to include dim=X as an argument.\n",
      "  beta = self.softmax(beta)\n",
      "C:\\Users\\WorkStation\\Documents\\rl_main_loop_create_env\\hetgraph_gt_encoder\\models\\mp_encoder.py:95: UserWarning: Implicit dimension choice for softmax has been deprecated. Change the call to include dim=X as an argument.\n",
      "  beta = self.softmax(beta)\n"
     ]
    },
    {
     "name": "stdout",
     "output_type": "stream",
     "text": [
      "C:\\Users\\WorkStation\\Documents\\rl_main_loop_create_env\\hetgraph_gt_encoder\\ep_data_incomplete_40\\CreateLevelBelt-v0\\false\n",
      "C:\\Users\\WorkStation\\Documents\\rl_main_loop_create_env\\hetgraph_gt_encoder\\ep_data_incomplete_40\\CreateLevelBelt-v0\\false\\4-f37eb877-b166-4051-b3af-068130e1e141-21484.pickle\n",
      "C:\\Users\\WorkStation\\Documents\\rl_main_loop_create_env\\hetgraph_gt_encoder\\ep_data_incomplete_40\\CreateLevelBelt-v0\\false\\4-f37eb877-b166-4051-b3af-068130e1e141-21484.pickle\n",
      "C:\\Users\\WorkStation\\Documents\\rl_main_loop_create_env\\hetgraph_gt_encoder\\ep_data_incomplete_40\\CreateLevelBelt-v0\\false\\4-f37eb877-b166-4051-b3af-068130e1e141-21484.pickle\n",
      "C:\\Users\\WorkStation\\Documents\\rl_main_loop_create_env\\hetgraph_gt_encoder\\ep_data_incomplete_40\\CreateLevelBelt-v0\\false\\4-f37eb877-b166-4051-b3af-068130e1e141-21484.pickle\n"
     ]
    },
    {
     "name": "stderr",
     "output_type": "stream",
     "text": [
      "C:\\Users\\WorkStation\\Documents\\rl_main_loop_create_env\\hetgraph_gt_encoder\\models\\sc_encoder.py:30: UserWarning: Implicit dimension choice for softmax has been deprecated. Change the call to include dim=X as an argument.\n",
      "  beta = self.softmax(beta)\n",
      "C:\\Users\\WorkStation\\Documents\\rl_main_loop_create_env\\hetgraph_gt_encoder\\models\\mp_encoder.py:95: UserWarning: Implicit dimension choice for softmax has been deprecated. Change the call to include dim=X as an argument.\n",
      "  beta = self.softmax(beta)\n"
     ]
    },
    {
     "name": "stdout",
     "output_type": "stream",
     "text": [
      "C:\\Users\\WorkStation\\Documents\\rl_main_loop_create_env\\hetgraph_gt_encoder\\ep_data_incomplete_40\\CreateLevelBelt-v0\\false\n",
      "C:\\Users\\WorkStation\\Documents\\rl_main_loop_create_env\\hetgraph_gt_encoder\\ep_data_incomplete_40\\CreateLevelBelt-v0\\false\\4-f37eb877-b166-4051-b3af-068130e1e141-21310.pickle\n",
      "C:\\Users\\WorkStation\\Documents\\rl_main_loop_create_env\\hetgraph_gt_encoder\\ep_data_incomplete_40\\CreateLevelBelt-v0\\false\\4-f37eb877-b166-4051-b3af-068130e1e141-21310.pickle\n",
      "C:\\Users\\WorkStation\\Documents\\rl_main_loop_create_env\\hetgraph_gt_encoder\\ep_data_incomplete_40\\CreateLevelBelt-v0\\false\\4-f37eb877-b166-4051-b3af-068130e1e141-21310.pickle\n",
      "C:\\Users\\WorkStation\\Documents\\rl_main_loop_create_env\\hetgraph_gt_encoder\\ep_data_incomplete_40\\CreateLevelBelt-v0\\false\\4-f37eb877-b166-4051-b3af-068130e1e141-21310.pickle\n"
     ]
    },
    {
     "name": "stderr",
     "output_type": "stream",
     "text": [
      "C:\\Users\\WorkStation\\Documents\\rl_main_loop_create_env\\hetgraph_gt_encoder\\models\\sc_encoder.py:30: UserWarning: Implicit dimension choice for softmax has been deprecated. Change the call to include dim=X as an argument.\n",
      "  beta = self.softmax(beta)\n",
      "C:\\Users\\WorkStation\\Documents\\rl_main_loop_create_env\\hetgraph_gt_encoder\\models\\mp_encoder.py:95: UserWarning: Implicit dimension choice for softmax has been deprecated. Change the call to include dim=X as an argument.\n",
      "  beta = self.softmax(beta)\n"
     ]
    },
    {
     "name": "stdout",
     "output_type": "stream",
     "text": [
      "C:\\Users\\WorkStation\\Documents\\rl_main_loop_create_env\\hetgraph_gt_encoder\\ep_data_incomplete_40\\CreateLevelObstacle-v0\\true\n",
      "C:\\Users\\WorkStation\\Documents\\rl_main_loop_create_env\\hetgraph_gt_encoder\\ep_data_incomplete_40\\CreateLevelObstacle-v0\\true\\4-f37eb877-b166-4051-b3af-068130e1e141-15492.pickle\n",
      "C:\\Users\\WorkStation\\Documents\\rl_main_loop_create_env\\hetgraph_gt_encoder\\ep_data_incomplete_40\\CreateLevelObstacle-v0\\true\\4-f37eb877-b166-4051-b3af-068130e1e141-15492.pickle\n",
      "C:\\Users\\WorkStation\\Documents\\rl_main_loop_create_env\\hetgraph_gt_encoder\\ep_data_incomplete_40\\CreateLevelObstacle-v0\\true\\4-f37eb877-b166-4051-b3af-068130e1e141-15492.pickle\n",
      "C:\\Users\\WorkStation\\Documents\\rl_main_loop_create_env\\hetgraph_gt_encoder\\ep_data_incomplete_40\\CreateLevelObstacle-v0\\true\\4-f37eb877-b166-4051-b3af-068130e1e141-15492.pickle\n"
     ]
    },
    {
     "name": "stderr",
     "output_type": "stream",
     "text": [
      "C:\\Users\\WorkStation\\Documents\\rl_main_loop_create_env\\hetgraph_gt_encoder\\models\\sc_encoder.py:30: UserWarning: Implicit dimension choice for softmax has been deprecated. Change the call to include dim=X as an argument.\n",
      "  beta = self.softmax(beta)\n",
      "C:\\Users\\WorkStation\\Documents\\rl_main_loop_create_env\\hetgraph_gt_encoder\\models\\mp_encoder.py:95: UserWarning: Implicit dimension choice for softmax has been deprecated. Change the call to include dim=X as an argument.\n",
      "  beta = self.softmax(beta)\n"
     ]
    },
    {
     "name": "stdout",
     "output_type": "stream",
     "text": [
      "C:\\Users\\WorkStation\\Documents\\rl_main_loop_create_env\\hetgraph_gt_encoder\\ep_data_incomplete_40\\CreateLevelObstacle-v0\\true\n",
      "C:\\Users\\WorkStation\\Documents\\rl_main_loop_create_env\\hetgraph_gt_encoder\\ep_data_incomplete_40\\CreateLevelObstacle-v0\\true\\4-f37eb877-b166-4051-b3af-068130e1e141-17219.pickle\n",
      "C:\\Users\\WorkStation\\Documents\\rl_main_loop_create_env\\hetgraph_gt_encoder\\ep_data_incomplete_40\\CreateLevelObstacle-v0\\true\\4-f37eb877-b166-4051-b3af-068130e1e141-17219.pickle\n",
      "C:\\Users\\WorkStation\\Documents\\rl_main_loop_create_env\\hetgraph_gt_encoder\\ep_data_incomplete_40\\CreateLevelObstacle-v0\\true\\4-f37eb877-b166-4051-b3af-068130e1e141-17219.pickle\n",
      "C:\\Users\\WorkStation\\Documents\\rl_main_loop_create_env\\hetgraph_gt_encoder\\ep_data_incomplete_40\\CreateLevelObstacle-v0\\true\\4-f37eb877-b166-4051-b3af-068130e1e141-17219.pickle\n"
     ]
    },
    {
     "name": "stderr",
     "output_type": "stream",
     "text": [
      "C:\\Users\\WorkStation\\Documents\\rl_main_loop_create_env\\hetgraph_gt_encoder\\models\\sc_encoder.py:30: UserWarning: Implicit dimension choice for softmax has been deprecated. Change the call to include dim=X as an argument.\n",
      "  beta = self.softmax(beta)\n",
      "C:\\Users\\WorkStation\\Documents\\rl_main_loop_create_env\\hetgraph_gt_encoder\\models\\mp_encoder.py:95: UserWarning: Implicit dimension choice for softmax has been deprecated. Change the call to include dim=X as an argument.\n",
      "  beta = self.softmax(beta)\n"
     ]
    },
    {
     "name": "stdout",
     "output_type": "stream",
     "text": [
      "C:\\Users\\WorkStation\\Documents\\rl_main_loop_create_env\\hetgraph_gt_encoder\\ep_data_incomplete_40\\CreateLevelObstacle-v0\\true\n",
      "C:\\Users\\WorkStation\\Documents\\rl_main_loop_create_env\\hetgraph_gt_encoder\\ep_data_incomplete_40\\CreateLevelObstacle-v0\\true\\4-f37eb877-b166-4051-b3af-068130e1e141-15492.pickle\n",
      "C:\\Users\\WorkStation\\Documents\\rl_main_loop_create_env\\hetgraph_gt_encoder\\ep_data_incomplete_40\\CreateLevelObstacle-v0\\true\\4-f37eb877-b166-4051-b3af-068130e1e141-15492.pickle\n",
      "C:\\Users\\WorkStation\\Documents\\rl_main_loop_create_env\\hetgraph_gt_encoder\\ep_data_incomplete_40\\CreateLevelObstacle-v0\\true\\4-f37eb877-b166-4051-b3af-068130e1e141-15492.pickle\n",
      "C:\\Users\\WorkStation\\Documents\\rl_main_loop_create_env\\hetgraph_gt_encoder\\ep_data_incomplete_40\\CreateLevelObstacle-v0\\true\\4-f37eb877-b166-4051-b3af-068130e1e141-15492.pickle\n"
     ]
    },
    {
     "name": "stderr",
     "output_type": "stream",
     "text": [
      "C:\\Users\\WorkStation\\Documents\\rl_main_loop_create_env\\hetgraph_gt_encoder\\models\\sc_encoder.py:30: UserWarning: Implicit dimension choice for softmax has been deprecated. Change the call to include dim=X as an argument.\n",
      "  beta = self.softmax(beta)\n",
      "C:\\Users\\WorkStation\\Documents\\rl_main_loop_create_env\\hetgraph_gt_encoder\\models\\mp_encoder.py:95: UserWarning: Implicit dimension choice for softmax has been deprecated. Change the call to include dim=X as an argument.\n",
      "  beta = self.softmax(beta)\n"
     ]
    },
    {
     "name": "stdout",
     "output_type": "stream",
     "text": [
      "C:\\Users\\WorkStation\\Documents\\rl_main_loop_create_env\\hetgraph_gt_encoder\\ep_data_incomplete_40\\CreateLevelObstacle-v0\\true\n",
      "C:\\Users\\WorkStation\\Documents\\rl_main_loop_create_env\\hetgraph_gt_encoder\\ep_data_incomplete_40\\CreateLevelObstacle-v0\\true\\4-f37eb877-b166-4051-b3af-068130e1e141-16872.pickle\n",
      "C:\\Users\\WorkStation\\Documents\\rl_main_loop_create_env\\hetgraph_gt_encoder\\ep_data_incomplete_40\\CreateLevelObstacle-v0\\true\\4-f37eb877-b166-4051-b3af-068130e1e141-16872.pickle\n",
      "C:\\Users\\WorkStation\\Documents\\rl_main_loop_create_env\\hetgraph_gt_encoder\\ep_data_incomplete_40\\CreateLevelObstacle-v0\\true\\4-f37eb877-b166-4051-b3af-068130e1e141-16872.pickle\n",
      "C:\\Users\\WorkStation\\Documents\\rl_main_loop_create_env\\hetgraph_gt_encoder\\ep_data_incomplete_40\\CreateLevelObstacle-v0\\true\\4-f37eb877-b166-4051-b3af-068130e1e141-16872.pickle\n"
     ]
    },
    {
     "name": "stderr",
     "output_type": "stream",
     "text": [
      "C:\\Users\\WorkStation\\Documents\\rl_main_loop_create_env\\hetgraph_gt_encoder\\models\\sc_encoder.py:30: UserWarning: Implicit dimension choice for softmax has been deprecated. Change the call to include dim=X as an argument.\n",
      "  beta = self.softmax(beta)\n",
      "C:\\Users\\WorkStation\\Documents\\rl_main_loop_create_env\\hetgraph_gt_encoder\\models\\mp_encoder.py:95: UserWarning: Implicit dimension choice for softmax has been deprecated. Change the call to include dim=X as an argument.\n",
      "  beta = self.softmax(beta)\n"
     ]
    },
    {
     "name": "stdout",
     "output_type": "stream",
     "text": [
      "C:\\Users\\WorkStation\\Documents\\rl_main_loop_create_env\\hetgraph_gt_encoder\\ep_data_incomplete_40\\CreateLevelObstacle-v0\\true\n",
      "C:\\Users\\WorkStation\\Documents\\rl_main_loop_create_env\\hetgraph_gt_encoder\\ep_data_incomplete_40\\CreateLevelObstacle-v0\\true\\4-f37eb877-b166-4051-b3af-068130e1e141-15136.pickle\n",
      "C:\\Users\\WorkStation\\Documents\\rl_main_loop_create_env\\hetgraph_gt_encoder\\ep_data_incomplete_40\\CreateLevelObstacle-v0\\true\\4-f37eb877-b166-4051-b3af-068130e1e141-15136.pickle\n",
      "C:\\Users\\WorkStation\\Documents\\rl_main_loop_create_env\\hetgraph_gt_encoder\\ep_data_incomplete_40\\CreateLevelObstacle-v0\\true\\4-f37eb877-b166-4051-b3af-068130e1e141-15136.pickle\n",
      "C:\\Users\\WorkStation\\Documents\\rl_main_loop_create_env\\hetgraph_gt_encoder\\ep_data_incomplete_40\\CreateLevelObstacle-v0\\true\\4-f37eb877-b166-4051-b3af-068130e1e141-15136.pickle\n"
     ]
    },
    {
     "name": "stderr",
     "output_type": "stream",
     "text": [
      "C:\\Users\\WorkStation\\Documents\\rl_main_loop_create_env\\hetgraph_gt_encoder\\models\\sc_encoder.py:30: UserWarning: Implicit dimension choice for softmax has been deprecated. Change the call to include dim=X as an argument.\n",
      "  beta = self.softmax(beta)\n",
      "C:\\Users\\WorkStation\\Documents\\rl_main_loop_create_env\\hetgraph_gt_encoder\\models\\mp_encoder.py:95: UserWarning: Implicit dimension choice for softmax has been deprecated. Change the call to include dim=X as an argument.\n",
      "  beta = self.softmax(beta)\n"
     ]
    },
    {
     "name": "stdout",
     "output_type": "stream",
     "text": [
      "C:\\Users\\WorkStation\\Documents\\rl_main_loop_create_env\\hetgraph_gt_encoder\\ep_data_incomplete_40\\CreateLevelObstacle-v0\\false\n",
      "C:\\Users\\WorkStation\\Documents\\rl_main_loop_create_env\\hetgraph_gt_encoder\\ep_data_incomplete_40\\CreateLevelObstacle-v0\\false\\4-f37eb877-b166-4051-b3af-068130e1e141-22009.pickle\n",
      "C:\\Users\\WorkStation\\Documents\\rl_main_loop_create_env\\hetgraph_gt_encoder\\ep_data_incomplete_40\\CreateLevelObstacle-v0\\false\\4-f37eb877-b166-4051-b3af-068130e1e141-22009.pickle\n",
      "C:\\Users\\WorkStation\\Documents\\rl_main_loop_create_env\\hetgraph_gt_encoder\\ep_data_incomplete_40\\CreateLevelObstacle-v0\\false\\4-f37eb877-b166-4051-b3af-068130e1e141-22009.pickle\n",
      "C:\\Users\\WorkStation\\Documents\\rl_main_loop_create_env\\hetgraph_gt_encoder\\ep_data_incomplete_40\\CreateLevelObstacle-v0\\false\\4-f37eb877-b166-4051-b3af-068130e1e141-22009.pickle\n"
     ]
    },
    {
     "name": "stderr",
     "output_type": "stream",
     "text": [
      "C:\\Users\\WorkStation\\Documents\\rl_main_loop_create_env\\hetgraph_gt_encoder\\models\\sc_encoder.py:30: UserWarning: Implicit dimension choice for softmax has been deprecated. Change the call to include dim=X as an argument.\n",
      "  beta = self.softmax(beta)\n",
      "C:\\Users\\WorkStation\\Documents\\rl_main_loop_create_env\\hetgraph_gt_encoder\\models\\mp_encoder.py:95: UserWarning: Implicit dimension choice for softmax has been deprecated. Change the call to include dim=X as an argument.\n",
      "  beta = self.softmax(beta)\n"
     ]
    },
    {
     "name": "stdout",
     "output_type": "stream",
     "text": [
      "C:\\Users\\WorkStation\\Documents\\rl_main_loop_create_env\\hetgraph_gt_encoder\\ep_data_incomplete_40\\CreateLevelObstacle-v0\\false\n",
      "C:\\Users\\WorkStation\\Documents\\rl_main_loop_create_env\\hetgraph_gt_encoder\\ep_data_incomplete_40\\CreateLevelObstacle-v0\\false\\4-f37eb877-b166-4051-b3af-068130e1e141-21908.pickle\n",
      "C:\\Users\\WorkStation\\Documents\\rl_main_loop_create_env\\hetgraph_gt_encoder\\ep_data_incomplete_40\\CreateLevelObstacle-v0\\false\\4-f37eb877-b166-4051-b3af-068130e1e141-21908.pickle\n",
      "C:\\Users\\WorkStation\\Documents\\rl_main_loop_create_env\\hetgraph_gt_encoder\\ep_data_incomplete_40\\CreateLevelObstacle-v0\\false\\4-f37eb877-b166-4051-b3af-068130e1e141-21908.pickle\n",
      "C:\\Users\\WorkStation\\Documents\\rl_main_loop_create_env\\hetgraph_gt_encoder\\ep_data_incomplete_40\\CreateLevelObstacle-v0\\false\\4-f37eb877-b166-4051-b3af-068130e1e141-21908.pickle\n"
     ]
    },
    {
     "name": "stderr",
     "output_type": "stream",
     "text": [
      "C:\\Users\\WorkStation\\Documents\\rl_main_loop_create_env\\hetgraph_gt_encoder\\models\\sc_encoder.py:30: UserWarning: Implicit dimension choice for softmax has been deprecated. Change the call to include dim=X as an argument.\n",
      "  beta = self.softmax(beta)\n",
      "C:\\Users\\WorkStation\\Documents\\rl_main_loop_create_env\\hetgraph_gt_encoder\\models\\mp_encoder.py:95: UserWarning: Implicit dimension choice for softmax has been deprecated. Change the call to include dim=X as an argument.\n",
      "  beta = self.softmax(beta)\n"
     ]
    },
    {
     "name": "stdout",
     "output_type": "stream",
     "text": [
      "C:\\Users\\WorkStation\\Documents\\rl_main_loop_create_env\\hetgraph_gt_encoder\\ep_data_incomplete_40\\CreateLevelObstacle-v0\\false\n",
      "C:\\Users\\WorkStation\\Documents\\rl_main_loop_create_env\\hetgraph_gt_encoder\\ep_data_incomplete_40\\CreateLevelObstacle-v0\\false\\4-f37eb877-b166-4051-b3af-068130e1e141-22496.pickle\n",
      "C:\\Users\\WorkStation\\Documents\\rl_main_loop_create_env\\hetgraph_gt_encoder\\ep_data_incomplete_40\\CreateLevelObstacle-v0\\false\\4-f37eb877-b166-4051-b3af-068130e1e141-22496.pickle\n",
      "C:\\Users\\WorkStation\\Documents\\rl_main_loop_create_env\\hetgraph_gt_encoder\\ep_data_incomplete_40\\CreateLevelObstacle-v0\\false\\4-f37eb877-b166-4051-b3af-068130e1e141-22496.pickle\n",
      "C:\\Users\\WorkStation\\Documents\\rl_main_loop_create_env\\hetgraph_gt_encoder\\ep_data_incomplete_40\\CreateLevelObstacle-v0\\false\\4-f37eb877-b166-4051-b3af-068130e1e141-22496.pickle\n"
     ]
    },
    {
     "name": "stderr",
     "output_type": "stream",
     "text": [
      "C:\\Users\\WorkStation\\Documents\\rl_main_loop_create_env\\hetgraph_gt_encoder\\models\\sc_encoder.py:30: UserWarning: Implicit dimension choice for softmax has been deprecated. Change the call to include dim=X as an argument.\n",
      "  beta = self.softmax(beta)\n",
      "C:\\Users\\WorkStation\\Documents\\rl_main_loop_create_env\\hetgraph_gt_encoder\\models\\mp_encoder.py:95: UserWarning: Implicit dimension choice for softmax has been deprecated. Change the call to include dim=X as an argument.\n",
      "  beta = self.softmax(beta)\n"
     ]
    },
    {
     "name": "stdout",
     "output_type": "stream",
     "text": [
      "C:\\Users\\WorkStation\\Documents\\rl_main_loop_create_env\\hetgraph_gt_encoder\\ep_data_incomplete_40\\CreateLevelObstacle-v0\\false\n",
      "C:\\Users\\WorkStation\\Documents\\rl_main_loop_create_env\\hetgraph_gt_encoder\\ep_data_incomplete_40\\CreateLevelObstacle-v0\\false\\4-f37eb877-b166-4051-b3af-068130e1e141-22597.pickle\n",
      "C:\\Users\\WorkStation\\Documents\\rl_main_loop_create_env\\hetgraph_gt_encoder\\ep_data_incomplete_40\\CreateLevelObstacle-v0\\false\\4-f37eb877-b166-4051-b3af-068130e1e141-22597.pickle\n",
      "C:\\Users\\WorkStation\\Documents\\rl_main_loop_create_env\\hetgraph_gt_encoder\\ep_data_incomplete_40\\CreateLevelObstacle-v0\\false\\4-f37eb877-b166-4051-b3af-068130e1e141-22597.pickle\n",
      "C:\\Users\\WorkStation\\Documents\\rl_main_loop_create_env\\hetgraph_gt_encoder\\ep_data_incomplete_40\\CreateLevelObstacle-v0\\false\\4-f37eb877-b166-4051-b3af-068130e1e141-22597.pickle\n"
     ]
    },
    {
     "name": "stderr",
     "output_type": "stream",
     "text": [
      "C:\\Users\\WorkStation\\Documents\\rl_main_loop_create_env\\hetgraph_gt_encoder\\models\\sc_encoder.py:30: UserWarning: Implicit dimension choice for softmax has been deprecated. Change the call to include dim=X as an argument.\n",
      "  beta = self.softmax(beta)\n",
      "C:\\Users\\WorkStation\\Documents\\rl_main_loop_create_env\\hetgraph_gt_encoder\\models\\mp_encoder.py:95: UserWarning: Implicit dimension choice for softmax has been deprecated. Change the call to include dim=X as an argument.\n",
      "  beta = self.softmax(beta)\n"
     ]
    },
    {
     "name": "stdout",
     "output_type": "stream",
     "text": [
      "C:\\Users\\WorkStation\\Documents\\rl_main_loop_create_env\\hetgraph_gt_encoder\\ep_data_incomplete_40\\CreateLevelObstacle-v0\\false\n",
      "C:\\Users\\WorkStation\\Documents\\rl_main_loop_create_env\\hetgraph_gt_encoder\\ep_data_incomplete_40\\CreateLevelObstacle-v0\\false\\4-f37eb877-b166-4051-b3af-068130e1e141-22332.pickle\n",
      "C:\\Users\\WorkStation\\Documents\\rl_main_loop_create_env\\hetgraph_gt_encoder\\ep_data_incomplete_40\\CreateLevelObstacle-v0\\false\\4-f37eb877-b166-4051-b3af-068130e1e141-22332.pickle\n",
      "C:\\Users\\WorkStation\\Documents\\rl_main_loop_create_env\\hetgraph_gt_encoder\\ep_data_incomplete_40\\CreateLevelObstacle-v0\\false\\4-f37eb877-b166-4051-b3af-068130e1e141-22332.pickle\n",
      "C:\\Users\\WorkStation\\Documents\\rl_main_loop_create_env\\hetgraph_gt_encoder\\ep_data_incomplete_40\\CreateLevelObstacle-v0\\false\\4-f37eb877-b166-4051-b3af-068130e1e141-22332.pickle\n"
     ]
    },
    {
     "name": "stderr",
     "output_type": "stream",
     "text": [
      "C:\\Users\\WorkStation\\Documents\\rl_main_loop_create_env\\hetgraph_gt_encoder\\models\\sc_encoder.py:30: UserWarning: Implicit dimension choice for softmax has been deprecated. Change the call to include dim=X as an argument.\n",
      "  beta = self.softmax(beta)\n",
      "C:\\Users\\WorkStation\\Documents\\rl_main_loop_create_env\\hetgraph_gt_encoder\\models\\mp_encoder.py:95: UserWarning: Implicit dimension choice for softmax has been deprecated. Change the call to include dim=X as an argument.\n",
      "  beta = self.softmax(beta)\n"
     ]
    }
   ],
   "source": [
    "z_encodings_diff_checkpoints_incp = []\n",
    "z_encoding_labels_incp = []\n",
    "num_episodes_per_type = 5\n",
    "\n",
    "z_enc, labels, files_used = compute_encodings_incp(checkpoints[2])\n",
    "z_encoding_labels_incp.append(labels)\n",
    "z_encodings_diff_checkpoints_incp.append(z_enc)\n",
    "\n",
    "# for checkpoint in checkpoints[2]:\n",
    "#     print(checkpoint)\n",
    "#     z_enc, labels = compute_encodings_incp(checkpoint)\n",
    "#     z_encoding_labels_incp.append(labels)\n",
    "#     z_encodings_diff_checkpoints_incp.append(z_enc)"
   ]
  },
  {
   "cell_type": "code",
   "execution_count": 15,
   "id": "6f0e9230",
   "metadata": {},
   "outputs": [
    {
     "name": "stdout",
     "output_type": "stream",
     "text": [
      "CreateLevelPush-v0\n",
      "true\n"
     ]
    }
   ],
   "source": [
    "file = 'C:\\\\Users\\\\WorkStation\\\\Documents\\\\rl_main_loop_create_env\\\\hetgraph_gt_encoder\\\\ep_data_reordered\\\\CreateLevelPush-v0\\\\true\\\\4-f37eb877-b166-4051-b3af-068130e1e141-727.pickle'\n",
    "task = os.path.basename(os.path.dirname(os.path.dirname(file)))\n",
    "success_status = os.path.basename(os.path.dirname(file))\n",
    "print(task)\n",
    "print(success_status)"
   ]
  },
  {
   "cell_type": "code",
   "execution_count": null,
   "id": "4df63d15",
   "metadata": {},
   "outputs": [],
   "source": [
    "file =file.replace('ep_data_reordered','ep_data')\n",
    "print(file)"
   ]
  },
  {
   "cell_type": "code",
   "execution_count": 16,
   "id": "1d42b624",
   "metadata": {},
   "outputs": [
    {
     "data": {
      "text/plain": [
       "['C:\\\\Users\\\\WorkStation\\\\Documents\\\\rl_main_loop_create_env\\\\hetgraph_gt_encoder\\\\ep_data_incomplete_40\\\\CreateLevelPush-v0\\\\true\\\\4-f37eb877-b166-4051-b3af-068130e1e141-727.pickle',\n",
       " 'C:\\\\Users\\\\WorkStation\\\\Documents\\\\rl_main_loop_create_env\\\\hetgraph_gt_encoder\\\\ep_data_incomplete_40\\\\CreateLevelPush-v0\\\\true\\\\4-f37eb877-b166-4051-b3af-068130e1e141-1146.pickle',\n",
       " 'C:\\\\Users\\\\WorkStation\\\\Documents\\\\rl_main_loop_create_env\\\\hetgraph_gt_encoder\\\\ep_data_incomplete_40\\\\CreateLevelPush-v0\\\\true\\\\4-f37eb877-b166-4051-b3af-068130e1e141-371.pickle',\n",
       " 'C:\\\\Users\\\\WorkStation\\\\Documents\\\\rl_main_loop_create_env\\\\hetgraph_gt_encoder\\\\ep_data_incomplete_40\\\\CreateLevelPush-v0\\\\true\\\\4-f37eb877-b166-4051-b3af-068130e1e141-727.pickle',\n",
       " 'C:\\\\Users\\\\WorkStation\\\\Documents\\\\rl_main_loop_create_env\\\\hetgraph_gt_encoder\\\\ep_data_incomplete_40\\\\CreateLevelPush-v0\\\\true\\\\4-f37eb877-b166-4051-b3af-068130e1e141-0.pickle',\n",
       " 'C:\\\\Users\\\\WorkStation\\\\Documents\\\\rl_main_loop_create_env\\\\hetgraph_gt_encoder\\\\ep_data_incomplete_40\\\\CreateLevelPush-v0\\\\false\\\\4-f37eb877-b166-4051-b3af-068130e1e141-4716.pickle',\n",
       " 'C:\\\\Users\\\\WorkStation\\\\Documents\\\\rl_main_loop_create_env\\\\hetgraph_gt_encoder\\\\ep_data_incomplete_40\\\\CreateLevelPush-v0\\\\false\\\\4-f37eb877-b166-4051-b3af-068130e1e141-1893.pickle',\n",
       " 'C:\\\\Users\\\\WorkStation\\\\Documents\\\\rl_main_loop_create_env\\\\hetgraph_gt_encoder\\\\ep_data_incomplete_40\\\\CreateLevelPush-v0\\\\false\\\\4-f37eb877-b166-4051-b3af-068130e1e141-3723.pickle',\n",
       " 'C:\\\\Users\\\\WorkStation\\\\Documents\\\\rl_main_loop_create_env\\\\hetgraph_gt_encoder\\\\ep_data_incomplete_40\\\\CreateLevelPush-v0\\\\false\\\\4-f37eb877-b166-4051-b3af-068130e1e141-1387.pickle',\n",
       " 'C:\\\\Users\\\\WorkStation\\\\Documents\\\\rl_main_loop_create_env\\\\hetgraph_gt_encoder\\\\ep_data_incomplete_40\\\\CreateLevelPush-v0\\\\false\\\\4-f37eb877-b166-4051-b3af-068130e1e141-4812.pickle',\n",
       " 'C:\\\\Users\\\\WorkStation\\\\Documents\\\\rl_main_loop_create_env\\\\hetgraph_gt_encoder\\\\ep_data_incomplete_40\\\\CreateLevelBuckets-v0\\\\true\\\\4-f37eb877-b166-4051-b3af-068130e1e141-7604.pickle',\n",
       " 'C:\\\\Users\\\\WorkStation\\\\Documents\\\\rl_main_loop_create_env\\\\hetgraph_gt_encoder\\\\ep_data_incomplete_40\\\\CreateLevelBuckets-v0\\\\true\\\\4-f37eb877-b166-4051-b3af-068130e1e141-8272.pickle',\n",
       " 'C:\\\\Users\\\\WorkStation\\\\Documents\\\\rl_main_loop_create_env\\\\hetgraph_gt_encoder\\\\ep_data_incomplete_40\\\\CreateLevelBuckets-v0\\\\true\\\\4-f37eb877-b166-4051-b3af-068130e1e141-7527.pickle',\n",
       " 'C:\\\\Users\\\\WorkStation\\\\Documents\\\\rl_main_loop_create_env\\\\hetgraph_gt_encoder\\\\ep_data_incomplete_40\\\\CreateLevelBuckets-v0\\\\true\\\\4-f37eb877-b166-4051-b3af-068130e1e141-7604.pickle',\n",
       " 'C:\\\\Users\\\\WorkStation\\\\Documents\\\\rl_main_loop_create_env\\\\hetgraph_gt_encoder\\\\ep_data_incomplete_40\\\\CreateLevelBuckets-v0\\\\true\\\\4-f37eb877-b166-4051-b3af-068130e1e141-8125.pickle',\n",
       " 'C:\\\\Users\\\\WorkStation\\\\Documents\\\\rl_main_loop_create_env\\\\hetgraph_gt_encoder\\\\ep_data_incomplete_40\\\\CreateLevelBuckets-v0\\\\false\\\\4-f37eb877-b166-4051-b3af-068130e1e141-19394.pickle',\n",
       " 'C:\\\\Users\\\\WorkStation\\\\Documents\\\\rl_main_loop_create_env\\\\hetgraph_gt_encoder\\\\ep_data_incomplete_40\\\\CreateLevelBuckets-v0\\\\false\\\\4-f37eb877-b166-4051-b3af-068130e1e141-19167.pickle',\n",
       " 'C:\\\\Users\\\\WorkStation\\\\Documents\\\\rl_main_loop_create_env\\\\hetgraph_gt_encoder\\\\ep_data_incomplete_40\\\\CreateLevelBuckets-v0\\\\false\\\\4-f37eb877-b166-4051-b3af-068130e1e141-19573.pickle',\n",
       " 'C:\\\\Users\\\\WorkStation\\\\Documents\\\\rl_main_loop_create_env\\\\hetgraph_gt_encoder\\\\ep_data_incomplete_40\\\\CreateLevelBuckets-v0\\\\false\\\\4-f37eb877-b166-4051-b3af-068130e1e141-19820.pickle',\n",
       " 'C:\\\\Users\\\\WorkStation\\\\Documents\\\\rl_main_loop_create_env\\\\hetgraph_gt_encoder\\\\ep_data_incomplete_40\\\\CreateLevelBuckets-v0\\\\false\\\\4-f37eb877-b166-4051-b3af-068130e1e141-19337.pickle',\n",
       " 'C:\\\\Users\\\\WorkStation\\\\Documents\\\\rl_main_loop_create_env\\\\hetgraph_gt_encoder\\\\ep_data_incomplete_40\\\\CreateLevelBasket-v0\\\\true\\\\4-f37eb877-b166-4051-b3af-068130e1e141-18357.pickle',\n",
       " 'C:\\\\Users\\\\WorkStation\\\\Documents\\\\rl_main_loop_create_env\\\\hetgraph_gt_encoder\\\\ep_data_incomplete_40\\\\CreateLevelBasket-v0\\\\true\\\\4-f37eb877-b166-4051-b3af-068130e1e141-18357.pickle',\n",
       " 'C:\\\\Users\\\\WorkStation\\\\Documents\\\\rl_main_loop_create_env\\\\hetgraph_gt_encoder\\\\ep_data_incomplete_40\\\\CreateLevelBasket-v0\\\\true\\\\4-f37eb877-b166-4051-b3af-068130e1e141-18647.pickle',\n",
       " 'C:\\\\Users\\\\WorkStation\\\\Documents\\\\rl_main_loop_create_env\\\\hetgraph_gt_encoder\\\\ep_data_incomplete_40\\\\CreateLevelBasket-v0\\\\true\\\\4-f37eb877-b166-4051-b3af-068130e1e141-18455.pickle',\n",
       " 'C:\\\\Users\\\\WorkStation\\\\Documents\\\\rl_main_loop_create_env\\\\hetgraph_gt_encoder\\\\ep_data_incomplete_40\\\\CreateLevelBasket-v0\\\\true\\\\4-f37eb877-b166-4051-b3af-068130e1e141-18357.pickle',\n",
       " 'C:\\\\Users\\\\WorkStation\\\\Documents\\\\rl_main_loop_create_env\\\\hetgraph_gt_encoder\\\\ep_data_incomplete_40\\\\CreateLevelBasket-v0\\\\false\\\\4-f37eb877-b166-4051-b3af-068130e1e141-20623.pickle',\n",
       " 'C:\\\\Users\\\\WorkStation\\\\Documents\\\\rl_main_loop_create_env\\\\hetgraph_gt_encoder\\\\ep_data_incomplete_40\\\\CreateLevelBasket-v0\\\\false\\\\4-f37eb877-b166-4051-b3af-068130e1e141-20653.pickle',\n",
       " 'C:\\\\Users\\\\WorkStation\\\\Documents\\\\rl_main_loop_create_env\\\\hetgraph_gt_encoder\\\\ep_data_incomplete_40\\\\CreateLevelBasket-v0\\\\false\\\\4-f37eb877-b166-4051-b3af-068130e1e141-20258.pickle',\n",
       " 'C:\\\\Users\\\\WorkStation\\\\Documents\\\\rl_main_loop_create_env\\\\hetgraph_gt_encoder\\\\ep_data_incomplete_40\\\\CreateLevelBasket-v0\\\\false\\\\4-f37eb877-b166-4051-b3af-068130e1e141-20319.pickle',\n",
       " 'C:\\\\Users\\\\WorkStation\\\\Documents\\\\rl_main_loop_create_env\\\\hetgraph_gt_encoder\\\\ep_data_incomplete_40\\\\CreateLevelBasket-v0\\\\false\\\\4-f37eb877-b166-4051-b3af-068130e1e141-20450.pickle',\n",
       " 'C:\\\\Users\\\\WorkStation\\\\Documents\\\\rl_main_loop_create_env\\\\hetgraph_gt_encoder\\\\ep_data_incomplete_40\\\\CreateLevelBelt-v0\\\\true\\\\4-f37eb877-b166-4051-b3af-068130e1e141-18915.pickle',\n",
       " 'C:\\\\Users\\\\WorkStation\\\\Documents\\\\rl_main_loop_create_env\\\\hetgraph_gt_encoder\\\\ep_data_incomplete_40\\\\CreateLevelBelt-v0\\\\true\\\\4-f37eb877-b166-4051-b3af-068130e1e141-14303.pickle',\n",
       " 'C:\\\\Users\\\\WorkStation\\\\Documents\\\\rl_main_loop_create_env\\\\hetgraph_gt_encoder\\\\ep_data_incomplete_40\\\\CreateLevelBelt-v0\\\\true\\\\4-f37eb877-b166-4051-b3af-068130e1e141-12715.pickle',\n",
       " 'C:\\\\Users\\\\WorkStation\\\\Documents\\\\rl_main_loop_create_env\\\\hetgraph_gt_encoder\\\\ep_data_incomplete_40\\\\CreateLevelBelt-v0\\\\true\\\\4-f37eb877-b166-4051-b3af-068130e1e141-12715.pickle',\n",
       " 'C:\\\\Users\\\\WorkStation\\\\Documents\\\\rl_main_loop_create_env\\\\hetgraph_gt_encoder\\\\ep_data_incomplete_40\\\\CreateLevelBelt-v0\\\\true\\\\4-f37eb877-b166-4051-b3af-068130e1e141-13740.pickle',\n",
       " 'C:\\\\Users\\\\WorkStation\\\\Documents\\\\rl_main_loop_create_env\\\\hetgraph_gt_encoder\\\\ep_data_incomplete_40\\\\CreateLevelBelt-v0\\\\false\\\\4-f37eb877-b166-4051-b3af-068130e1e141-21516.pickle',\n",
       " 'C:\\\\Users\\\\WorkStation\\\\Documents\\\\rl_main_loop_create_env\\\\hetgraph_gt_encoder\\\\ep_data_incomplete_40\\\\CreateLevelBelt-v0\\\\false\\\\4-f37eb877-b166-4051-b3af-068130e1e141-21581.pickle',\n",
       " 'C:\\\\Users\\\\WorkStation\\\\Documents\\\\rl_main_loop_create_env\\\\hetgraph_gt_encoder\\\\ep_data_incomplete_40\\\\CreateLevelBelt-v0\\\\false\\\\4-f37eb877-b166-4051-b3af-068130e1e141-21190.pickle',\n",
       " 'C:\\\\Users\\\\WorkStation\\\\Documents\\\\rl_main_loop_create_env\\\\hetgraph_gt_encoder\\\\ep_data_incomplete_40\\\\CreateLevelBelt-v0\\\\false\\\\4-f37eb877-b166-4051-b3af-068130e1e141-21484.pickle',\n",
       " 'C:\\\\Users\\\\WorkStation\\\\Documents\\\\rl_main_loop_create_env\\\\hetgraph_gt_encoder\\\\ep_data_incomplete_40\\\\CreateLevelBelt-v0\\\\false\\\\4-f37eb877-b166-4051-b3af-068130e1e141-21310.pickle',\n",
       " 'C:\\\\Users\\\\WorkStation\\\\Documents\\\\rl_main_loop_create_env\\\\hetgraph_gt_encoder\\\\ep_data_incomplete_40\\\\CreateLevelObstacle-v0\\\\true\\\\4-f37eb877-b166-4051-b3af-068130e1e141-15492.pickle',\n",
       " 'C:\\\\Users\\\\WorkStation\\\\Documents\\\\rl_main_loop_create_env\\\\hetgraph_gt_encoder\\\\ep_data_incomplete_40\\\\CreateLevelObstacle-v0\\\\true\\\\4-f37eb877-b166-4051-b3af-068130e1e141-17219.pickle',\n",
       " 'C:\\\\Users\\\\WorkStation\\\\Documents\\\\rl_main_loop_create_env\\\\hetgraph_gt_encoder\\\\ep_data_incomplete_40\\\\CreateLevelObstacle-v0\\\\true\\\\4-f37eb877-b166-4051-b3af-068130e1e141-15492.pickle',\n",
       " 'C:\\\\Users\\\\WorkStation\\\\Documents\\\\rl_main_loop_create_env\\\\hetgraph_gt_encoder\\\\ep_data_incomplete_40\\\\CreateLevelObstacle-v0\\\\true\\\\4-f37eb877-b166-4051-b3af-068130e1e141-16872.pickle',\n",
       " 'C:\\\\Users\\\\WorkStation\\\\Documents\\\\rl_main_loop_create_env\\\\hetgraph_gt_encoder\\\\ep_data_incomplete_40\\\\CreateLevelObstacle-v0\\\\true\\\\4-f37eb877-b166-4051-b3af-068130e1e141-15136.pickle',\n",
       " 'C:\\\\Users\\\\WorkStation\\\\Documents\\\\rl_main_loop_create_env\\\\hetgraph_gt_encoder\\\\ep_data_incomplete_40\\\\CreateLevelObstacle-v0\\\\false\\\\4-f37eb877-b166-4051-b3af-068130e1e141-22009.pickle',\n",
       " 'C:\\\\Users\\\\WorkStation\\\\Documents\\\\rl_main_loop_create_env\\\\hetgraph_gt_encoder\\\\ep_data_incomplete_40\\\\CreateLevelObstacle-v0\\\\false\\\\4-f37eb877-b166-4051-b3af-068130e1e141-21908.pickle',\n",
       " 'C:\\\\Users\\\\WorkStation\\\\Documents\\\\rl_main_loop_create_env\\\\hetgraph_gt_encoder\\\\ep_data_incomplete_40\\\\CreateLevelObstacle-v0\\\\false\\\\4-f37eb877-b166-4051-b3af-068130e1e141-22496.pickle',\n",
       " 'C:\\\\Users\\\\WorkStation\\\\Documents\\\\rl_main_loop_create_env\\\\hetgraph_gt_encoder\\\\ep_data_incomplete_40\\\\CreateLevelObstacle-v0\\\\false\\\\4-f37eb877-b166-4051-b3af-068130e1e141-22597.pickle',\n",
       " 'C:\\\\Users\\\\WorkStation\\\\Documents\\\\rl_main_loop_create_env\\\\hetgraph_gt_encoder\\\\ep_data_incomplete_40\\\\CreateLevelObstacle-v0\\\\false\\\\4-f37eb877-b166-4051-b3af-068130e1e141-22332.pickle']"
      ]
     },
     "execution_count": 16,
     "metadata": {},
     "output_type": "execute_result"
    }
   ],
   "source": [
    "files_used"
   ]
  },
  {
   "cell_type": "code",
   "execution_count": 17,
   "id": "ac17facd",
   "metadata": {},
   "outputs": [
    {
     "data": {
      "text/plain": [
       "[tensor([[[ 0.1292,  0.5613,  0.7612,  ...,  0.9299,  0.0080,  0.3850]],\n",
       " \n",
       "         [[ 0.1483,  0.4983,  0.7112,  ...,  0.8518,  0.0700,  0.2053]],\n",
       " \n",
       "         [[ 0.1363,  0.5032,  0.7627,  ...,  1.0941, -0.0262,  0.5569]],\n",
       " \n",
       "         ...,\n",
       " \n",
       "         [[ 0.2417, -0.2447,  0.0144,  ...,  0.1472,  0.0412,  0.6195]],\n",
       " \n",
       "         [[ 0.2298, -0.2594, -0.0066,  ...,  0.1266,  0.0697,  0.6580]],\n",
       " \n",
       "         [[ 0.1765, -0.2386, -0.0362,  ...,  0.1140,  0.0793,  0.6541]]],\n",
       "        device='cuda:0', grad_fn=<StackBackward>)]"
      ]
     },
     "execution_count": 17,
     "metadata": {},
     "output_type": "execute_result"
    }
   ],
   "source": [
    "z_encodings_diff_checkpoints_incp"
   ]
  },
  {
   "cell_type": "code",
   "execution_count": 18,
   "id": "8a0e157c",
   "metadata": {},
   "outputs": [],
   "source": [
    "\n",
    "tasks = [\"CreateLevelPush-v0\",\n",
    "                       \"CreateLevelBuckets-v0\",\n",
    "                       \"CreateLevelBasket-v0\",\"CreateLevelBelt-v0\",\n",
    "                       \"CreateLevelObstacle-v0\"]"
   ]
  },
  {
   "cell_type": "code",
   "execution_count": 19,
   "id": "068aefae",
   "metadata": {},
   "outputs": [
    {
     "data": {
      "image/png": "[encoded data removed]",
      "text/plain": [
       "<Figure size 720x576 with 1 Axes>"
      ]
     },
     "metadata": {
      "needs_background": "light"
     },
     "output_type": "display_data"
    },
    {
     "data": {
      "image/png": "[encoded data removed]",
      "text/plain": [
       "<Figure size 720x576 with 1 Axes>"
      ]
     },
     "metadata": {
      "needs_background": "light"
     },
     "output_type": "display_data"
    },
    {
     "name": "stdout",
     "output_type": "stream",
     "text": [
      "Cluster counts per task for successful episodes:\n",
      "task                    cluster\n",
      "CreateLevelBasket-v0    2          5\n",
      "CreateLevelBelt-v0      2          1\n",
      "                        3          4\n",
      "CreateLevelBuckets-v0   0          5\n",
      "CreateLevelObstacle-v0  4          5\n",
      "CreateLevelPush-v0      1          5\n",
      "dtype: int64\n",
      "\n",
      "Cluster counts per task for unsuccessful episodes:\n",
      "task                    cluster\n",
      "CreateLevelBasket-v0    1          5\n",
      "CreateLevelBelt-v0      2          5\n",
      "CreateLevelBuckets-v0   0          5\n",
      "CreateLevelObstacle-v0  4          5\n",
      "CreateLevelPush-v0      3          5\n",
      "dtype: int64\n"
     ]
    }
   ],
   "source": [
    "for idx, z_encodings in enumerate(z_encodings_diff_checkpoints_incp):\n",
    "    df_clusters_s, df_clusters_fail = compute_clusters_by_outcome(z_encodings, z_encoding_labels_incp[idx], tasks)"
   ]
  },
  {
   "cell_type": "code",
   "execution_count": 20,
   "id": "035def6c",
   "metadata": {},
   "outputs": [],
   "source": [
    "from sklearn.cluster import KMeans\n",
    "from sklearn.decomposition import PCA\n",
    "\n",
    "def compute_clusters(z_encodings, labels):\n",
    "    z_encodings_np = z_encodings.cpu().detach().numpy()  # Convert to numpy for sklearn\n",
    "    n_clusters = len(tasks)  # Total number of tasks as the number of clusters\n",
    "    kmeans = KMeans(n_clusters=n_clusters, random_state=42)\n",
    "    z_encodings_np = z_encodings_np.squeeze(1)\n",
    "    cluster_labels = kmeans.fit_predict(z_encodings_np)\n",
    "\n",
    "    # Map cluster labels to the original task names for analysis\n",
    "    df_clusters = pd.DataFrame({\n",
    "        'task': [label[0] for label in labels],  # Original task names\n",
    "        'outcome': [label[1] for label in labels],  # Success/Failure outcome\n",
    "        'cluster': cluster_labels\n",
    "    })\n",
    "\n",
    "\n",
    "    # Visualize the clusters using PCA for dimensionality reduction\n",
    "    pca = PCA(n_components=2)\n",
    "    z_encodings_pca = pca.fit_transform(z_encodings_np)\n",
    "\n",
    "    plt.figure(figsize=(10, 8))\n",
    "    sns.scatterplot(\n",
    "        x=z_encodings_pca[:, 0], y=z_encodings_pca[:, 1],\n",
    "        hue=df_clusters['task'], style=df_clusters['outcome'],\n",
    "        palette='tab10', s=100\n",
    "    )\n",
    "    plt.title('K-means Clustering of Episode Encodings (PCA Reduced)')\n",
    "    plt.xlabel('PCA Component 1')\n",
    "    plt.ylabel('PCA Component 2')\n",
    "    plt.legend(loc='best', bbox_to_anchor=(1.05, 1), title='Task')\n",
    "    plt.tight_layout()\n",
    "    plt.show()\n",
    "\n",
    "    # Evaluate clustering by task\n",
    "    print(\"Cluster counts per task:\")\n",
    "    print(df_clusters.groupby(['task', 'cluster']).size())\n",
    "    return df_clusters\n",
    "    "
   ]
  },
  {
   "cell_type": "code",
   "execution_count": 21,
   "id": "7cfece59",
   "metadata": {},
   "outputs": [],
   "source": [
    "from sklearn.cluster import KMeans\n",
    "from sklearn.decomposition import PCA\n",
    "import pandas as pd\n",
    "import seaborn as sns\n",
    "import matplotlib.pyplot as plt\n",
    "\n",
    "def compute_clusters_new(z_encodings, labels):\n",
    "    z_encodings_np = z_encodings.cpu().detach().numpy()  # Convert to numpy for sklearn\n",
    "    n_clusters = len(tasks)  # Total number of tasks as the number of clusters\n",
    "    kmeans = KMeans(n_clusters=n_clusters, random_state=42)\n",
    "    z_encodings_np = z_encodings_np.squeeze(1)\n",
    "    cluster_labels = kmeans.fit_predict(z_encodings_np)\n",
    "\n",
    "    # Map cluster labels to the original task names for analysis\n",
    "    df_clusters = pd.DataFrame({\n",
    "        'task': [label[0] for label in labels],  # Original task names\n",
    "        'outcome': [label[1] for label in labels],  # Success/Failure outcome\n",
    "        'cluster': cluster_labels\n",
    "    })\n",
    "\n",
    "    # Apply PCA to the entire dataset\n",
    "    pca = PCA(n_components=2)\n",
    "    z_encodings_pca = pca.fit_transform(z_encodings_np)\n",
    "\n",
    "    # Filter to only include \"true\" outcomes\n",
    "    df_clusters = df_clusters[df_clusters['outcome'] == 'true'].reset_index(drop=True)\n",
    "    z_encodings_pca_filtered = z_encodings_pca[df_clusters.index]  # Align the PCA output with filtered data\n",
    "\n",
    "    # Visualize the clusters using PCA-reduced data for \"true\" outcomes\n",
    "    plt.figure(figsize=(10, 8))\n",
    "    sns.scatterplot(\n",
    "        x=z_encodings_pca_filtered[:, 0], y=z_encodings_pca_filtered[:, 1],\n",
    "        hue=df_clusters['task'], style=df_clusters['outcome'],\n",
    "        palette='tab10', s=100\n",
    "    )\n",
    "    plt.title('K-means Clustering of Successful Episodes (PCA Reduced)')\n",
    "    plt.xlabel('PCA Component 1')\n",
    "    plt.ylabel('PCA Component 2')\n",
    "    plt.legend(loc='best', bbox_to_anchor=(1.05, 1), title='Task')\n",
    "    plt.tight_layout()\n",
    "    plt.show()\n",
    "\n",
    "    # Evaluate clustering by task\n",
    "    print(\"Cluster counts per task:\")\n",
    "    print(df_clusters.groupby(['task', 'cluster']).size())\n",
    "    return df_clusters\n"
   ]
  },
  {
   "cell_type": "code",
   "execution_count": 22,
   "id": "ae742e89",
   "metadata": {},
   "outputs": [
    {
     "data": {
      "image/png": "[encoded data removed]",
      "text/plain": [
       "<Figure size 720x576 with 1 Axes>"
      ]
     },
     "metadata": {
      "needs_background": "light"
     },
     "output_type": "display_data"
    },
    {
     "name": "stdout",
     "output_type": "stream",
     "text": [
      "Cluster counts per task:\n",
      "task                    cluster\n",
      "CreateLevelBasket-v0    0          5\n",
      "                        3          5\n",
      "CreateLevelBelt-v0      1          5\n",
      "                        3          5\n",
      "CreateLevelBuckets-v0   0          5\n",
      "                        3          5\n",
      "CreateLevelObstacle-v0  0          5\n",
      "                        4          5\n",
      "CreateLevelPush-v0      2          5\n",
      "                        4          5\n",
      "dtype: int64\n"
     ]
    }
   ],
   "source": [
    "for idx, z_encodings in enumerate(z_encodings_diff_checkpoints_incp):\n",
    "    df_clusters_s = compute_clusters(z_encodings, z_encoding_labels_incp[idx])"
   ]
  },
  {
   "cell_type": "code",
   "execution_count": 23,
   "id": "1a1a0909",
   "metadata": {},
   "outputs": [
    {
     "name": "stdout",
     "output_type": "stream",
     "text": [
      "C:\\Users\\WorkStation\\Documents\\rl_main_loop_create_env\\hetgraph_gt_encoder\\ep_data\\CreateLevelPush-v0\\true\\4-f37eb877-b166-4051-b3af-068130e1e141-727.pickle\n",
      "C:\\Users\\WorkStation\\Documents\\rl_main_loop_create_env\\hetgraph_gt_encoder\\ep_data\\CreateLevelPush-v0\\true\\4-f37eb877-b166-4051-b3af-068130e1e141-727.pickle\n",
      "C:\\Users\\WorkStation\\Documents\\rl_main_loop_create_env\\hetgraph_gt_encoder\\ep_data\\CreateLevelPush-v0\\true\\4-f37eb877-b166-4051-b3af-068130e1e141-727.pickle\n",
      "C:\\Users\\WorkStation\\Documents\\rl_main_loop_create_env\\hetgraph_gt_encoder\\ep_data\\CreateLevelPush-v0\\true\\4-f37eb877-b166-4051-b3af-068130e1e141-727.pickle\n",
      "C:\\Users\\WorkStation\\Documents\\rl_main_loop_create_env\\hetgraph_gt_encoder\\ep_data\\CreateLevelPush-v0\\true\\4-f37eb877-b166-4051-b3af-068130e1e141-727.pickle\n"
     ]
    },
    {
     "name": "stderr",
     "output_type": "stream",
     "text": [
      "C:\\Users\\WorkStation\\Documents\\rl_main_loop_create_env\\hetgraph_gt_encoder\\models\\sc_encoder.py:30: UserWarning: Implicit dimension choice for softmax has been deprecated. Change the call to include dim=X as an argument.\n",
      "  beta = self.softmax(beta)\n",
      "C:\\Users\\WorkStation\\Documents\\rl_main_loop_create_env\\hetgraph_gt_encoder\\models\\mp_encoder.py:95: UserWarning: Implicit dimension choice for softmax has been deprecated. Change the call to include dim=X as an argument.\n",
      "  beta = self.softmax(beta)\n"
     ]
    },
    {
     "name": "stdout",
     "output_type": "stream",
     "text": [
      "C:\\Users\\WorkStation\\Documents\\rl_main_loop_create_env\\hetgraph_gt_encoder\\ep_data\\CreateLevelPush-v0\\true\\4-f37eb877-b166-4051-b3af-068130e1e141-1146.pickle\n",
      "C:\\Users\\WorkStation\\Documents\\rl_main_loop_create_env\\hetgraph_gt_encoder\\ep_data\\CreateLevelPush-v0\\true\\4-f37eb877-b166-4051-b3af-068130e1e141-1146.pickle\n",
      "C:\\Users\\WorkStation\\Documents\\rl_main_loop_create_env\\hetgraph_gt_encoder\\ep_data\\CreateLevelPush-v0\\true\\4-f37eb877-b166-4051-b3af-068130e1e141-1146.pickle\n",
      "C:\\Users\\WorkStation\\Documents\\rl_main_loop_create_env\\hetgraph_gt_encoder\\ep_data\\CreateLevelPush-v0\\true\\4-f37eb877-b166-4051-b3af-068130e1e141-1146.pickle\n",
      "C:\\Users\\WorkStation\\Documents\\rl_main_loop_create_env\\hetgraph_gt_encoder\\ep_data\\CreateLevelPush-v0\\true\\4-f37eb877-b166-4051-b3af-068130e1e141-1146.pickle\n"
     ]
    },
    {
     "name": "stderr",
     "output_type": "stream",
     "text": [
      "C:\\Users\\WorkStation\\Documents\\rl_main_loop_create_env\\hetgraph_gt_encoder\\models\\sc_encoder.py:30: UserWarning: Implicit dimension choice for softmax has been deprecated. Change the call to include dim=X as an argument.\n",
      "  beta = self.softmax(beta)\n",
      "C:\\Users\\WorkStation\\Documents\\rl_main_loop_create_env\\hetgraph_gt_encoder\\models\\mp_encoder.py:95: UserWarning: Implicit dimension choice for softmax has been deprecated. Change the call to include dim=X as an argument.\n",
      "  beta = self.softmax(beta)\n"
     ]
    },
    {
     "name": "stdout",
     "output_type": "stream",
     "text": [
      "C:\\Users\\WorkStation\\Documents\\rl_main_loop_create_env\\hetgraph_gt_encoder\\ep_data\\CreateLevelPush-v0\\true\\4-f37eb877-b166-4051-b3af-068130e1e141-371.pickle\n",
      "C:\\Users\\WorkStation\\Documents\\rl_main_loop_create_env\\hetgraph_gt_encoder\\ep_data\\CreateLevelPush-v0\\true\\4-f37eb877-b166-4051-b3af-068130e1e141-371.pickle\n",
      "C:\\Users\\WorkStation\\Documents\\rl_main_loop_create_env\\hetgraph_gt_encoder\\ep_data\\CreateLevelPush-v0\\true\\4-f37eb877-b166-4051-b3af-068130e1e141-371.pickle\n",
      "C:\\Users\\WorkStation\\Documents\\rl_main_loop_create_env\\hetgraph_gt_encoder\\ep_data\\CreateLevelPush-v0\\true\\4-f37eb877-b166-4051-b3af-068130e1e141-371.pickle\n",
      "C:\\Users\\WorkStation\\Documents\\rl_main_loop_create_env\\hetgraph_gt_encoder\\ep_data\\CreateLevelPush-v0\\true\\4-f37eb877-b166-4051-b3af-068130e1e141-371.pickle\n"
     ]
    },
    {
     "name": "stderr",
     "output_type": "stream",
     "text": [
      "C:\\Users\\WorkStation\\Documents\\rl_main_loop_create_env\\hetgraph_gt_encoder\\models\\sc_encoder.py:30: UserWarning: Implicit dimension choice for softmax has been deprecated. Change the call to include dim=X as an argument.\n",
      "  beta = self.softmax(beta)\n",
      "C:\\Users\\WorkStation\\Documents\\rl_main_loop_create_env\\hetgraph_gt_encoder\\models\\mp_encoder.py:95: UserWarning: Implicit dimension choice for softmax has been deprecated. Change the call to include dim=X as an argument.\n",
      "  beta = self.softmax(beta)\n"
     ]
    },
    {
     "name": "stdout",
     "output_type": "stream",
     "text": [
      "C:\\Users\\WorkStation\\Documents\\rl_main_loop_create_env\\hetgraph_gt_encoder\\ep_data\\CreateLevelPush-v0\\true\\4-f37eb877-b166-4051-b3af-068130e1e141-727.pickle\n",
      "C:\\Users\\WorkStation\\Documents\\rl_main_loop_create_env\\hetgraph_gt_encoder\\ep_data\\CreateLevelPush-v0\\true\\4-f37eb877-b166-4051-b3af-068130e1e141-727.pickle\n",
      "C:\\Users\\WorkStation\\Documents\\rl_main_loop_create_env\\hetgraph_gt_encoder\\ep_data\\CreateLevelPush-v0\\true\\4-f37eb877-b166-4051-b3af-068130e1e141-727.pickle\n",
      "C:\\Users\\WorkStation\\Documents\\rl_main_loop_create_env\\hetgraph_gt_encoder\\ep_data\\CreateLevelPush-v0\\true\\4-f37eb877-b166-4051-b3af-068130e1e141-727.pickle\n",
      "C:\\Users\\WorkStation\\Documents\\rl_main_loop_create_env\\hetgraph_gt_encoder\\ep_data\\CreateLevelPush-v0\\true\\4-f37eb877-b166-4051-b3af-068130e1e141-727.pickle\n"
     ]
    },
    {
     "name": "stderr",
     "output_type": "stream",
     "text": [
      "C:\\Users\\WorkStation\\Documents\\rl_main_loop_create_env\\hetgraph_gt_encoder\\models\\sc_encoder.py:30: UserWarning: Implicit dimension choice for softmax has been deprecated. Change the call to include dim=X as an argument.\n",
      "  beta = self.softmax(beta)\n",
      "C:\\Users\\WorkStation\\Documents\\rl_main_loop_create_env\\hetgraph_gt_encoder\\models\\mp_encoder.py:95: UserWarning: Implicit dimension choice for softmax has been deprecated. Change the call to include dim=X as an argument.\n",
      "  beta = self.softmax(beta)\n"
     ]
    },
    {
     "name": "stdout",
     "output_type": "stream",
     "text": [
      "C:\\Users\\WorkStation\\Documents\\rl_main_loop_create_env\\hetgraph_gt_encoder\\ep_data\\CreateLevelPush-v0\\true\\4-f37eb877-b166-4051-b3af-068130e1e141-0.pickle\n",
      "C:\\Users\\WorkStation\\Documents\\rl_main_loop_create_env\\hetgraph_gt_encoder\\ep_data\\CreateLevelPush-v0\\true\\4-f37eb877-b166-4051-b3af-068130e1e141-0.pickle\n",
      "C:\\Users\\WorkStation\\Documents\\rl_main_loop_create_env\\hetgraph_gt_encoder\\ep_data\\CreateLevelPush-v0\\true\\4-f37eb877-b166-4051-b3af-068130e1e141-0.pickle\n",
      "C:\\Users\\WorkStation\\Documents\\rl_main_loop_create_env\\hetgraph_gt_encoder\\ep_data\\CreateLevelPush-v0\\true\\4-f37eb877-b166-4051-b3af-068130e1e141-0.pickle\n",
      "C:\\Users\\WorkStation\\Documents\\rl_main_loop_create_env\\hetgraph_gt_encoder\\ep_data\\CreateLevelPush-v0\\true\\4-f37eb877-b166-4051-b3af-068130e1e141-0.pickle\n"
     ]
    },
    {
     "name": "stderr",
     "output_type": "stream",
     "text": [
      "C:\\Users\\WorkStation\\Documents\\rl_main_loop_create_env\\hetgraph_gt_encoder\\models\\sc_encoder.py:30: UserWarning: Implicit dimension choice for softmax has been deprecated. Change the call to include dim=X as an argument.\n",
      "  beta = self.softmax(beta)\n",
      "C:\\Users\\WorkStation\\Documents\\rl_main_loop_create_env\\hetgraph_gt_encoder\\models\\mp_encoder.py:95: UserWarning: Implicit dimension choice for softmax has been deprecated. Change the call to include dim=X as an argument.\n",
      "  beta = self.softmax(beta)\n"
     ]
    },
    {
     "name": "stdout",
     "output_type": "stream",
     "text": [
      "C:\\Users\\WorkStation\\Documents\\rl_main_loop_create_env\\hetgraph_gt_encoder\\ep_data\\CreateLevelPush-v0\\false\\4-f37eb877-b166-4051-b3af-068130e1e141-4716.pickle\n",
      "C:\\Users\\WorkStation\\Documents\\rl_main_loop_create_env\\hetgraph_gt_encoder\\ep_data\\CreateLevelPush-v0\\false\\4-f37eb877-b166-4051-b3af-068130e1e141-4716.pickle\n",
      "C:\\Users\\WorkStation\\Documents\\rl_main_loop_create_env\\hetgraph_gt_encoder\\ep_data\\CreateLevelPush-v0\\false\\4-f37eb877-b166-4051-b3af-068130e1e141-4716.pickle\n",
      "C:\\Users\\WorkStation\\Documents\\rl_main_loop_create_env\\hetgraph_gt_encoder\\ep_data\\CreateLevelPush-v0\\false\\4-f37eb877-b166-4051-b3af-068130e1e141-4716.pickle\n",
      "C:\\Users\\WorkStation\\Documents\\rl_main_loop_create_env\\hetgraph_gt_encoder\\ep_data\\CreateLevelPush-v0\\false\\4-f37eb877-b166-4051-b3af-068130e1e141-4716.pickle\n"
     ]
    },
    {
     "name": "stderr",
     "output_type": "stream",
     "text": [
      "C:\\Users\\WorkStation\\Documents\\rl_main_loop_create_env\\hetgraph_gt_encoder\\models\\sc_encoder.py:30: UserWarning: Implicit dimension choice for softmax has been deprecated. Change the call to include dim=X as an argument.\n",
      "  beta = self.softmax(beta)\n",
      "C:\\Users\\WorkStation\\Documents\\rl_main_loop_create_env\\hetgraph_gt_encoder\\models\\mp_encoder.py:95: UserWarning: Implicit dimension choice for softmax has been deprecated. Change the call to include dim=X as an argument.\n",
      "  beta = self.softmax(beta)\n"
     ]
    },
    {
     "name": "stdout",
     "output_type": "stream",
     "text": [
      "C:\\Users\\WorkStation\\Documents\\rl_main_loop_create_env\\hetgraph_gt_encoder\\ep_data\\CreateLevelPush-v0\\false\\4-f37eb877-b166-4051-b3af-068130e1e141-1893.pickle\n",
      "C:\\Users\\WorkStation\\Documents\\rl_main_loop_create_env\\hetgraph_gt_encoder\\ep_data\\CreateLevelPush-v0\\false\\4-f37eb877-b166-4051-b3af-068130e1e141-1893.pickle\n",
      "C:\\Users\\WorkStation\\Documents\\rl_main_loop_create_env\\hetgraph_gt_encoder\\ep_data\\CreateLevelPush-v0\\false\\4-f37eb877-b166-4051-b3af-068130e1e141-1893.pickle\n",
      "C:\\Users\\WorkStation\\Documents\\rl_main_loop_create_env\\hetgraph_gt_encoder\\ep_data\\CreateLevelPush-v0\\false\\4-f37eb877-b166-4051-b3af-068130e1e141-1893.pickle\n",
      "C:\\Users\\WorkStation\\Documents\\rl_main_loop_create_env\\hetgraph_gt_encoder\\ep_data\\CreateLevelPush-v0\\false\\4-f37eb877-b166-4051-b3af-068130e1e141-1893.pickle\n"
     ]
    },
    {
     "name": "stderr",
     "output_type": "stream",
     "text": [
      "C:\\Users\\WorkStation\\Documents\\rl_main_loop_create_env\\hetgraph_gt_encoder\\models\\sc_encoder.py:30: UserWarning: Implicit dimension choice for softmax has been deprecated. Change the call to include dim=X as an argument.\n",
      "  beta = self.softmax(beta)\n",
      "C:\\Users\\WorkStation\\Documents\\rl_main_loop_create_env\\hetgraph_gt_encoder\\models\\mp_encoder.py:95: UserWarning: Implicit dimension choice for softmax has been deprecated. Change the call to include dim=X as an argument.\n",
      "  beta = self.softmax(beta)\n"
     ]
    },
    {
     "name": "stdout",
     "output_type": "stream",
     "text": [
      "C:\\Users\\WorkStation\\Documents\\rl_main_loop_create_env\\hetgraph_gt_encoder\\ep_data\\CreateLevelPush-v0\\false\\4-f37eb877-b166-4051-b3af-068130e1e141-3723.pickle\n",
      "C:\\Users\\WorkStation\\Documents\\rl_main_loop_create_env\\hetgraph_gt_encoder\\ep_data\\CreateLevelPush-v0\\false\\4-f37eb877-b166-4051-b3af-068130e1e141-3723.pickle\n",
      "C:\\Users\\WorkStation\\Documents\\rl_main_loop_create_env\\hetgraph_gt_encoder\\ep_data\\CreateLevelPush-v0\\false\\4-f37eb877-b166-4051-b3af-068130e1e141-3723.pickle\n",
      "C:\\Users\\WorkStation\\Documents\\rl_main_loop_create_env\\hetgraph_gt_encoder\\ep_data\\CreateLevelPush-v0\\false\\4-f37eb877-b166-4051-b3af-068130e1e141-3723.pickle\n",
      "C:\\Users\\WorkStation\\Documents\\rl_main_loop_create_env\\hetgraph_gt_encoder\\ep_data\\CreateLevelPush-v0\\false\\4-f37eb877-b166-4051-b3af-068130e1e141-3723.pickle\n"
     ]
    },
    {
     "name": "stderr",
     "output_type": "stream",
     "text": [
      "C:\\Users\\WorkStation\\Documents\\rl_main_loop_create_env\\hetgraph_gt_encoder\\models\\sc_encoder.py:30: UserWarning: Implicit dimension choice for softmax has been deprecated. Change the call to include dim=X as an argument.\n",
      "  beta = self.softmax(beta)\n",
      "C:\\Users\\WorkStation\\Documents\\rl_main_loop_create_env\\hetgraph_gt_encoder\\models\\mp_encoder.py:95: UserWarning: Implicit dimension choice for softmax has been deprecated. Change the call to include dim=X as an argument.\n",
      "  beta = self.softmax(beta)\n"
     ]
    },
    {
     "name": "stdout",
     "output_type": "stream",
     "text": [
      "C:\\Users\\WorkStation\\Documents\\rl_main_loop_create_env\\hetgraph_gt_encoder\\ep_data\\CreateLevelPush-v0\\false\\4-f37eb877-b166-4051-b3af-068130e1e141-1387.pickle\n",
      "C:\\Users\\WorkStation\\Documents\\rl_main_loop_create_env\\hetgraph_gt_encoder\\ep_data\\CreateLevelPush-v0\\false\\4-f37eb877-b166-4051-b3af-068130e1e141-1387.pickle\n",
      "C:\\Users\\WorkStation\\Documents\\rl_main_loop_create_env\\hetgraph_gt_encoder\\ep_data\\CreateLevelPush-v0\\false\\4-f37eb877-b166-4051-b3af-068130e1e141-1387.pickle\n",
      "C:\\Users\\WorkStation\\Documents\\rl_main_loop_create_env\\hetgraph_gt_encoder\\ep_data\\CreateLevelPush-v0\\false\\4-f37eb877-b166-4051-b3af-068130e1e141-1387.pickle\n",
      "C:\\Users\\WorkStation\\Documents\\rl_main_loop_create_env\\hetgraph_gt_encoder\\ep_data\\CreateLevelPush-v0\\false\\4-f37eb877-b166-4051-b3af-068130e1e141-1387.pickle\n"
     ]
    },
    {
     "name": "stderr",
     "output_type": "stream",
     "text": [
      "C:\\Users\\WorkStation\\Documents\\rl_main_loop_create_env\\hetgraph_gt_encoder\\models\\sc_encoder.py:30: UserWarning: Implicit dimension choice for softmax has been deprecated. Change the call to include dim=X as an argument.\n",
      "  beta = self.softmax(beta)\n",
      "C:\\Users\\WorkStation\\Documents\\rl_main_loop_create_env\\hetgraph_gt_encoder\\models\\mp_encoder.py:95: UserWarning: Implicit dimension choice for softmax has been deprecated. Change the call to include dim=X as an argument.\n",
      "  beta = self.softmax(beta)\n"
     ]
    },
    {
     "name": "stdout",
     "output_type": "stream",
     "text": [
      "C:\\Users\\WorkStation\\Documents\\rl_main_loop_create_env\\hetgraph_gt_encoder\\ep_data\\CreateLevelPush-v0\\false\\4-f37eb877-b166-4051-b3af-068130e1e141-4812.pickle\n",
      "C:\\Users\\WorkStation\\Documents\\rl_main_loop_create_env\\hetgraph_gt_encoder\\ep_data\\CreateLevelPush-v0\\false\\4-f37eb877-b166-4051-b3af-068130e1e141-4812.pickle\n",
      "C:\\Users\\WorkStation\\Documents\\rl_main_loop_create_env\\hetgraph_gt_encoder\\ep_data\\CreateLevelPush-v0\\false\\4-f37eb877-b166-4051-b3af-068130e1e141-4812.pickle\n",
      "C:\\Users\\WorkStation\\Documents\\rl_main_loop_create_env\\hetgraph_gt_encoder\\ep_data\\CreateLevelPush-v0\\false\\4-f37eb877-b166-4051-b3af-068130e1e141-4812.pickle\n",
      "C:\\Users\\WorkStation\\Documents\\rl_main_loop_create_env\\hetgraph_gt_encoder\\ep_data\\CreateLevelPush-v0\\false\\4-f37eb877-b166-4051-b3af-068130e1e141-4812.pickle\n"
     ]
    },
    {
     "name": "stderr",
     "output_type": "stream",
     "text": [
      "C:\\Users\\WorkStation\\Documents\\rl_main_loop_create_env\\hetgraph_gt_encoder\\models\\sc_encoder.py:30: UserWarning: Implicit dimension choice for softmax has been deprecated. Change the call to include dim=X as an argument.\n",
      "  beta = self.softmax(beta)\n",
      "C:\\Users\\WorkStation\\Documents\\rl_main_loop_create_env\\hetgraph_gt_encoder\\models\\mp_encoder.py:95: UserWarning: Implicit dimension choice for softmax has been deprecated. Change the call to include dim=X as an argument.\n",
      "  beta = self.softmax(beta)\n"
     ]
    },
    {
     "name": "stdout",
     "output_type": "stream",
     "text": [
      "C:\\Users\\WorkStation\\Documents\\rl_main_loop_create_env\\hetgraph_gt_encoder\\ep_data\\CreateLevelBuckets-v0\\true\\4-f37eb877-b166-4051-b3af-068130e1e141-7604.pickle\n",
      "C:\\Users\\WorkStation\\Documents\\rl_main_loop_create_env\\hetgraph_gt_encoder\\ep_data\\CreateLevelBuckets-v0\\true\\4-f37eb877-b166-4051-b3af-068130e1e141-7604.pickle\n",
      "C:\\Users\\WorkStation\\Documents\\rl_main_loop_create_env\\hetgraph_gt_encoder\\ep_data\\CreateLevelBuckets-v0\\true\\4-f37eb877-b166-4051-b3af-068130e1e141-7604.pickle\n",
      "C:\\Users\\WorkStation\\Documents\\rl_main_loop_create_env\\hetgraph_gt_encoder\\ep_data\\CreateLevelBuckets-v0\\true\\4-f37eb877-b166-4051-b3af-068130e1e141-7604.pickle\n",
      "C:\\Users\\WorkStation\\Documents\\rl_main_loop_create_env\\hetgraph_gt_encoder\\ep_data\\CreateLevelBuckets-v0\\true\\4-f37eb877-b166-4051-b3af-068130e1e141-7604.pickle\n"
     ]
    },
    {
     "name": "stderr",
     "output_type": "stream",
     "text": [
      "C:\\Users\\WorkStation\\Documents\\rl_main_loop_create_env\\hetgraph_gt_encoder\\models\\sc_encoder.py:30: UserWarning: Implicit dimension choice for softmax has been deprecated. Change the call to include dim=X as an argument.\n",
      "  beta = self.softmax(beta)\n",
      "C:\\Users\\WorkStation\\Documents\\rl_main_loop_create_env\\hetgraph_gt_encoder\\models\\mp_encoder.py:95: UserWarning: Implicit dimension choice for softmax has been deprecated. Change the call to include dim=X as an argument.\n",
      "  beta = self.softmax(beta)\n"
     ]
    },
    {
     "name": "stdout",
     "output_type": "stream",
     "text": [
      "C:\\Users\\WorkStation\\Documents\\rl_main_loop_create_env\\hetgraph_gt_encoder\\ep_data\\CreateLevelBuckets-v0\\true\\4-f37eb877-b166-4051-b3af-068130e1e141-8272.pickle\n",
      "C:\\Users\\WorkStation\\Documents\\rl_main_loop_create_env\\hetgraph_gt_encoder\\ep_data\\CreateLevelBuckets-v0\\true\\4-f37eb877-b166-4051-b3af-068130e1e141-8272.pickle\n",
      "C:\\Users\\WorkStation\\Documents\\rl_main_loop_create_env\\hetgraph_gt_encoder\\ep_data\\CreateLevelBuckets-v0\\true\\4-f37eb877-b166-4051-b3af-068130e1e141-8272.pickle\n",
      "C:\\Users\\WorkStation\\Documents\\rl_main_loop_create_env\\hetgraph_gt_encoder\\ep_data\\CreateLevelBuckets-v0\\true\\4-f37eb877-b166-4051-b3af-068130e1e141-8272.pickle\n",
      "C:\\Users\\WorkStation\\Documents\\rl_main_loop_create_env\\hetgraph_gt_encoder\\ep_data\\CreateLevelBuckets-v0\\true\\4-f37eb877-b166-4051-b3af-068130e1e141-8272.pickle\n"
     ]
    },
    {
     "name": "stderr",
     "output_type": "stream",
     "text": [
      "C:\\Users\\WorkStation\\Documents\\rl_main_loop_create_env\\hetgraph_gt_encoder\\models\\sc_encoder.py:30: UserWarning: Implicit dimension choice for softmax has been deprecated. Change the call to include dim=X as an argument.\n",
      "  beta = self.softmax(beta)\n",
      "C:\\Users\\WorkStation\\Documents\\rl_main_loop_create_env\\hetgraph_gt_encoder\\models\\mp_encoder.py:95: UserWarning: Implicit dimension choice for softmax has been deprecated. Change the call to include dim=X as an argument.\n",
      "  beta = self.softmax(beta)\n"
     ]
    },
    {
     "name": "stdout",
     "output_type": "stream",
     "text": [
      "C:\\Users\\WorkStation\\Documents\\rl_main_loop_create_env\\hetgraph_gt_encoder\\ep_data\\CreateLevelBuckets-v0\\true\\4-f37eb877-b166-4051-b3af-068130e1e141-7527.pickle\n",
      "C:\\Users\\WorkStation\\Documents\\rl_main_loop_create_env\\hetgraph_gt_encoder\\ep_data\\CreateLevelBuckets-v0\\true\\4-f37eb877-b166-4051-b3af-068130e1e141-7527.pickle\n",
      "C:\\Users\\WorkStation\\Documents\\rl_main_loop_create_env\\hetgraph_gt_encoder\\ep_data\\CreateLevelBuckets-v0\\true\\4-f37eb877-b166-4051-b3af-068130e1e141-7527.pickle\n",
      "C:\\Users\\WorkStation\\Documents\\rl_main_loop_create_env\\hetgraph_gt_encoder\\ep_data\\CreateLevelBuckets-v0\\true\\4-f37eb877-b166-4051-b3af-068130e1e141-7527.pickle\n",
      "C:\\Users\\WorkStation\\Documents\\rl_main_loop_create_env\\hetgraph_gt_encoder\\ep_data\\CreateLevelBuckets-v0\\true\\4-f37eb877-b166-4051-b3af-068130e1e141-7527.pickle\n"
     ]
    },
    {
     "name": "stderr",
     "output_type": "stream",
     "text": [
      "C:\\Users\\WorkStation\\Documents\\rl_main_loop_create_env\\hetgraph_gt_encoder\\models\\sc_encoder.py:30: UserWarning: Implicit dimension choice for softmax has been deprecated. Change the call to include dim=X as an argument.\n",
      "  beta = self.softmax(beta)\n",
      "C:\\Users\\WorkStation\\Documents\\rl_main_loop_create_env\\hetgraph_gt_encoder\\models\\mp_encoder.py:95: UserWarning: Implicit dimension choice for softmax has been deprecated. Change the call to include dim=X as an argument.\n",
      "  beta = self.softmax(beta)\n"
     ]
    },
    {
     "name": "stdout",
     "output_type": "stream",
     "text": [
      "C:\\Users\\WorkStation\\Documents\\rl_main_loop_create_env\\hetgraph_gt_encoder\\ep_data\\CreateLevelBuckets-v0\\true\\4-f37eb877-b166-4051-b3af-068130e1e141-7604.pickle\n",
      "C:\\Users\\WorkStation\\Documents\\rl_main_loop_create_env\\hetgraph_gt_encoder\\ep_data\\CreateLevelBuckets-v0\\true\\4-f37eb877-b166-4051-b3af-068130e1e141-7604.pickle\n",
      "C:\\Users\\WorkStation\\Documents\\rl_main_loop_create_env\\hetgraph_gt_encoder\\ep_data\\CreateLevelBuckets-v0\\true\\4-f37eb877-b166-4051-b3af-068130e1e141-7604.pickle\n",
      "C:\\Users\\WorkStation\\Documents\\rl_main_loop_create_env\\hetgraph_gt_encoder\\ep_data\\CreateLevelBuckets-v0\\true\\4-f37eb877-b166-4051-b3af-068130e1e141-7604.pickle\n",
      "C:\\Users\\WorkStation\\Documents\\rl_main_loop_create_env\\hetgraph_gt_encoder\\ep_data\\CreateLevelBuckets-v0\\true\\4-f37eb877-b166-4051-b3af-068130e1e141-7604.pickle\n"
     ]
    },
    {
     "name": "stderr",
     "output_type": "stream",
     "text": [
      "C:\\Users\\WorkStation\\Documents\\rl_main_loop_create_env\\hetgraph_gt_encoder\\models\\sc_encoder.py:30: UserWarning: Implicit dimension choice for softmax has been deprecated. Change the call to include dim=X as an argument.\n",
      "  beta = self.softmax(beta)\n",
      "C:\\Users\\WorkStation\\Documents\\rl_main_loop_create_env\\hetgraph_gt_encoder\\models\\mp_encoder.py:95: UserWarning: Implicit dimension choice for softmax has been deprecated. Change the call to include dim=X as an argument.\n",
      "  beta = self.softmax(beta)\n"
     ]
    },
    {
     "name": "stdout",
     "output_type": "stream",
     "text": [
      "C:\\Users\\WorkStation\\Documents\\rl_main_loop_create_env\\hetgraph_gt_encoder\\ep_data\\CreateLevelBuckets-v0\\true\\4-f37eb877-b166-4051-b3af-068130e1e141-8125.pickle\n",
      "C:\\Users\\WorkStation\\Documents\\rl_main_loop_create_env\\hetgraph_gt_encoder\\ep_data\\CreateLevelBuckets-v0\\true\\4-f37eb877-b166-4051-b3af-068130e1e141-8125.pickle\n",
      "C:\\Users\\WorkStation\\Documents\\rl_main_loop_create_env\\hetgraph_gt_encoder\\ep_data\\CreateLevelBuckets-v0\\true\\4-f37eb877-b166-4051-b3af-068130e1e141-8125.pickle\n",
      "C:\\Users\\WorkStation\\Documents\\rl_main_loop_create_env\\hetgraph_gt_encoder\\ep_data\\CreateLevelBuckets-v0\\true\\4-f37eb877-b166-4051-b3af-068130e1e141-8125.pickle\n",
      "C:\\Users\\WorkStation\\Documents\\rl_main_loop_create_env\\hetgraph_gt_encoder\\ep_data\\CreateLevelBuckets-v0\\true\\4-f37eb877-b166-4051-b3af-068130e1e141-8125.pickle\n"
     ]
    },
    {
     "name": "stderr",
     "output_type": "stream",
     "text": [
      "C:\\Users\\WorkStation\\Documents\\rl_main_loop_create_env\\hetgraph_gt_encoder\\models\\sc_encoder.py:30: UserWarning: Implicit dimension choice for softmax has been deprecated. Change the call to include dim=X as an argument.\n",
      "  beta = self.softmax(beta)\n",
      "C:\\Users\\WorkStation\\Documents\\rl_main_loop_create_env\\hetgraph_gt_encoder\\models\\mp_encoder.py:95: UserWarning: Implicit dimension choice for softmax has been deprecated. Change the call to include dim=X as an argument.\n",
      "  beta = self.softmax(beta)\n"
     ]
    },
    {
     "name": "stdout",
     "output_type": "stream",
     "text": [
      "C:\\Users\\WorkStation\\Documents\\rl_main_loop_create_env\\hetgraph_gt_encoder\\ep_data\\CreateLevelBuckets-v0\\false\\4-f37eb877-b166-4051-b3af-068130e1e141-19394.pickle\n",
      "C:\\Users\\WorkStation\\Documents\\rl_main_loop_create_env\\hetgraph_gt_encoder\\ep_data\\CreateLevelBuckets-v0\\false\\4-f37eb877-b166-4051-b3af-068130e1e141-19394.pickle\n",
      "C:\\Users\\WorkStation\\Documents\\rl_main_loop_create_env\\hetgraph_gt_encoder\\ep_data\\CreateLevelBuckets-v0\\false\\4-f37eb877-b166-4051-b3af-068130e1e141-19394.pickle\n",
      "C:\\Users\\WorkStation\\Documents\\rl_main_loop_create_env\\hetgraph_gt_encoder\\ep_data\\CreateLevelBuckets-v0\\false\\4-f37eb877-b166-4051-b3af-068130e1e141-19394.pickle\n",
      "C:\\Users\\WorkStation\\Documents\\rl_main_loop_create_env\\hetgraph_gt_encoder\\ep_data\\CreateLevelBuckets-v0\\false\\4-f37eb877-b166-4051-b3af-068130e1e141-19394.pickle\n"
     ]
    },
    {
     "name": "stderr",
     "output_type": "stream",
     "text": [
      "C:\\Users\\WorkStation\\Documents\\rl_main_loop_create_env\\hetgraph_gt_encoder\\models\\sc_encoder.py:30: UserWarning: Implicit dimension choice for softmax has been deprecated. Change the call to include dim=X as an argument.\n",
      "  beta = self.softmax(beta)\n",
      "C:\\Users\\WorkStation\\Documents\\rl_main_loop_create_env\\hetgraph_gt_encoder\\models\\mp_encoder.py:95: UserWarning: Implicit dimension choice for softmax has been deprecated. Change the call to include dim=X as an argument.\n",
      "  beta = self.softmax(beta)\n"
     ]
    },
    {
     "name": "stdout",
     "output_type": "stream",
     "text": [
      "C:\\Users\\WorkStation\\Documents\\rl_main_loop_create_env\\hetgraph_gt_encoder\\ep_data\\CreateLevelBuckets-v0\\false\\4-f37eb877-b166-4051-b3af-068130e1e141-19167.pickle\n",
      "C:\\Users\\WorkStation\\Documents\\rl_main_loop_create_env\\hetgraph_gt_encoder\\ep_data\\CreateLevelBuckets-v0\\false\\4-f37eb877-b166-4051-b3af-068130e1e141-19167.pickle\n",
      "C:\\Users\\WorkStation\\Documents\\rl_main_loop_create_env\\hetgraph_gt_encoder\\ep_data\\CreateLevelBuckets-v0\\false\\4-f37eb877-b166-4051-b3af-068130e1e141-19167.pickle\n",
      "C:\\Users\\WorkStation\\Documents\\rl_main_loop_create_env\\hetgraph_gt_encoder\\ep_data\\CreateLevelBuckets-v0\\false\\4-f37eb877-b166-4051-b3af-068130e1e141-19167.pickle\n",
      "C:\\Users\\WorkStation\\Documents\\rl_main_loop_create_env\\hetgraph_gt_encoder\\ep_data\\CreateLevelBuckets-v0\\false\\4-f37eb877-b166-4051-b3af-068130e1e141-19167.pickle\n"
     ]
    },
    {
     "name": "stderr",
     "output_type": "stream",
     "text": [
      "C:\\Users\\WorkStation\\Documents\\rl_main_loop_create_env\\hetgraph_gt_encoder\\models\\sc_encoder.py:30: UserWarning: Implicit dimension choice for softmax has been deprecated. Change the call to include dim=X as an argument.\n",
      "  beta = self.softmax(beta)\n",
      "C:\\Users\\WorkStation\\Documents\\rl_main_loop_create_env\\hetgraph_gt_encoder\\models\\mp_encoder.py:95: UserWarning: Implicit dimension choice for softmax has been deprecated. Change the call to include dim=X as an argument.\n",
      "  beta = self.softmax(beta)\n"
     ]
    },
    {
     "name": "stdout",
     "output_type": "stream",
     "text": [
      "C:\\Users\\WorkStation\\Documents\\rl_main_loop_create_env\\hetgraph_gt_encoder\\ep_data\\CreateLevelBuckets-v0\\false\\4-f37eb877-b166-4051-b3af-068130e1e141-19573.pickle\n",
      "C:\\Users\\WorkStation\\Documents\\rl_main_loop_create_env\\hetgraph_gt_encoder\\ep_data\\CreateLevelBuckets-v0\\false\\4-f37eb877-b166-4051-b3af-068130e1e141-19573.pickle\n",
      "C:\\Users\\WorkStation\\Documents\\rl_main_loop_create_env\\hetgraph_gt_encoder\\ep_data\\CreateLevelBuckets-v0\\false\\4-f37eb877-b166-4051-b3af-068130e1e141-19573.pickle\n",
      "C:\\Users\\WorkStation\\Documents\\rl_main_loop_create_env\\hetgraph_gt_encoder\\ep_data\\CreateLevelBuckets-v0\\false\\4-f37eb877-b166-4051-b3af-068130e1e141-19573.pickle\n",
      "C:\\Users\\WorkStation\\Documents\\rl_main_loop_create_env\\hetgraph_gt_encoder\\ep_data\\CreateLevelBuckets-v0\\false\\4-f37eb877-b166-4051-b3af-068130e1e141-19573.pickle\n"
     ]
    },
    {
     "name": "stderr",
     "output_type": "stream",
     "text": [
      "C:\\Users\\WorkStation\\Documents\\rl_main_loop_create_env\\hetgraph_gt_encoder\\models\\sc_encoder.py:30: UserWarning: Implicit dimension choice for softmax has been deprecated. Change the call to include dim=X as an argument.\n",
      "  beta = self.softmax(beta)\n",
      "C:\\Users\\WorkStation\\Documents\\rl_main_loop_create_env\\hetgraph_gt_encoder\\models\\mp_encoder.py:95: UserWarning: Implicit dimension choice for softmax has been deprecated. Change the call to include dim=X as an argument.\n",
      "  beta = self.softmax(beta)\n"
     ]
    },
    {
     "name": "stdout",
     "output_type": "stream",
     "text": [
      "C:\\Users\\WorkStation\\Documents\\rl_main_loop_create_env\\hetgraph_gt_encoder\\ep_data\\CreateLevelBuckets-v0\\false\\4-f37eb877-b166-4051-b3af-068130e1e141-19820.pickle\n",
      "C:\\Users\\WorkStation\\Documents\\rl_main_loop_create_env\\hetgraph_gt_encoder\\ep_data\\CreateLevelBuckets-v0\\false\\4-f37eb877-b166-4051-b3af-068130e1e141-19820.pickle\n",
      "C:\\Users\\WorkStation\\Documents\\rl_main_loop_create_env\\hetgraph_gt_encoder\\ep_data\\CreateLevelBuckets-v0\\false\\4-f37eb877-b166-4051-b3af-068130e1e141-19820.pickle\n",
      "C:\\Users\\WorkStation\\Documents\\rl_main_loop_create_env\\hetgraph_gt_encoder\\ep_data\\CreateLevelBuckets-v0\\false\\4-f37eb877-b166-4051-b3af-068130e1e141-19820.pickle\n",
      "C:\\Users\\WorkStation\\Documents\\rl_main_loop_create_env\\hetgraph_gt_encoder\\ep_data\\CreateLevelBuckets-v0\\false\\4-f37eb877-b166-4051-b3af-068130e1e141-19820.pickle\n"
     ]
    },
    {
     "name": "stderr",
     "output_type": "stream",
     "text": [
      "C:\\Users\\WorkStation\\Documents\\rl_main_loop_create_env\\hetgraph_gt_encoder\\models\\sc_encoder.py:30: UserWarning: Implicit dimension choice for softmax has been deprecated. Change the call to include dim=X as an argument.\n",
      "  beta = self.softmax(beta)\n",
      "C:\\Users\\WorkStation\\Documents\\rl_main_loop_create_env\\hetgraph_gt_encoder\\models\\mp_encoder.py:95: UserWarning: Implicit dimension choice for softmax has been deprecated. Change the call to include dim=X as an argument.\n",
      "  beta = self.softmax(beta)\n"
     ]
    },
    {
     "name": "stdout",
     "output_type": "stream",
     "text": [
      "C:\\Users\\WorkStation\\Documents\\rl_main_loop_create_env\\hetgraph_gt_encoder\\ep_data\\CreateLevelBuckets-v0\\false\\4-f37eb877-b166-4051-b3af-068130e1e141-19337.pickle\n",
      "C:\\Users\\WorkStation\\Documents\\rl_main_loop_create_env\\hetgraph_gt_encoder\\ep_data\\CreateLevelBuckets-v0\\false\\4-f37eb877-b166-4051-b3af-068130e1e141-19337.pickle\n",
      "C:\\Users\\WorkStation\\Documents\\rl_main_loop_create_env\\hetgraph_gt_encoder\\ep_data\\CreateLevelBuckets-v0\\false\\4-f37eb877-b166-4051-b3af-068130e1e141-19337.pickle\n",
      "C:\\Users\\WorkStation\\Documents\\rl_main_loop_create_env\\hetgraph_gt_encoder\\ep_data\\CreateLevelBuckets-v0\\false\\4-f37eb877-b166-4051-b3af-068130e1e141-19337.pickle\n",
      "C:\\Users\\WorkStation\\Documents\\rl_main_loop_create_env\\hetgraph_gt_encoder\\ep_data\\CreateLevelBuckets-v0\\false\\4-f37eb877-b166-4051-b3af-068130e1e141-19337.pickle\n"
     ]
    },
    {
     "name": "stderr",
     "output_type": "stream",
     "text": [
      "C:\\Users\\WorkStation\\Documents\\rl_main_loop_create_env\\hetgraph_gt_encoder\\models\\sc_encoder.py:30: UserWarning: Implicit dimension choice for softmax has been deprecated. Change the call to include dim=X as an argument.\n",
      "  beta = self.softmax(beta)\n",
      "C:\\Users\\WorkStation\\Documents\\rl_main_loop_create_env\\hetgraph_gt_encoder\\models\\mp_encoder.py:95: UserWarning: Implicit dimension choice for softmax has been deprecated. Change the call to include dim=X as an argument.\n",
      "  beta = self.softmax(beta)\n"
     ]
    },
    {
     "name": "stdout",
     "output_type": "stream",
     "text": [
      "C:\\Users\\WorkStation\\Documents\\rl_main_loop_create_env\\hetgraph_gt_encoder\\ep_data\\CreateLevelBasket-v0\\true\\4-f37eb877-b166-4051-b3af-068130e1e141-18357.pickle\n",
      "C:\\Users\\WorkStation\\Documents\\rl_main_loop_create_env\\hetgraph_gt_encoder\\ep_data\\CreateLevelBasket-v0\\true\\4-f37eb877-b166-4051-b3af-068130e1e141-18357.pickle\n",
      "C:\\Users\\WorkStation\\Documents\\rl_main_loop_create_env\\hetgraph_gt_encoder\\ep_data\\CreateLevelBasket-v0\\true\\4-f37eb877-b166-4051-b3af-068130e1e141-18357.pickle\n",
      "C:\\Users\\WorkStation\\Documents\\rl_main_loop_create_env\\hetgraph_gt_encoder\\ep_data\\CreateLevelBasket-v0\\true\\4-f37eb877-b166-4051-b3af-068130e1e141-18357.pickle\n",
      "C:\\Users\\WorkStation\\Documents\\rl_main_loop_create_env\\hetgraph_gt_encoder\\ep_data\\CreateLevelBasket-v0\\true\\4-f37eb877-b166-4051-b3af-068130e1e141-18357.pickle\n"
     ]
    },
    {
     "name": "stderr",
     "output_type": "stream",
     "text": [
      "C:\\Users\\WorkStation\\Documents\\rl_main_loop_create_env\\hetgraph_gt_encoder\\models\\sc_encoder.py:30: UserWarning: Implicit dimension choice for softmax has been deprecated. Change the call to include dim=X as an argument.\n",
      "  beta = self.softmax(beta)\n",
      "C:\\Users\\WorkStation\\Documents\\rl_main_loop_create_env\\hetgraph_gt_encoder\\models\\mp_encoder.py:95: UserWarning: Implicit dimension choice for softmax has been deprecated. Change the call to include dim=X as an argument.\n",
      "  beta = self.softmax(beta)\n"
     ]
    },
    {
     "name": "stdout",
     "output_type": "stream",
     "text": [
      "C:\\Users\\WorkStation\\Documents\\rl_main_loop_create_env\\hetgraph_gt_encoder\\ep_data\\CreateLevelBasket-v0\\true\\4-f37eb877-b166-4051-b3af-068130e1e141-18357.pickle\n",
      "C:\\Users\\WorkStation\\Documents\\rl_main_loop_create_env\\hetgraph_gt_encoder\\ep_data\\CreateLevelBasket-v0\\true\\4-f37eb877-b166-4051-b3af-068130e1e141-18357.pickle\n",
      "C:\\Users\\WorkStation\\Documents\\rl_main_loop_create_env\\hetgraph_gt_encoder\\ep_data\\CreateLevelBasket-v0\\true\\4-f37eb877-b166-4051-b3af-068130e1e141-18357.pickle\n",
      "C:\\Users\\WorkStation\\Documents\\rl_main_loop_create_env\\hetgraph_gt_encoder\\ep_data\\CreateLevelBasket-v0\\true\\4-f37eb877-b166-4051-b3af-068130e1e141-18357.pickle\n",
      "C:\\Users\\WorkStation\\Documents\\rl_main_loop_create_env\\hetgraph_gt_encoder\\ep_data\\CreateLevelBasket-v0\\true\\4-f37eb877-b166-4051-b3af-068130e1e141-18357.pickle\n"
     ]
    },
    {
     "name": "stderr",
     "output_type": "stream",
     "text": [
      "C:\\Users\\WorkStation\\Documents\\rl_main_loop_create_env\\hetgraph_gt_encoder\\models\\sc_encoder.py:30: UserWarning: Implicit dimension choice for softmax has been deprecated. Change the call to include dim=X as an argument.\n",
      "  beta = self.softmax(beta)\n",
      "C:\\Users\\WorkStation\\Documents\\rl_main_loop_create_env\\hetgraph_gt_encoder\\models\\mp_encoder.py:95: UserWarning: Implicit dimension choice for softmax has been deprecated. Change the call to include dim=X as an argument.\n",
      "  beta = self.softmax(beta)\n"
     ]
    },
    {
     "name": "stdout",
     "output_type": "stream",
     "text": [
      "C:\\Users\\WorkStation\\Documents\\rl_main_loop_create_env\\hetgraph_gt_encoder\\ep_data\\CreateLevelBasket-v0\\true\\4-f37eb877-b166-4051-b3af-068130e1e141-18647.pickle\n",
      "C:\\Users\\WorkStation\\Documents\\rl_main_loop_create_env\\hetgraph_gt_encoder\\ep_data\\CreateLevelBasket-v0\\true\\4-f37eb877-b166-4051-b3af-068130e1e141-18647.pickle\n",
      "C:\\Users\\WorkStation\\Documents\\rl_main_loop_create_env\\hetgraph_gt_encoder\\ep_data\\CreateLevelBasket-v0\\true\\4-f37eb877-b166-4051-b3af-068130e1e141-18647.pickle\n",
      "C:\\Users\\WorkStation\\Documents\\rl_main_loop_create_env\\hetgraph_gt_encoder\\ep_data\\CreateLevelBasket-v0\\true\\4-f37eb877-b166-4051-b3af-068130e1e141-18647.pickle\n",
      "C:\\Users\\WorkStation\\Documents\\rl_main_loop_create_env\\hetgraph_gt_encoder\\ep_data\\CreateLevelBasket-v0\\true\\4-f37eb877-b166-4051-b3af-068130e1e141-18647.pickle\n"
     ]
    },
    {
     "name": "stderr",
     "output_type": "stream",
     "text": [
      "C:\\Users\\WorkStation\\Documents\\rl_main_loop_create_env\\hetgraph_gt_encoder\\models\\sc_encoder.py:30: UserWarning: Implicit dimension choice for softmax has been deprecated. Change the call to include dim=X as an argument.\n",
      "  beta = self.softmax(beta)\n",
      "C:\\Users\\WorkStation\\Documents\\rl_main_loop_create_env\\hetgraph_gt_encoder\\models\\mp_encoder.py:95: UserWarning: Implicit dimension choice for softmax has been deprecated. Change the call to include dim=X as an argument.\n",
      "  beta = self.softmax(beta)\n"
     ]
    },
    {
     "name": "stdout",
     "output_type": "stream",
     "text": [
      "C:\\Users\\WorkStation\\Documents\\rl_main_loop_create_env\\hetgraph_gt_encoder\\ep_data\\CreateLevelBasket-v0\\true\\4-f37eb877-b166-4051-b3af-068130e1e141-18455.pickle\n",
      "C:\\Users\\WorkStation\\Documents\\rl_main_loop_create_env\\hetgraph_gt_encoder\\ep_data\\CreateLevelBasket-v0\\true\\4-f37eb877-b166-4051-b3af-068130e1e141-18455.pickle\n",
      "C:\\Users\\WorkStation\\Documents\\rl_main_loop_create_env\\hetgraph_gt_encoder\\ep_data\\CreateLevelBasket-v0\\true\\4-f37eb877-b166-4051-b3af-068130e1e141-18455.pickle\n",
      "C:\\Users\\WorkStation\\Documents\\rl_main_loop_create_env\\hetgraph_gt_encoder\\ep_data\\CreateLevelBasket-v0\\true\\4-f37eb877-b166-4051-b3af-068130e1e141-18455.pickle\n",
      "C:\\Users\\WorkStation\\Documents\\rl_main_loop_create_env\\hetgraph_gt_encoder\\ep_data\\CreateLevelBasket-v0\\true\\4-f37eb877-b166-4051-b3af-068130e1e141-18455.pickle\n"
     ]
    },
    {
     "name": "stderr",
     "output_type": "stream",
     "text": [
      "C:\\Users\\WorkStation\\Documents\\rl_main_loop_create_env\\hetgraph_gt_encoder\\models\\sc_encoder.py:30: UserWarning: Implicit dimension choice for softmax has been deprecated. Change the call to include dim=X as an argument.\n",
      "  beta = self.softmax(beta)\n",
      "C:\\Users\\WorkStation\\Documents\\rl_main_loop_create_env\\hetgraph_gt_encoder\\models\\mp_encoder.py:95: UserWarning: Implicit dimension choice for softmax has been deprecated. Change the call to include dim=X as an argument.\n",
      "  beta = self.softmax(beta)\n"
     ]
    },
    {
     "name": "stdout",
     "output_type": "stream",
     "text": [
      "C:\\Users\\WorkStation\\Documents\\rl_main_loop_create_env\\hetgraph_gt_encoder\\ep_data\\CreateLevelBasket-v0\\true\\4-f37eb877-b166-4051-b3af-068130e1e141-18357.pickle\n",
      "C:\\Users\\WorkStation\\Documents\\rl_main_loop_create_env\\hetgraph_gt_encoder\\ep_data\\CreateLevelBasket-v0\\true\\4-f37eb877-b166-4051-b3af-068130e1e141-18357.pickle\n",
      "C:\\Users\\WorkStation\\Documents\\rl_main_loop_create_env\\hetgraph_gt_encoder\\ep_data\\CreateLevelBasket-v0\\true\\4-f37eb877-b166-4051-b3af-068130e1e141-18357.pickle\n",
      "C:\\Users\\WorkStation\\Documents\\rl_main_loop_create_env\\hetgraph_gt_encoder\\ep_data\\CreateLevelBasket-v0\\true\\4-f37eb877-b166-4051-b3af-068130e1e141-18357.pickle\n",
      "C:\\Users\\WorkStation\\Documents\\rl_main_loop_create_env\\hetgraph_gt_encoder\\ep_data\\CreateLevelBasket-v0\\true\\4-f37eb877-b166-4051-b3af-068130e1e141-18357.pickle\n"
     ]
    },
    {
     "name": "stderr",
     "output_type": "stream",
     "text": [
      "C:\\Users\\WorkStation\\Documents\\rl_main_loop_create_env\\hetgraph_gt_encoder\\models\\sc_encoder.py:30: UserWarning: Implicit dimension choice for softmax has been deprecated. Change the call to include dim=X as an argument.\n",
      "  beta = self.softmax(beta)\n",
      "C:\\Users\\WorkStation\\Documents\\rl_main_loop_create_env\\hetgraph_gt_encoder\\models\\mp_encoder.py:95: UserWarning: Implicit dimension choice for softmax has been deprecated. Change the call to include dim=X as an argument.\n",
      "  beta = self.softmax(beta)\n"
     ]
    },
    {
     "name": "stdout",
     "output_type": "stream",
     "text": [
      "C:\\Users\\WorkStation\\Documents\\rl_main_loop_create_env\\hetgraph_gt_encoder\\ep_data\\CreateLevelBasket-v0\\false\\4-f37eb877-b166-4051-b3af-068130e1e141-20623.pickle\n",
      "C:\\Users\\WorkStation\\Documents\\rl_main_loop_create_env\\hetgraph_gt_encoder\\ep_data\\CreateLevelBasket-v0\\false\\4-f37eb877-b166-4051-b3af-068130e1e141-20623.pickle\n",
      "C:\\Users\\WorkStation\\Documents\\rl_main_loop_create_env\\hetgraph_gt_encoder\\ep_data\\CreateLevelBasket-v0\\false\\4-f37eb877-b166-4051-b3af-068130e1e141-20623.pickle\n",
      "C:\\Users\\WorkStation\\Documents\\rl_main_loop_create_env\\hetgraph_gt_encoder\\ep_data\\CreateLevelBasket-v0\\false\\4-f37eb877-b166-4051-b3af-068130e1e141-20623.pickle\n",
      "C:\\Users\\WorkStation\\Documents\\rl_main_loop_create_env\\hetgraph_gt_encoder\\ep_data\\CreateLevelBasket-v0\\false\\4-f37eb877-b166-4051-b3af-068130e1e141-20623.pickle\n"
     ]
    },
    {
     "name": "stderr",
     "output_type": "stream",
     "text": [
      "C:\\Users\\WorkStation\\Documents\\rl_main_loop_create_env\\hetgraph_gt_encoder\\models\\sc_encoder.py:30: UserWarning: Implicit dimension choice for softmax has been deprecated. Change the call to include dim=X as an argument.\n",
      "  beta = self.softmax(beta)\n",
      "C:\\Users\\WorkStation\\Documents\\rl_main_loop_create_env\\hetgraph_gt_encoder\\models\\mp_encoder.py:95: UserWarning: Implicit dimension choice for softmax has been deprecated. Change the call to include dim=X as an argument.\n",
      "  beta = self.softmax(beta)\n"
     ]
    },
    {
     "name": "stdout",
     "output_type": "stream",
     "text": [
      "C:\\Users\\WorkStation\\Documents\\rl_main_loop_create_env\\hetgraph_gt_encoder\\ep_data\\CreateLevelBasket-v0\\false\\4-f37eb877-b166-4051-b3af-068130e1e141-20653.pickle\n",
      "C:\\Users\\WorkStation\\Documents\\rl_main_loop_create_env\\hetgraph_gt_encoder\\ep_data\\CreateLevelBasket-v0\\false\\4-f37eb877-b166-4051-b3af-068130e1e141-20653.pickle\n",
      "C:\\Users\\WorkStation\\Documents\\rl_main_loop_create_env\\hetgraph_gt_encoder\\ep_data\\CreateLevelBasket-v0\\false\\4-f37eb877-b166-4051-b3af-068130e1e141-20653.pickle\n",
      "C:\\Users\\WorkStation\\Documents\\rl_main_loop_create_env\\hetgraph_gt_encoder\\ep_data\\CreateLevelBasket-v0\\false\\4-f37eb877-b166-4051-b3af-068130e1e141-20653.pickle\n",
      "C:\\Users\\WorkStation\\Documents\\rl_main_loop_create_env\\hetgraph_gt_encoder\\ep_data\\CreateLevelBasket-v0\\false\\4-f37eb877-b166-4051-b3af-068130e1e141-20653.pickle\n"
     ]
    },
    {
     "name": "stderr",
     "output_type": "stream",
     "text": [
      "C:\\Users\\WorkStation\\Documents\\rl_main_loop_create_env\\hetgraph_gt_encoder\\models\\sc_encoder.py:30: UserWarning: Implicit dimension choice for softmax has been deprecated. Change the call to include dim=X as an argument.\n",
      "  beta = self.softmax(beta)\n",
      "C:\\Users\\WorkStation\\Documents\\rl_main_loop_create_env\\hetgraph_gt_encoder\\models\\mp_encoder.py:95: UserWarning: Implicit dimension choice for softmax has been deprecated. Change the call to include dim=X as an argument.\n",
      "  beta = self.softmax(beta)\n"
     ]
    },
    {
     "name": "stdout",
     "output_type": "stream",
     "text": [
      "C:\\Users\\WorkStation\\Documents\\rl_main_loop_create_env\\hetgraph_gt_encoder\\ep_data\\CreateLevelBasket-v0\\false\\4-f37eb877-b166-4051-b3af-068130e1e141-20258.pickle\n",
      "C:\\Users\\WorkStation\\Documents\\rl_main_loop_create_env\\hetgraph_gt_encoder\\ep_data\\CreateLevelBasket-v0\\false\\4-f37eb877-b166-4051-b3af-068130e1e141-20258.pickle\n",
      "C:\\Users\\WorkStation\\Documents\\rl_main_loop_create_env\\hetgraph_gt_encoder\\ep_data\\CreateLevelBasket-v0\\false\\4-f37eb877-b166-4051-b3af-068130e1e141-20258.pickle\n",
      "C:\\Users\\WorkStation\\Documents\\rl_main_loop_create_env\\hetgraph_gt_encoder\\ep_data\\CreateLevelBasket-v0\\false\\4-f37eb877-b166-4051-b3af-068130e1e141-20258.pickle\n",
      "C:\\Users\\WorkStation\\Documents\\rl_main_loop_create_env\\hetgraph_gt_encoder\\ep_data\\CreateLevelBasket-v0\\false\\4-f37eb877-b166-4051-b3af-068130e1e141-20258.pickle\n"
     ]
    },
    {
     "name": "stderr",
     "output_type": "stream",
     "text": [
      "C:\\Users\\WorkStation\\Documents\\rl_main_loop_create_env\\hetgraph_gt_encoder\\models\\sc_encoder.py:30: UserWarning: Implicit dimension choice for softmax has been deprecated. Change the call to include dim=X as an argument.\n",
      "  beta = self.softmax(beta)\n",
      "C:\\Users\\WorkStation\\Documents\\rl_main_loop_create_env\\hetgraph_gt_encoder\\models\\mp_encoder.py:95: UserWarning: Implicit dimension choice for softmax has been deprecated. Change the call to include dim=X as an argument.\n",
      "  beta = self.softmax(beta)\n"
     ]
    },
    {
     "name": "stdout",
     "output_type": "stream",
     "text": [
      "C:\\Users\\WorkStation\\Documents\\rl_main_loop_create_env\\hetgraph_gt_encoder\\ep_data\\CreateLevelBasket-v0\\false\\4-f37eb877-b166-4051-b3af-068130e1e141-20319.pickle\n",
      "C:\\Users\\WorkStation\\Documents\\rl_main_loop_create_env\\hetgraph_gt_encoder\\ep_data\\CreateLevelBasket-v0\\false\\4-f37eb877-b166-4051-b3af-068130e1e141-20319.pickle\n",
      "C:\\Users\\WorkStation\\Documents\\rl_main_loop_create_env\\hetgraph_gt_encoder\\ep_data\\CreateLevelBasket-v0\\false\\4-f37eb877-b166-4051-b3af-068130e1e141-20319.pickle\n",
      "C:\\Users\\WorkStation\\Documents\\rl_main_loop_create_env\\hetgraph_gt_encoder\\ep_data\\CreateLevelBasket-v0\\false\\4-f37eb877-b166-4051-b3af-068130e1e141-20319.pickle\n",
      "C:\\Users\\WorkStation\\Documents\\rl_main_loop_create_env\\hetgraph_gt_encoder\\ep_data\\CreateLevelBasket-v0\\false\\4-f37eb877-b166-4051-b3af-068130e1e141-20319.pickle\n"
     ]
    },
    {
     "name": "stderr",
     "output_type": "stream",
     "text": [
      "C:\\Users\\WorkStation\\Documents\\rl_main_loop_create_env\\hetgraph_gt_encoder\\models\\sc_encoder.py:30: UserWarning: Implicit dimension choice for softmax has been deprecated. Change the call to include dim=X as an argument.\n",
      "  beta = self.softmax(beta)\n",
      "C:\\Users\\WorkStation\\Documents\\rl_main_loop_create_env\\hetgraph_gt_encoder\\models\\mp_encoder.py:95: UserWarning: Implicit dimension choice for softmax has been deprecated. Change the call to include dim=X as an argument.\n",
      "  beta = self.softmax(beta)\n"
     ]
    },
    {
     "name": "stdout",
     "output_type": "stream",
     "text": [
      "C:\\Users\\WorkStation\\Documents\\rl_main_loop_create_env\\hetgraph_gt_encoder\\ep_data\\CreateLevelBasket-v0\\false\\4-f37eb877-b166-4051-b3af-068130e1e141-20450.pickle\n",
      "C:\\Users\\WorkStation\\Documents\\rl_main_loop_create_env\\hetgraph_gt_encoder\\ep_data\\CreateLevelBasket-v0\\false\\4-f37eb877-b166-4051-b3af-068130e1e141-20450.pickle\n",
      "C:\\Users\\WorkStation\\Documents\\rl_main_loop_create_env\\hetgraph_gt_encoder\\ep_data\\CreateLevelBasket-v0\\false\\4-f37eb877-b166-4051-b3af-068130e1e141-20450.pickle\n",
      "C:\\Users\\WorkStation\\Documents\\rl_main_loop_create_env\\hetgraph_gt_encoder\\ep_data\\CreateLevelBasket-v0\\false\\4-f37eb877-b166-4051-b3af-068130e1e141-20450.pickle\n",
      "C:\\Users\\WorkStation\\Documents\\rl_main_loop_create_env\\hetgraph_gt_encoder\\ep_data\\CreateLevelBasket-v0\\false\\4-f37eb877-b166-4051-b3af-068130e1e141-20450.pickle\n"
     ]
    },
    {
     "name": "stderr",
     "output_type": "stream",
     "text": [
      "C:\\Users\\WorkStation\\Documents\\rl_main_loop_create_env\\hetgraph_gt_encoder\\models\\sc_encoder.py:30: UserWarning: Implicit dimension choice for softmax has been deprecated. Change the call to include dim=X as an argument.\n",
      "  beta = self.softmax(beta)\n",
      "C:\\Users\\WorkStation\\Documents\\rl_main_loop_create_env\\hetgraph_gt_encoder\\models\\mp_encoder.py:95: UserWarning: Implicit dimension choice for softmax has been deprecated. Change the call to include dim=X as an argument.\n",
      "  beta = self.softmax(beta)\n"
     ]
    },
    {
     "name": "stdout",
     "output_type": "stream",
     "text": [
      "C:\\Users\\WorkStation\\Documents\\rl_main_loop_create_env\\hetgraph_gt_encoder\\ep_data\\CreateLevelBelt-v0\\true\\4-f37eb877-b166-4051-b3af-068130e1e141-18915.pickle\n",
      "C:\\Users\\WorkStation\\Documents\\rl_main_loop_create_env\\hetgraph_gt_encoder\\ep_data\\CreateLevelBelt-v0\\true\\4-f37eb877-b166-4051-b3af-068130e1e141-18915.pickle\n",
      "C:\\Users\\WorkStation\\Documents\\rl_main_loop_create_env\\hetgraph_gt_encoder\\ep_data\\CreateLevelBelt-v0\\true\\4-f37eb877-b166-4051-b3af-068130e1e141-18915.pickle\n",
      "C:\\Users\\WorkStation\\Documents\\rl_main_loop_create_env\\hetgraph_gt_encoder\\ep_data\\CreateLevelBelt-v0\\true\\4-f37eb877-b166-4051-b3af-068130e1e141-18915.pickle\n",
      "C:\\Users\\WorkStation\\Documents\\rl_main_loop_create_env\\hetgraph_gt_encoder\\ep_data\\CreateLevelBelt-v0\\true\\4-f37eb877-b166-4051-b3af-068130e1e141-18915.pickle\n"
     ]
    },
    {
     "name": "stderr",
     "output_type": "stream",
     "text": [
      "C:\\Users\\WorkStation\\Documents\\rl_main_loop_create_env\\hetgraph_gt_encoder\\models\\sc_encoder.py:30: UserWarning: Implicit dimension choice for softmax has been deprecated. Change the call to include dim=X as an argument.\n",
      "  beta = self.softmax(beta)\n",
      "C:\\Users\\WorkStation\\Documents\\rl_main_loop_create_env\\hetgraph_gt_encoder\\models\\mp_encoder.py:95: UserWarning: Implicit dimension choice for softmax has been deprecated. Change the call to include dim=X as an argument.\n",
      "  beta = self.softmax(beta)\n"
     ]
    },
    {
     "name": "stdout",
     "output_type": "stream",
     "text": [
      "C:\\Users\\WorkStation\\Documents\\rl_main_loop_create_env\\hetgraph_gt_encoder\\ep_data\\CreateLevelBelt-v0\\true\\4-f37eb877-b166-4051-b3af-068130e1e141-14303.pickle\n",
      "C:\\Users\\WorkStation\\Documents\\rl_main_loop_create_env\\hetgraph_gt_encoder\\ep_data\\CreateLevelBelt-v0\\true\\4-f37eb877-b166-4051-b3af-068130e1e141-14303.pickle\n",
      "C:\\Users\\WorkStation\\Documents\\rl_main_loop_create_env\\hetgraph_gt_encoder\\ep_data\\CreateLevelBelt-v0\\true\\4-f37eb877-b166-4051-b3af-068130e1e141-14303.pickle\n",
      "C:\\Users\\WorkStation\\Documents\\rl_main_loop_create_env\\hetgraph_gt_encoder\\ep_data\\CreateLevelBelt-v0\\true\\4-f37eb877-b166-4051-b3af-068130e1e141-14303.pickle\n",
      "C:\\Users\\WorkStation\\Documents\\rl_main_loop_create_env\\hetgraph_gt_encoder\\ep_data\\CreateLevelBelt-v0\\true\\4-f37eb877-b166-4051-b3af-068130e1e141-14303.pickle\n"
     ]
    },
    {
     "name": "stderr",
     "output_type": "stream",
     "text": [
      "C:\\Users\\WorkStation\\Documents\\rl_main_loop_create_env\\hetgraph_gt_encoder\\models\\sc_encoder.py:30: UserWarning: Implicit dimension choice for softmax has been deprecated. Change the call to include dim=X as an argument.\n",
      "  beta = self.softmax(beta)\n",
      "C:\\Users\\WorkStation\\Documents\\rl_main_loop_create_env\\hetgraph_gt_encoder\\models\\mp_encoder.py:95: UserWarning: Implicit dimension choice for softmax has been deprecated. Change the call to include dim=X as an argument.\n",
      "  beta = self.softmax(beta)\n"
     ]
    },
    {
     "name": "stdout",
     "output_type": "stream",
     "text": [
      "C:\\Users\\WorkStation\\Documents\\rl_main_loop_create_env\\hetgraph_gt_encoder\\ep_data\\CreateLevelBelt-v0\\true\\4-f37eb877-b166-4051-b3af-068130e1e141-12715.pickle\n",
      "C:\\Users\\WorkStation\\Documents\\rl_main_loop_create_env\\hetgraph_gt_encoder\\ep_data\\CreateLevelBelt-v0\\true\\4-f37eb877-b166-4051-b3af-068130e1e141-12715.pickle\n",
      "C:\\Users\\WorkStation\\Documents\\rl_main_loop_create_env\\hetgraph_gt_encoder\\ep_data\\CreateLevelBelt-v0\\true\\4-f37eb877-b166-4051-b3af-068130e1e141-12715.pickle\n",
      "C:\\Users\\WorkStation\\Documents\\rl_main_loop_create_env\\hetgraph_gt_encoder\\ep_data\\CreateLevelBelt-v0\\true\\4-f37eb877-b166-4051-b3af-068130e1e141-12715.pickle\n",
      "C:\\Users\\WorkStation\\Documents\\rl_main_loop_create_env\\hetgraph_gt_encoder\\ep_data\\CreateLevelBelt-v0\\true\\4-f37eb877-b166-4051-b3af-068130e1e141-12715.pickle\n"
     ]
    },
    {
     "name": "stderr",
     "output_type": "stream",
     "text": [
      "C:\\Users\\WorkStation\\Documents\\rl_main_loop_create_env\\hetgraph_gt_encoder\\models\\sc_encoder.py:30: UserWarning: Implicit dimension choice for softmax has been deprecated. Change the call to include dim=X as an argument.\n",
      "  beta = self.softmax(beta)\n",
      "C:\\Users\\WorkStation\\Documents\\rl_main_loop_create_env\\hetgraph_gt_encoder\\models\\mp_encoder.py:95: UserWarning: Implicit dimension choice for softmax has been deprecated. Change the call to include dim=X as an argument.\n",
      "  beta = self.softmax(beta)\n"
     ]
    },
    {
     "name": "stdout",
     "output_type": "stream",
     "text": [
      "C:\\Users\\WorkStation\\Documents\\rl_main_loop_create_env\\hetgraph_gt_encoder\\ep_data\\CreateLevelBelt-v0\\true\\4-f37eb877-b166-4051-b3af-068130e1e141-12715.pickle\n",
      "C:\\Users\\WorkStation\\Documents\\rl_main_loop_create_env\\hetgraph_gt_encoder\\ep_data\\CreateLevelBelt-v0\\true\\4-f37eb877-b166-4051-b3af-068130e1e141-12715.pickle\n",
      "C:\\Users\\WorkStation\\Documents\\rl_main_loop_create_env\\hetgraph_gt_encoder\\ep_data\\CreateLevelBelt-v0\\true\\4-f37eb877-b166-4051-b3af-068130e1e141-12715.pickle\n",
      "C:\\Users\\WorkStation\\Documents\\rl_main_loop_create_env\\hetgraph_gt_encoder\\ep_data\\CreateLevelBelt-v0\\true\\4-f37eb877-b166-4051-b3af-068130e1e141-12715.pickle\n",
      "C:\\Users\\WorkStation\\Documents\\rl_main_loop_create_env\\hetgraph_gt_encoder\\ep_data\\CreateLevelBelt-v0\\true\\4-f37eb877-b166-4051-b3af-068130e1e141-12715.pickle\n"
     ]
    },
    {
     "name": "stderr",
     "output_type": "stream",
     "text": [
      "C:\\Users\\WorkStation\\Documents\\rl_main_loop_create_env\\hetgraph_gt_encoder\\models\\sc_encoder.py:30: UserWarning: Implicit dimension choice for softmax has been deprecated. Change the call to include dim=X as an argument.\n",
      "  beta = self.softmax(beta)\n",
      "C:\\Users\\WorkStation\\Documents\\rl_main_loop_create_env\\hetgraph_gt_encoder\\models\\mp_encoder.py:95: UserWarning: Implicit dimension choice for softmax has been deprecated. Change the call to include dim=X as an argument.\n",
      "  beta = self.softmax(beta)\n"
     ]
    },
    {
     "name": "stdout",
     "output_type": "stream",
     "text": [
      "C:\\Users\\WorkStation\\Documents\\rl_main_loop_create_env\\hetgraph_gt_encoder\\ep_data\\CreateLevelBelt-v0\\true\\4-f37eb877-b166-4051-b3af-068130e1e141-13740.pickle\n",
      "C:\\Users\\WorkStation\\Documents\\rl_main_loop_create_env\\hetgraph_gt_encoder\\ep_data\\CreateLevelBelt-v0\\true\\4-f37eb877-b166-4051-b3af-068130e1e141-13740.pickle\n",
      "C:\\Users\\WorkStation\\Documents\\rl_main_loop_create_env\\hetgraph_gt_encoder\\ep_data\\CreateLevelBelt-v0\\true\\4-f37eb877-b166-4051-b3af-068130e1e141-13740.pickle\n",
      "C:\\Users\\WorkStation\\Documents\\rl_main_loop_create_env\\hetgraph_gt_encoder\\ep_data\\CreateLevelBelt-v0\\true\\4-f37eb877-b166-4051-b3af-068130e1e141-13740.pickle\n",
      "C:\\Users\\WorkStation\\Documents\\rl_main_loop_create_env\\hetgraph_gt_encoder\\ep_data\\CreateLevelBelt-v0\\true\\4-f37eb877-b166-4051-b3af-068130e1e141-13740.pickle\n"
     ]
    },
    {
     "name": "stderr",
     "output_type": "stream",
     "text": [
      "C:\\Users\\WorkStation\\Documents\\rl_main_loop_create_env\\hetgraph_gt_encoder\\models\\sc_encoder.py:30: UserWarning: Implicit dimension choice for softmax has been deprecated. Change the call to include dim=X as an argument.\n",
      "  beta = self.softmax(beta)\n",
      "C:\\Users\\WorkStation\\Documents\\rl_main_loop_create_env\\hetgraph_gt_encoder\\models\\mp_encoder.py:95: UserWarning: Implicit dimension choice for softmax has been deprecated. Change the call to include dim=X as an argument.\n",
      "  beta = self.softmax(beta)\n"
     ]
    },
    {
     "name": "stdout",
     "output_type": "stream",
     "text": [
      "C:\\Users\\WorkStation\\Documents\\rl_main_loop_create_env\\hetgraph_gt_encoder\\ep_data\\CreateLevelBelt-v0\\false\\4-f37eb877-b166-4051-b3af-068130e1e141-21516.pickle\n",
      "C:\\Users\\WorkStation\\Documents\\rl_main_loop_create_env\\hetgraph_gt_encoder\\ep_data\\CreateLevelBelt-v0\\false\\4-f37eb877-b166-4051-b3af-068130e1e141-21516.pickle\n",
      "C:\\Users\\WorkStation\\Documents\\rl_main_loop_create_env\\hetgraph_gt_encoder\\ep_data\\CreateLevelBelt-v0\\false\\4-f37eb877-b166-4051-b3af-068130e1e141-21516.pickle\n",
      "C:\\Users\\WorkStation\\Documents\\rl_main_loop_create_env\\hetgraph_gt_encoder\\ep_data\\CreateLevelBelt-v0\\false\\4-f37eb877-b166-4051-b3af-068130e1e141-21516.pickle\n",
      "C:\\Users\\WorkStation\\Documents\\rl_main_loop_create_env\\hetgraph_gt_encoder\\ep_data\\CreateLevelBelt-v0\\false\\4-f37eb877-b166-4051-b3af-068130e1e141-21516.pickle\n"
     ]
    },
    {
     "name": "stderr",
     "output_type": "stream",
     "text": [
      "C:\\Users\\WorkStation\\Documents\\rl_main_loop_create_env\\hetgraph_gt_encoder\\models\\sc_encoder.py:30: UserWarning: Implicit dimension choice for softmax has been deprecated. Change the call to include dim=X as an argument.\n",
      "  beta = self.softmax(beta)\n",
      "C:\\Users\\WorkStation\\Documents\\rl_main_loop_create_env\\hetgraph_gt_encoder\\models\\mp_encoder.py:95: UserWarning: Implicit dimension choice for softmax has been deprecated. Change the call to include dim=X as an argument.\n",
      "  beta = self.softmax(beta)\n"
     ]
    },
    {
     "name": "stdout",
     "output_type": "stream",
     "text": [
      "C:\\Users\\WorkStation\\Documents\\rl_main_loop_create_env\\hetgraph_gt_encoder\\ep_data\\CreateLevelBelt-v0\\false\\4-f37eb877-b166-4051-b3af-068130e1e141-21581.pickle\n",
      "C:\\Users\\WorkStation\\Documents\\rl_main_loop_create_env\\hetgraph_gt_encoder\\ep_data\\CreateLevelBelt-v0\\false\\4-f37eb877-b166-4051-b3af-068130e1e141-21581.pickle\n",
      "C:\\Users\\WorkStation\\Documents\\rl_main_loop_create_env\\hetgraph_gt_encoder\\ep_data\\CreateLevelBelt-v0\\false\\4-f37eb877-b166-4051-b3af-068130e1e141-21581.pickle\n",
      "C:\\Users\\WorkStation\\Documents\\rl_main_loop_create_env\\hetgraph_gt_encoder\\ep_data\\CreateLevelBelt-v0\\false\\4-f37eb877-b166-4051-b3af-068130e1e141-21581.pickle\n",
      "C:\\Users\\WorkStation\\Documents\\rl_main_loop_create_env\\hetgraph_gt_encoder\\ep_data\\CreateLevelBelt-v0\\false\\4-f37eb877-b166-4051-b3af-068130e1e141-21581.pickle\n"
     ]
    },
    {
     "name": "stderr",
     "output_type": "stream",
     "text": [
      "C:\\Users\\WorkStation\\Documents\\rl_main_loop_create_env\\hetgraph_gt_encoder\\models\\sc_encoder.py:30: UserWarning: Implicit dimension choice for softmax has been deprecated. Change the call to include dim=X as an argument.\n",
      "  beta = self.softmax(beta)\n",
      "C:\\Users\\WorkStation\\Documents\\rl_main_loop_create_env\\hetgraph_gt_encoder\\models\\mp_encoder.py:95: UserWarning: Implicit dimension choice for softmax has been deprecated. Change the call to include dim=X as an argument.\n",
      "  beta = self.softmax(beta)\n"
     ]
    },
    {
     "name": "stdout",
     "output_type": "stream",
     "text": [
      "C:\\Users\\WorkStation\\Documents\\rl_main_loop_create_env\\hetgraph_gt_encoder\\ep_data\\CreateLevelBelt-v0\\false\\4-f37eb877-b166-4051-b3af-068130e1e141-21190.pickle\n",
      "C:\\Users\\WorkStation\\Documents\\rl_main_loop_create_env\\hetgraph_gt_encoder\\ep_data\\CreateLevelBelt-v0\\false\\4-f37eb877-b166-4051-b3af-068130e1e141-21190.pickle\n",
      "C:\\Users\\WorkStation\\Documents\\rl_main_loop_create_env\\hetgraph_gt_encoder\\ep_data\\CreateLevelBelt-v0\\false\\4-f37eb877-b166-4051-b3af-068130e1e141-21190.pickle\n",
      "C:\\Users\\WorkStation\\Documents\\rl_main_loop_create_env\\hetgraph_gt_encoder\\ep_data\\CreateLevelBelt-v0\\false\\4-f37eb877-b166-4051-b3af-068130e1e141-21190.pickle\n",
      "C:\\Users\\WorkStation\\Documents\\rl_main_loop_create_env\\hetgraph_gt_encoder\\ep_data\\CreateLevelBelt-v0\\false\\4-f37eb877-b166-4051-b3af-068130e1e141-21190.pickle\n"
     ]
    },
    {
     "name": "stderr",
     "output_type": "stream",
     "text": [
      "C:\\Users\\WorkStation\\Documents\\rl_main_loop_create_env\\hetgraph_gt_encoder\\models\\sc_encoder.py:30: UserWarning: Implicit dimension choice for softmax has been deprecated. Change the call to include dim=X as an argument.\n",
      "  beta = self.softmax(beta)\n",
      "C:\\Users\\WorkStation\\Documents\\rl_main_loop_create_env\\hetgraph_gt_encoder\\models\\mp_encoder.py:95: UserWarning: Implicit dimension choice for softmax has been deprecated. Change the call to include dim=X as an argument.\n",
      "  beta = self.softmax(beta)\n"
     ]
    },
    {
     "name": "stdout",
     "output_type": "stream",
     "text": [
      "C:\\Users\\WorkStation\\Documents\\rl_main_loop_create_env\\hetgraph_gt_encoder\\ep_data\\CreateLevelBelt-v0\\false\\4-f37eb877-b166-4051-b3af-068130e1e141-21484.pickle\n",
      "C:\\Users\\WorkStation\\Documents\\rl_main_loop_create_env\\hetgraph_gt_encoder\\ep_data\\CreateLevelBelt-v0\\false\\4-f37eb877-b166-4051-b3af-068130e1e141-21484.pickle\n",
      "C:\\Users\\WorkStation\\Documents\\rl_main_loop_create_env\\hetgraph_gt_encoder\\ep_data\\CreateLevelBelt-v0\\false\\4-f37eb877-b166-4051-b3af-068130e1e141-21484.pickle\n",
      "C:\\Users\\WorkStation\\Documents\\rl_main_loop_create_env\\hetgraph_gt_encoder\\ep_data\\CreateLevelBelt-v0\\false\\4-f37eb877-b166-4051-b3af-068130e1e141-21484.pickle\n",
      "C:\\Users\\WorkStation\\Documents\\rl_main_loop_create_env\\hetgraph_gt_encoder\\ep_data\\CreateLevelBelt-v0\\false\\4-f37eb877-b166-4051-b3af-068130e1e141-21484.pickle\n"
     ]
    },
    {
     "name": "stderr",
     "output_type": "stream",
     "text": [
      "C:\\Users\\WorkStation\\Documents\\rl_main_loop_create_env\\hetgraph_gt_encoder\\models\\sc_encoder.py:30: UserWarning: Implicit dimension choice for softmax has been deprecated. Change the call to include dim=X as an argument.\n",
      "  beta = self.softmax(beta)\n",
      "C:\\Users\\WorkStation\\Documents\\rl_main_loop_create_env\\hetgraph_gt_encoder\\models\\mp_encoder.py:95: UserWarning: Implicit dimension choice for softmax has been deprecated. Change the call to include dim=X as an argument.\n",
      "  beta = self.softmax(beta)\n"
     ]
    },
    {
     "name": "stdout",
     "output_type": "stream",
     "text": [
      "C:\\Users\\WorkStation\\Documents\\rl_main_loop_create_env\\hetgraph_gt_encoder\\ep_data\\CreateLevelBelt-v0\\false\\4-f37eb877-b166-4051-b3af-068130e1e141-21310.pickle\n",
      "C:\\Users\\WorkStation\\Documents\\rl_main_loop_create_env\\hetgraph_gt_encoder\\ep_data\\CreateLevelBelt-v0\\false\\4-f37eb877-b166-4051-b3af-068130e1e141-21310.pickle\n",
      "C:\\Users\\WorkStation\\Documents\\rl_main_loop_create_env\\hetgraph_gt_encoder\\ep_data\\CreateLevelBelt-v0\\false\\4-f37eb877-b166-4051-b3af-068130e1e141-21310.pickle\n",
      "C:\\Users\\WorkStation\\Documents\\rl_main_loop_create_env\\hetgraph_gt_encoder\\ep_data\\CreateLevelBelt-v0\\false\\4-f37eb877-b166-4051-b3af-068130e1e141-21310.pickle\n",
      "C:\\Users\\WorkStation\\Documents\\rl_main_loop_create_env\\hetgraph_gt_encoder\\ep_data\\CreateLevelBelt-v0\\false\\4-f37eb877-b166-4051-b3af-068130e1e141-21310.pickle\n"
     ]
    },
    {
     "name": "stderr",
     "output_type": "stream",
     "text": [
      "C:\\Users\\WorkStation\\Documents\\rl_main_loop_create_env\\hetgraph_gt_encoder\\models\\sc_encoder.py:30: UserWarning: Implicit dimension choice for softmax has been deprecated. Change the call to include dim=X as an argument.\n",
      "  beta = self.softmax(beta)\n",
      "C:\\Users\\WorkStation\\Documents\\rl_main_loop_create_env\\hetgraph_gt_encoder\\models\\mp_encoder.py:95: UserWarning: Implicit dimension choice for softmax has been deprecated. Change the call to include dim=X as an argument.\n",
      "  beta = self.softmax(beta)\n"
     ]
    },
    {
     "name": "stdout",
     "output_type": "stream",
     "text": [
      "C:\\Users\\WorkStation\\Documents\\rl_main_loop_create_env\\hetgraph_gt_encoder\\ep_data\\CreateLevelObstacle-v0\\true\\4-f37eb877-b166-4051-b3af-068130e1e141-15492.pickle\n",
      "C:\\Users\\WorkStation\\Documents\\rl_main_loop_create_env\\hetgraph_gt_encoder\\ep_data\\CreateLevelObstacle-v0\\true\\4-f37eb877-b166-4051-b3af-068130e1e141-15492.pickle\n",
      "C:\\Users\\WorkStation\\Documents\\rl_main_loop_create_env\\hetgraph_gt_encoder\\ep_data\\CreateLevelObstacle-v0\\true\\4-f37eb877-b166-4051-b3af-068130e1e141-15492.pickle\n",
      "C:\\Users\\WorkStation\\Documents\\rl_main_loop_create_env\\hetgraph_gt_encoder\\ep_data\\CreateLevelObstacle-v0\\true\\4-f37eb877-b166-4051-b3af-068130e1e141-15492.pickle\n",
      "C:\\Users\\WorkStation\\Documents\\rl_main_loop_create_env\\hetgraph_gt_encoder\\ep_data\\CreateLevelObstacle-v0\\true\\4-f37eb877-b166-4051-b3af-068130e1e141-15492.pickle\n"
     ]
    },
    {
     "name": "stderr",
     "output_type": "stream",
     "text": [
      "C:\\Users\\WorkStation\\Documents\\rl_main_loop_create_env\\hetgraph_gt_encoder\\models\\sc_encoder.py:30: UserWarning: Implicit dimension choice for softmax has been deprecated. Change the call to include dim=X as an argument.\n",
      "  beta = self.softmax(beta)\n",
      "C:\\Users\\WorkStation\\Documents\\rl_main_loop_create_env\\hetgraph_gt_encoder\\models\\mp_encoder.py:95: UserWarning: Implicit dimension choice for softmax has been deprecated. Change the call to include dim=X as an argument.\n",
      "  beta = self.softmax(beta)\n"
     ]
    },
    {
     "name": "stdout",
     "output_type": "stream",
     "text": [
      "C:\\Users\\WorkStation\\Documents\\rl_main_loop_create_env\\hetgraph_gt_encoder\\ep_data\\CreateLevelObstacle-v0\\true\\4-f37eb877-b166-4051-b3af-068130e1e141-17219.pickle\n",
      "C:\\Users\\WorkStation\\Documents\\rl_main_loop_create_env\\hetgraph_gt_encoder\\ep_data\\CreateLevelObstacle-v0\\true\\4-f37eb877-b166-4051-b3af-068130e1e141-17219.pickle\n",
      "C:\\Users\\WorkStation\\Documents\\rl_main_loop_create_env\\hetgraph_gt_encoder\\ep_data\\CreateLevelObstacle-v0\\true\\4-f37eb877-b166-4051-b3af-068130e1e141-17219.pickle\n",
      "C:\\Users\\WorkStation\\Documents\\rl_main_loop_create_env\\hetgraph_gt_encoder\\ep_data\\CreateLevelObstacle-v0\\true\\4-f37eb877-b166-4051-b3af-068130e1e141-17219.pickle\n",
      "C:\\Users\\WorkStation\\Documents\\rl_main_loop_create_env\\hetgraph_gt_encoder\\ep_data\\CreateLevelObstacle-v0\\true\\4-f37eb877-b166-4051-b3af-068130e1e141-17219.pickle\n"
     ]
    },
    {
     "name": "stderr",
     "output_type": "stream",
     "text": [
      "C:\\Users\\WorkStation\\Documents\\rl_main_loop_create_env\\hetgraph_gt_encoder\\models\\sc_encoder.py:30: UserWarning: Implicit dimension choice for softmax has been deprecated. Change the call to include dim=X as an argument.\n",
      "  beta = self.softmax(beta)\n",
      "C:\\Users\\WorkStation\\Documents\\rl_main_loop_create_env\\hetgraph_gt_encoder\\models\\mp_encoder.py:95: UserWarning: Implicit dimension choice for softmax has been deprecated. Change the call to include dim=X as an argument.\n",
      "  beta = self.softmax(beta)\n"
     ]
    },
    {
     "name": "stdout",
     "output_type": "stream",
     "text": [
      "C:\\Users\\WorkStation\\Documents\\rl_main_loop_create_env\\hetgraph_gt_encoder\\ep_data\\CreateLevelObstacle-v0\\true\\4-f37eb877-b166-4051-b3af-068130e1e141-15492.pickle\n",
      "C:\\Users\\WorkStation\\Documents\\rl_main_loop_create_env\\hetgraph_gt_encoder\\ep_data\\CreateLevelObstacle-v0\\true\\4-f37eb877-b166-4051-b3af-068130e1e141-15492.pickle\n",
      "C:\\Users\\WorkStation\\Documents\\rl_main_loop_create_env\\hetgraph_gt_encoder\\ep_data\\CreateLevelObstacle-v0\\true\\4-f37eb877-b166-4051-b3af-068130e1e141-15492.pickle\n",
      "C:\\Users\\WorkStation\\Documents\\rl_main_loop_create_env\\hetgraph_gt_encoder\\ep_data\\CreateLevelObstacle-v0\\true\\4-f37eb877-b166-4051-b3af-068130e1e141-15492.pickle\n",
      "C:\\Users\\WorkStation\\Documents\\rl_main_loop_create_env\\hetgraph_gt_encoder\\ep_data\\CreateLevelObstacle-v0\\true\\4-f37eb877-b166-4051-b3af-068130e1e141-15492.pickle\n"
     ]
    },
    {
     "name": "stderr",
     "output_type": "stream",
     "text": [
      "C:\\Users\\WorkStation\\Documents\\rl_main_loop_create_env\\hetgraph_gt_encoder\\models\\sc_encoder.py:30: UserWarning: Implicit dimension choice for softmax has been deprecated. Change the call to include dim=X as an argument.\n",
      "  beta = self.softmax(beta)\n",
      "C:\\Users\\WorkStation\\Documents\\rl_main_loop_create_env\\hetgraph_gt_encoder\\models\\mp_encoder.py:95: UserWarning: Implicit dimension choice for softmax has been deprecated. Change the call to include dim=X as an argument.\n",
      "  beta = self.softmax(beta)\n"
     ]
    },
    {
     "name": "stdout",
     "output_type": "stream",
     "text": [
      "C:\\Users\\WorkStation\\Documents\\rl_main_loop_create_env\\hetgraph_gt_encoder\\ep_data\\CreateLevelObstacle-v0\\true\\4-f37eb877-b166-4051-b3af-068130e1e141-16872.pickle\n",
      "C:\\Users\\WorkStation\\Documents\\rl_main_loop_create_env\\hetgraph_gt_encoder\\ep_data\\CreateLevelObstacle-v0\\true\\4-f37eb877-b166-4051-b3af-068130e1e141-16872.pickle\n",
      "C:\\Users\\WorkStation\\Documents\\rl_main_loop_create_env\\hetgraph_gt_encoder\\ep_data\\CreateLevelObstacle-v0\\true\\4-f37eb877-b166-4051-b3af-068130e1e141-16872.pickle\n",
      "C:\\Users\\WorkStation\\Documents\\rl_main_loop_create_env\\hetgraph_gt_encoder\\ep_data\\CreateLevelObstacle-v0\\true\\4-f37eb877-b166-4051-b3af-068130e1e141-16872.pickle\n",
      "C:\\Users\\WorkStation\\Documents\\rl_main_loop_create_env\\hetgraph_gt_encoder\\ep_data\\CreateLevelObstacle-v0\\true\\4-f37eb877-b166-4051-b3af-068130e1e141-16872.pickle\n"
     ]
    },
    {
     "name": "stderr",
     "output_type": "stream",
     "text": [
      "C:\\Users\\WorkStation\\Documents\\rl_main_loop_create_env\\hetgraph_gt_encoder\\models\\sc_encoder.py:30: UserWarning: Implicit dimension choice for softmax has been deprecated. Change the call to include dim=X as an argument.\n",
      "  beta = self.softmax(beta)\n",
      "C:\\Users\\WorkStation\\Documents\\rl_main_loop_create_env\\hetgraph_gt_encoder\\models\\mp_encoder.py:95: UserWarning: Implicit dimension choice for softmax has been deprecated. Change the call to include dim=X as an argument.\n",
      "  beta = self.softmax(beta)\n"
     ]
    },
    {
     "name": "stdout",
     "output_type": "stream",
     "text": [
      "C:\\Users\\WorkStation\\Documents\\rl_main_loop_create_env\\hetgraph_gt_encoder\\ep_data\\CreateLevelObstacle-v0\\true\\4-f37eb877-b166-4051-b3af-068130e1e141-15136.pickle\n",
      "C:\\Users\\WorkStation\\Documents\\rl_main_loop_create_env\\hetgraph_gt_encoder\\ep_data\\CreateLevelObstacle-v0\\true\\4-f37eb877-b166-4051-b3af-068130e1e141-15136.pickle\n",
      "C:\\Users\\WorkStation\\Documents\\rl_main_loop_create_env\\hetgraph_gt_encoder\\ep_data\\CreateLevelObstacle-v0\\true\\4-f37eb877-b166-4051-b3af-068130e1e141-15136.pickle\n",
      "C:\\Users\\WorkStation\\Documents\\rl_main_loop_create_env\\hetgraph_gt_encoder\\ep_data\\CreateLevelObstacle-v0\\true\\4-f37eb877-b166-4051-b3af-068130e1e141-15136.pickle\n",
      "C:\\Users\\WorkStation\\Documents\\rl_main_loop_create_env\\hetgraph_gt_encoder\\ep_data\\CreateLevelObstacle-v0\\true\\4-f37eb877-b166-4051-b3af-068130e1e141-15136.pickle\n"
     ]
    },
    {
     "name": "stderr",
     "output_type": "stream",
     "text": [
      "C:\\Users\\WorkStation\\Documents\\rl_main_loop_create_env\\hetgraph_gt_encoder\\models\\sc_encoder.py:30: UserWarning: Implicit dimension choice for softmax has been deprecated. Change the call to include dim=X as an argument.\n",
      "  beta = self.softmax(beta)\n",
      "C:\\Users\\WorkStation\\Documents\\rl_main_loop_create_env\\hetgraph_gt_encoder\\models\\mp_encoder.py:95: UserWarning: Implicit dimension choice for softmax has been deprecated. Change the call to include dim=X as an argument.\n",
      "  beta = self.softmax(beta)\n"
     ]
    },
    {
     "name": "stdout",
     "output_type": "stream",
     "text": [
      "C:\\Users\\WorkStation\\Documents\\rl_main_loop_create_env\\hetgraph_gt_encoder\\ep_data\\CreateLevelObstacle-v0\\false\\4-f37eb877-b166-4051-b3af-068130e1e141-22009.pickle\n",
      "C:\\Users\\WorkStation\\Documents\\rl_main_loop_create_env\\hetgraph_gt_encoder\\ep_data\\CreateLevelObstacle-v0\\false\\4-f37eb877-b166-4051-b3af-068130e1e141-22009.pickle\n",
      "C:\\Users\\WorkStation\\Documents\\rl_main_loop_create_env\\hetgraph_gt_encoder\\ep_data\\CreateLevelObstacle-v0\\false\\4-f37eb877-b166-4051-b3af-068130e1e141-22009.pickle\n",
      "C:\\Users\\WorkStation\\Documents\\rl_main_loop_create_env\\hetgraph_gt_encoder\\ep_data\\CreateLevelObstacle-v0\\false\\4-f37eb877-b166-4051-b3af-068130e1e141-22009.pickle\n",
      "C:\\Users\\WorkStation\\Documents\\rl_main_loop_create_env\\hetgraph_gt_encoder\\ep_data\\CreateLevelObstacle-v0\\false\\4-f37eb877-b166-4051-b3af-068130e1e141-22009.pickle\n"
     ]
    },
    {
     "name": "stderr",
     "output_type": "stream",
     "text": [
      "C:\\Users\\WorkStation\\Documents\\rl_main_loop_create_env\\hetgraph_gt_encoder\\models\\sc_encoder.py:30: UserWarning: Implicit dimension choice for softmax has been deprecated. Change the call to include dim=X as an argument.\n",
      "  beta = self.softmax(beta)\n",
      "C:\\Users\\WorkStation\\Documents\\rl_main_loop_create_env\\hetgraph_gt_encoder\\models\\mp_encoder.py:95: UserWarning: Implicit dimension choice for softmax has been deprecated. Change the call to include dim=X as an argument.\n",
      "  beta = self.softmax(beta)\n"
     ]
    },
    {
     "name": "stdout",
     "output_type": "stream",
     "text": [
      "C:\\Users\\WorkStation\\Documents\\rl_main_loop_create_env\\hetgraph_gt_encoder\\ep_data\\CreateLevelObstacle-v0\\false\\4-f37eb877-b166-4051-b3af-068130e1e141-21908.pickle\n",
      "C:\\Users\\WorkStation\\Documents\\rl_main_loop_create_env\\hetgraph_gt_encoder\\ep_data\\CreateLevelObstacle-v0\\false\\4-f37eb877-b166-4051-b3af-068130e1e141-21908.pickle\n",
      "C:\\Users\\WorkStation\\Documents\\rl_main_loop_create_env\\hetgraph_gt_encoder\\ep_data\\CreateLevelObstacle-v0\\false\\4-f37eb877-b166-4051-b3af-068130e1e141-21908.pickle\n",
      "C:\\Users\\WorkStation\\Documents\\rl_main_loop_create_env\\hetgraph_gt_encoder\\ep_data\\CreateLevelObstacle-v0\\false\\4-f37eb877-b166-4051-b3af-068130e1e141-21908.pickle\n",
      "C:\\Users\\WorkStation\\Documents\\rl_main_loop_create_env\\hetgraph_gt_encoder\\ep_data\\CreateLevelObstacle-v0\\false\\4-f37eb877-b166-4051-b3af-068130e1e141-21908.pickle\n"
     ]
    },
    {
     "name": "stderr",
     "output_type": "stream",
     "text": [
      "C:\\Users\\WorkStation\\Documents\\rl_main_loop_create_env\\hetgraph_gt_encoder\\models\\sc_encoder.py:30: UserWarning: Implicit dimension choice for softmax has been deprecated. Change the call to include dim=X as an argument.\n",
      "  beta = self.softmax(beta)\n",
      "C:\\Users\\WorkStation\\Documents\\rl_main_loop_create_env\\hetgraph_gt_encoder\\models\\mp_encoder.py:95: UserWarning: Implicit dimension choice for softmax has been deprecated. Change the call to include dim=X as an argument.\n",
      "  beta = self.softmax(beta)\n"
     ]
    },
    {
     "name": "stdout",
     "output_type": "stream",
     "text": [
      "C:\\Users\\WorkStation\\Documents\\rl_main_loop_create_env\\hetgraph_gt_encoder\\ep_data\\CreateLevelObstacle-v0\\false\\4-f37eb877-b166-4051-b3af-068130e1e141-22496.pickle\n",
      "C:\\Users\\WorkStation\\Documents\\rl_main_loop_create_env\\hetgraph_gt_encoder\\ep_data\\CreateLevelObstacle-v0\\false\\4-f37eb877-b166-4051-b3af-068130e1e141-22496.pickle\n",
      "C:\\Users\\WorkStation\\Documents\\rl_main_loop_create_env\\hetgraph_gt_encoder\\ep_data\\CreateLevelObstacle-v0\\false\\4-f37eb877-b166-4051-b3af-068130e1e141-22496.pickle\n",
      "C:\\Users\\WorkStation\\Documents\\rl_main_loop_create_env\\hetgraph_gt_encoder\\ep_data\\CreateLevelObstacle-v0\\false\\4-f37eb877-b166-4051-b3af-068130e1e141-22496.pickle\n",
      "C:\\Users\\WorkStation\\Documents\\rl_main_loop_create_env\\hetgraph_gt_encoder\\ep_data\\CreateLevelObstacle-v0\\false\\4-f37eb877-b166-4051-b3af-068130e1e141-22496.pickle\n"
     ]
    },
    {
     "name": "stderr",
     "output_type": "stream",
     "text": [
      "C:\\Users\\WorkStation\\Documents\\rl_main_loop_create_env\\hetgraph_gt_encoder\\models\\sc_encoder.py:30: UserWarning: Implicit dimension choice for softmax has been deprecated. Change the call to include dim=X as an argument.\n",
      "  beta = self.softmax(beta)\n",
      "C:\\Users\\WorkStation\\Documents\\rl_main_loop_create_env\\hetgraph_gt_encoder\\models\\mp_encoder.py:95: UserWarning: Implicit dimension choice for softmax has been deprecated. Change the call to include dim=X as an argument.\n",
      "  beta = self.softmax(beta)\n"
     ]
    },
    {
     "name": "stdout",
     "output_type": "stream",
     "text": [
      "C:\\Users\\WorkStation\\Documents\\rl_main_loop_create_env\\hetgraph_gt_encoder\\ep_data\\CreateLevelObstacle-v0\\false\\4-f37eb877-b166-4051-b3af-068130e1e141-22597.pickle\n",
      "C:\\Users\\WorkStation\\Documents\\rl_main_loop_create_env\\hetgraph_gt_encoder\\ep_data\\CreateLevelObstacle-v0\\false\\4-f37eb877-b166-4051-b3af-068130e1e141-22597.pickle\n",
      "C:\\Users\\WorkStation\\Documents\\rl_main_loop_create_env\\hetgraph_gt_encoder\\ep_data\\CreateLevelObstacle-v0\\false\\4-f37eb877-b166-4051-b3af-068130e1e141-22597.pickle\n",
      "C:\\Users\\WorkStation\\Documents\\rl_main_loop_create_env\\hetgraph_gt_encoder\\ep_data\\CreateLevelObstacle-v0\\false\\4-f37eb877-b166-4051-b3af-068130e1e141-22597.pickle\n",
      "C:\\Users\\WorkStation\\Documents\\rl_main_loop_create_env\\hetgraph_gt_encoder\\ep_data\\CreateLevelObstacle-v0\\false\\4-f37eb877-b166-4051-b3af-068130e1e141-22597.pickle\n"
     ]
    },
    {
     "name": "stderr",
     "output_type": "stream",
     "text": [
      "C:\\Users\\WorkStation\\Documents\\rl_main_loop_create_env\\hetgraph_gt_encoder\\models\\sc_encoder.py:30: UserWarning: Implicit dimension choice for softmax has been deprecated. Change the call to include dim=X as an argument.\n",
      "  beta = self.softmax(beta)\n",
      "C:\\Users\\WorkStation\\Documents\\rl_main_loop_create_env\\hetgraph_gt_encoder\\models\\mp_encoder.py:95: UserWarning: Implicit dimension choice for softmax has been deprecated. Change the call to include dim=X as an argument.\n",
      "  beta = self.softmax(beta)\n"
     ]
    },
    {
     "name": "stdout",
     "output_type": "stream",
     "text": [
      "C:\\Users\\WorkStation\\Documents\\rl_main_loop_create_env\\hetgraph_gt_encoder\\ep_data\\CreateLevelObstacle-v0\\false\\4-f37eb877-b166-4051-b3af-068130e1e141-22332.pickle\n",
      "C:\\Users\\WorkStation\\Documents\\rl_main_loop_create_env\\hetgraph_gt_encoder\\ep_data\\CreateLevelObstacle-v0\\false\\4-f37eb877-b166-4051-b3af-068130e1e141-22332.pickle\n",
      "C:\\Users\\WorkStation\\Documents\\rl_main_loop_create_env\\hetgraph_gt_encoder\\ep_data\\CreateLevelObstacle-v0\\false\\4-f37eb877-b166-4051-b3af-068130e1e141-22332.pickle\n",
      "C:\\Users\\WorkStation\\Documents\\rl_main_loop_create_env\\hetgraph_gt_encoder\\ep_data\\CreateLevelObstacle-v0\\false\\4-f37eb877-b166-4051-b3af-068130e1e141-22332.pickle\n",
      "C:\\Users\\WorkStation\\Documents\\rl_main_loop_create_env\\hetgraph_gt_encoder\\ep_data\\CreateLevelObstacle-v0\\false\\4-f37eb877-b166-4051-b3af-068130e1e141-22332.pickle\n"
     ]
    },
    {
     "name": "stderr",
     "output_type": "stream",
     "text": [
      "C:\\Users\\WorkStation\\Documents\\rl_main_loop_create_env\\hetgraph_gt_encoder\\models\\sc_encoder.py:30: UserWarning: Implicit dimension choice for softmax has been deprecated. Change the call to include dim=X as an argument.\n",
      "  beta = self.softmax(beta)\n",
      "C:\\Users\\WorkStation\\Documents\\rl_main_loop_create_env\\hetgraph_gt_encoder\\models\\mp_encoder.py:95: UserWarning: Implicit dimension choice for softmax has been deprecated. Change the call to include dim=X as an argument.\n",
      "  beta = self.softmax(beta)\n"
     ]
    }
   ],
   "source": [
    "\n",
    "z_encodings_diff_checkpoints = []\n",
    "z_encoding_labels = []\n",
    "\n",
    "z_enc, labels = compute_encodings(checkpoints[2], files_used)\n",
    "z_encoding_labels.append(labels)\n",
    "z_encodings_diff_checkpoints.append(z_enc)\n",
    "\n",
    "\n",
    "# z_encodings_diff_checkpoints = []\n",
    "# z_encoding_labels = []\n",
    "# for checkpoint in checkpoints:\n",
    "#     print(checkpoint)\n",
    "#     z_enc, labels = compute_encodings(checkpoint)\n",
    "#     z_encoding_labels.append(labels)\n",
    "#     z_encodings_diff_checkpoints.append(z_enc)"
   ]
  },
  {
   "cell_type": "code",
   "execution_count": 24,
   "id": "8831b4c0",
   "metadata": {},
   "outputs": [
    {
     "data": {
      "text/plain": [
       "[tensor([[[ 0.1403,  0.5632,  0.7833,  ...,  0.9454,  0.0282,  0.3884]],\n",
       " \n",
       "         [[ 0.1499,  0.4784,  0.7401,  ...,  0.9143,  0.0488,  0.2724]],\n",
       " \n",
       "         [[ 0.1386,  0.4757,  0.7051,  ...,  1.0613, -0.0434,  0.5718]],\n",
       " \n",
       "         ...,\n",
       " \n",
       "         [[ 0.2367, -0.2421, -0.0026,  ...,  0.1779,  0.0405,  0.5998]],\n",
       " \n",
       "         [[ 0.2133, -0.2544, -0.0139,  ...,  0.1574,  0.0585,  0.6465]],\n",
       " \n",
       "         [[ 0.1473, -0.2391, -0.0281,  ...,  0.1406,  0.0659,  0.6508]]],\n",
       "        device='cuda:0', grad_fn=<StackBackward>)]"
      ]
     },
     "execution_count": 24,
     "metadata": {},
     "output_type": "execute_result"
    }
   ],
   "source": [
    "z_encodings_diff_checkpoints"
   ]
  },
  {
   "cell_type": "code",
   "execution_count": 25,
   "id": "12eb34d8",
   "metadata": {},
   "outputs": [
    {
     "data": {
      "image/png": "[encoded data removed]",
      "text/plain": [
       "<Figure size 720x576 with 1 Axes>"
      ]
     },
     "metadata": {
      "needs_background": "light"
     },
     "output_type": "display_data"
    },
    {
     "name": "stdout",
     "output_type": "stream",
     "text": [
      "Cluster counts per task:\n",
      "task                    cluster\n",
      "CreateLevelBasket-v0    1          5\n",
      "                        2          5\n",
      "CreateLevelBelt-v0      2          5\n",
      "                        4          5\n",
      "CreateLevelBuckets-v0   1          5\n",
      "                        2          5\n",
      "CreateLevelObstacle-v0  0          5\n",
      "                        1          5\n",
      "CreateLevelPush-v0      0          5\n",
      "                        3          5\n",
      "dtype: int64\n"
     ]
    }
   ],
   "source": [
    "for idx, z_encodings in enumerate(z_encodings_diff_checkpoints):\n",
    "    df_clusters_s = compute_clusters(z_encodings, z_encoding_labels[idx])"
   ]
  },
  {
   "cell_type": "code",
   "execution_count": 26,
   "id": "957294b9",
   "metadata": {},
   "outputs": [
    {
     "data": {
      "image/png": "[encoded data removed]",
      "text/plain": [
       "<Figure size 720x576 with 1 Axes>"
      ]
     },
     "metadata": {
      "needs_background": "light"
     },
     "output_type": "display_data"
    },
    {
     "data": {
      "image/png": "[encoded data removed]",
      "text/plain": [
       "<Figure size 720x576 with 1 Axes>"
      ]
     },
     "metadata": {
      "needs_background": "light"
     },
     "output_type": "display_data"
    },
    {
     "name": "stdout",
     "output_type": "stream",
     "text": [
      "Cluster counts per task for successful episodes:\n",
      "task                    cluster\n",
      "CreateLevelBasket-v0    2          5\n",
      "CreateLevelBelt-v0      2          1\n",
      "                        3          4\n",
      "CreateLevelBuckets-v0   0          5\n",
      "CreateLevelObstacle-v0  4          5\n",
      "CreateLevelPush-v0      1          5\n",
      "dtype: int64\n",
      "\n",
      "Cluster counts per task for unsuccessful episodes:\n",
      "task                    cluster\n",
      "CreateLevelBasket-v0    1          5\n",
      "CreateLevelBelt-v0      2          5\n",
      "CreateLevelBuckets-v0   0          5\n",
      "CreateLevelObstacle-v0  4          5\n",
      "CreateLevelPush-v0      3          5\n",
      "dtype: int64\n"
     ]
    }
   ],
   "source": [
    "for idx, z_encodings in enumerate(z_encodings_diff_checkpoints):\n",
    "    df_clusters_s, df_clusters_fail = compute_clusters_by_outcome(z_encodings, z_encoding_labels[idx], tasks)"
   ]
  },
  {
   "cell_type": "code",
   "execution_count": 27,
   "id": "44422c80",
   "metadata": {},
   "outputs": [],
   "source": [
    "from sklearn.metrics import silhouette_score, davies_bouldin_score\n",
    "from scipy.spatial.distance import pdist\n",
    "from sklearn.cluster import KMeans\n",
    "import numpy as np\n",
    "import pandas as pd\n",
    "import matplotlib.pyplot as plt\n",
    "import seaborn as sns\n",
    "from sklearn.decomposition import PCA\n",
    "\n",
    "def compute_clusters_by_outcome_metrics(z_encodings, labels, tasks):\n",
    "    # Convert tensor to numpy for sklearn compatibility\n",
    "    z_encodings_np = z_encodings.cpu().detach().numpy()\n",
    "    z_encodings_np = z_encodings_np.squeeze(1)  # Ensure the encodings are 2D: [num_samples, feature_dim]\n",
    "\n",
    "    # Prepare dataframes for success and failure episodes\n",
    "    df = pd.DataFrame({\n",
    "        'task': [label[0] for label in labels],  # Original task names\n",
    "        'outcome': [label[1] for label in labels]  # Success/Failure outcome\n",
    "    })\n",
    "    \n",
    "    # Filter the encodings based on success and failure\n",
    "    success_indices = df[df['outcome'] == 'true'].index\n",
    "    failure_indices = df[df['outcome'] == 'false'].index\n",
    "\n",
    "    z_success = z_encodings_np[success_indices]\n",
    "    z_failure = z_encodings_np[failure_indices]\n",
    "\n",
    "    # Define number of clusters as the number of unique tasks\n",
    "    n_clusters = len(tasks)\n",
    "\n",
    "    # Perform K-means clustering on successful episodes\n",
    "    kmeans_success = KMeans(n_clusters=n_clusters, random_state=42)\n",
    "    cluster_labels_success = kmeans_success.fit_predict(z_success)\n",
    "    \n",
    "    # Calculate silhouette score for successful episodes\n",
    "    silhouette_success = silhouette_score(z_success, cluster_labels_success)\n",
    "    \n",
    "    # Calculate Davies-Bouldin Index for successful episodes\n",
    "    dbi_success = davies_bouldin_score(z_success, cluster_labels_success)\n",
    "    \n",
    "    # Calculate Dunn Index for successful episodes\n",
    "    inter_cluster_distances = pdist(kmeans_success.cluster_centers_)\n",
    "    intra_cluster_distances = np.max([np.mean(pdist(z_success[cluster_labels_success == i])) for i in range(n_clusters)])\n",
    "    dunn_index_success = np.min(inter_cluster_distances) / intra_cluster_distances\n",
    "\n",
    "    # Repeat clustering and metrics calculation for unsuccessful episodes\n",
    "    kmeans_failure = KMeans(n_clusters=n_clusters, random_state=42)\n",
    "    cluster_labels_failure = kmeans_failure.fit_predict(z_failure)\n",
    "    \n",
    "    silhouette_failure = silhouette_score(z_failure, cluster_labels_failure)\n",
    "    dbi_failure = davies_bouldin_score(z_failure, cluster_labels_failure)\n",
    "    \n",
    "    inter_cluster_distances_failure = pdist(kmeans_failure.cluster_centers_)\n",
    "    intra_cluster_distances_failure = np.max([np.mean(pdist(z_failure[cluster_labels_failure == i])) for i in range(n_clusters)])\n",
    "    dunn_index_failure = np.min(inter_cluster_distances_failure) / intra_cluster_distances_failure\n",
    "\n",
    "    # Track metrics in a dictionary\n",
    "    metrics = {\n",
    "        'silhouette_success': silhouette_success,\n",
    "        'silhouette_failure': silhouette_failure,\n",
    "        'dbi_success': dbi_success,\n",
    "        'dbi_failure': dbi_failure,\n",
    "        'dunn_index_success': dunn_index_success,\n",
    "        'dunn_index_failure': dunn_index_failure\n",
    "    }\n",
    "    \n",
    "    return metrics\n",
    "\n",
    "def evaluate_checkpoints(z_encodings_diff_checkpoints, z_encoding_labels, tasks):\n",
    "    # Store metrics for each checkpoint\n",
    "    all_metrics = []\n",
    "    best_checkpoint = None\n",
    "    best_score = -np.inf  # Track best score based on silhouette\n",
    "\n",
    "    for idx, z_encodings in enumerate(z_encodings_diff_checkpoints):\n",
    "        # Compute metrics for current checkpoint\n",
    "        metrics = compute_clusters_by_outcome_metrics(z_encodings, z_encoding_labels[idx], tasks)\n",
    "        all_metrics.append((idx, metrics))\n",
    "        \n",
    "        # Determine if this checkpoint has the best silhouette score\n",
    "        current_score = max(metrics['silhouette_success'], metrics['silhouette_failure'])\n",
    "        if current_score > best_score:\n",
    "            best_score = current_score\n",
    "            best_checkpoint = idx\n",
    "\n",
    "        # Plot silhouette scores for successful and unsuccessful episodes\n",
    "        plt.figure(figsize=(8, 6))\n",
    "        plt.bar(['Silhouette Success', 'Silhouette Failure'], \n",
    "                [metrics['silhouette_success'], metrics['silhouette_failure']])\n",
    "        plt.title(f'Checkpoint {idx}: Silhouette Scores')\n",
    "        plt.xlabel('Episode Outcome')\n",
    "        plt.ylabel('Silhouette Score')\n",
    "        plt.show()\n",
    "\n",
    "    print(f\"Best checkpoint based on silhouette score: Checkpoint {best_checkpoint} with score {best_score}\")\n",
    "    \n",
    "    return best_checkpoint, all_metrics\n"
   ]
  },
  {
   "cell_type": "code",
   "execution_count": 28,
   "id": "42c18ca0",
   "metadata": {},
   "outputs": [
    {
     "data": {
      "image/png": "[encoded data removed]",
      "text/plain": [
       "<Figure size 576x432 with 1 Axes>"
      ]
     },
     "metadata": {
      "needs_background": "light"
     },
     "output_type": "display_data"
    },
    {
     "name": "stdout",
     "output_type": "stream",
     "text": [
      "Best checkpoint based on silhouette score: Checkpoint 0 with score 0.7948118448257446\n"
     ]
    }
   ],
   "source": [
    "import numpy as np\n",
    "\n",
    "best_checkpoint, all_metrics = evaluate_checkpoints(z_encodings_diff_checkpoints, z_encoding_labels, tasks)\n"
   ]
  },
  {
   "cell_type": "code",
   "execution_count": 29,
   "id": "76990145",
   "metadata": {},
   "outputs": [
    {
     "data": {
      "image/png": "[encoded data removed]",
      "text/plain": [
       "<Figure size 576x432 with 1 Axes>"
      ]
     },
     "metadata": {
      "needs_background": "light"
     },
     "output_type": "display_data"
    },
    {
     "name": "stdout",
     "output_type": "stream",
     "text": [
      "Best checkpoint based on silhouette score: Checkpoint 0 with score 0.7923671007156372\n"
     ]
    }
   ],
   "source": [
    "best_checkpoint_incp, all_metrics_incp = evaluate_checkpoints(z_encodings_diff_checkpoints_incp, z_encoding_labels_incp, tasks)\n"
   ]
  },
  {
   "cell_type": "code",
   "execution_count": 30,
   "id": "74346b8d",
   "metadata": {},
   "outputs": [
    {
     "data": {
      "text/plain": [
       "[(0,\n",
       "  {'silhouette_success': 0.7757677,\n",
       "   'silhouette_failure': 0.7923671,\n",
       "   'dbi_success': 0.38287019667333827,\n",
       "   'dbi_failure': 0.4150067318868674,\n",
       "   'dunn_index_success': 2.5224047483891554,\n",
       "   'dunn_index_failure': 2.0321288987811252})]"
      ]
     },
     "execution_count": 30,
     "metadata": {},
     "output_type": "execute_result"
    }
   ],
   "source": [
    "all_metrics_incp"
   ]
  },
  {
   "cell_type": "code",
   "execution_count": 31,
   "id": "fcb8d39d",
   "metadata": {},
   "outputs": [
    {
     "data": {
      "text/plain": [
       "[(0,\n",
       "  {'silhouette_success': 0.78304476,\n",
       "   'silhouette_failure': 0.79481184,\n",
       "   'dbi_success': 0.37492129440404576,\n",
       "   'dbi_failure': 0.41296548489117857,\n",
       "   'dunn_index_success': 2.5570347644710276,\n",
       "   'dunn_index_failure': 2.0189670695052224})]"
      ]
     },
     "execution_count": 31,
     "metadata": {},
     "output_type": "execute_result"
    }
   ],
   "source": [
    "all_metrics"
   ]
  }
 ],
 "metadata": {
  "kernelspec": {
   "display_name": "Python 3 (ipykernel)",
   "language": "python",
   "name": "python3"
  },
  "language_info": {
   "codemirror_mode": {
    "name": "ipython",
    "version": 3
   },
   "file_extension": ".py",
   "mimetype": "text/x-python",
   "name": "python",
   "nbconvert_exporter": "python",
   "pygments_lexer": "ipython3",
   "version": "3.8.5"
  }
 },
 "nbformat": 4,
 "nbformat_minor": 5
}
