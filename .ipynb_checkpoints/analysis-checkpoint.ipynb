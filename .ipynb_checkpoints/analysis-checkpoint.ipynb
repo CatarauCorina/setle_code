{
 "cells": [
  {
   "cell_type": "code",
   "execution_count": 27,
   "metadata": {},
   "outputs": [],
   "source": [
    "from neo4j import GraphDatabase"
   ]
  },
  {
   "cell_type": "code",
   "execution_count": 28,
   "metadata": {},
   "outputs": [],
   "source": [
    "class Neo4jDownloader:\n",
    "\n",
    "    def __init__(self, uri, user, password):\n",
    "        self._driver = GraphDatabase.driver(uri, auth=(user, password))\n",
    "\n",
    "    def close(self):\n",
    "        self._driver.close()\n",
    "\n",
    "    def get_planning_application_descriptions(self):\n",
    "        with self._driver.session() as session:\n",
    "            descriptions = session.read_transaction(self._get_descriptions_from_db)\n",
    "            return descriptions\n",
    "\n",
    "    @staticmethod\n",
    "    def _get_descriptions_from_db(tx):\n",
    "        query = (\n",
    "            'MATCH (n:PLANNING_APPLICATION {Application_Type:\"Full Planning Permission\"})'\n",
    "            'RETURN n.Development_Description AS description, n.application_ref AS ref'\n",
    "        )\n",
    "        result = tx.run(query)\n",
    "        return [(record[\"description\"], record[\"ref\"]) for record in result]\n"
   ]
  },
  {
   "cell_type": "code",
   "execution_count": 29,
   "metadata": {},
   "outputs": [
    {
     "name": "stderr",
     "output_type": "stream",
     "text": [
      "/var/folders/b_/mfx3ytk513g1mw_n3pzw1pc80000gn/T/ipykernel_97341/3605409391.py:11: DeprecationWarning:\n",
      "\n",
      "read_transaction has been renamed to execute_read\n",
      "\n"
     ]
    }
   ],
   "source": [
    "DATABASE_URI = \"neo4j+s://12fc7f1a.databases.neo4j.io\"\n",
    "DATABASE_USER = \"neo4j\"\n",
    "DATABASE_PASSWORD = \"Aw86vVkfUcZL4R_eAoXyf1P_N_5PsdV8GFMmW1pUhaY\"  # Change this to your actual password\n",
    "\n",
    "downloader = Neo4jDownloader(DATABASE_URI, DATABASE_USER, DATABASE_PASSWORD)\n",
    "data = downloader.get_planning_application_descriptions()\n",
    "downloader.close()\n"
   ]
  },
  {
   "cell_type": "code",
   "execution_count": 30,
   "metadata": {},
   "outputs": [
    {
     "data": {
      "text/plain": [
       "('Erection of single storey rear extension',\n",
       " 'Use of first, second and third floors as 7 x bedroom House of Multiple Occupation (HMO) following conversion from a three bedroom HMO on the first floor and two self-contained flats on the second and third floors.',\n",
       " 'Erection of first floor side extension with flat roof above and external stairs to roof terrace in association with existing first and second floor flat.',\n",
       " 'ERUV street furniture - Erection of poles with clear wire between, in 10 different locations on the highway in N6 and NW5 postcodes.',\n",
       " 'Erection of a temporary consultation hub (Sui Generis Use) for meeting, gathering, presentation and associated purposes to support the St Pancras Hospital redevelopment. Proposals to include access ramp, external decking and soft landscaping enhancements.',\n",
       " 'Erection of a rear garden outbuilding',\n",
       " 'Erection of single storey garden studio at rear of garden',\n",
       " 'Conversion of existing storage unit into a single storey self contained work unit (Class B1 office)',\n",
       " 'Erection of a single storey rear extension within the existing rear lightwell at lower ground floor level, replacement ground floor extension, extension to the side within the existing lower ground floor entrance lightwell, erection of a garden building, new doors to the rear bay window and new boundary railings to the side and front elevations.',\n",
       " 'Addition of ground-floor window in south elevation.')"
      ]
     },
     "execution_count": 30,
     "metadata": {},
     "output_type": "execute_result"
    }
   ],
   "source": [
    "descriptions, ref = zip(*data)\n",
    "descriptions[:10]"
   ]
  },
  {
   "cell_type": "code",
   "execution_count": 31,
   "metadata": {},
   "outputs": [],
   "source": [
    "from bertopic import BERTopic\n",
    "\n",
    "topic_model = BERTopic(embedding_model=\"all-MiniLM-L6-v2\")"
   ]
  },
  {
   "cell_type": "code",
   "execution_count": 32,
   "metadata": {},
   "outputs": [],
   "source": [
    "topics, probs = topic_model.fit_transform(descriptions)"
   ]
  },
  {
   "cell_type": "code",
   "execution_count": 33,
   "metadata": {},
   "outputs": [
    {
     "data": {
      "text/html": [
       "<div>\n",
       "<style scoped>\n",
       "    .dataframe tbody tr th:only-of-type {\n",
       "        vertical-align: middle;\n",
       "    }\n",
       "\n",
       "    .dataframe tbody tr th {\n",
       "        vertical-align: top;\n",
       "    }\n",
       "\n",
       "    .dataframe thead th {\n",
       "        text-align: right;\n",
       "    }\n",
       "</style>\n",
       "<table border=\"1\" class=\"dataframe\">\n",
       "  <thead>\n",
       "    <tr style=\"text-align: right;\">\n",
       "      <th></th>\n",
       "      <th>Topic</th>\n",
       "      <th>Count</th>\n",
       "      <th>Name</th>\n",
       "      <th>Representation</th>\n",
       "      <th>Representative_Docs</th>\n",
       "    </tr>\n",
       "  </thead>\n",
       "  <tbody>\n",
       "    <tr>\n",
       "      <th>0</th>\n",
       "      <td>-1</td>\n",
       "      <td>2728</td>\n",
       "      <td>-1_use_and_to_floor</td>\n",
       "      <td>[use, and, to, floor, of, alterations, change,...</td>\n",
       "      <td>[Change of use of lower ground floor from offi...</td>\n",
       "    </tr>\n",
       "    <tr>\n",
       "      <th>1</th>\n",
       "      <td>0</td>\n",
       "      <td>343</td>\n",
       "      <td>0_dormer_dormers_roofslope_slope</td>\n",
       "      <td>[dormer, dormers, roofslope, slope, window, ro...</td>\n",
       "      <td>[Erection of new front dormer and rear dormer ...</td>\n",
       "    </tr>\n",
       "    <tr>\n",
       "      <th>2</th>\n",
       "      <td>1</td>\n",
       "      <td>235</td>\n",
       "      <td>1_excavation_lightwells_basement_lightwell</td>\n",
       "      <td>[excavation, lightwells, basement, lightwell, ...</td>\n",
       "      <td>[Excavation of basement with lightwells to the...</td>\n",
       "    </tr>\n",
       "    <tr>\n",
       "      <th>3</th>\n",
       "      <td>2</td>\n",
       "      <td>212</td>\n",
       "      <td>2_wall_boundary_gates_gate</td>\n",
       "      <td>[wall, boundary, gates, gate, fence, railings,...</td>\n",
       "      <td>[Erection of new front boundary wall with rail...</td>\n",
       "    </tr>\n",
       "    <tr>\n",
       "      <th>4</th>\n",
       "      <td>3</td>\n",
       "      <td>183</td>\n",
       "      <td>3_mansard_roof_extension_create</td>\n",
       "      <td>[mansard, roof, extension, create, maisonette,...</td>\n",
       "      <td>[Erection of a mansard roof extension to resid...</td>\n",
       "    </tr>\n",
       "    <tr>\n",
       "      <th>...</th>\n",
       "      <td>...</td>\n",
       "      <td>...</td>\n",
       "      <td>...</td>\n",
       "      <td>...</td>\n",
       "      <td>...</td>\n",
       "    </tr>\n",
       "    <tr>\n",
       "      <th>149</th>\n",
       "      <td>148</td>\n",
       "      <td>11</td>\n",
       "      <td>148_6th_5th_dwellinghouses_elevational</td>\n",
       "      <td>[6th, 5th, dwellinghouses, elevational, garage...</td>\n",
       "      <td>[Change of use from garage/workshop/offices (C...</td>\n",
       "    </tr>\n",
       "    <tr>\n",
       "      <th>150</th>\n",
       "      <td>149</td>\n",
       "      <td>11</td>\n",
       "      <td>149_lightwell_stones_staircase_coping</td>\n",
       "      <td>[lightwell, stones, staircase, coping, well, r...</td>\n",
       "      <td>[External alterations at front including new e...</td>\n",
       "    </tr>\n",
       "    <tr>\n",
       "      <th>151</th>\n",
       "      <td>150</td>\n",
       "      <td>11</td>\n",
       "      <td>150_bed_dwellinghouse_family_into</td>\n",
       "      <td>[bed, dwellinghouse, family, into, conversion,...</td>\n",
       "      <td>[Conversion of 2 x 4 bed flats into a 1 x 6 be...</td>\n",
       "    </tr>\n",
       "    <tr>\n",
       "      <th>152</th>\n",
       "      <td>151</td>\n",
       "      <td>10</td>\n",
       "      <td>151_drinking_establishment_a4_duel</td>\n",
       "      <td>[drinking, establishment, a4, duel, lavatories...</td>\n",
       "      <td>[Change of use of ground and basement floors f...</td>\n",
       "    </tr>\n",
       "    <tr>\n",
       "      <th>153</th>\n",
       "      <td>152</td>\n",
       "      <td>10</td>\n",
       "      <td>152_06_1805_permmission_terrace</td>\n",
       "      <td>[06, 1805, permmission, terrace, boundaries, d...</td>\n",
       "      <td>[Erection of rear extension at lower ground fl...</td>\n",
       "    </tr>\n",
       "  </tbody>\n",
       "</table>\n",
       "<p>154 rows × 5 columns</p>\n",
       "</div>"
      ],
      "text/plain": [
       "     Topic  Count                                        Name  \\\n",
       "0       -1   2728                         -1_use_and_to_floor   \n",
       "1        0    343            0_dormer_dormers_roofslope_slope   \n",
       "2        1    235  1_excavation_lightwells_basement_lightwell   \n",
       "3        2    212                  2_wall_boundary_gates_gate   \n",
       "4        3    183             3_mansard_roof_extension_create   \n",
       "..     ...    ...                                         ...   \n",
       "149    148     11      148_6th_5th_dwellinghouses_elevational   \n",
       "150    149     11       149_lightwell_stones_staircase_coping   \n",
       "151    150     11           150_bed_dwellinghouse_family_into   \n",
       "152    151     10          151_drinking_establishment_a4_duel   \n",
       "153    152     10             152_06_1805_permmission_terrace   \n",
       "\n",
       "                                        Representation  \\\n",
       "0    [use, and, to, floor, of, alterations, change,...   \n",
       "1    [dormer, dormers, roofslope, slope, window, ro...   \n",
       "2    [excavation, lightwells, basement, lightwell, ...   \n",
       "3    [wall, boundary, gates, gate, fence, railings,...   \n",
       "4    [mansard, roof, extension, create, maisonette,...   \n",
       "..                                                 ...   \n",
       "149  [6th, 5th, dwellinghouses, elevational, garage...   \n",
       "150  [lightwell, stones, staircase, coping, well, r...   \n",
       "151  [bed, dwellinghouse, family, into, conversion,...   \n",
       "152  [drinking, establishment, a4, duel, lavatories...   \n",
       "153  [06, 1805, permmission, terrace, boundaries, d...   \n",
       "\n",
       "                                   Representative_Docs  \n",
       "0    [Change of use of lower ground floor from offi...  \n",
       "1    [Erection of new front dormer and rear dormer ...  \n",
       "2    [Excavation of basement with lightwells to the...  \n",
       "3    [Erection of new front boundary wall with rail...  \n",
       "4    [Erection of a mansard roof extension to resid...  \n",
       "..                                                 ...  \n",
       "149  [Change of use from garage/workshop/offices (C...  \n",
       "150  [External alterations at front including new e...  \n",
       "151  [Conversion of 2 x 4 bed flats into a 1 x 6 be...  \n",
       "152  [Change of use of ground and basement floors f...  \n",
       "153  [Erection of rear extension at lower ground fl...  \n",
       "\n",
       "[154 rows x 5 columns]"
      ]
     },
     "execution_count": 33,
     "metadata": {},
     "output_type": "execute_result"
    }
   ],
   "source": [
    "topic_model.get_topic_info()"
   ]
  },
  {
   "cell_type": "code",
   "execution_count": 34,
   "metadata": {},
   "outputs": [
    {
     "name": "stderr",
     "output_type": "stream",
     "text": [
      "  0%|          | 0/152 [00:00<?, ?it/s]100%|██████████| 152/152 [00:00<00:00, 408.63it/s]\n"
     ]
    }
   ],
   "source": [
    "from scipy.cluster import hierarchy as sch\n",
    "linkage_function = lambda x: sch.linkage(x, 'single', optimal_ordering=True)\n",
    "hierarchical_topics = topic_model.hierarchical_topics(descriptions, linkage_function=linkage_function)"
   ]
  },
  {
   "cell_type": "code",
   "execution_count": 35,
   "metadata": {},
   "outputs": [
    {
     "data": {
      "application/vnd.plotly.v1+json": {
       "config": {
        "plotlyServerURL": "https://plot.ly"
       },
       "data": [
        {
         "hoverinfo": "text",
         "marker": {
          "color": "rgb(61,153,112)"
         },
         "mode": "lines",
         "text": [
          "timber_outbuilding_clad_garden_purposes",
          "",
          "",
          "timber_garden_metre_ancillary_outbuilding"
         ],
         "type": "scatter",
         "x": [
          0,
          0.30362146404304535,
          0.30362146404304535,
          0
         ],
         "xaxis": "x",
         "y": [
          -5,
          -5,
          -15,
          -15
         ],
         "yaxis": "y"
        },
        {
         "hoverinfo": "text",
         "marker": {
          "color": "rgb(61,153,112)"
         },
         "mode": "lines",
         "text": [
          "outbuilding_garden_in_erection_an",
          "",
          "",
          "outbuilding_garden_in_ancillary_single"
         ],
         "type": "scatter",
         "x": [
          0,
          0.1302645641509066,
          0.1302645641509066,
          0
         ],
         "xaxis": "x",
         "y": [
          -35,
          -35,
          -45,
          -45
         ],
         "yaxis": "y"
        },
        {
         "hoverinfo": "text",
         "marker": {
          "color": "rgb(61,153,112)"
         },
         "mode": "lines",
         "text": [
          "outbuilding_garden_in_ancillary_single",
          "",
          "",
          "garden_outbuilding_in_c3_ancillary"
         ],
         "type": "scatter",
         "x": [
          0.1302645641509066,
          0.25356465968167585,
          0.25356465968167585,
          0
         ],
         "xaxis": "x",
         "y": [
          -40,
          -40,
          -55,
          -55
         ],
         "yaxis": "y"
        },
        {
         "hoverinfo": "text",
         "marker": {
          "color": "rgb(61,153,112)"
         },
         "mode": "lines",
         "text": [
          "outbuilding_single_ancillary_erection_storey",
          "",
          "",
          "outbuilding_garden_in_ancillary_single"
         ],
         "type": "scatter",
         "x": [
          0,
          0.37090907910157306,
          0.37090907910157306,
          0.25356465968167585
         ],
         "xaxis": "x",
         "y": [
          -25,
          -25,
          -47.5,
          -47.5
         ],
         "yaxis": "y"
        },
        {
         "hoverinfo": "text",
         "marker": {
          "color": "rgb(61,153,112)"
         },
         "mode": "lines",
         "text": [
          "outbuilding_garden_in_ancillary_single",
          "",
          "",
          "green_outbuilding_garden_outbuildings_clad"
         ],
         "type": "scatter",
         "x": [
          0.37090907910157306,
          0.5173902914347989,
          0.5173902914347989,
          0
         ],
         "xaxis": "x",
         "y": [
          -36.25,
          -36.25,
          -65,
          -65
         ],
         "yaxis": "y"
        },
        {
         "hoverinfo": "text",
         "marker": {
          "color": "rgb(61,153,112)"
         },
         "mode": "lines",
         "text": [
          "timber_outbuilding_garden_clad_ancillary",
          "",
          "",
          "outbuilding_garden_in_ancillary_single"
         ],
         "type": "scatter",
         "x": [
          0.30362146404304535,
          0.7887968040491241,
          0.7887968040491241,
          0.5173902914347989
         ],
         "xaxis": "x",
         "y": [
          -10,
          -10,
          -50.625,
          -50.625
         ],
         "yaxis": "y"
        },
        {
         "hoverinfo": "text",
         "marker": {
          "color": "rgb(255,65,54)"
         },
         "mode": "lines",
         "text": [
          "shopfront_alterations_shopfronts_signs_shop",
          "",
          "",
          "replacement_shopfront_shop_street_mercer"
         ],
         "type": "scatter",
         "x": [
          0,
          0.5065691054886508,
          0.5065691054886508,
          0
         ],
         "xaxis": "x",
         "y": [
          -85,
          -85,
          -95,
          -95
         ],
         "yaxis": "y"
        },
        {
         "hoverinfo": "text",
         "marker": {
          "color": "rgb(255,65,54)"
         },
         "mode": "lines",
         "text": [
          "shopfront_unit_doorway_elevations_reconfiguration",
          "",
          "",
          "replacement_shopfront_shop_street_mercer"
         ],
         "type": "scatter",
         "x": [
          0,
          0.608758620414078,
          0.608758620414078,
          0.5065691054886508
         ],
         "xaxis": "x",
         "y": [
          -75,
          -75,
          -90,
          -90
         ],
         "yaxis": "y"
        },
        {
         "hoverinfo": "text",
         "marker": {
          "color": "rgb(255,65,54)"
         },
         "mode": "lines",
         "text": [
          "shopfront_shop_a1_retail_unit",
          "",
          "",
          "retention_shopfront_a1_shop_retail"
         ],
         "type": "scatter",
         "x": [
          0,
          0.4017323613308742,
          0.4017323613308742,
          0
         ],
         "xaxis": "x",
         "y": [
          -105,
          -105,
          -115,
          -115
         ],
         "yaxis": "y"
        },
        {
         "hoverinfo": "text",
         "marker": {
          "color": "rgb(255,65,54)"
         },
         "mode": "lines",
         "text": [
          "shopfront_shop_a1_retail_unit",
          "",
          "",
          "shopfront_shop_a1_retail_retention"
         ],
         "type": "scatter",
         "x": [
          0.608758620414078,
          0.7048257277160397,
          0.7048257277160397,
          0.4017323613308742
         ],
         "xaxis": "x",
         "y": [
          -82.5,
          -82.5,
          -110,
          -110
         ],
         "yaxis": "y"
        },
        {
         "hoverinfo": "text",
         "marker": {
          "color": "rgb(35,205,205)"
         },
         "mode": "lines",
         "text": [
          "telephone_kiosk_box_bt_pod",
          "",
          "",
          "bt_telephone_phone_fi_wi"
         ],
         "type": "scatter",
         "x": [
          0,
          0.6310179229754371,
          0.6310179229754371,
          0
         ],
         "xaxis": "x",
         "y": [
          -125,
          -125,
          -135,
          -135
         ],
         "yaxis": "y"
        },
        {
         "hoverinfo": "text",
         "marker": {
          "color": "rgb(133,20,75)"
         },
         "mode": "lines",
         "text": [
          "canopy_porch_entrance_porches_glazed",
          "",
          "",
          "entrance_farringdon_door_kilburn_steps"
         ],
         "type": "scatter",
         "x": [
          0,
          0.7556531900615011,
          0.7556531900615011,
          0
         ],
         "xaxis": "x",
         "y": [
          -145,
          -145,
          -155,
          -155
         ],
         "yaxis": "y"
        },
        {
         "hoverinfo": "text",
         "marker": {
          "color": "rgb(255,220,0)"
         },
         "mode": "lines",
         "text": [
          "fascia_shopfront_sign_signage_atm",
          "",
          "",
          "atm_machine_teller_automated_bank"
         ],
         "type": "scatter",
         "x": [
          0,
          0.76258562417418,
          0.76258562417418,
          0
         ],
         "xaxis": "x",
         "y": [
          -175,
          -175,
          -185,
          -185
         ],
         "yaxis": "y"
        },
        {
         "hoverinfo": "text",
         "marker": {
          "color": "rgb(255,220,0)"
         },
         "mode": "lines",
         "text": [
          "facade_pilasters_redecoration_shopfront_stucco",
          "",
          "",
          "atm_machine_teller_automated_bank"
         ],
         "type": "scatter",
         "x": [
          0,
          0.8757417314521063,
          0.8757417314521063,
          0.76258562417418
         ],
         "xaxis": "x",
         "y": [
          -165,
          -165,
          -180,
          -180
         ],
         "yaxis": "y"
        },
        {
         "hoverinfo": "text",
         "marker": {
          "color": "rgb(255,220,0)"
         },
         "mode": "lines",
         "text": [
          "facade_pilasters_redecoration_shopfront_stucco",
          "",
          "",
          "shutter_roller_shutters_retention_security"
         ],
         "type": "scatter",
         "x": [
          0.8757417314521063,
          0.9605020307367168,
          0.9605020307367168,
          0
         ],
         "xaxis": "x",
         "y": [
          -172.5,
          -172.5,
          -195,
          -195
         ],
         "yaxis": "y"
        },
        {
         "hoverinfo": "text",
         "marker": {
          "color": "rgb(0,116,217)"
         },
         "mode": "lines",
         "text": [
          "facade_pilasters_redecoration_shopfront_stucco",
          "",
          "",
          "shutter_roller_shutters_retention_security"
         ],
         "type": "scatter",
         "x": [
          0.7556531900615011,
          1.0362911482989139,
          1.0362911482989139,
          0.9605020307367168
         ],
         "xaxis": "x",
         "y": [
          -150,
          -150,
          -183.75,
          -183.75
         ],
         "yaxis": "y"
        },
        {
         "hoverinfo": "text",
         "marker": {
          "color": "rgb(40,35,35)"
         },
         "mode": "lines",
         "text": [
          "duct_extract_ducting_ventilation_extraction",
          "",
          "",
          "flue_extract_boiler_kitchen_retention"
         ],
         "type": "scatter",
         "x": [
          0,
          0.7708711424796317,
          0.7708711424796317,
          0
         ],
         "xaxis": "x",
         "y": [
          -215,
          -215,
          -225,
          -225
         ],
         "yaxis": "y"
        },
        {
         "hoverinfo": "text",
         "marker": {
          "color": "rgb(40,35,35)"
         },
         "mode": "lines",
         "text": [
          "air_conditioning_condenser_retention_unit",
          "",
          "",
          "extract_duct_flue_ducting_ventilation"
         ],
         "type": "scatter",
         "x": [
          0,
          0.8525787290455716,
          0.8525787290455716,
          0.7708711424796317
         ],
         "xaxis": "x",
         "y": [
          -205,
          -205,
          -220,
          -220
         ],
         "yaxis": "y"
        },
        {
         "hoverinfo": "text",
         "marker": {
          "color": "rgb(61,153,112)"
         },
         "mode": "lines",
         "text": [
          "mezzanine_annex_oversailing_midlands_roof",
          "",
          "",
          "chimney_stack_like_arms_buttress"
         ],
         "type": "scatter",
         "x": [
          0,
          0.9502246682263328,
          0.9502246682263328,
          0
         ],
         "xaxis": "x",
         "y": [
          -245,
          -245,
          -255,
          -255
         ],
         "yaxis": "y"
        },
        {
         "hoverinfo": "text",
         "marker": {
          "color": "rgb(61,153,112)"
         },
         "mode": "lines",
         "text": [
          "pergola_pergolas_planting_seating_steel",
          "",
          "",
          "chimney_stack_like_arms_buttress"
         ],
         "type": "scatter",
         "x": [
          0,
          0.9733277842076188,
          0.9733277842076188,
          0.9502246682263328
         ],
         "xaxis": "x",
         "y": [
          -235,
          -235,
          -250,
          -250
         ],
         "yaxis": "y"
        },
        {
         "hoverinfo": "text",
         "marker": {
          "color": "rgb(61,153,112)"
         },
         "mode": "lines",
         "text": [
          "pergola_pergolas_planting_seating_steel",
          "",
          "",
          "antennas_dishes_cabinets_equipment_aerial"
         ],
         "type": "scatter",
         "x": [
          0.9733277842076188,
          0.9792205829787181,
          0.9792205829787181,
          0
         ],
         "xaxis": "x",
         "y": [
          -242.5,
          -242.5,
          -265,
          -265
         ],
         "yaxis": "y"
        },
        {
         "hoverinfo": "text",
         "marker": {
          "color": "rgb(61,153,112)"
         },
         "mode": "lines",
         "text": [
          "pergola_pergolas_planting_seating_steel",
          "",
          "",
          "docking_hire_terminal_points_maximum"
         ],
         "type": "scatter",
         "x": [
          0.9792205829787181,
          0.9970963456084986,
          0.9970963456084986,
          0
         ],
         "xaxis": "x",
         "y": [
          -253.75,
          -253.75,
          -275,
          -275
         ],
         "yaxis": "y"
        },
        {
         "hoverinfo": "text",
         "marker": {
          "color": "rgb(0,116,217)"
         },
         "mode": "lines",
         "text": [
          "pergola_pergolas_planting_seating_steel",
          "",
          "",
          "docking_hire_terminal_points_maximum"
         ],
         "type": "scatter",
         "x": [
          0.8525787290455716,
          1.0886840498567651,
          1.0886840498567651,
          0.9970963456084986
         ],
         "xaxis": "x",
         "y": [
          -212.5,
          -212.5,
          -264.375,
          -264.375
         ],
         "yaxis": "y"
        },
        {
         "hoverinfo": "text",
         "marker": {
          "color": "rgb(0,116,217)"
         },
         "mode": "lines",
         "text": [
          "pergola_pergolas_planting_seating_steel",
          "",
          "",
          "docking_hire_terminal_points_maximum"
         ],
         "type": "scatter",
         "x": [
          1.0362911482989139,
          1.192244639485878,
          1.192244639485878,
          1.0886840498567651
         ],
         "xaxis": "x",
         "y": [
          -166.875,
          -166.875,
          -238.4375,
          -238.4375
         ],
         "yaxis": "y"
        },
        {
         "hoverinfo": "text",
         "marker": {
          "color": "rgb(0,116,217)"
         },
         "mode": "lines",
         "text": [
          "telephone_bt_kiosk_phone_fi",
          "",
          "",
          "docking_hire_terminal_points_maximum"
         ],
         "type": "scatter",
         "x": [
          0.6310179229754371,
          1.2394242370397004,
          1.2394242370397004,
          1.192244639485878
         ],
         "xaxis": "x",
         "y": [
          -130,
          -130,
          -202.65625,
          -202.65625
         ],
         "yaxis": "y"
        },
        {
         "hoverinfo": "text",
         "marker": {
          "color": "rgb(255,65,54)"
         },
         "mode": "lines",
         "text": [
          "shed_retention_garden_timber_storage",
          "",
          "",
          "shed_garden_timber_sheds_in"
         ],
         "type": "scatter",
         "x": [
          0,
          0.3047922360599268,
          0.3047922360599268,
          0
         ],
         "xaxis": "x",
         "y": [
          -285,
          -285,
          -295,
          -295
         ],
         "yaxis": "y"
        },
        {
         "hoverinfo": "text",
         "marker": {
          "color": "rgb(0,116,217)"
         },
         "mode": "lines",
         "text": [
          "shed_retention_garden_timber_storage",
          "",
          "",
          "shed_garden_timber_retention_sheds"
         ],
         "type": "scatter",
         "x": [
          1.2394242370397004,
          1.2973215637809277,
          1.2973215637809277,
          0.3047922360599268
         ],
         "xaxis": "x",
         "y": [
          -166.328125,
          -166.328125,
          -290,
          -290
         ],
         "yaxis": "y"
        },
        {
         "hoverinfo": "text",
         "marker": {
          "color": "rgb(35,205,205)"
         },
         "mode": "lines",
         "text": [
          "garden_room_marquees_november_january",
          "",
          "",
          "sculpture_statue_plinth_display_sited"
         ],
         "type": "scatter",
         "x": [
          0,
          0.8717120428906027,
          0.8717120428906027,
          0
         ],
         "xaxis": "x",
         "y": [
          -305,
          -305,
          -315,
          -315
         ],
         "yaxis": "y"
        },
        {
         "hoverinfo": "text",
         "marker": {
          "color": "rgb(35,205,205)"
         },
         "mode": "lines",
         "text": [
          "filming_temporary_july_location_officials",
          "",
          "",
          "led_temporary_piazza_incorporating_june"
         ],
         "type": "scatter",
         "x": [
          0,
          0.7279342402797153,
          0.7279342402797153,
          0
         ],
         "xaxis": "x",
         "y": [
          -325,
          -325,
          -335,
          -335
         ],
         "yaxis": "y"
        },
        {
         "hoverinfo": "text",
         "marker": {
          "color": "rgb(35,205,205)"
         },
         "mode": "lines",
         "text": [
          "temporary_between_led_piazza_june",
          "",
          "",
          "until_f1_education_years_2022"
         ],
         "type": "scatter",
         "x": [
          0.7279342402797153,
          0.7946833438890576,
          0.7946833438890576,
          0
         ],
         "xaxis": "x",
         "y": [
          -330,
          -330,
          -345,
          -345
         ],
         "yaxis": "y"
        },
        {
         "hoverinfo": "text",
         "marker": {
          "color": "rgb(35,205,205)"
         },
         "mode": "lines",
         "text": [
          "temporary_between_led_piazza_june",
          "",
          "",
          "until_f1_education_years_2022"
         ],
         "type": "scatter",
         "x": [
          0.8717120428906027,
          0.9197607339433302,
          0.9197607339433302,
          0.7946833438890576
         ],
         "xaxis": "x",
         "y": [
          -310,
          -310,
          -337.5,
          -337.5
         ],
         "yaxis": "y"
        },
        {
         "hoverinfo": "text",
         "marker": {
          "color": "rgb(35,205,205)"
         },
         "mode": "lines",
         "text": [
          "temporary_structures_allotment_technology_classroom",
          "",
          "",
          "school_classroom_d1_playground_nursery"
         ],
         "type": "scatter",
         "x": [
          0,
          0.6449484878783058,
          0.6449484878783058,
          0
         ],
         "xaxis": "x",
         "y": [
          -355,
          -355,
          -365,
          -365
         ],
         "yaxis": "y"
        },
        {
         "hoverinfo": "text",
         "marker": {
          "color": "rgb(35,205,205)"
         },
         "mode": "lines",
         "text": [
          "temporary_structures_allotment_technology_classroom",
          "",
          "",
          "school_classroom_d1_temporary_playground"
         ],
         "type": "scatter",
         "x": [
          0.9197607339433302,
          0.9835840663353161,
          0.9835840663353161,
          0.6449484878783058
         ],
         "xaxis": "x",
         "y": [
          -323.75,
          -323.75,
          -360,
          -360
         ],
         "yaxis": "y"
        },
        {
         "hoverinfo": "text",
         "marker": {
          "color": "rgb(0,116,217)"
         },
         "mode": "lines",
         "text": [
          "temporary_structures_allotment_technology_classroom",
          "",
          "",
          "school_classroom_d1_temporary_playground"
         ],
         "type": "scatter",
         "x": [
          1.2973215637809277,
          1.4474349871776397,
          1.4474349871776397,
          0.9835840663353161
         ],
         "xaxis": "x",
         "y": [
          -228.1640625,
          -228.1640625,
          -341.875,
          -341.875
         ],
         "yaxis": "y"
        },
        {
         "hoverinfo": "text",
         "marker": {
          "color": "rgb(0,116,217)"
         },
         "mode": "lines",
         "text": [
          "temporary_structures_allotment_technology_classroom",
          "",
          "",
          "school_classroom_d1_temporary_playground"
         ],
         "type": "scatter",
         "x": [
          0.7048257277160397,
          1.6308167186609892,
          1.6308167186609892,
          1.4474349871776397
         ],
         "xaxis": "x",
         "y": [
          -96.25,
          -96.25,
          -285.01953125,
          -285.01953125
         ],
         "yaxis": "y"
        },
        {
         "hoverinfo": "text",
         "marker": {
          "color": "rgb(61,153,112)"
         },
         "mode": "lines",
         "text": [
          "hotel_c1_euston_fitzroy_worship",
          "",
          "",
          "hotel_closet_wing_c1_guestrooms"
         ],
         "type": "scatter",
         "x": [
          0,
          0.5727754341883413,
          0.5727754341883413,
          0
         ],
         "xaxis": "x",
         "y": [
          -375,
          -375,
          -385,
          -385
         ],
         "yaxis": "y"
        },
        {
         "hoverinfo": "text",
         "marker": {
          "color": "rgb(61,153,112)"
         },
         "mode": "lines",
         "text": [
          "hotel_c1_closet_wing_rooms",
          "",
          "",
          "fire_escape_exit_staircases_steel"
         ],
         "type": "scatter",
         "x": [
          0.5727754341883413,
          0.9636207953791217,
          0.9636207953791217,
          0
         ],
         "xaxis": "x",
         "y": [
          -380,
          -380,
          -395,
          -395
         ],
         "yaxis": "y"
        },
        {
         "hoverinfo": "text",
         "marker": {
          "color": "rgb(255,65,54)"
         },
         "mode": "lines",
         "text": [
          "plant_210_euston_rooftop_enclosure",
          "",
          "",
          "external_internal_room_plant_stage"
         ],
         "type": "scatter",
         "x": [
          0,
          0.7834417570108959,
          0.7834417570108959,
          0
         ],
         "xaxis": "x",
         "y": [
          -405,
          -405,
          -415,
          -415
         ],
         "yaxis": "y"
        },
        {
         "hoverinfo": "text",
         "marker": {
          "color": "rgb(255,65,54)"
         },
         "mode": "lines",
         "text": [
          "office_roof_b1a_b1_space",
          "",
          "",
          "refurbishment_office_building_plant_space"
         ],
         "type": "scatter",
         "x": [
          0,
          0.5048379164554933,
          0.5048379164554933,
          0
         ],
         "xaxis": "x",
         "y": [
          -435,
          -435,
          -445,
          -445
         ],
         "yaxis": "y"
        },
        {
         "hoverinfo": "text",
         "marker": {
          "color": "rgb(255,65,54)"
         },
         "mode": "lines",
         "text": [
          "infill_additional_lightwell_atrium_spotlights",
          "",
          "",
          "refurbishment_office_building_plant_space"
         ],
         "type": "scatter",
         "x": [
          0,
          0.6517068537418488,
          0.6517068537418488,
          0.5048379164554933
         ],
         "xaxis": "x",
         "y": [
          -425,
          -425,
          -440,
          -440
         ],
         "yaxis": "y"
        },
        {
         "hoverinfo": "text",
         "marker": {
          "color": "rgb(255,65,54)"
         },
         "mode": "lines",
         "text": [
          "infill_additional_lightwell_atrium_spotlights",
          "",
          "",
          "office_concierge_scaffolding_queensmead_offices"
         ],
         "type": "scatter",
         "x": [
          0.6517068537418488,
          0.782270090470969,
          0.782270090470969,
          0
         ],
         "xaxis": "x",
         "y": [
          -432.5,
          -432.5,
          -455,
          -455
         ],
         "yaxis": "y"
        },
        {
         "hoverinfo": "text",
         "marker": {
          "color": "rgb(255,65,54)"
         },
         "mode": "lines",
         "text": [
          "infill_additional_lightwell_atrium_spotlights",
          "",
          "",
          "office_concierge_scaffolding_queensmead_offices"
         ],
         "type": "scatter",
         "x": [
          0.7834417570108959,
          0.9130334361628619,
          0.9130334361628619,
          0.782270090470969
         ],
         "xaxis": "x",
         "y": [
          -410,
          -410,
          -443.75,
          -443.75
         ],
         "yaxis": "y"
        },
        {
         "hoverinfo": "text",
         "marker": {
          "color": "rgb(0,116,217)"
         },
         "mode": "lines",
         "text": [
          "infill_additional_lightwell_atrium_spotlights",
          "",
          "",
          "office_concierge_scaffolding_queensmead_offices"
         ],
         "type": "scatter",
         "x": [
          0.9636207953791217,
          1.1026909718361468,
          1.1026909718361468,
          0.9130334361628619
         ],
         "xaxis": "x",
         "y": [
          -387.5,
          -387.5,
          -426.875,
          -426.875
         ],
         "yaxis": "y"
        },
        {
         "hoverinfo": "text",
         "marker": {
          "color": "rgb(35,205,205)"
         },
         "mode": "lines",
         "text": [
          "comprising_four_bed_units_building",
          "",
          "",
          "building_plus_following_units_comprising"
         ],
         "type": "scatter",
         "x": [
          0,
          0.3999504128585314,
          0.3999504128585314,
          0
         ],
         "xaxis": "x",
         "y": [
          -465,
          -465,
          -475,
          -475
         ],
         "yaxis": "y"
        },
        {
         "hoverinfo": "text",
         "marker": {
          "color": "rgb(35,205,205)"
         },
         "mode": "lines",
         "text": [
          "building_units_plus_following_comprising",
          "",
          "",
          "warehouse_b8_building_following_comprising"
         ],
         "type": "scatter",
         "x": [
          0.3999504128585314,
          0.5323269030112687,
          0.5323269030112687,
          0
         ],
         "xaxis": "x",
         "y": [
          -470,
          -470,
          -485,
          -485
         ],
         "yaxis": "y"
        },
        {
         "hoverinfo": "text",
         "marker": {
          "color": "rgb(35,205,205)"
         },
         "mode": "lines",
         "text": [
          "building_comprising_demolition_buildings_storeys",
          "",
          "",
          "redevelopment_site_buildings_parking_storeys"
         ],
         "type": "scatter",
         "x": [
          0,
          0.36776500570744697,
          0.36776500570744697,
          0
         ],
         "xaxis": "x",
         "y": [
          -495,
          -495,
          -505,
          -505
         ],
         "yaxis": "y"
        },
        {
         "hoverinfo": "text",
         "marker": {
          "color": "rgb(35,205,205)"
         },
         "mode": "lines",
         "text": [
          "building_comprising_demolition_buildings_storeys",
          "",
          "",
          "redevelopment_buildings_site_storeys_parking"
         ],
         "type": "scatter",
         "x": [
          0.5323269030112687,
          0.622041612483094,
          0.622041612483094,
          0.36776500570744697
         ],
         "xaxis": "x",
         "y": [
          -477.5,
          -477.5,
          -500,
          -500
         ],
         "yaxis": "y"
        },
        {
         "hoverinfo": "text",
         "marker": {
          "color": "rgb(0,116,217)"
         },
         "mode": "lines",
         "text": [
          "building_comprising_demolition_buildings_storeys",
          "",
          "",
          "building_buildings_comprising_demolition_redevelopment"
         ],
         "type": "scatter",
         "x": [
          1.1026909718361468,
          1.3936458306011152,
          1.3936458306011152,
          0.622041612483094
         ],
         "xaxis": "x",
         "y": [
          -407.1875,
          -407.1875,
          -488.75,
          -488.75
         ],
         "yaxis": "y"
        },
        {
         "hoverinfo": "text",
         "marker": {
          "color": "rgb(133,20,75)"
         },
         "mode": "lines",
         "text": [
          "hostel_nurses_sui_generis_backpackers",
          "",
          "",
          "work_live_sui_generis_unit"
         ],
         "type": "scatter",
         "x": [
          0,
          0.7067114829728522,
          0.7067114829728522,
          0
         ],
         "xaxis": "x",
         "y": [
          -515,
          -515,
          -525,
          -525
         ],
         "yaxis": "y"
        },
        {
         "hoverinfo": "text",
         "marker": {
          "color": "rgb(133,20,75)"
         },
         "mode": "lines",
         "text": [
          "b8_car_sui_generis_park",
          "",
          "",
          "market_sui_generis_continued_every"
         ],
         "type": "scatter",
         "x": [
          0,
          0.7317355929576914,
          0.7317355929576914,
          0
         ],
         "xaxis": "x",
         "y": [
          -535,
          -535,
          -545,
          -545
         ],
         "yaxis": "y"
        },
        {
         "hoverinfo": "text",
         "marker": {
          "color": "rgb(133,20,75)"
         },
         "mode": "lines",
         "text": [
          "sui_generis_a1_retail_cafe",
          "",
          "",
          "beauty_salon_generis_sui_tattoo"
         ],
         "type": "scatter",
         "x": [
          0,
          0.5368475648544213,
          0.5368475648544213,
          0
         ],
         "xaxis": "x",
         "y": [
          -555,
          -555,
          -565,
          -565
         ],
         "yaxis": "y"
        },
        {
         "hoverinfo": "text",
         "marker": {
          "color": "rgb(133,20,75)"
         },
         "mode": "lines",
         "text": [
          "sui_generis_a1_retail_cafe",
          "",
          "",
          "generis_sui_beauty_salon_a1"
         ],
         "type": "scatter",
         "x": [
          0.7317355929576914,
          0.7651940791405896,
          0.7651940791405896,
          0.5368475648544213
         ],
         "xaxis": "x",
         "y": [
          -540,
          -540,
          -560,
          -560
         ],
         "yaxis": "y"
        },
        {
         "hoverinfo": "text",
         "marker": {
          "color": "rgb(133,20,75)"
         },
         "mode": "lines",
         "text": [
          "sui_generis_a1_retail_cafe",
          "",
          "",
          "generis_sui_beauty_salon_a1"
         ],
         "type": "scatter",
         "x": [
          0.7067114829728522,
          0.7699405288922885,
          0.7699405288922885,
          0.7651940791405896
         ],
         "xaxis": "x",
         "y": [
          -520,
          -520,
          -550,
          -550
         ],
         "yaxis": "y"
        },
        {
         "hoverinfo": "text",
         "marker": {
          "color": "rgb(255,220,0)"
         },
         "mode": "lines",
         "text": [
          "clinic_d1_medical_health_b1",
          "",
          "",
          "d1_educational_b1_or_institution"
         ],
         "type": "scatter",
         "x": [
          0,
          0.4960106093827543,
          0.4960106093827543,
          0
         ],
         "xaxis": "x",
         "y": [
          -585,
          -585,
          -595,
          -595
         ],
         "yaxis": "y"
        },
        {
         "hoverinfo": "text",
         "marker": {
          "color": "rgb(255,220,0)"
         },
         "mode": "lines",
         "text": [
          "d1_b1_educational_office_or",
          "",
          "",
          "d2_fitness_yoga_gym_studio"
         ],
         "type": "scatter",
         "x": [
          0.4960106093827543,
          0.7452251632561566,
          0.7452251632561566,
          0
         ],
         "xaxis": "x",
         "y": [
          -590,
          -590,
          -605,
          -605
         ],
         "yaxis": "y"
        },
        {
         "hoverinfo": "text",
         "marker": {
          "color": "rgb(255,220,0)"
         },
         "mode": "lines",
         "text": [
          "dental_surgery_practice_d1_change",
          "",
          "",
          "d2_fitness_yoga_gym_studio"
         ],
         "type": "scatter",
         "x": [
          0,
          0.8561063942084561,
          0.8561063942084561,
          0.7452251632561566
         ],
         "xaxis": "x",
         "y": [
          -575,
          -575,
          -597.5,
          -597.5
         ],
         "yaxis": "y"
        },
        {
         "hoverinfo": "text",
         "marker": {
          "color": "rgb(40,35,35)"
         },
         "mode": "lines",
         "text": [
          "retail_a1_change_residential_part",
          "",
          "",
          "a1_retail_b1_office_change"
         ],
         "type": "scatter",
         "x": [
          0,
          0.44538431730271477,
          0.44538431730271477,
          0
         ],
         "xaxis": "x",
         "y": [
          -625,
          -625,
          -635,
          -635
         ],
         "yaxis": "y"
        },
        {
         "hoverinfo": "text",
         "marker": {
          "color": "rgb(40,35,35)"
         },
         "mode": "lines",
         "text": [
          "retail_unit_a1_shop_blackburn",
          "",
          "",
          "a1_retail_change_use_from"
         ],
         "type": "scatter",
         "x": [
          0,
          0.523979538899723,
          0.523979538899723,
          0.44538431730271477
         ],
         "xaxis": "x",
         "y": [
          -615,
          -615,
          -630,
          -630
         ],
         "yaxis": "y"
        },
        {
         "hoverinfo": "text",
         "marker": {
          "color": "rgb(40,35,35)"
         },
         "mode": "lines",
         "text": [
          "professional_financial_services_a2_a1",
          "",
          "",
          "student_hostel_commercial_basements_mhrc"
         ],
         "type": "scatter",
         "x": [
          0,
          0.7283182474688572,
          0.7283182474688572,
          0
         ],
         "xaxis": "x",
         "y": [
          -655,
          -655,
          -665,
          -665
         ],
         "yaxis": "y"
        },
        {
         "hoverinfo": "text",
         "marker": {
          "color": "rgb(40,35,35)"
         },
         "mode": "lines",
         "text": [
          "estate_agents_a2_agent_shop",
          "",
          "",
          "student_hostel_commercial_basements_mhrc"
         ],
         "type": "scatter",
         "x": [
          0,
          0.8671261296231201,
          0.8671261296231201,
          0.7283182474688572
         ],
         "xaxis": "x",
         "y": [
          -645,
          -645,
          -660,
          -660
         ],
         "yaxis": "y"
        },
        {
         "hoverinfo": "text",
         "marker": {
          "color": "rgb(40,35,35)"
         },
         "mode": "lines",
         "text": [
          "estate_agents_a2_agent_shop",
          "",
          "",
          "drinking_establishment_a4_duel_lavatories"
         ],
         "type": "scatter",
         "x": [
          0.8671261296231201,
          0.9321643924673021,
          0.9321643924673021,
          0
         ],
         "xaxis": "x",
         "y": [
          -652.5,
          -652.5,
          -675,
          -675
         ],
         "yaxis": "y"
        },
        {
         "hoverinfo": "text",
         "marker": {
          "color": "rgb(40,35,35)"
         },
         "mode": "lines",
         "text": [
          "estate_agents_a2_agent_shop",
          "",
          "",
          "drinking_establishment_a4_duel_lavatories"
         ],
         "type": "scatter",
         "x": [
          0.523979538899723,
          0.9934059195962149,
          0.9934059195962149,
          0.9321643924673021
         ],
         "xaxis": "x",
         "y": [
          -622.5,
          -622.5,
          -663.75,
          -663.75
         ],
         "yaxis": "y"
        },
        {
         "hoverinfo": "text",
         "marker": {
          "color": "rgb(0,116,217)"
         },
         "mode": "lines",
         "text": [
          "estate_agents_a2_agent_shop",
          "",
          "",
          "drinking_establishment_a4_duel_lavatories"
         ],
         "type": "scatter",
         "x": [
          0.8561063942084561,
          1.1128029684742808,
          1.1128029684742808,
          0.9934059195962149
         ],
         "xaxis": "x",
         "y": [
          -586.25,
          -586.25,
          -643.125,
          -643.125
         ],
         "yaxis": "y"
        },
        {
         "hoverinfo": "text",
         "marker": {
          "color": "rgb(0,116,217)"
         },
         "mode": "lines",
         "text": [
          "estate_agents_a2_agent_shop",
          "",
          "",
          "drinking_establishment_a4_duel_lavatories"
         ],
         "type": "scatter",
         "x": [
          0.7699405288922885,
          1.364105983914885,
          1.364105983914885,
          1.1128029684742808
         ],
         "xaxis": "x",
         "y": [
          -535,
          -535,
          -614.6875,
          -614.6875
         ],
         "yaxis": "y"
        },
        {
         "hoverinfo": "text",
         "marker": {
          "color": "rgb(61,153,112)"
         },
         "mode": "lines",
         "text": [
          "restaurant_a3_a1_a5_retail",
          "",
          "",
          "restaurant_a3_change_use_basement"
         ],
         "type": "scatter",
         "x": [
          0,
          0.27530619190892336,
          0.27530619190892336,
          0
         ],
         "xaxis": "x",
         "y": [
          -695,
          -695,
          -705,
          -705
         ],
         "yaxis": "y"
        },
        {
         "hoverinfo": "text",
         "marker": {
          "color": "rgb(61,153,112)"
         },
         "mode": "lines",
         "text": [
          "restaurant_a3_a1_retail_change",
          "",
          "",
          "restaurant_a3_b1a_office_bar"
         ],
         "type": "scatter",
         "x": [
          0.27530619190892336,
          0.4560317851750147,
          0.4560317851750147,
          0
         ],
         "xaxis": "x",
         "y": [
          -700,
          -700,
          -715,
          -715
         ],
         "yaxis": "y"
        },
        {
         "hoverinfo": "text",
         "marker": {
          "color": "rgb(61,153,112)"
         },
         "mode": "lines",
         "text": [
          "restaurant_a3_third_second_from",
          "",
          "",
          "restaurant_a3_change_use_a1"
         ],
         "type": "scatter",
         "x": [
          0,
          0.493851651031819,
          0.493851651031819,
          0.4560317851750147
         ],
         "xaxis": "x",
         "y": [
          -685,
          -685,
          -707.5,
          -707.5
         ],
         "yaxis": "y"
        },
        {
         "hoverinfo": "text",
         "marker": {
          "color": "rgb(61,153,112)"
         },
         "mode": "lines",
         "text": [
          "restaurant_a3_change_use_from",
          "",
          "",
          "restaurant_a3_reclad_point_infilling"
         ],
         "type": "scatter",
         "x": [
          0.493851651031819,
          0.6733407312824384,
          0.6733407312824384,
          0
         ],
         "xaxis": "x",
         "y": [
          -696.25,
          -696.25,
          -725,
          -725
         ],
         "yaxis": "y"
        },
        {
         "hoverinfo": "text",
         "marker": {
          "color": "rgb(0,116,217)"
         },
         "mode": "lines",
         "text": [
          "restaurant_a3_change_use_from",
          "",
          "",
          "restaurant_a3_reclad_point_infilling"
         ],
         "type": "scatter",
         "x": [
          1.364105983914885,
          1.5180177131177235,
          1.5180177131177235,
          0.6733407312824384
         ],
         "xaxis": "x",
         "y": [
          -574.84375,
          -574.84375,
          -710.625,
          -710.625
         ],
         "yaxis": "y"
        },
        {
         "hoverinfo": "text",
         "marker": {
          "color": "rgb(0,116,217)"
         },
         "mode": "lines",
         "text": [
          "restaurant_a3_change_use_from",
          "",
          "",
          "restaurant_a3_reclad_point_infilling"
         ],
         "type": "scatter",
         "x": [
          1.3936458306011152,
          1.7226159238128853,
          1.7226159238128853,
          1.5180177131177235
         ],
         "xaxis": "x",
         "y": [
          -447.96875,
          -447.96875,
          -642.734375,
          -642.734375
         ],
         "yaxis": "y"
        },
        {
         "hoverinfo": "text",
         "marker": {
          "color": "rgb(0,116,217)"
         },
         "mode": "lines",
         "text": [
          "restaurant_a3_change_use_from",
          "",
          "",
          "restaurant_a3_reclad_point_infilling"
         ],
         "type": "scatter",
         "x": [
          1.6308167186609892,
          1.9296162761140319,
          1.9296162761140319,
          1.7226159238128853
         ],
         "xaxis": "x",
         "y": [
          -190.634765625,
          -190.634765625,
          -545.3515625,
          -545.3515625
         ],
         "yaxis": "y"
        },
        {
         "hoverinfo": "text",
         "marker": {
          "color": "rgb(0,116,217)"
         },
         "mode": "lines",
         "text": [
          "outbuilding_garden_in_timber_ancillary",
          "",
          "",
          "restaurant_a3_reclad_point_infilling"
         ],
         "type": "scatter",
         "x": [
          0.7887968040491241,
          2.239170347608037,
          2.239170347608037,
          1.9296162761140319
         ],
         "xaxis": "x",
         "y": [
          -30.3125,
          -30.3125,
          -367.9931640625,
          -367.9931640625
         ],
         "yaxis": "y"
        },
        {
         "hoverinfo": "text",
         "marker": {
          "color": "rgb(255,65,54)"
         },
         "mode": "lines",
         "text": [
          "infill_side_c3_single_extension",
          "",
          "",
          "infill_single_side_storey_extension"
         ],
         "type": "scatter",
         "x": [
          0,
          0.15953725245473604,
          0.15953725245473604,
          0
         ],
         "xaxis": "x",
         "y": [
          -745,
          -745,
          -755,
          -755
         ],
         "yaxis": "y"
        },
        {
         "hoverinfo": "text",
         "marker": {
          "color": "rgb(255,65,54)"
         },
         "mode": "lines",
         "text": [
          "infill_side_single_extension_storey",
          "",
          "",
          "infill_side_single_storey_roderick"
         ],
         "type": "scatter",
         "x": [
          0.15953725245473604,
          0.2295085979139936,
          0.2295085979139936,
          0
         ],
         "xaxis": "x",
         "y": [
          -750,
          -750,
          -765,
          -765
         ],
         "yaxis": "y"
        },
        {
         "hoverinfo": "text",
         "marker": {
          "color": "rgb(255,65,54)"
         },
         "mode": "lines",
         "text": [
          "infill_garde_void_extension_side",
          "",
          "",
          "infill_side_single_storey_extension"
         ],
         "type": "scatter",
         "x": [
          0,
          0.2715036998143823,
          0.2715036998143823,
          0.2295085979139936
         ],
         "xaxis": "x",
         "y": [
          -735,
          -735,
          -757.5,
          -757.5
         ],
         "yaxis": "y"
        },
        {
         "hoverinfo": "text",
         "marker": {
          "color": "rgb(35,205,205)"
         },
         "mode": "lines",
         "text": [
          "single_lower_storey_ground_level",
          "",
          "",
          "lower_single_storey_ground_extension"
         ],
         "type": "scatter",
         "x": [
          0,
          0.24656791082298768,
          0.24656791082298768,
          0
         ],
         "xaxis": "x",
         "y": [
          -795,
          -795,
          -805,
          -805
         ],
         "yaxis": "y"
        },
        {
         "hoverinfo": "text",
         "marker": {
          "color": "rgb(35,205,205)"
         },
         "mode": "lines",
         "text": [
          "lower_full_single_flat_extension",
          "",
          "",
          "single_lower_storey_ground_extension"
         ],
         "type": "scatter",
         "x": [
          0,
          0.3537890138895427,
          0.3537890138895427,
          0.24656791082298768
         ],
         "xaxis": "x",
         "y": [
          -785,
          -785,
          -800,
          -800
         ],
         "yaxis": "y"
        },
        {
         "hoverinfo": "text",
         "marker": {
          "color": "rgb(35,205,205)"
         },
         "mode": "lines",
         "text": [
          "lower_single_storey_ground_extension",
          "",
          "",
          "lower_ground_other_extension_erection"
         ],
         "type": "scatter",
         "x": [
          0.3537890138895427,
          0.4656698943464957,
          0.4656698943464957,
          0
         ],
         "xaxis": "x",
         "y": [
          -792.5,
          -792.5,
          -815,
          -815
         ],
         "yaxis": "y"
        },
        {
         "hoverinfo": "text",
         "marker": {
          "color": "rgb(35,205,205)"
         },
         "mode": "lines",
         "text": [
          "return_construction_extension_floor_ground",
          "",
          "",
          "lower_ground_other_extension_erection"
         ],
         "type": "scatter",
         "x": [
          0,
          0.6247271533677249,
          0.6247271533677249,
          0.4656698943464957
         ],
         "xaxis": "x",
         "y": [
          -775,
          -775,
          -803.75,
          -803.75
         ],
         "yaxis": "y"
        },
        {
         "hoverinfo": "text",
         "marker": {
          "color": "rgb(35,205,205)"
         },
         "mode": "lines",
         "text": [
          "flat_single_lower_storey_ground",
          "",
          "",
          "flat_c3_single_ground_extension"
         ],
         "type": "scatter",
         "x": [
          0,
          0.23065909584480893,
          0.23065909584480893,
          0
         ],
         "xaxis": "x",
         "y": [
          -825,
          -825,
          -835,
          -835
         ],
         "yaxis": "y"
        },
        {
         "hoverinfo": "text",
         "marker": {
          "color": "rgb(35,205,205)"
         },
         "mode": "lines",
         "text": [
          "connection_lower_c3_residential_single",
          "",
          "",
          "flat_c3_extension_motor_single"
         ],
         "type": "scatter",
         "x": [
          0,
          0.3506679524726488,
          0.3506679524726488,
          0
         ],
         "xaxis": "x",
         "y": [
          -845,
          -845,
          -855,
          -855
         ],
         "yaxis": "y"
        },
        {
         "hoverinfo": "text",
         "marker": {
          "color": "rgb(35,205,205)"
         },
         "mode": "lines",
         "text": [
          "flat_single_ground_storey_c3",
          "",
          "",
          "flat_c3_extension_motor_single"
         ],
         "type": "scatter",
         "x": [
          0.23065909584480893,
          0.3816703924008827,
          0.3816703924008827,
          0.3506679524726488
         ],
         "xaxis": "x",
         "y": [
          -830,
          -830,
          -850,
          -850
         ],
         "yaxis": "y"
        },
        {
         "hoverinfo": "text",
         "marker": {
          "color": "rgb(35,205,205)"
         },
         "mode": "lines",
         "text": [
          "flat_single_ground_storey_c3",
          "",
          "",
          "c3_single_side_storey_dwelling"
         ],
         "type": "scatter",
         "x": [
          0.3816703924008827,
          0.45801263684730364,
          0.45801263684730364,
          0
         ],
         "xaxis": "x",
         "y": [
          -840,
          -840,
          -865,
          -865
         ],
         "yaxis": "y"
        },
        {
         "hoverinfo": "text",
         "marker": {
          "color": "rgb(35,205,205)"
         },
         "mode": "lines",
         "text": [
          "flat_single_ground_storey_c3",
          "",
          "",
          "c3_single_side_storey_dwelling"
         ],
         "type": "scatter",
         "x": [
          0.6247271533677249,
          0.8316525143654943,
          0.8316525143654943,
          0.45801263684730364
         ],
         "xaxis": "x",
         "y": [
          -789.375,
          -789.375,
          -852.5,
          -852.5
         ],
         "yaxis": "y"
        },
        {
         "hoverinfo": "text",
         "marker": {
          "color": "rgb(61,153,112)"
         },
         "mode": "lines",
         "text": [
          "side_single_lower_storey_ground",
          "",
          "",
          "side_single_storey_extension_story"
         ],
         "type": "scatter",
         "x": [
          0,
          0.2977496952473554,
          0.2977496952473554,
          0
         ],
         "xaxis": "x",
         "y": [
          -875,
          -875,
          -885,
          -885
         ],
         "yaxis": "y"
        },
        {
         "hoverinfo": "text",
         "marker": {
          "color": "rgb(61,153,112)"
         },
         "mode": "lines",
         "text": [
          "single_storey_extension_erection_rear",
          "",
          "",
          "single_storey_extension_erection_rear"
         ],
         "type": "scatter",
         "x": [
          0,
          0.20752154622325025,
          0.20752154622325025,
          0
         ],
         "xaxis": "x",
         "y": [
          -905,
          -905,
          -915,
          -915
         ],
         "yaxis": "y"
        },
        {
         "hoverinfo": "text",
         "marker": {
          "color": "rgb(61,153,112)"
         },
         "mode": "lines",
         "text": [
          "single_metres_storey_depth_extension",
          "",
          "",
          "single_storey_extension_erection_rear"
         ],
         "type": "scatter",
         "x": [
          0,
          0.3116539014100701,
          0.3116539014100701,
          0.20752154622325025
         ],
         "xaxis": "x",
         "y": [
          -895,
          -895,
          -910,
          -910
         ],
         "yaxis": "y"
        },
        {
         "hoverinfo": "text",
         "marker": {
          "color": "rgb(61,153,112)"
         },
         "mode": "lines",
         "text": [
          "single_storey_extension_erection_rear",
          "",
          "",
          "storey_framed_single_veranda_width"
         ],
         "type": "scatter",
         "x": [
          0.3116539014100701,
          0.6380743495664734,
          0.6380743495664734,
          0
         ],
         "xaxis": "x",
         "y": [
          -902.5,
          -902.5,
          -925,
          -925
         ],
         "yaxis": "y"
        },
        {
         "hoverinfo": "text",
         "marker": {
          "color": "rgb(61,153,112)"
         },
         "mode": "lines",
         "text": [
          "side_single_storey_extension_erection",
          "",
          "",
          "storey_framed_single_veranda_width"
         ],
         "type": "scatter",
         "x": [
          0.2977496952473554,
          0.7874951864685503,
          0.7874951864685503,
          0.6380743495664734
         ],
         "xaxis": "x",
         "y": [
          -880,
          -880,
          -913.75,
          -913.75
         ],
         "yaxis": "y"
        },
        {
         "hoverinfo": "text",
         "marker": {
          "color": "rgb(61,153,112)"
         },
         "mode": "lines",
         "text": [
          "first_single_storey_1st_renovation",
          "",
          "",
          "first_extension_erection_second_floor"
         ],
         "type": "scatter",
         "x": [
          0,
          0.41853370729374395,
          0.41853370729374395,
          0
         ],
         "xaxis": "x",
         "y": [
          -935,
          -935,
          -945,
          -945
         ],
         "yaxis": "y"
        },
        {
         "hoverinfo": "text",
         "marker": {
          "color": "rgb(61,153,112)"
         },
         "mode": "lines",
         "text": [
          "first_single_storey_1st_renovation",
          "",
          "",
          "first_extension_erection_second_floor"
         ],
         "type": "scatter",
         "x": [
          0.7874951864685503,
          0.8625552827666998,
          0.8625552827666998,
          0.41853370729374395
         ],
         "xaxis": "x",
         "y": [
          -896.875,
          -896.875,
          -940,
          -940
         ],
         "yaxis": "y"
        },
        {
         "hoverinfo": "text",
         "marker": {
          "color": "rgb(0,116,217)"
         },
         "mode": "lines",
         "text": [
          "first_single_storey_1st_renovation",
          "",
          "",
          "first_extension_erection_second_floor"
         ],
         "type": "scatter",
         "x": [
          0.8316525143654943,
          1.030004744934685,
          1.030004744934685,
          0.8625552827666998
         ],
         "xaxis": "x",
         "y": [
          -820.9375,
          -820.9375,
          -918.4375,
          -918.4375
         ],
         "yaxis": "y"
        },
        {
         "hoverinfo": "text",
         "marker": {
          "color": "rgb(0,116,217)"
         },
         "mode": "lines",
         "text": [
          "infill_side_single_extension_storey",
          "",
          "",
          "first_extension_erection_second_floor"
         ],
         "type": "scatter",
         "x": [
          0.2715036998143823,
          1.502156731798966,
          1.502156731798966,
          1.030004744934685
         ],
         "xaxis": "x",
         "y": [
          -746.25,
          -746.25,
          -869.6875,
          -869.6875
         ],
         "yaxis": "y"
        },
        {
         "hoverinfo": "text",
         "marker": {
          "color": "rgb(255,65,54)"
         },
         "mode": "lines",
         "text": [
          "bin_store_refuse_front_garden",
          "",
          "",
          "wall_boundary_gates_gate_fence"
         ],
         "type": "scatter",
         "x": [
          0,
          0.6707029378106018,
          0.6707029378106018,
          0
         ],
         "xaxis": "x",
         "y": [
          -955,
          -955,
          -965,
          -965
         ],
         "yaxis": "y"
        },
        {
         "hoverinfo": "text",
         "marker": {
          "color": "rgb(255,65,54)"
         },
         "mode": "lines",
         "text": [
          "garden_excavation_patio_lower_rear",
          "",
          "",
          "excavation_lightwells_basement_lightwell_front"
         ],
         "type": "scatter",
         "x": [
          0,
          0.4609440902143773,
          0.4609440902143773,
          0
         ],
         "xaxis": "x",
         "y": [
          -985,
          -985,
          -995,
          -995
         ],
         "yaxis": "y"
        },
        {
         "hoverinfo": "text",
         "marker": {
          "color": "rgb(255,65,54)"
         },
         "mode": "lines",
         "text": [
          "demolition_extension_existing_storey_rear",
          "",
          "",
          "excavation_lightwells_basement_lightwell_front"
         ],
         "type": "scatter",
         "x": [
          0,
          0.5964344601234648,
          0.5964344601234648,
          0.4609440902143773
         ],
         "xaxis": "x",
         "y": [
          -975,
          -975,
          -990,
          -990
         ],
         "yaxis": "y"
        },
        {
         "hoverinfo": "text",
         "marker": {
          "color": "rgb(255,65,54)"
         },
         "mode": "lines",
         "text": [
          "demolition_extension_existing_storey_rear",
          "",
          "",
          "lightwell_stones_staircase_coping_well"
         ],
         "type": "scatter",
         "x": [
          0.5964344601234648,
          0.8327021964634275,
          0.8327021964634275,
          0
         ],
         "xaxis": "x",
         "y": [
          -982.5,
          -982.5,
          -1005,
          -1005
         ],
         "yaxis": "y"
        },
        {
         "hoverinfo": "text",
         "marker": {
          "color": "rgb(255,65,54)"
         },
         "mode": "lines",
         "text": [
          "demolition_extension_existing_storey_rear",
          "",
          "",
          "lightwell_stones_staircase_coping_well"
         ],
         "type": "scatter",
         "x": [
          0.6707029378106018,
          0.9435978883307184,
          0.9435978883307184,
          0.8327021964634275
         ],
         "xaxis": "x",
         "y": [
          -960,
          -960,
          -993.75,
          -993.75
         ],
         "yaxis": "y"
        },
        {
         "hoverinfo": "text",
         "marker": {
          "color": "rgb(35,205,205)"
         },
         "mode": "lines",
         "text": [
          "fenestration_alterations_lower_side_single",
          "",
          "",
          "fenestration_rendering_fenestrations_alterations_macklin"
         ],
         "type": "scatter",
         "x": [
          0,
          0.27097383681323506,
          0.27097383681323506,
          0
         ],
         "xaxis": "x",
         "y": [
          -1015,
          -1015,
          -1025,
          -1025
         ],
         "yaxis": "y"
        },
        {
         "hoverinfo": "text",
         "marker": {
          "color": "rgb(0,116,217)"
         },
         "mode": "lines",
         "text": [
          "fenestration_alterations_lower_side_single",
          "",
          "",
          "fenestration_alterations_lower_rear_ground"
         ],
         "type": "scatter",
         "x": [
          0.9435978883307184,
          1.1409948864515695,
          1.1409948864515695,
          0.27097383681323506
         ],
         "xaxis": "x",
         "y": [
          -976.875,
          -976.875,
          -1020,
          -1020
         ],
         "yaxis": "y"
        },
        {
         "hoverinfo": "text",
         "marker": {
          "color": "rgb(133,20,75)"
         },
         "mode": "lines",
         "text": [
          "conservatory_demolition_following_rear_replace",
          "",
          "",
          "conservatory_flat_c3_existing_rear"
         ],
         "type": "scatter",
         "x": [
          0,
          0.10837721818818746,
          0.10837721818818746,
          0
         ],
         "xaxis": "x",
         "y": [
          -1035,
          -1035,
          -1045,
          -1045
         ],
         "yaxis": "y"
        },
        {
         "hoverinfo": "text",
         "marker": {
          "color": "rgb(0,116,217)"
         },
         "mode": "lines",
         "text": [
          "conservatory_demolition_following_rear_replace",
          "",
          "",
          "conservatory_rear_demolition_following_single"
         ],
         "type": "scatter",
         "x": [
          1.1409948864515695,
          1.2015268358305715,
          1.2015268358305715,
          0.10837721818818746
         ],
         "xaxis": "x",
         "y": [
          -998.4375,
          -998.4375,
          -1040,
          -1040
         ],
         "yaxis": "y"
        },
        {
         "hoverinfo": "text",
         "marker": {
          "color": "rgb(255,220,0)"
         },
         "mode": "lines",
         "text": [
          "glazed_c2_staircore_sun_ninth",
          "",
          "",
          "windows_glazed_double_timber_replacement"
         ],
         "type": "scatter",
         "x": [
          0,
          0.6154129074692871,
          0.6154129074692871,
          0
         ],
         "xaxis": "x",
         "y": [
          -1055,
          -1055,
          -1065,
          -1065
         ],
         "yaxis": "y"
        },
        {
         "hoverinfo": "text",
         "marker": {
          "color": "rgb(255,220,0)"
         },
         "mode": "lines",
         "text": [
          "window_door_side_lower_rear",
          "",
          "",
          "door_windows_window_doors_elevation"
         ],
         "type": "scatter",
         "x": [
          0,
          0.43420960624668303,
          0.43420960624668303,
          0
         ],
         "xaxis": "x",
         "y": [
          -1085,
          -1085,
          -1095,
          -1095
         ],
         "yaxis": "y"
        },
        {
         "hoverinfo": "text",
         "marker": {
          "color": "rgb(255,220,0)"
         },
         "mode": "lines",
         "text": [
          "window_elevation_enlargement_insertion_upvc",
          "",
          "",
          "window_door_windows_side_doors"
         ],
         "type": "scatter",
         "x": [
          0,
          0.5001498140712296,
          0.5001498140712296,
          0.43420960624668303
         ],
         "xaxis": "x",
         "y": [
          -1075,
          -1075,
          -1090,
          -1090
         ],
         "yaxis": "y"
        },
        {
         "hoverinfo": "text",
         "marker": {
          "color": "rgb(255,220,0)"
         },
         "mode": "lines",
         "text": [
          "window_windows_door_elevation_side",
          "",
          "",
          "balcony_railings_depth_balustrade_make"
         ],
         "type": "scatter",
         "x": [
          0.5001498140712296,
          0.8751814004812831,
          0.8751814004812831,
          0
         ],
         "xaxis": "x",
         "y": [
          -1082.5,
          -1082.5,
          -1105,
          -1105
         ],
         "yaxis": "y"
        },
        {
         "hoverinfo": "text",
         "marker": {
          "color": "rgb(255,220,0)"
         },
         "mode": "lines",
         "text": [
          "window_windows_door_elevation_side",
          "",
          "",
          "balcony_railings_depth_balustrade_make"
         ],
         "type": "scatter",
         "x": [
          0.6154129074692871,
          0.9464374212894449,
          0.9464374212894449,
          0.8751814004812831
         ],
         "xaxis": "x",
         "y": [
          -1060,
          -1060,
          -1093.75,
          -1093.75
         ],
         "yaxis": "y"
        },
        {
         "hoverinfo": "text",
         "marker": {
          "color": "rgb(0,116,217)"
         },
         "mode": "lines",
         "text": [
          "window_windows_door_elevation_side",
          "",
          "",
          "balcony_railings_depth_balustrade_make"
         ],
         "type": "scatter",
         "x": [
          1.2015268358305715,
          1.2223283869060093,
          1.2223283869060093,
          0.9464374212894449
         ],
         "xaxis": "x",
         "y": [
          -1019.21875,
          -1019.21875,
          -1076.875,
          -1076.875
         ],
         "yaxis": "y"
        },
        {
         "hoverinfo": "text",
         "marker": {
          "color": "rgb(40,35,35)"
         },
         "mode": "lines",
         "text": [
          "mansard_roof_extension_create_maisonette",
          "",
          "",
          "mansard_roof_extension_style_erection"
         ],
         "type": "scatter",
         "x": [
          0,
          0.24747961851297162,
          0.24747961851297162,
          0
         ],
         "xaxis": "x",
         "y": [
          -1125,
          -1125,
          -1135,
          -1135
         ],
         "yaxis": "y"
        },
        {
         "hoverinfo": "text",
         "marker": {
          "color": "rgb(40,35,35)"
         },
         "mode": "lines",
         "text": [
          "108_mansard_quex_flats_extensions",
          "",
          "",
          "mansard_roof_extension_create_erection"
         ],
         "type": "scatter",
         "x": [
          0,
          0.6153466077931556,
          0.6153466077931556,
          0.24747961851297162
         ],
         "xaxis": "x",
         "y": [
          -1115,
          -1115,
          -1130,
          -1130
         ],
         "yaxis": "y"
        },
        {
         "hoverinfo": "text",
         "marker": {
          "color": "rgb(40,35,35)"
         },
         "mode": "lines",
         "text": [
          "mansard_windows_dormer_roof_extend",
          "",
          "",
          "mansard_dormer_windows_dormers_roof"
         ],
         "type": "scatter",
         "x": [
          0,
          0.23547068523734094,
          0.23547068523734094,
          0
         ],
         "xaxis": "x",
         "y": [
          -1145,
          -1145,
          -1155,
          -1155
         ],
         "yaxis": "y"
        },
        {
         "hoverinfo": "text",
         "marker": {
          "color": "rgb(40,35,35)"
         },
         "mode": "lines",
         "text": [
          "mansard_dormer_windows_roof_dormers",
          "",
          "",
          "dormer_dormers_roofslope_slope_window"
         ],
         "type": "scatter",
         "x": [
          0.23547068523734094,
          0.4815727834094506,
          0.4815727834094506,
          0
         ],
         "xaxis": "x",
         "y": [
          -1150,
          -1150,
          -1165,
          -1165
         ],
         "yaxis": "y"
        },
        {
         "hoverinfo": "text",
         "marker": {
          "color": "rgb(40,35,35)"
         },
         "mode": "lines",
         "text": [
          "mansard_dormer_windows_roof_dormers",
          "",
          "",
          "dormer_dormers_roofslope_slope_window"
         ],
         "type": "scatter",
         "x": [
          0.6153466077931556,
          0.8439660780321231,
          0.8439660780321231,
          0.4815727834094506
         ],
         "xaxis": "x",
         "y": [
          -1122.5,
          -1122.5,
          -1157.5,
          -1157.5
         ],
         "yaxis": "y"
        },
        {
         "hoverinfo": "text",
         "marker": {
          "color": "rgb(61,153,112)"
         },
         "mode": "lines",
         "text": [
          "roofslope_rooflights_insertion_rooflight_slope",
          "",
          "",
          "rooflight_lights_rooflights_extension_single"
         ],
         "type": "scatter",
         "x": [
          0,
          0.5766950059018325,
          0.5766950059018325,
          0
         ],
         "xaxis": "x",
         "y": [
          -1185,
          -1185,
          -1195,
          -1195
         ],
         "yaxis": "y"
        },
        {
         "hoverinfo": "text",
         "marker": {
          "color": "rgb(61,153,112)"
         },
         "mode": "lines",
         "text": [
          "loft_conversion_lights_rooflights_dormer",
          "",
          "",
          "rooflight_lights_rooflights_extension_single"
         ],
         "type": "scatter",
         "x": [
          0,
          0.7810773952662189,
          0.7810773952662189,
          0.5766950059018325
         ],
         "xaxis": "x",
         "y": [
          -1175,
          -1175,
          -1190,
          -1190
         ],
         "yaxis": "y"
        },
        {
         "hoverinfo": "text",
         "marker": {
          "color": "rgb(255,65,54)"
         },
         "mode": "lines",
         "text": [
          "permission_planning_granted_ref_amendments",
          "",
          "",
          "06_1805_permmission_terrace_boundaries"
         ],
         "type": "scatter",
         "x": [
          0,
          0.7056475484454574,
          0.7056475484454574,
          0
         ],
         "xaxis": "x",
         "y": [
          -1205,
          -1205,
          -1215,
          -1215
         ],
         "yaxis": "y"
        },
        {
         "hoverinfo": "text",
         "marker": {
          "color": "rgb(255,65,54)"
         },
         "mode": "lines",
         "text": [
          "terrace_above_single_railings_storey",
          "",
          "",
          "terrace_roof_extension_gloucester_mews"
         ],
         "type": "scatter",
         "x": [
          0,
          0.3992360249737128,
          0.3992360249737128,
          0
         ],
         "xaxis": "x",
         "y": [
          -1225,
          -1225,
          -1235,
          -1235
         ],
         "yaxis": "y"
        },
        {
         "hoverinfo": "text",
         "marker": {
          "color": "rgb(255,65,54)"
         },
         "mode": "lines",
         "text": [
          "terrace_roof_extension_with_above",
          "",
          "",
          "terrace_balustrade_roof_creation_access"
         ],
         "type": "scatter",
         "x": [
          0.3992360249737128,
          0.4979229470035265,
          0.4979229470035265,
          0
         ],
         "xaxis": "x",
         "y": [
          -1230,
          -1230,
          -1245,
          -1245
         ],
         "yaxis": "y"
        },
        {
         "hoverinfo": "text",
         "marker": {
          "color": "rgb(255,65,54)"
         },
         "mode": "lines",
         "text": [
          "terrace_roof_balustrade_creation_access",
          "",
          "",
          "terrace_screening_structure_arbour_balustrade"
         ],
         "type": "scatter",
         "x": [
          0.4979229470035265,
          0.6479160064174412,
          0.6479160064174412,
          0
         ],
         "xaxis": "x",
         "y": [
          -1237.5,
          -1237.5,
          -1255,
          -1255
         ],
         "yaxis": "y"
        },
        {
         "hoverinfo": "text",
         "marker": {
          "color": "rgb(255,65,54)"
         },
         "mode": "lines",
         "text": [
          "terrace_roof_balustrade_creation_access",
          "",
          "",
          "terrace_screening_structure_arbour_balustrade"
         ],
         "type": "scatter",
         "x": [
          0.7056475484454574,
          0.9258763785765854,
          0.9258763785765854,
          0.6479160064174412
         ],
         "xaxis": "x",
         "y": [
          -1210,
          -1210,
          -1246.25,
          -1246.25
         ],
         "yaxis": "y"
        },
        {
         "hoverinfo": "text",
         "marker": {
          "color": "rgb(0,116,217)"
         },
         "mode": "lines",
         "text": [
          "terrace_roof_balustrade_creation_access",
          "",
          "",
          "terrace_screening_structure_arbour_balustrade"
         ],
         "type": "scatter",
         "x": [
          0.7810773952662189,
          1.1824029769838673,
          1.1824029769838673,
          0.9258763785765854
         ],
         "xaxis": "x",
         "y": [
          -1182.5,
          -1182.5,
          -1228.125,
          -1228.125
         ],
         "yaxis": "y"
        },
        {
         "hoverinfo": "text",
         "marker": {
          "color": "rgb(0,116,217)"
         },
         "mode": "lines",
         "text": [
          "terrace_roof_balustrade_creation_access",
          "",
          "",
          "terrace_screening_structure_arbour_balustrade"
         ],
         "type": "scatter",
         "x": [
          0.8439660780321231,
          1.2646964049977825,
          1.2646964049977825,
          1.1824029769838673
         ],
         "xaxis": "x",
         "y": [
          -1140,
          -1140,
          -1205.3125,
          -1205.3125
         ],
         "yaxis": "y"
        },
        {
         "hoverinfo": "text",
         "marker": {
          "color": "rgb(0,116,217)"
         },
         "mode": "lines",
         "text": [
          "terrace_roof_balustrade_creation_access",
          "",
          "",
          "terrace_screening_structure_arbour_balustrade"
         ],
         "type": "scatter",
         "x": [
          1.2223283869060093,
          1.554218425247641,
          1.554218425247641,
          1.2646964049977825
         ],
         "xaxis": "x",
         "y": [
          -1048.046875,
          -1048.046875,
          -1172.65625,
          -1172.65625
         ],
         "yaxis": "y"
        },
        {
         "hoverinfo": "text",
         "marker": {
          "color": "rgb(35,205,205)"
         },
         "mode": "lines",
         "text": [
          "roof_provide_enhance_bed_additional",
          "",
          "",
          "roof_c3_flat_terrace_extension"
         ],
         "type": "scatter",
         "x": [
          0,
          0.4341045890019122,
          0.4341045890019122,
          0
         ],
         "xaxis": "x",
         "y": [
          -1265,
          -1265,
          -1275,
          -1275
         ],
         "yaxis": "y"
        },
        {
         "hoverinfo": "text",
         "marker": {
          "color": "rgb(35,205,205)"
         },
         "mode": "lines",
         "text": [
          "roof_flat_provide_additional_extension",
          "",
          "",
          "additional_off_enlargement_first_provide"
         ],
         "type": "scatter",
         "x": [
          0.4341045890019122,
          0.5444594196228069,
          0.5444594196228069,
          0
         ],
         "xaxis": "x",
         "y": [
          -1270,
          -1270,
          -1285,
          -1285
         ],
         "yaxis": "y"
        },
        {
         "hoverinfo": "text",
         "marker": {
          "color": "rgb(35,205,205)"
         },
         "mode": "lines",
         "text": [
          "office_b1_change_from_bed",
          "",
          "",
          "b1a_office_change_bedroom_flats"
         ],
         "type": "scatter",
         "x": [
          0,
          0.29528812828447015,
          0.29528812828447015,
          0
         ],
         "xaxis": "x",
         "y": [
          -1315,
          -1315,
          -1325,
          -1325
         ],
         "yaxis": "y"
        },
        {
         "hoverinfo": "text",
         "marker": {
          "color": "rgb(35,205,205)"
         },
         "mode": "lines",
         "text": [
          "third_hemstal_7a_terraces_bedroom",
          "",
          "",
          "b1a_office_change_from_bed"
         ],
         "type": "scatter",
         "x": [
          0,
          0.47536932445052504,
          0.47536932445052504,
          0.29528812828447015
         ],
         "xaxis": "x",
         "y": [
          -1305,
          -1305,
          -1320,
          -1320
         ],
         "yaxis": "y"
        },
        {
         "hoverinfo": "text",
         "marker": {
          "color": "rgb(35,205,205)"
         },
         "mode": "lines",
         "text": [
          "third_hemstal_7a_terraces_bedroom",
          "",
          "",
          "bedroom_studio_flat_contained_self"
         ],
         "type": "scatter",
         "x": [
          0.47536932445052504,
          0.5600113081912085,
          0.5600113081912085,
          0
         ],
         "xaxis": "x",
         "y": [
          -1312.5,
          -1312.5,
          -1335,
          -1335
         ],
         "yaxis": "y"
        },
        {
         "hoverinfo": "text",
         "marker": {
          "color": "rgb(35,205,205)"
         },
         "mode": "lines",
         "text": [
          "a4_public_1x3_floors_create",
          "",
          "",
          "bedroom_studio_flat_contained_self"
         ],
         "type": "scatter",
         "x": [
          0,
          0.6093091669643436,
          0.6093091669643436,
          0.5600113081912085
         ],
         "xaxis": "x",
         "y": [
          -1295,
          -1295,
          -1323.75,
          -1323.75
         ],
         "yaxis": "y"
        },
        {
         "hoverinfo": "text",
         "marker": {
          "color": "rgb(35,205,205)"
         },
         "mode": "lines",
         "text": [
          "a4_public_1x3_floors_create",
          "",
          "",
          "6th_5th_dwellinghouses_elevational_garage"
         ],
         "type": "scatter",
         "x": [
          0.6093091669643436,
          0.6726224337947427,
          0.6726224337947427,
          0
         ],
         "xaxis": "x",
         "y": [
          -1309.375,
          -1309.375,
          -1345,
          -1345
         ],
         "yaxis": "y"
        },
        {
         "hoverinfo": "text",
         "marker": {
          "color": "rgb(35,205,205)"
         },
         "mode": "lines",
         "text": [
          "a4_public_1x3_floors_create",
          "",
          "",
          "6th_5th_dwellinghouses_elevational_garage"
         ],
         "type": "scatter",
         "x": [
          0.5444594196228069,
          0.79100094495723,
          0.79100094495723,
          0.6726224337947427
         ],
         "xaxis": "x",
         "y": [
          -1277.5,
          -1277.5,
          -1327.1875,
          -1327.1875
         ],
         "yaxis": "y"
        },
        {
         "hoverinfo": "text",
         "marker": {
          "color": "rgb(61,153,112)"
         },
         "mode": "lines",
         "text": [
          "maisonette_conversion_into_bedroom_maisonettes",
          "",
          "",
          "maisonette_lower_ground_bed_garden"
         ],
         "type": "scatter",
         "x": [
          0,
          0.27631402361589597,
          0.27631402361589597,
          0
         ],
         "xaxis": "x",
         "y": [
          -1365,
          -1365,
          -1375,
          -1375
         ],
         "yaxis": "y"
        },
        {
         "hoverinfo": "text",
         "marker": {
          "color": "rgb(61,153,112)"
         },
         "mode": "lines",
         "text": [
          "maisonette_fifth_seventh_sixth_become",
          "",
          "",
          "maisonette_conversion_into_bedroom_lower"
         ],
         "type": "scatter",
         "x": [
          0,
          0.4214349649157022,
          0.4214349649157022,
          0.27631402361589597
         ],
         "xaxis": "x",
         "y": [
          -1355,
          -1355,
          -1370,
          -1370
         ],
         "yaxis": "y"
        },
        {
         "hoverinfo": "text",
         "marker": {
          "color": "rgb(61,153,112)"
         },
         "mode": "lines",
         "text": [
          "1x_conversion_2x_bed_into",
          "",
          "",
          "bedroom_conversion_1x_into_flat"
         ],
         "type": "scatter",
         "x": [
          0,
          0.2534416690702179,
          0.2534416690702179,
          0
         ],
         "xaxis": "x",
         "y": [
          -1395,
          -1395,
          -1405,
          -1405
         ],
         "yaxis": "y"
        },
        {
         "hoverinfo": "text",
         "marker": {
          "color": "rgb(61,153,112)"
         },
         "mode": "lines",
         "text": [
          "bed_dwellinghouse_family_into_conversion",
          "",
          "",
          "1x_conversion_into_bedroom_bed"
         ],
         "type": "scatter",
         "x": [
          0,
          0.5106073951128457,
          0.5106073951128457,
          0.2534416690702179
         ],
         "xaxis": "x",
         "y": [
          -1385,
          -1385,
          -1400,
          -1400
         ],
         "yaxis": "y"
        },
        {
         "hoverinfo": "text",
         "marker": {
          "color": "rgb(61,153,112)"
         },
         "mode": "lines",
         "text": [
          "conversion_flats_bedroom_into_contained",
          "",
          "",
          "conversion_into_flats_dwellinghouse_single"
         ],
         "type": "scatter",
         "x": [
          0,
          0.3979622152965596,
          0.3979622152965596,
          0
         ],
         "xaxis": "x",
         "y": [
          -1415,
          -1415,
          -1425,
          -1425
         ],
         "yaxis": "y"
        },
        {
         "hoverinfo": "text",
         "marker": {
          "color": "rgb(61,153,112)"
         },
         "mode": "lines",
         "text": [
          "conversion_flats_bedroom_into_contained",
          "",
          "",
          "closet_conversion_wing_contained_self"
         ],
         "type": "scatter",
         "x": [
          0.3979622152965596,
          0.4356508629343302,
          0.4356508629343302,
          0
         ],
         "xaxis": "x",
         "y": [
          -1420,
          -1420,
          -1435,
          -1435
         ],
         "yaxis": "y"
        },
        {
         "hoverinfo": "text",
         "marker": {
          "color": "rgb(61,153,112)"
         },
         "mode": "lines",
         "text": [
          "conversion_flats_bedroom_into_contained",
          "",
          "",
          "closet_conversion_wing_contained_self"
         ],
         "type": "scatter",
         "x": [
          0.5106073951128457,
          0.6240855065942215,
          0.6240855065942215,
          0.4356508629343302
         ],
         "xaxis": "x",
         "y": [
          -1392.5,
          -1392.5,
          -1427.5,
          -1427.5
         ],
         "yaxis": "y"
        },
        {
         "hoverinfo": "text",
         "marker": {
          "color": "rgb(61,153,112)"
         },
         "mode": "lines",
         "text": [
          "hmo_c4_multiple_occupation_bedsits",
          "",
          "",
          "garage_habitable_into_integral_conversion"
         ],
         "type": "scatter",
         "x": [
          0,
          0.8582900101014204,
          0.8582900101014204,
          0
         ],
         "xaxis": "x",
         "y": [
          -1445,
          -1445,
          -1455,
          -1455
         ],
         "yaxis": "y"
        },
        {
         "hoverinfo": "text",
         "marker": {
          "color": "rgb(61,153,112)"
         },
         "mode": "lines",
         "text": [
          "hmo_c4_multiple_occupation_bedsits",
          "",
          "",
          "garage_habitable_into_integral_conversion"
         ],
         "type": "scatter",
         "x": [
          0.6240855065942215,
          0.9287947932155557,
          0.9287947932155557,
          0.8582900101014204
         ],
         "xaxis": "x",
         "y": [
          -1410,
          -1410,
          -1450,
          -1450
         ],
         "yaxis": "y"
        },
        {
         "hoverinfo": "text",
         "marker": {
          "color": "rgb(61,153,112)"
         },
         "mode": "lines",
         "text": [
          "hmo_c4_multiple_occupation_bedsits",
          "",
          "",
          "garage_habitable_into_integral_conversion"
         ],
         "type": "scatter",
         "x": [
          0.4214349649157022,
          0.9811422464368665,
          0.9811422464368665,
          0.9287947932155557
         ],
         "xaxis": "x",
         "y": [
          -1362.5,
          -1362.5,
          -1430,
          -1430
         ],
         "yaxis": "y"
        },
        {
         "hoverinfo": "text",
         "marker": {
          "color": "rgb(0,116,217)"
         },
         "mode": "lines",
         "text": [
          "hmo_c4_multiple_occupation_bedsits",
          "",
          "",
          "garage_habitable_into_integral_conversion"
         ],
         "type": "scatter",
         "x": [
          0.79100094495723,
          1.3174566221561497,
          1.3174566221561497,
          0.9811422464368665
         ],
         "xaxis": "x",
         "y": [
          -1302.34375,
          -1302.34375,
          -1396.25,
          -1396.25
         ],
         "yaxis": "y"
        },
        {
         "hoverinfo": "text",
         "marker": {
          "color": "rgb(255,65,54)"
         },
         "mode": "lines",
         "text": [
          "family_dwellinghouse_flats_dwelling_contained",
          "",
          "",
          "family_into_conversion_flats_dwelling"
         ],
         "type": "scatter",
         "x": [
          0,
          0.3576713768009091,
          0.3576713768009091,
          0
         ],
         "xaxis": "x",
         "y": [
          -1475,
          -1475,
          -1485,
          -1485
         ],
         "yaxis": "y"
        },
        {
         "hoverinfo": "text",
         "marker": {
          "color": "rgb(255,65,54)"
         },
         "mode": "lines",
         "text": [
          "b1_family_dwelling_house_office",
          "",
          "",
          "family_flats_into_dwelling_conversion"
         ],
         "type": "scatter",
         "x": [
          0,
          0.6742657437622521,
          0.6742657437622521,
          0.3576713768009091
         ],
         "xaxis": "x",
         "y": [
          -1465,
          -1465,
          -1480,
          -1480
         ],
         "yaxis": "y"
        },
        {
         "hoverinfo": "text",
         "marker": {
          "color": "rgb(255,65,54)"
         },
         "mode": "lines",
         "text": [
          "dwellinghouse_following_family_dwelling_demolition",
          "",
          "",
          "demolition_dwelling_house_dwellinghouse_detached"
         ],
         "type": "scatter",
         "x": [
          0,
          0.2624771532313953,
          0.2624771532313953,
          0
         ],
         "xaxis": "x",
         "y": [
          -1505,
          -1505,
          -1515,
          -1515
         ],
         "yaxis": "y"
        },
        {
         "hoverinfo": "text",
         "marker": {
          "color": "rgb(255,65,54)"
         },
         "mode": "lines",
         "text": [
          "dwellinghouse_portable_cabins_1x_storey",
          "",
          "",
          "demolition_dwelling_dwellinghouse_following_house"
         ],
         "type": "scatter",
         "x": [
          0,
          0.7043022979148201,
          0.7043022979148201,
          0.2624771532313953
         ],
         "xaxis": "x",
         "y": [
          -1495,
          -1495,
          -1510,
          -1510
         ],
         "yaxis": "y"
        },
        {
         "hoverinfo": "text",
         "marker": {
          "color": "rgb(255,65,54)"
         },
         "mode": "lines",
         "text": [
          "dwellinghouse_portable_cabins_1x_storey",
          "",
          "",
          "optimax_laser_houses_eye_finchley"
         ],
         "type": "scatter",
         "x": [
          0.7043022979148201,
          0.885064418046715,
          0.885064418046715,
          0
         ],
         "xaxis": "x",
         "y": [
          -1502.5,
          -1502.5,
          -1525,
          -1525
         ],
         "yaxis": "y"
        },
        {
         "hoverinfo": "text",
         "marker": {
          "color": "rgb(255,65,54)"
         },
         "mode": "lines",
         "text": [
          "dwellinghouse_portable_cabins_1x_storey",
          "",
          "",
          "optimax_laser_houses_eye_finchley"
         ],
         "type": "scatter",
         "x": [
          0.6742657437622521,
          0.9646005448750194,
          0.9646005448750194,
          0.885064418046715
         ],
         "xaxis": "x",
         "y": [
          -1472.5,
          -1472.5,
          -1513.75,
          -1513.75
         ],
         "yaxis": "y"
        },
        {
         "hoverinfo": "text",
         "marker": {
          "color": "rgb(0,116,217)"
         },
         "mode": "lines",
         "text": [
          "dwellinghouse_portable_cabins_1x_storey",
          "",
          "",
          "optimax_laser_houses_eye_finchley"
         ],
         "type": "scatter",
         "x": [
          1.3174566221561497,
          1.585543007992142,
          1.585543007992142,
          0.9646005448750194
         ],
         "xaxis": "x",
         "y": [
          -1349.296875,
          -1349.296875,
          -1493.125,
          -1493.125
         ],
         "yaxis": "y"
        },
        {
         "hoverinfo": "text",
         "marker": {
          "color": "rgb(0,116,217)"
         },
         "mode": "lines",
         "text": [
          "dwellinghouse_portable_cabins_1x_storey",
          "",
          "",
          "optimax_laser_houses_eye_finchley"
         ],
         "type": "scatter",
         "x": [
          1.554218425247641,
          2.12500689692379,
          2.12500689692379,
          1.585543007992142
         ],
         "xaxis": "x",
         "y": [
          -1110.3515625,
          -1110.3515625,
          -1421.2109375,
          -1421.2109375
         ],
         "yaxis": "y"
        },
        {
         "hoverinfo": "text",
         "marker": {
          "color": "rgb(0,116,217)"
         },
         "mode": "lines",
         "text": [
          "single_infill_extension_storey_side",
          "",
          "",
          "optimax_laser_houses_eye_finchley"
         ],
         "type": "scatter",
         "x": [
          1.502156731798966,
          2.4796143445510177,
          2.4796143445510177,
          2.12500689692379
         ],
         "xaxis": "x",
         "y": [
          -807.96875,
          -807.96875,
          -1265.78125,
          -1265.78125
         ],
         "yaxis": "y"
        },
        {
         "hoverinfo": "text",
         "marker": {
          "color": "rgb(0,116,217)"
         },
         "mode": "lines",
         "text": [
          "single_infill_extension_storey_side",
          "",
          "",
          "optimax_laser_houses_eye_finchley"
         ],
         "type": "scatter",
         "x": [
          2.239170347608037,
          2.829811731340423,
          2.829811731340423,
          2.4796143445510177
         ],
         "xaxis": "x",
         "y": [
          -199.15283203125,
          -199.15283203125,
          -1036.875,
          -1036.875
         ],
         "yaxis": "y"
        },
        {
         "hoverinfo": "text",
         "hovertext": [
          "outbuilding_garden_in_ancillary_single",
          "outbuilding_garden_in_ancillary_single",
          "timber_outbuilding_garden_clad_ancillary",
          "shopfront_shop_a1_retail_unit",
          "facade_pilasters_redecoration_shopfront_stucco",
          "facade_pilasters_redecoration_shopfront_stucco",
          "pergola_pergolas_planting_seating_steel",
          "pergola_pergolas_planting_seating_steel",
          "pergola_pergolas_planting_seating_steel",
          "pergola_pergolas_planting_seating_steel",
          "telephone_bt_kiosk_phone_fi",
          "shed_retention_garden_timber_storage",
          "temporary_between_led_piazza_june",
          "temporary_between_led_piazza_june",
          "temporary_structures_allotment_technology_classroom",
          "temporary_structures_allotment_technology_classroom",
          "temporary_structures_allotment_technology_classroom",
          "hotel_c1_closet_wing_rooms",
          "infill_additional_lightwell_atrium_spotlights",
          "infill_additional_lightwell_atrium_spotlights",
          "infill_additional_lightwell_atrium_spotlights",
          "building_units_plus_following_comprising",
          "building_comprising_demolition_buildings_storeys",
          "building_comprising_demolition_buildings_storeys",
          "sui_generis_a1_retail_cafe",
          "sui_generis_a1_retail_cafe",
          "d1_b1_educational_office_or",
          "estate_agents_a2_agent_shop",
          "estate_agents_a2_agent_shop",
          "estate_agents_a2_agent_shop",
          "estate_agents_a2_agent_shop",
          "restaurant_a3_a1_retail_change",
          "restaurant_a3_change_use_from",
          "restaurant_a3_change_use_from",
          "restaurant_a3_change_use_from",
          "restaurant_a3_change_use_from",
          "outbuilding_garden_in_timber_ancillary",
          "infill_side_single_extension_storey",
          "lower_single_storey_ground_extension",
          "flat_single_ground_storey_c3",
          "flat_single_ground_storey_c3",
          "flat_single_ground_storey_c3",
          "single_storey_extension_erection_rear",
          "side_single_storey_extension_erection",
          "first_single_storey_1st_renovation",
          "first_single_storey_1st_renovation",
          "infill_side_single_extension_storey",
          "demolition_extension_existing_storey_rear",
          "demolition_extension_existing_storey_rear",
          "fenestration_alterations_lower_side_single",
          "conservatory_demolition_following_rear_replace",
          "window_windows_door_elevation_side",
          "window_windows_door_elevation_side",
          "window_windows_door_elevation_side",
          "mansard_dormer_windows_roof_dormers",
          "mansard_dormer_windows_roof_dormers",
          "terrace_roof_extension_with_above",
          "terrace_roof_balustrade_creation_access",
          "terrace_roof_balustrade_creation_access",
          "terrace_roof_balustrade_creation_access",
          "terrace_roof_balustrade_creation_access",
          "terrace_roof_balustrade_creation_access",
          "roof_flat_provide_additional_extension",
          "third_hemstal_7a_terraces_bedroom",
          "a4_public_1x3_floors_create",
          "a4_public_1x3_floors_create",
          "conversion_flats_bedroom_into_contained",
          "conversion_flats_bedroom_into_contained",
          "hmo_c4_multiple_occupation_bedsits",
          "hmo_c4_multiple_occupation_bedsits",
          "hmo_c4_multiple_occupation_bedsits",
          "dwellinghouse_portable_cabins_1x_storey",
          "dwellinghouse_portable_cabins_1x_storey",
          "dwellinghouse_portable_cabins_1x_storey",
          "dwellinghouse_portable_cabins_1x_storey",
          "single_infill_extension_storey_side",
          "single_infill_extension_storey_side"
         ],
         "marker": {
          "color": "black"
         },
         "mode": "markers",
         "showlegend": false,
         "type": "scatter",
         "x": [
          0.1302645641509066,
          0.37090907910157306,
          0.30362146404304535,
          0.608758620414078,
          0.8757417314521063,
          0.7556531900615011,
          0.9733277842076188,
          0.9792205829787181,
          0.8525787290455716,
          1.0362911482989139,
          0.6310179229754371,
          1.2394242370397004,
          0.7279342402797153,
          0.8717120428906027,
          0.9197607339433302,
          1.2973215637809277,
          0.7048257277160397,
          0.5727754341883413,
          0.6517068537418488,
          0.7834417570108959,
          0.9636207953791217,
          0.3999504128585314,
          0.5323269030112687,
          1.1026909718361468,
          0.7317355929576914,
          0.7067114829728522,
          0.4960106093827543,
          0.8671261296231201,
          0.523979538899723,
          0.8561063942084561,
          0.7699405288922885,
          0.27530619190892336,
          0.493851651031819,
          1.364105983914885,
          1.3936458306011152,
          1.6308167186609892,
          0.7887968040491241,
          0.15953725245473604,
          0.3537890138895427,
          0.23065909584480893,
          0.3816703924008827,
          0.6247271533677249,
          0.3116539014100701,
          0.2977496952473554,
          0.7874951864685503,
          0.8316525143654943,
          0.2715036998143823,
          0.5964344601234648,
          0.6707029378106018,
          0.9435978883307184,
          1.1409948864515695,
          0.5001498140712296,
          0.6154129074692871,
          1.2015268358305715,
          0.23547068523734094,
          0.6153466077931556,
          0.3992360249737128,
          0.4979229470035265,
          0.7056475484454574,
          0.7810773952662189,
          0.8439660780321231,
          1.2223283869060093,
          0.4341045890019122,
          0.47536932445052504,
          0.6093091669643436,
          0.5444594196228069,
          0.3979622152965596,
          0.5106073951128457,
          0.6240855065942215,
          0.4214349649157022,
          0.79100094495723,
          0.7043022979148201,
          0.6742657437622521,
          1.3174566221561497,
          1.554218425247641,
          1.502156731798966,
          2.239170347608037
         ],
         "y": [
          -40,
          -36.25,
          -10,
          -82.5,
          -172.5,
          -150,
          -242.5,
          -253.75,
          -212.5,
          -166.875,
          -130,
          -166.328125,
          -330,
          -310,
          -323.75,
          -228.1640625,
          -96.25,
          -380,
          -432.5,
          -410,
          -387.5,
          -470,
          -477.5,
          -407.1875,
          -540,
          -520,
          -590,
          -652.5,
          -622.5,
          -586.25,
          -535,
          -700,
          -696.25,
          -574.84375,
          -447.96875,
          -190.634765625,
          -30.3125,
          -750,
          -792.5,
          -830,
          -840,
          -789.375,
          -902.5,
          -880,
          -896.875,
          -820.9375,
          -746.25,
          -982.5,
          -960,
          -976.875,
          -998.4375,
          -1082.5,
          -1060,
          -1019.21875,
          -1150,
          -1122.5,
          -1230,
          -1237.5,
          -1210,
          -1182.5,
          -1140,
          -1048.046875,
          -1270,
          -1312.5,
          -1309.375,
          -1277.5,
          -1420,
          -1392.5,
          -1410,
          -1362.5,
          -1302.34375,
          -1502.5,
          -1472.5,
          -1349.296875,
          -1110.3515625,
          -807.96875,
          -199.15283203125
         ]
        },
        {
         "hoverinfo": "text",
         "hovertext": [
          "outbuilding_garden_in_ancillary_single",
          "outbuilding_garden_in_ancillary_single",
          "replacement_shopfront_shop_street_mercer",
          "shopfront_shop_a1_retail_retention",
          "atm_machine_teller_automated_bank",
          "shutter_roller_shutters_retention_security",
          "extract_duct_flue_ducting_ventilation",
          "chimney_stack_like_arms_buttress",
          "docking_hire_terminal_points_maximum",
          "docking_hire_terminal_points_maximum",
          "docking_hire_terminal_points_maximum",
          "shed_garden_timber_retention_sheds",
          "until_f1_education_years_2022",
          "school_classroom_d1_temporary_playground",
          "school_classroom_d1_temporary_playground",
          "school_classroom_d1_temporary_playground",
          "refurbishment_office_building_plant_space",
          "office_concierge_scaffolding_queensmead_offices",
          "office_concierge_scaffolding_queensmead_offices",
          "redevelopment_buildings_site_storeys_parking",
          "building_buildings_comprising_demolition_redevelopment",
          "generis_sui_beauty_salon_a1",
          "generis_sui_beauty_salon_a1",
          "d2_fitness_yoga_gym_studio",
          "a1_retail_change_use_from",
          "student_hostel_commercial_basements_mhrc",
          "drinking_establishment_a4_duel_lavatories",
          "drinking_establishment_a4_duel_lavatories",
          "drinking_establishment_a4_duel_lavatories",
          "restaurant_a3_change_use_a1",
          "restaurant_a3_reclad_point_infilling",
          "restaurant_a3_reclad_point_infilling",
          "restaurant_a3_reclad_point_infilling",
          "restaurant_a3_reclad_point_infilling",
          "infill_side_single_storey_extension",
          "single_lower_storey_ground_extension",
          "lower_ground_other_extension_erection",
          "flat_c3_extension_motor_single",
          "c3_single_side_storey_dwelling",
          "single_storey_extension_erection_rear",
          "storey_framed_single_veranda_width",
          "first_extension_erection_second_floor",
          "first_extension_erection_second_floor",
          "first_extension_erection_second_floor",
          "excavation_lightwells_basement_lightwell_front",
          "lightwell_stones_staircase_coping_well",
          "fenestration_alterations_lower_rear_ground",
          "conservatory_rear_demolition_following_single",
          "window_door_windows_side_doors",
          "balcony_railings_depth_balustrade_make",
          "balcony_railings_depth_balustrade_make",
          "mansard_roof_extension_create_erection",
          "dormer_dormers_roofslope_slope_window",
          "rooflight_lights_rooflights_extension_single",
          "terrace_screening_structure_arbour_balustrade",
          "terrace_screening_structure_arbour_balustrade",
          "terrace_screening_structure_arbour_balustrade",
          "terrace_screening_structure_arbour_balustrade",
          "b1a_office_change_from_bed",
          "bedroom_studio_flat_contained_self",
          "6th_5th_dwellinghouses_elevational_garage",
          "maisonette_conversion_into_bedroom_lower",
          "1x_conversion_into_bedroom_bed",
          "closet_conversion_wing_contained_self",
          "garage_habitable_into_integral_conversion",
          "garage_habitable_into_integral_conversion",
          "garage_habitable_into_integral_conversion",
          "family_flats_into_dwelling_conversion",
          "demolition_dwelling_dwellinghouse_following_house",
          "optimax_laser_houses_eye_finchley",
          "optimax_laser_houses_eye_finchley",
          "optimax_laser_houses_eye_finchley",
          "optimax_laser_houses_eye_finchley",
          "optimax_laser_houses_eye_finchley"
         ],
         "marker": {
          "color": "black"
         },
         "mode": "markers",
         "showlegend": false,
         "type": "scatter",
         "x": [
          0.25356465968167585,
          0.5173902914347989,
          0.5065691054886508,
          0.4017323613308742,
          0.76258562417418,
          0.9605020307367168,
          0.7708711424796317,
          0.9502246682263328,
          0.9970963456084986,
          1.0886840498567651,
          1.192244639485878,
          0.3047922360599268,
          0.7946833438890576,
          0.6449484878783058,
          0.9835840663353161,
          1.4474349871776397,
          0.5048379164554933,
          0.782270090470969,
          0.9130334361628619,
          0.36776500570744697,
          0.622041612483094,
          0.5368475648544213,
          0.7651940791405896,
          0.7452251632561566,
          0.44538431730271477,
          0.7283182474688572,
          0.9321643924673021,
          0.9934059195962149,
          1.1128029684742808,
          0.4560317851750147,
          0.6733407312824384,
          1.5180177131177235,
          1.7226159238128853,
          1.9296162761140319,
          0.2295085979139936,
          0.24656791082298768,
          0.4656698943464957,
          0.3506679524726488,
          0.45801263684730364,
          0.20752154622325025,
          0.6380743495664734,
          0.41853370729374395,
          0.8625552827666998,
          1.030004744934685,
          0.4609440902143773,
          0.8327021964634275,
          0.27097383681323506,
          0.10837721818818746,
          0.43420960624668303,
          0.8751814004812831,
          0.9464374212894449,
          0.24747961851297162,
          0.4815727834094506,
          0.5766950059018325,
          0.6479160064174412,
          0.9258763785765854,
          1.1824029769838673,
          1.2646964049977825,
          0.29528812828447015,
          0.5600113081912085,
          0.6726224337947427,
          0.27631402361589597,
          0.2534416690702179,
          0.4356508629343302,
          0.8582900101014204,
          0.9287947932155557,
          0.9811422464368665,
          0.3576713768009091,
          0.2624771532313953,
          0.885064418046715,
          0.9646005448750194,
          1.585543007992142,
          2.12500689692379,
          2.4796143445510177
         ],
         "y": [
          -47.5,
          -50.625,
          -90,
          -110,
          -180,
          -183.75,
          -220,
          -250,
          -264.375,
          -238.4375,
          -202.65625,
          -290,
          -337.5,
          -360,
          -341.875,
          -285.01953125,
          -440,
          -443.75,
          -426.875,
          -500,
          -488.75,
          -560,
          -550,
          -597.5,
          -630,
          -660,
          -663.75,
          -643.125,
          -614.6875,
          -707.5,
          -710.625,
          -642.734375,
          -545.3515625,
          -367.9931640625,
          -757.5,
          -800,
          -803.75,
          -850,
          -852.5,
          -910,
          -913.75,
          -940,
          -918.4375,
          -869.6875,
          -990,
          -993.75,
          -1020,
          -1040,
          -1090,
          -1093.75,
          -1076.875,
          -1130,
          -1157.5,
          -1190,
          -1246.25,
          -1228.125,
          -1205.3125,
          -1172.65625,
          -1320,
          -1323.75,
          -1327.1875,
          -1370,
          -1400,
          -1427.5,
          -1450,
          -1430,
          -1396.25,
          -1480,
          -1510,
          -1513.75,
          -1493.125,
          -1421.2109375,
          -1265.78125,
          -1036.875
         ]
        }
       ],
       "layout": {
        "autosize": false,
        "height": 2495,
        "hoverlabel": {
         "bgcolor": "white",
         "font": {
          "family": "Rockwell",
          "size": 16
         }
        },
        "hovermode": "closest",
        "plot_bgcolor": "#ECEFF1",
        "showlegend": false,
        "template": {
         "data": {
          "bar": [
           {
            "error_x": {
             "color": "#2a3f5f"
            },
            "error_y": {
             "color": "#2a3f5f"
            },
            "marker": {
             "line": {
              "color": "white",
              "width": 0.5
             },
             "pattern": {
              "fillmode": "overlay",
              "size": 10,
              "solidity": 0.2
             }
            },
            "type": "bar"
           }
          ],
          "barpolar": [
           {
            "marker": {
             "line": {
              "color": "white",
              "width": 0.5
             },
             "pattern": {
              "fillmode": "overlay",
              "size": 10,
              "solidity": 0.2
             }
            },
            "type": "barpolar"
           }
          ],
          "carpet": [
           {
            "aaxis": {
             "endlinecolor": "#2a3f5f",
             "gridcolor": "#C8D4E3",
             "linecolor": "#C8D4E3",
             "minorgridcolor": "#C8D4E3",
             "startlinecolor": "#2a3f5f"
            },
            "baxis": {
             "endlinecolor": "#2a3f5f",
             "gridcolor": "#C8D4E3",
             "linecolor": "#C8D4E3",
             "minorgridcolor": "#C8D4E3",
             "startlinecolor": "#2a3f5f"
            },
            "type": "carpet"
           }
          ],
          "choropleth": [
           {
            "colorbar": {
             "outlinewidth": 0,
             "ticks": ""
            },
            "type": "choropleth"
           }
          ],
          "contour": [
           {
            "colorbar": {
             "outlinewidth": 0,
             "ticks": ""
            },
            "colorscale": [
             [
              0,
              "#0d0887"
             ],
             [
              0.1111111111111111,
              "#46039f"
             ],
             [
              0.2222222222222222,
              "#7201a8"
             ],
             [
              0.3333333333333333,
              "#9c179e"
             ],
             [
              0.4444444444444444,
              "#bd3786"
             ],
             [
              0.5555555555555556,
              "#d8576b"
             ],
             [
              0.6666666666666666,
              "#ed7953"
             ],
             [
              0.7777777777777778,
              "#fb9f3a"
             ],
             [
              0.8888888888888888,
              "#fdca26"
             ],
             [
              1,
              "#f0f921"
             ]
            ],
            "type": "contour"
           }
          ],
          "contourcarpet": [
           {
            "colorbar": {
             "outlinewidth": 0,
             "ticks": ""
            },
            "type": "contourcarpet"
           }
          ],
          "heatmap": [
           {
            "colorbar": {
             "outlinewidth": 0,
             "ticks": ""
            },
            "colorscale": [
             [
              0,
              "#0d0887"
             ],
             [
              0.1111111111111111,
              "#46039f"
             ],
             [
              0.2222222222222222,
              "#7201a8"
             ],
             [
              0.3333333333333333,
              "#9c179e"
             ],
             [
              0.4444444444444444,
              "#bd3786"
             ],
             [
              0.5555555555555556,
              "#d8576b"
             ],
             [
              0.6666666666666666,
              "#ed7953"
             ],
             [
              0.7777777777777778,
              "#fb9f3a"
             ],
             [
              0.8888888888888888,
              "#fdca26"
             ],
             [
              1,
              "#f0f921"
             ]
            ],
            "type": "heatmap"
           }
          ],
          "heatmapgl": [
           {
            "colorbar": {
             "outlinewidth": 0,
             "ticks": ""
            },
            "colorscale": [
             [
              0,
              "#0d0887"
             ],
             [
              0.1111111111111111,
              "#46039f"
             ],
             [
              0.2222222222222222,
              "#7201a8"
             ],
             [
              0.3333333333333333,
              "#9c179e"
             ],
             [
              0.4444444444444444,
              "#bd3786"
             ],
             [
              0.5555555555555556,
              "#d8576b"
             ],
             [
              0.6666666666666666,
              "#ed7953"
             ],
             [
              0.7777777777777778,
              "#fb9f3a"
             ],
             [
              0.8888888888888888,
              "#fdca26"
             ],
             [
              1,
              "#f0f921"
             ]
            ],
            "type": "heatmapgl"
           }
          ],
          "histogram": [
           {
            "marker": {
             "pattern": {
              "fillmode": "overlay",
              "size": 10,
              "solidity": 0.2
             }
            },
            "type": "histogram"
           }
          ],
          "histogram2d": [
           {
            "colorbar": {
             "outlinewidth": 0,
             "ticks": ""
            },
            "colorscale": [
             [
              0,
              "#0d0887"
             ],
             [
              0.1111111111111111,
              "#46039f"
             ],
             [
              0.2222222222222222,
              "#7201a8"
             ],
             [
              0.3333333333333333,
              "#9c179e"
             ],
             [
              0.4444444444444444,
              "#bd3786"
             ],
             [
              0.5555555555555556,
              "#d8576b"
             ],
             [
              0.6666666666666666,
              "#ed7953"
             ],
             [
              0.7777777777777778,
              "#fb9f3a"
             ],
             [
              0.8888888888888888,
              "#fdca26"
             ],
             [
              1,
              "#f0f921"
             ]
            ],
            "type": "histogram2d"
           }
          ],
          "histogram2dcontour": [
           {
            "colorbar": {
             "outlinewidth": 0,
             "ticks": ""
            },
            "colorscale": [
             [
              0,
              "#0d0887"
             ],
             [
              0.1111111111111111,
              "#46039f"
             ],
             [
              0.2222222222222222,
              "#7201a8"
             ],
             [
              0.3333333333333333,
              "#9c179e"
             ],
             [
              0.4444444444444444,
              "#bd3786"
             ],
             [
              0.5555555555555556,
              "#d8576b"
             ],
             [
              0.6666666666666666,
              "#ed7953"
             ],
             [
              0.7777777777777778,
              "#fb9f3a"
             ],
             [
              0.8888888888888888,
              "#fdca26"
             ],
             [
              1,
              "#f0f921"
             ]
            ],
            "type": "histogram2dcontour"
           }
          ],
          "mesh3d": [
           {
            "colorbar": {
             "outlinewidth": 0,
             "ticks": ""
            },
            "type": "mesh3d"
           }
          ],
          "parcoords": [
           {
            "line": {
             "colorbar": {
              "outlinewidth": 0,
              "ticks": ""
             }
            },
            "type": "parcoords"
           }
          ],
          "pie": [
           {
            "automargin": true,
            "type": "pie"
           }
          ],
          "scatter": [
           {
            "fillpattern": {
             "fillmode": "overlay",
             "size": 10,
             "solidity": 0.2
            },
            "type": "scatter"
           }
          ],
          "scatter3d": [
           {
            "line": {
             "colorbar": {
              "outlinewidth": 0,
              "ticks": ""
             }
            },
            "marker": {
             "colorbar": {
              "outlinewidth": 0,
              "ticks": ""
             }
            },
            "type": "scatter3d"
           }
          ],
          "scattercarpet": [
           {
            "marker": {
             "colorbar": {
              "outlinewidth": 0,
              "ticks": ""
             }
            },
            "type": "scattercarpet"
           }
          ],
          "scattergeo": [
           {
            "marker": {
             "colorbar": {
              "outlinewidth": 0,
              "ticks": ""
             }
            },
            "type": "scattergeo"
           }
          ],
          "scattergl": [
           {
            "marker": {
             "colorbar": {
              "outlinewidth": 0,
              "ticks": ""
             }
            },
            "type": "scattergl"
           }
          ],
          "scattermapbox": [
           {
            "marker": {
             "colorbar": {
              "outlinewidth": 0,
              "ticks": ""
             }
            },
            "type": "scattermapbox"
           }
          ],
          "scatterpolar": [
           {
            "marker": {
             "colorbar": {
              "outlinewidth": 0,
              "ticks": ""
             }
            },
            "type": "scatterpolar"
           }
          ],
          "scatterpolargl": [
           {
            "marker": {
             "colorbar": {
              "outlinewidth": 0,
              "ticks": ""
             }
            },
            "type": "scatterpolargl"
           }
          ],
          "scatterternary": [
           {
            "marker": {
             "colorbar": {
              "outlinewidth": 0,
              "ticks": ""
             }
            },
            "type": "scatterternary"
           }
          ],
          "surface": [
           {
            "colorbar": {
             "outlinewidth": 0,
             "ticks": ""
            },
            "colorscale": [
             [
              0,
              "#0d0887"
             ],
             [
              0.1111111111111111,
              "#46039f"
             ],
             [
              0.2222222222222222,
              "#7201a8"
             ],
             [
              0.3333333333333333,
              "#9c179e"
             ],
             [
              0.4444444444444444,
              "#bd3786"
             ],
             [
              0.5555555555555556,
              "#d8576b"
             ],
             [
              0.6666666666666666,
              "#ed7953"
             ],
             [
              0.7777777777777778,
              "#fb9f3a"
             ],
             [
              0.8888888888888888,
              "#fdca26"
             ],
             [
              1,
              "#f0f921"
             ]
            ],
            "type": "surface"
           }
          ],
          "table": [
           {
            "cells": {
             "fill": {
              "color": "#EBF0F8"
             },
             "line": {
              "color": "white"
             }
            },
            "header": {
             "fill": {
              "color": "#C8D4E3"
             },
             "line": {
              "color": "white"
             }
            },
            "type": "table"
           }
          ]
         },
         "layout": {
          "annotationdefaults": {
           "arrowcolor": "#2a3f5f",
           "arrowhead": 0,
           "arrowwidth": 1
          },
          "autotypenumbers": "strict",
          "coloraxis": {
           "colorbar": {
            "outlinewidth": 0,
            "ticks": ""
           }
          },
          "colorscale": {
           "diverging": [
            [
             0,
             "#8e0152"
            ],
            [
             0.1,
             "#c51b7d"
            ],
            [
             0.2,
             "#de77ae"
            ],
            [
             0.3,
             "#f1b6da"
            ],
            [
             0.4,
             "#fde0ef"
            ],
            [
             0.5,
             "#f7f7f7"
            ],
            [
             0.6,
             "#e6f5d0"
            ],
            [
             0.7,
             "#b8e186"
            ],
            [
             0.8,
             "#7fbc41"
            ],
            [
             0.9,
             "#4d9221"
            ],
            [
             1,
             "#276419"
            ]
           ],
           "sequential": [
            [
             0,
             "#0d0887"
            ],
            [
             0.1111111111111111,
             "#46039f"
            ],
            [
             0.2222222222222222,
             "#7201a8"
            ],
            [
             0.3333333333333333,
             "#9c179e"
            ],
            [
             0.4444444444444444,
             "#bd3786"
            ],
            [
             0.5555555555555556,
             "#d8576b"
            ],
            [
             0.6666666666666666,
             "#ed7953"
            ],
            [
             0.7777777777777778,
             "#fb9f3a"
            ],
            [
             0.8888888888888888,
             "#fdca26"
            ],
            [
             1,
             "#f0f921"
            ]
           ],
           "sequentialminus": [
            [
             0,
             "#0d0887"
            ],
            [
             0.1111111111111111,
             "#46039f"
            ],
            [
             0.2222222222222222,
             "#7201a8"
            ],
            [
             0.3333333333333333,
             "#9c179e"
            ],
            [
             0.4444444444444444,
             "#bd3786"
            ],
            [
             0.5555555555555556,
             "#d8576b"
            ],
            [
             0.6666666666666666,
             "#ed7953"
            ],
            [
             0.7777777777777778,
             "#fb9f3a"
            ],
            [
             0.8888888888888888,
             "#fdca26"
            ],
            [
             1,
             "#f0f921"
            ]
           ]
          },
          "colorway": [
           "#636efa",
           "#EF553B",
           "#00cc96",
           "#ab63fa",
           "#FFA15A",
           "#19d3f3",
           "#FF6692",
           "#B6E880",
           "#FF97FF",
           "#FECB52"
          ],
          "font": {
           "color": "#2a3f5f"
          },
          "geo": {
           "bgcolor": "white",
           "lakecolor": "white",
           "landcolor": "white",
           "showlakes": true,
           "showland": true,
           "subunitcolor": "#C8D4E3"
          },
          "hoverlabel": {
           "align": "left"
          },
          "hovermode": "closest",
          "mapbox": {
           "style": "light"
          },
          "paper_bgcolor": "white",
          "plot_bgcolor": "white",
          "polar": {
           "angularaxis": {
            "gridcolor": "#EBF0F8",
            "linecolor": "#EBF0F8",
            "ticks": ""
           },
           "bgcolor": "white",
           "radialaxis": {
            "gridcolor": "#EBF0F8",
            "linecolor": "#EBF0F8",
            "ticks": ""
           }
          },
          "scene": {
           "xaxis": {
            "backgroundcolor": "white",
            "gridcolor": "#DFE8F3",
            "gridwidth": 2,
            "linecolor": "#EBF0F8",
            "showbackground": true,
            "ticks": "",
            "zerolinecolor": "#EBF0F8"
           },
           "yaxis": {
            "backgroundcolor": "white",
            "gridcolor": "#DFE8F3",
            "gridwidth": 2,
            "linecolor": "#EBF0F8",
            "showbackground": true,
            "ticks": "",
            "zerolinecolor": "#EBF0F8"
           },
           "zaxis": {
            "backgroundcolor": "white",
            "gridcolor": "#DFE8F3",
            "gridwidth": 2,
            "linecolor": "#EBF0F8",
            "showbackground": true,
            "ticks": "",
            "zerolinecolor": "#EBF0F8"
           }
          },
          "shapedefaults": {
           "line": {
            "color": "#2a3f5f"
           }
          },
          "ternary": {
           "aaxis": {
            "gridcolor": "#DFE8F3",
            "linecolor": "#A2B1C6",
            "ticks": ""
           },
           "baxis": {
            "gridcolor": "#DFE8F3",
            "linecolor": "#A2B1C6",
            "ticks": ""
           },
           "bgcolor": "white",
           "caxis": {
            "gridcolor": "#DFE8F3",
            "linecolor": "#A2B1C6",
            "ticks": ""
           }
          },
          "title": {
           "x": 0.05
          },
          "xaxis": {
           "automargin": true,
           "gridcolor": "#EBF0F8",
           "linecolor": "#EBF0F8",
           "ticks": "",
           "title": {
            "standoff": 15
           },
           "zerolinecolor": "#EBF0F8",
           "zerolinewidth": 2
          },
          "yaxis": {
           "automargin": true,
           "gridcolor": "#EBF0F8",
           "linecolor": "#EBF0F8",
           "ticks": "",
           "title": {
            "standoff": 15
           },
           "zerolinecolor": "#EBF0F8",
           "zerolinewidth": 2
          }
         }
        },
        "title": {
         "font": {
          "color": "Black",
          "size": 22
         },
         "text": "<b>Hierarchical Clustering</b>",
         "x": 0.5,
         "xanchor": "center",
         "yanchor": "top"
        },
        "width": 1000,
        "xaxis": {
         "mirror": "allticks",
         "rangemode": "tozero",
         "showgrid": false,
         "showline": true,
         "showticklabels": true,
         "ticks": "outside",
         "type": "linear",
         "zeroline": false
        },
        "yaxis": {
         "mirror": "allticks",
         "range": [
          -1530,
          0
         ],
         "rangemode": "tozero",
         "showgrid": false,
         "showline": true,
         "showticklabels": true,
         "tickmode": "array",
         "ticks": "outside",
         "ticktext": [
          "58_timber_outbuilding_clad",
          "96_timber_garden_metre",
          "64_outbuilding_single_ancil...",
          "60_outbuilding_garden_in",
          "20_outbuilding_garden_in",
          "24_garden_outbuilding_in",
          "107_green_outbuilding_garden",
          "129_shopfront_unit_doorway",
          "25_shopfront_alterations_sh...",
          "136_replacement_shopfront_s...",
          "45_shopfront_shop_a1",
          "137_retention_shopfront_a1",
          "70_telephone_kiosk_box",
          "72_bt_telephone_phone",
          "50_canopy_porch_entrance",
          "125_entrance_farringdon_door",
          "130_facade_pilasters_redeco...",
          "124_fascia_shopfront_sign",
          "73_atm_machine_teller",
          "141_shutter_roller_shutters",
          "31_air_conditioning_condenser",
          "84_duct_extract_ducting",
          "126_flue_extract_boiler",
          "86_pergola_pergolas_planting",
          "110_mezzanine_annex_oversai...",
          "119_chimney_stack_like",
          "99_antennas_dishes_cabinets",
          "53_docking_hire_terminal",
          "140_shed_retention_garden",
          "78_shed_garden_timber",
          "55_garden_room_marquees",
          "63_sculpture_statue_plinth",
          "116_filming_temporary_july",
          "87_led_temporary_piazza",
          "133_until_f1_education",
          "139_temporary_structures_al...",
          "21_school_classroom_d1",
          "123_hotel_c1_euston",
          "91_hotel_closet_wing",
          "128_fire_escape_exit",
          "147_plant_210_euston",
          "131_external_internal_room",
          "89_infill_additional_lightw...",
          "36_office_roof_b1a",
          "44_refurbishment_office_bui...",
          "108_office_concierge_scaffo...",
          "95_comprising_four_bed",
          "38_building_plus_following",
          "54_warehouse_b8_building",
          "22_building_comprising_demo...",
          "32_redevelopment_site_build...",
          "76_hostel_nurses_sui",
          "114_work_live_sui",
          "100_b8_car_sui",
          "103_market_sui_generis",
          "59_sui_generis_a1",
          "51_beauty_salon_generis",
          "57_dental_surgery_practice",
          "74_clinic_d1_medical",
          "12_d1_educational_b1",
          "28_d2_fitness_yoga",
          "105_retail_unit_a1",
          "16_retail_a1_change",
          "27_a1_retail_b1",
          "88_estate_agents_a2",
          "49_professional_financial_s...",
          "132_student_hostel_commercial",
          "151_drinking_establishment_a4",
          "118_restaurant_a3_third",
          "93_restaurant_a3_a1",
          "81_restaurant_a3_change",
          "138_restaurant_a3_b1a",
          "142_restaurant_a3_reclad",
          "112_infill_garde_void",
          "41_infill_side_c3",
          "35_infill_single_side",
          "52_infill_side_single",
          "79_return_construction_exte...",
          "68_lower_full_single",
          "48_single_lower_storey",
          "134_lower_single_storey",
          "94_lower_ground_other",
          "47_flat_single_lower",
          "10_flat_c3_single",
          "26_connection_lower_c3",
          "111_flat_c3_extension",
          "29_c3_single_side",
          "109_side_single_lower",
          "65_side_single_storey",
          "117_single_metres_storey",
          "115_single_storey_extension",
          "62_single_storey_extension",
          "102_storey_framed_single",
          "98_first_single_storey",
          "82_first_extension_erection",
          "30_bin_store_refuse",
          "2_wall_boundary_gates",
          "11_demolition_extension_exi...",
          "17_garden_excavation_patio",
          "1_excavation_lightwells_bas...",
          "149_lightwell_stones_stairc...",
          "40_fenestration_alterations...",
          "113_fenestration_rendering_...",
          "7_conservatory_demolition_f...",
          "18_conservatory_flat_c3",
          "85_glazed_c2_staircore",
          "8_windows_glazed_double",
          "42_window_elevation_enlarge...",
          "23_window_door_side",
          "56_door_windows_window",
          "80_balcony_railings_depth",
          "127_108_mansard_quex",
          "3_mansard_roof_extension",
          "33_mansard_roof_extension",
          "106_mansard_windows_dormer",
          "43_mansard_dormer_windows",
          "0_dormer_dormers_roofslope",
          "83_loft_conversion_lights",
          "71_roofslope_rooflights_ins...",
          "39_rooflight_lights_rooflig...",
          "5_permission_planning_granted",
          "152_06_1805_permmission",
          "69_terrace_above_single",
          "15_terrace_roof_extension",
          "4_terrace_balustrade_roof",
          "121_terrace_screening_struc...",
          "34_roof_provide_enhance",
          "14_roof_c3_flat",
          "143_additional_off_enlargem...",
          "77_a4_public_1x3",
          "90_third_hemstal_7a",
          "19_office_b1_change",
          "46_b1a_office_change",
          "104_bedroom_studio_flat",
          "148_6th_5th_dwellinghouses",
          "146_maisonette_fifth_seventh",
          "9_maisonette_conversion_into",
          "37_maisonette_lower_ground",
          "150_bed_dwellinghouse_family",
          "67_1x_conversion_2x",
          "75_bedroom_conversion_1x",
          "97_conversion_flats_bedroom",
          "66_conversion_into_flats",
          "122_closet_conversion_wing",
          "61_hmo_c4_multiple",
          "144_garage_habitable_into",
          "135_b1_family_dwelling",
          "101_family_dwellinghouse_fl...",
          "120_family_into_conversion",
          "92_dwellinghouse_portable_c...",
          "13_dwellinghouse_following_...",
          "6_demolition_dwelling_house",
          "145_optimax_laser_houses"
         ],
         "tickvals": [
          -5,
          -15,
          -25,
          -35,
          -45,
          -55,
          -65,
          -75,
          -85,
          -95,
          -105,
          -115,
          -125,
          -135,
          -145,
          -155,
          -165,
          -175,
          -185,
          -195,
          -205,
          -215,
          -225,
          -235,
          -245,
          -255,
          -265,
          -275,
          -285,
          -295,
          -305,
          -315,
          -325,
          -335,
          -345,
          -355,
          -365,
          -375,
          -385,
          -395,
          -405,
          -415,
          -425,
          -435,
          -445,
          -455,
          -465,
          -475,
          -485,
          -495,
          -505,
          -515,
          -525,
          -535,
          -545,
          -555,
          -565,
          -575,
          -585,
          -595,
          -605,
          -615,
          -625,
          -635,
          -645,
          -655,
          -665,
          -675,
          -685,
          -695,
          -705,
          -715,
          -725,
          -735,
          -745,
          -755,
          -765,
          -775,
          -785,
          -795,
          -805,
          -815,
          -825,
          -835,
          -845,
          -855,
          -865,
          -875,
          -885,
          -895,
          -905,
          -915,
          -925,
          -935,
          -945,
          -955,
          -965,
          -975,
          -985,
          -995,
          -1005,
          -1015,
          -1025,
          -1035,
          -1045,
          -1055,
          -1065,
          -1075,
          -1085,
          -1095,
          -1105,
          -1115,
          -1125,
          -1135,
          -1145,
          -1155,
          -1165,
          -1175,
          -1185,
          -1195,
          -1205,
          -1215,
          -1225,
          -1235,
          -1245,
          -1255,
          -1265,
          -1275,
          -1285,
          -1295,
          -1305,
          -1315,
          -1325,
          -1335,
          -1345,
          -1355,
          -1365,
          -1375,
          -1385,
          -1395,
          -1405,
          -1415,
          -1425,
          -1435,
          -1445,
          -1455,
          -1465,
          -1475,
          -1485,
          -1495,
          -1505,
          -1515,
          -1525
         ],
         "type": "linear",
         "zeroline": false
        }
       }
      }
     },
     "metadata": {},
     "output_type": "display_data"
    }
   ],
   "source": [
    "topic_model.visualize_hierarchy(hierarchical_topics=hierarchical_topics)"
   ]
  },
  {
   "cell_type": "code",
   "execution_count": 36,
   "metadata": {},
   "outputs": [
    {
     "name": "stdout",
     "output_type": "stream",
     "text": [
      ".\n",
      "├─■──docking_hire_terminal_points_maximum ── Topic: 53\n",
      "└─erection_rear_of_extension_to\n",
      "     ├─■──antennas_dishes_cabinets_equipment_aerial ── Topic: 99\n",
      "     └─erection_rear_of_extension_to\n",
      "          ├─erection_rear_of_extension_to\n",
      "          │    ├─telephone_bt_kiosk_phone_fi\n",
      "          │    │    ├─■──telephone_kiosk_box_bt_pod ── Topic: 70\n",
      "          │    │    └─■──bt_telephone_phone_fi_wi ── Topic: 72\n",
      "          │    └─erection_rear_of_extension_to\n",
      "          │         ├─■──sculpture_statue_plinth_display_sited ── Topic: 63\n",
      "          │         └─erection_rear_of_extension_to\n",
      "          │              ├─rear_erection_of_extension_to\n",
      "          │              │    ├─erection_rear_of_extension_storey\n",
      "          │              │    │    ├─■──fire_escape_exit_staircases_steel ── Topic: 128\n",
      "          │              │    │    └─erection_rear_of_extension_storey\n",
      "          │              │    │         ├─erection_rear_of_extension_storey\n",
      "          │              │    │         │    ├─erection_rear_of_extension_storey\n",
      "          │              │    │         │    │    ├─■──shutter_roller_shutters_retention_security ── Topic: 141\n",
      "          │              │    │         │    │    └─erection_rear_of_extension_storey\n",
      "          │              │    │         │    │         ├─erection_rear_of_extension_storey\n",
      "          │              │    │         │    │         │    ├─■──atm_machine_teller_automated_bank ── Topic: 73\n",
      "          │              │    │         │    │         │    └─erection_rear_of_extension_storey\n",
      "          │              │    │         │    │         │         ├─■──canopy_porch_entrance_porches_glazed ── Topic: 50\n",
      "          │              │    │         │    │         │         └─rear_erection_of_extension_storey\n",
      "          │              │    │         │    │         │              ├─■──optimax_laser_houses_eye_finchley ── Topic: 145\n",
      "          │              │    │         │    │         │              └─rear_erection_of_extension_storey\n",
      "          │              │    │         │    │         │                   ├─rear_erection_extension_of_storey\n",
      "          │              │    │         │    │         │                   │    ├─■──dental_surgery_practice_d1_change ── Topic: 57\n",
      "          │              │    │         │    │         │                   │    └─rear_erection_extension_of_storey\n",
      "          │              │    │         │    │         │                   │         ├─■──estate_agents_a2_agent_shop ── Topic: 88\n",
      "          │              │    │         │    │         │                   │         └─rear_erection_extension_of_storey\n",
      "          │              │    │         │    │         │                   │              ├─rear_erection_extension_of_storey\n",
      "          │              │    │         │    │         │                   │              │    ├─rear_erection_extension_of_storey\n",
      "          │              │    │         │    │         │                   │              │    │    ├─rear_erection_extension_of_storey\n",
      "          │              │    │         │    │         │                   │              │    │    │    ├─rear_erection_extension_storey_of\n",
      "          │              │    │         │    │         │                   │              │    │    │    │    ├─shed_garden_timber_retention_sheds\n",
      "          │              │    │         │    │         │                   │              │    │    │    │    │    ├─■──shed_garden_timber_sheds_in ── Topic: 78\n",
      "          │              │    │         │    │         │                   │              │    │    │    │    │    └─■──shed_retention_garden_timber_storage ── Topic: 140\n",
      "          │              │    │         │    │         │                   │              │    │    │    │    └─rear_erection_extension_storey_of\n",
      "          │              │    │         │    │         │                   │              │    │    │    │         ├─■──lightwell_stones_staircase_coping_well ── Topic: 149\n",
      "          │              │    │         │    │         │                   │              │    │    │    │         └─rear_erection_extension_storey_of\n",
      "          │              │    │         │    │         │                   │              │    │    │    │              ├─rear_erection_extension_storey_of\n",
      "          │              │    │         │    │         │                   │              │    │    │    │              │    ├─■──permission_planning_granted_ref_amendments ── Topic: 5\n",
      "          │              │    │         │    │         │                   │              │    │    │    │              │    └─rear_erection_extension_storey_single\n",
      "          │              │    │         │    │         │                   │              │    │    │    │              │         ├─■──entrance_farringdon_door_kilburn_steps ── Topic: 125\n",
      "          │              │    │         │    │         │                   │              │    │    │    │              │         └─rear_erection_extension_storey_single\n",
      "          │              │    │         │    │         │                   │              │    │    │    │              │              ├─■──garage_habitable_into_integral_conversion ── Topic: 144\n",
      "          │              │    │         │    │         │                   │              │    │    │    │              │              └─rear_erection_extension_storey_single\n",
      "          │              │    │         │    │         │                   │              │    │    │    │              │                   ├─■──external_internal_room_plant_stage ── Topic: 131\n",
      "          │              │    │         │    │         │                   │              │    │    │    │              │                   └─rear_erection_extension_storey_single\n",
      "          │              │    │         │    │         │                   │              │    │    │    │              │                        ├─■──bin_store_refuse_front_garden ── Topic: 30\n",
      "          │              │    │         │    │         │                   │              │    │    │    │              │                        └─rear_extension_erection_storey_single\n",
      "          │              │    │         │    │         │                   │              │    │    │    │              │                             ├─rear_extension_erection_storey_single\n",
      "          │              │    │         │    │         │                   │              │    │    │    │              │                             │    ├─■──b8_car_sui_generis_park ── Topic: 100\n",
      "          │              │    │         │    │         │                   │              │    │    │    │              │                             │    └─rear_extension_erection_storey_single\n",
      "          │              │    │         │    │         │                   │              │    │    │    │              │                             │         ├─rear_extension_erection_storey_single\n",
      "          │              │    │         │    │         │                   │              │    │    │    │              │                             │         │    ├─■──student_hostel_commercial_basements_mhrc ── Topic: 132\n",
      "          │              │    │         │    │         │                   │              │    │    │    │              │                             │         │    └─rear_extension_erection_single_storey\n",
      "          │              │    │         │    │         │                   │              │    │    │    │              │                             │         │         ├─■──office_concierge_scaffolding_queensmead_offices ── Topic: 108\n",
      "          │              │    │         │    │         │                   │              │    │    │    │              │                             │         │         └─rear_extension_erection_single_storey\n",
      "          │              │    │         │    │         │                   │              │    │    │    │              │                             │         │              ├─rear_extension_erection_single_storey\n",
      "          │              │    │         │    │         │                   │              │    │    │    │              │                             │         │              │    ├─conservatory_rear_demolition_following_single\n",
      "          │              │    │         │    │         │                   │              │    │    │    │              │                             │         │              │    │    ├─■──conservatory_demolition_following_rear_replace ── Topic: 7\n",
      "          │              │    │         │    │         │                   │              │    │    │    │              │                             │         │              │    │    └─■──conservatory_flat_c3_existing_rear ── Topic: 18\n",
      "          │              │    │         │    │         │                   │              │    │    │    │              │                             │         │              │    └─rear_extension_erection_storey_single\n",
      "          │              │    │         │    │         │                   │              │    │    │    │              │                             │         │              │         ├─rear_extension_storey_single_roof\n",
      "          │              │    │         │    │         │                   │              │    │    │    │              │                             │         │              │         │    ├─rear_extension_storey_single_roof\n",
      "          │              │    │         │    │         │                   │              │    │    │    │              │                             │         │              │         │    │    ├─rear_extension_storey_single_roof\n",
      "          │              │    │         │    │         │                   │              │    │    │    │              │                             │         │              │         │    │    │    ├─rear_extension_storey_single_roof\n",
      "          │              │    │         │    │         │                   │              │    │    │    │              │                             │         │              │         │    │    │    │    ├─■──glazed_c2_staircore_sun_ninth ── Topic: 85\n",
      "          │              │    │         │    │         │                   │              │    │    │    │              │                             │         │              │         │    │    │    │    └─rear_extension_storey_roof_single\n",
      "          │              │    │         │    │         │                   │              │    │    │    │              │                             │         │              │         │    │    │    │         ├─rear_extension_storey_roof_erection\n",
      "          │              │    │         │    │         │                   │              │    │    │    │              │                             │         │              │         │    │    │    │         │    ├─hotel_c1_closet_wing_rooms\n",
      "          │              │    │         │    │         │                   │              │    │    │    │              │                             │         │              │         │    │    │    │         │    │    ├─■──hotel_c1_euston_fitzroy_worship ── Topic: 123\n",
      "          │              │    │         │    │         │                   │              │    │    │    │              │                             │         │              │         │    │    │    │         │    │    └─■──hotel_closet_wing_c1_guestrooms ── Topic: 91\n",
      "          │              │    │         │    │         │                   │              │    │    │    │              │                             │         │              │         │    │    │    │         │    └─rear_extension_roof_single_storey\n",
      "          │              │    │         │    │         │                   │              │    │    │    │              │                             │         │              │         │    │    │    │         │         ├─■──dwellinghouse_portable_cabins_1x_storey ── Topic: 92\n",
      "          │              │    │         │    │         │                   │              │    │    │    │              │                             │         │              │         │    │    │    │         │         └─rear_extension_roof_single_storey\n",
      "          │              │    │         │    │         │                   │              │    │    │    │              │                             │         │              │         │    │    │    │         │              ├─rear_extension_single_storey_roof\n",
      "          │              │    │         │    │         │                   │              │    │    │    │              │                             │         │              │         │    │    │    │         │              │    ├─■──garden_room_marquees_november_january ── Topic: 55\n",
      "          │              │    │         │    │         │                   │              │    │    │    │              │                             │         │              │         │    │    │    │         │              │    └─extension_rear_roof_single_storey\n",
      "          │              │    │         │    │         │                   │              │    │    │    │              │                             │         │              │         │    │    │    │         │              │         ├─extension_rear_roof_single_storey\n",
      "          │              │    │         │    │         │                   │              │    │    │    │              │                             │         │              │         │    │    │    │         │              │         │    ├─extension_rear_roof_c3_erection\n",
      "          │              │    │         │    │         │                   │              │    │    │    │              │                             │         │              │         │    │    │    │         │              │         │    │    ├─extension_rear_roof_c3_storey\n",
      "          │              │    │         │    │         │                   │              │    │    │    │              │                             │         │              │         │    │    │    │         │              │         │    │    │    ├─extension_rear_roof_storey_erection\n",
      "          │              │    │         │    │         │                   │              │    │    │    │              │                             │         │              │         │    │    │    │         │              │         │    │    │    │    ├─d1_b1_educational_office_or\n",
      "          │              │    │         │    │         │                   │              │    │    │    │              │                             │         │              │         │    │    │    │         │              │         │    │    │    │    │    ├─■──clinic_d1_medical_health_b1 ── Topic: 74\n",
      "          │              │    │         │    │         │                   │              │    │    │    │              │                             │         │              │         │    │    │    │         │              │         │    │    │    │    │    └─■──d1_educational_b1_or_institution ── Topic: 12\n",
      "          │              │    │         │    │         │                   │              │    │    │    │              │                             │         │              │         │    │    │    │         │              │         │    │    │    │    └─extension_rear_roof_erection_storey\n",
      "          │              │    │         │    │         │                   │              │    │    │    │              │                             │         │              │         │    │    │    │         │              │         │    │    │    │         ├─■──b1_family_dwelling_house_office ── Topic: 135\n",
      "          │              │    │         │    │         │                   │              │    │    │    │              │                             │         │              │         │    │    │    │         │              │         │    │    │    │         └─extension_rear_roof_erection_storey\n",
      "          │              │    │         │    │         │                   │              │    │    │    │              │                             │         │              │         │    │    │    │         │              │         │    │    │    │              ├─building_buildings_comprising_demolition_redevelopment\n",
      "          │              │    │         │    │         │                   │              │    │    │    │              │                             │         │              │         │    │    │    │         │              │         │    │    │    │              │    ├─buildings_redevelopment_building_comprising_site\n",
      "          │              │    │         │    │         │                   │              │    │    │    │              │                             │         │              │         │    │    │    │         │              │         │    │    │    │              │    │    ├─redevelopment_buildings_site_storeys_parking\n",
      "          │              │    │         │    │         │                   │              │    │    │    │              │                             │         │              │         │    │    │    │         │              │         │    │    │    │              │    │    │    ├─■──redevelopment_site_buildings_parking_storeys ── Topic: 32\n",
      "          │              │    │         │    │         │                   │              │    │    │    │              │                             │         │              │         │    │    │    │         │              │         │    │    │    │              │    │    │    └─■──building_comprising_demolition_buildings_storeys ── Topic: 22\n",
      "          │              │    │         │    │         │                   │              │    │    │    │              │                             │         │              │         │    │    │    │         │              │         │    │    │    │              │    │    └─■──warehouse_b8_building_following_comprising ── Topic: 54\n",
      "          │              │    │         │    │         │                   │              │    │    │    │              │                             │         │              │         │    │    │    │         │              │         │    │    │    │              │    └─building_units_plus_following_comprising\n",
      "          │              │    │         │    │         │                   │              │    │    │    │              │                             │         │              │         │    │    │    │         │              │         │    │    │    │              │         ├─■──building_plus_following_units_comprising ── Topic: 38\n",
      "          │              │    │         │    │         │                   │              │    │    │    │              │                             │         │              │         │    │    │    │         │              │         │    │    │    │              │         └─■──comprising_four_bed_units_building ── Topic: 95\n",
      "          │              │    │         │    │         │                   │              │    │    │    │              │                             │         │              │         │    │    │    │         │              │         │    │    │    │              └─extension_rear_roof_flat_single\n",
      "          │              │    │         │    │         │                   │              │    │    │    │              │                             │         │              │         │    │    │    │         │              │         │    │    │    │                   ├─extension_rear_roof_flat_single\n",
      "          │              │    │         │    │         │                   │              │    │    │    │              │                             │         │              │         │    │    │    │         │              │         │    │    │    │                   │    ├─outbuilding_garden_in_timber_ancillary\n",
      "          │              │    │         │    │         │                   │              │    │    │    │              │                             │         │              │         │    │    │    │         │              │         │    │    │    │                   │    │    ├─outbuilding_garden_in_ancillary_single\n",
      "          │              │    │         │    │         │                   │              │    │    │    │              │                             │         │              │         │    │    │    │         │              │         │    │    │    │                   │    │    │    ├─■──green_outbuilding_garden_outbuildings_clad ── Topic: 107\n",
      "          │              │    │         │    │         │                   │              │    │    │    │              │                             │         │              │         │    │    │    │         │              │         │    │    │    │                   │    │    │    └─outbuilding_garden_in_ancillary_single\n",
      "          │              │    │         │    │         │                   │              │    │    │    │              │                             │         │              │         │    │    │    │         │              │         │    │    │    │                   │    │    │         ├─outbuilding_garden_in_ancillary_single\n",
      "          │              │    │         │    │         │                   │              │    │    │    │              │                             │         │              │         │    │    │    │         │              │         │    │    │    │                   │    │    │         │    ├─■──garden_outbuilding_in_c3_ancillary ── Topic: 24\n",
      "          │              │    │         │    │         │                   │              │    │    │    │              │                             │         │              │         │    │    │    │         │              │         │    │    │    │                   │    │    │         │    └─outbuilding_garden_in_ancillary_single\n",
      "          │              │    │         │    │         │                   │              │    │    │    │              │                             │         │              │         │    │    │    │         │              │         │    │    │    │                   │    │    │         │         ├─■──outbuilding_garden_in_ancillary_single ── Topic: 20\n",
      "          │              │    │         │    │         │                   │              │    │    │    │              │                             │         │              │         │    │    │    │         │              │         │    │    │    │                   │    │    │         │         └─■──outbuilding_garden_in_erection_an ── Topic: 60\n",
      "          │              │    │         │    │         │                   │              │    │    │    │              │                             │         │              │         │    │    │    │         │              │         │    │    │    │                   │    │    │         └─■──outbuilding_single_ancillary_erection_storey ── Topic: 64\n",
      "          │              │    │         │    │         │                   │              │    │    │    │              │                             │         │              │         │    │    │    │         │              │         │    │    │    │                   │    │    └─timber_outbuilding_garden_clad_ancillary\n",
      "          │              │    │         │    │         │                   │              │    │    │    │              │                             │         │              │         │    │    │    │         │              │         │    │    │    │                   │    │         ├─■──timber_garden_metre_ancillary_outbuilding ── Topic: 96\n",
      "          │              │    │         │    │         │                   │              │    │    │    │              │                             │         │              │         │    │    │    │         │              │         │    │    │    │                   │    │         └─■──timber_outbuilding_clad_garden_purposes ── Topic: 58\n",
      "          │              │    │         │    │         │                   │              │    │    │    │              │                             │         │              │         │    │    │    │         │              │         │    │    │    │                   │    └─extension_roof_rear_flat_single\n",
      "          │              │    │         │    │         │                   │              │    │    │    │              │                             │         │              │         │    │    │    │         │              │         │    │    │    │                   │         ├─extension_roof_rear_flat_single\n",
      "          │              │    │         │    │         │                   │              │    │    │    │              │                             │         │              │         │    │    │    │         │              │         │    │    │    │                   │         │    ├─■──restaurant_a3_reclad_point_infilling ── Topic: 142\n",
      "          │              │    │         │    │         │                   │              │    │    │    │              │                             │         │              │         │    │    │    │         │              │         │    │    │    │                   │         │    └─extension_roof_rear_flat_single\n",
      "          │              │    │         │    │         │                   │              │    │    │    │              │                             │         │              │         │    │    │    │         │              │         │    │    │    │                   │         │         ├─extension_roof_rear_flat_single\n",
      "          │              │    │         │    │         │                   │              │    │    │    │              │                             │         │              │         │    │    │    │         │              │         │    │    │    │                   │         │         │    ├─demolition_following_dwelling_dwellinghouse_house\n",
      "          │              │    │         │    │         │                   │              │    │    │    │              │                             │         │              │         │    │    │    │         │              │         │    │    │    │                   │         │         │    │    ├─demolition_dwelling_dwellinghouse_following_house\n",
      "          │              │    │         │    │         │                   │              │    │    │    │              │                             │         │              │         │    │    │    │         │              │         │    │    │    │                   │         │         │    │    │    ├─■──dwellinghouse_following_family_dwelling_demolition ── Topic: 13\n",
      "          │              │    │         │    │         │                   │              │    │    │    │              │                             │         │              │         │    │    │    │         │              │         │    │    │    │                   │         │         │    │    │    └─■──demolition_dwelling_house_dwellinghouse_detached ── Topic: 6\n",
      "          │              │    │         │    │         │                   │              │    │    │    │              │                             │         │              │         │    │    │    │         │              │         │    │    │    │                   │         │         │    │    └─■──demolition_extension_existing_storey_rear ── Topic: 11\n",
      "          │              │    │         │    │         │                   │              │    │    │    │              │                             │         │              │         │    │    │    │         │              │         │    │    │    │                   │         │         │    └─extension_roof_flat_rear_dormer\n",
      "          │              │    │         │    │         │                   │              │    │    │    │              │                             │         │              │         │    │    │    │         │              │         │    │    │    │                   │         │         │         ├─extension_roof_flat_rear_dormer\n",
      "          │              │    │         │    │         │                   │              │    │    │    │              │                             │         │              │         │    │    │    │         │              │         │    │    │    │                   │         │         │         │    ├─extension_roof_flat_rear_dormer\n",
      "          │              │    │         │    │         │                   │              │    │    │    │              │                             │         │              │         │    │    │    │         │              │         │    │    │    │                   │         │         │         │    │    ├─extension_roof_flat_rear_dormer\n",
      "          │              │    │         │    │         │                   │              │    │    │    │              │                             │         │              │         │    │    │    │         │              │         │    │    │    │                   │         │         │         │    │    │    ├─excavation_lightwells_basement_lightwell_front\n",
      "          │              │    │         │    │         │                   │              │    │    │    │              │                             │         │              │         │    │    │    │         │              │         │    │    │    │                   │         │         │         │    │    │    │    ├─■──excavation_lightwells_basement_lightwell_front ── Topic: 1\n",
      "          │              │    │         │    │         │                   │              │    │    │    │              │                             │         │              │         │    │    │    │         │              │         │    │    │    │                   │         │         │         │    │    │    │    └─■──garden_excavation_patio_lower_rear ── Topic: 17\n",
      "          │              │    │         │    │         │                   │              │    │    │    │              │                             │         │              │         │    │    │    │         │              │         │    │    │    │                   │         │         │         │    │    │    └─roof_extension_dormer_flat_rear\n",
      "          │              │    │         │    │         │                   │              │    │    │    │              │                             │         │              │         │    │    │    │         │              │         │    │    │    │                   │         │         │         │    │    │         ├─single_extension_infill_side_storey\n",
      "          │              │    │         │    │         │                   │              │    │    │    │              │                             │         │              │         │    │    │    │         │              │         │    │    │    │                   │         │         │         │    │    │         │    ├─single_infill_extension_storey_side\n",
      "          │              │    │         │    │         │                   │              │    │    │    │              │                             │         │              │         │    │    │    │         │              │         │    │    │    │                   │         │         │         │    │    │         │    │    ├─single_infill_extension_storey_side\n",
      "          │              │    │         │    │         │                   │              │    │    │    │              │                             │         │              │         │    │    │    │         │              │         │    │    │    │                   │         │         │         │    │    │         │    │    │    ├─infill_side_single_extension_storey\n",
      "          │              │    │         │    │         │                   │              │    │    │    │              │                             │         │              │         │    │    │    │         │              │         │    │    │    │                   │         │         │         │    │    │         │    │    │    │    ├─■──infill_garde_void_extension_side ── Topic: 112\n",
      "          │              │    │         │    │         │                   │              │    │    │    │              │                             │         │              │         │    │    │    │         │              │         │    │    │    │                   │         │         │         │    │    │         │    │    │    │    └─infill_side_single_storey_extension\n",
      "          │              │    │         │    │         │                   │              │    │    │    │              │                             │         │              │         │    │    │    │         │              │         │    │    │    │                   │         │         │         │    │    │         │    │    │    │         ├─infill_side_single_extension_storey\n",
      "          │              │    │         │    │         │                   │              │    │    │    │              │                             │         │              │         │    │    │    │         │              │         │    │    │    │                   │         │         │         │    │    │         │    │    │    │         │    ├─■──infill_side_c3_single_extension ── Topic: 41\n",
      "          │              │    │         │    │         │                   │              │    │    │    │              │                             │         │              │         │    │    │    │         │              │         │    │    │    │                   │         │         │         │    │    │         │    │    │    │         │    └─■──infill_single_side_storey_extension ── Topic: 35\n",
      "          │              │    │         │    │         │                   │              │    │    │    │              │                             │         │              │         │    │    │    │         │              │         │    │    │    │                   │         │         │         │    │    │         │    │    │    │         └─■──infill_side_single_storey_roderick ── Topic: 52\n",
      "          │              │    │         │    │         │                   │              │    │    │    │              │                             │         │              │         │    │    │    │         │              │         │    │    │    │                   │         │         │         │    │    │         │    │    │    └─single_extension_storey_flat_erection\n",
      "          │              │    │         │    │         │                   │              │    │    │    │              │                             │         │              │         │    │    │    │         │              │         │    │    │    │                   │         │         │         │    │    │         │    │    │         ├─single_extension_storey_erection_flat\n",
      "          │              │    │         │    │         │                   │              │    │    │    │              │                             │         │              │         │    │    │    │         │              │         │    │    │    │                   │         │         │         │    │    │         │    │    │         │    ├─single_storey_extension_flat_erection\n",
      "          │              │    │         │    │         │                   │              │    │    │    │              │                             │         │              │         │    │    │    │         │              │         │    │    │    │                   │         │         │         │    │    │         │    │    │         │    │    ├─side_single_storey_extension_erection\n",
      "          │              │    │         │    │         │                   │              │    │    │    │              │                             │         │              │         │    │    │    │         │              │         │    │    │    │                   │         │         │         │    │    │         │    │    │         │    │    │    ├─■──side_single_storey_extension_story ── Topic: 65\n",
      "          │              │    │         │    │         │                   │              │    │    │    │              │                             │         │              │         │    │    │    │         │              │         │    │    │    │                   │         │         │         │    │    │         │    │    │         │    │    │    └─■──side_single_lower_storey_ground ── Topic: 109\n",
      "          │              │    │         │    │         │                   │              │    │    │    │              │                             │         │              │         │    │    │    │         │              │         │    │    │    │                   │         │         │         │    │    │         │    │    │         │    │    └─single_storey_extension_flat_lower\n",
      "          │              │    │         │    │         │                   │              │    │    │    │              │                             │         │              │         │    │    │    │         │              │         │    │    │    │                   │         │         │         │    │    │         │    │    │         │    │         ├─single_storey_extension_flat_lower\n",
      "          │              │    │         │    │         │                   │              │    │    │    │              │                             │         │              │         │    │    │    │         │              │         │    │    │    │                   │         │         │         │    │    │         │    │    │         │    │         │    ├─■──lower_ground_other_extension_erection ── Topic: 94\n",
      "          │              │    │         │    │         │                   │              │    │    │    │              │                             │         │              │         │    │    │    │         │              │         │    │    │    │                   │         │         │         │    │    │         │    │    │         │    │         │    └─single_storey_extension_flat_lower\n",
      "          │              │    │         │    │         │                   │              │    │    │    │              │                             │         │              │         │    │    │    │         │              │         │    │    │    │                   │         │         │         │    │    │         │    │    │         │    │         │         ├─single_storey_flat_extension_lower\n",
      "          │              │    │         │    │         │                   │              │    │    │    │              │                             │         │              │         │    │    │    │         │              │         │    │    │    │                   │         │         │         │    │    │         │    │    │         │    │         │         │    ├─single_storey_extension_erection_rear\n",
      "          │              │    │         │    │         │                   │              │    │    │    │              │                             │         │              │         │    │    │    │         │              │         │    │    │    │                   │         │         │         │    │    │         │    │    │         │    │         │         │    │    ├─■──single_metres_storey_depth_extension ── Topic: 117\n",
      "          │              │    │         │    │         │                   │              │    │    │    │              │                             │         │              │         │    │    │    │         │              │         │    │    │    │                   │         │         │         │    │    │         │    │    │         │    │         │         │    │    └─single_storey_extension_erection_rear\n",
      "          │              │    │         │    │         │                   │              │    │    │    │              │                             │         │              │         │    │    │    │         │              │         │    │    │    │                   │         │         │         │    │    │         │    │    │         │    │         │         │    │         ├─■──single_storey_extension_erection_rear ── Topic: 115\n",
      "          │              │    │         │    │         │                   │              │    │    │    │              │                             │         │              │         │    │    │    │         │              │         │    │    │    │                   │         │         │         │    │    │         │    │    │         │    │         │         │    │         └─■──single_storey_extension_erection_rear ── Topic: 62\n",
      "          │              │    │         │    │         │                   │              │    │    │    │              │                             │         │              │         │    │    │    │         │              │         │    │    │    │                   │         │         │         │    │    │         │    │    │         │    │         │         │    └─single_flat_lower_ground_storey\n",
      "          │              │    │         │    │         │                   │              │    │    │    │              │                             │         │              │         │    │    │    │         │              │         │    │    │    │                   │         │         │         │    │    │         │    │    │         │    │         │         │         ├─single_flat_lower_ground_storey\n",
      "          │              │    │         │    │         │                   │              │    │    │    │              │                             │         │              │         │    │    │    │         │              │         │    │    │    │                   │         │         │         │    │    │         │    │    │         │    │         │         │         │    ├─lower_single_storey_ground_extension\n",
      "          │              │    │         │    │         │                   │              │    │    │    │              │                             │         │              │         │    │    │    │         │              │         │    │    │    │                   │         │         │         │    │    │         │    │    │         │    │         │         │         │    │    ├─■──lower_full_single_flat_extension ── Topic: 68\n",
      "          │              │    │         │    │         │                   │              │    │    │    │              │                             │         │              │         │    │    │    │         │              │         │    │    │    │                   │         │         │         │    │    │         │    │    │         │    │         │         │         │    │    └─single_lower_storey_ground_extension\n",
      "          │              │    │         │    │         │                   │              │    │    │    │              │                             │         │              │         │    │    │    │         │              │         │    │    │    │                   │         │         │         │    │    │         │    │    │         │    │         │         │         │    │         ├─■──single_lower_storey_ground_level ── Topic: 48\n",
      "          │              │    │         │    │         │                   │              │    │    │    │              │                             │         │              │         │    │    │    │         │              │         │    │    │    │                   │         │         │         │    │    │         │    │    │         │    │         │         │         │    │         └─■──lower_single_storey_ground_extension ── Topic: 134\n",
      "          │              │    │         │    │         │                   │              │    │    │    │              │                             │         │              │         │    │    │    │         │              │         │    │    │    │                   │         │         │         │    │    │         │    │    │         │    │         │         │         │    └─flat_single_ground_c3_lower\n",
      "          │              │    │         │    │         │                   │              │    │    │    │              │                             │         │              │         │    │    │    │         │              │         │    │    │    │                   │         │         │         │    │    │         │    │    │         │    │         │         │         │         ├─flat_single_ground_storey_c3\n",
      "          │              │    │         │    │         │                   │              │    │    │    │              │                             │         │              │         │    │    │    │         │              │         │    │    │    │                   │         │         │         │    │    │         │    │    │         │    │         │         │         │         │    ├─■──flat_single_lower_storey_ground ── Topic: 47\n",
      "          │              │    │         │    │         │                   │              │    │    │    │              │                             │         │              │         │    │    │    │         │              │         │    │    │    │                   │         │         │         │    │    │         │    │    │         │    │         │         │         │         │    └─■──flat_c3_single_ground_extension ── Topic: 10\n",
      "          │              │    │         │    │         │                   │              │    │    │    │              │                             │         │              │         │    │    │    │         │              │         │    │    │    │                   │         │         │         │    │    │         │    │    │         │    │         │         │         │         └─■──connection_lower_c3_residential_single ── Topic: 26\n",
      "          │              │    │         │    │         │                   │              │    │    │    │              │                             │         │              │         │    │    │    │         │              │         │    │    │    │                   │         │         │         │    │    │         │    │    │         │    │         │         │         └─■──flat_c3_extension_motor_single ── Topic: 111\n",
      "          │              │    │         │    │         │                   │              │    │    │    │              │                             │         │              │         │    │    │    │         │              │         │    │    │    │                   │         │         │         │    │    │         │    │    │         │    │         │         └─■──c3_single_side_storey_dwelling ── Topic: 29\n",
      "          │              │    │         │    │         │                   │              │    │    │    │              │                             │         │              │         │    │    │    │         │              │         │    │    │    │                   │         │         │         │    │    │         │    │    │         │    │         └─■──first_single_storey_1st_renovation ── Topic: 98\n",
      "          │              │    │         │    │         │                   │              │    │    │    │              │                             │         │              │         │    │    │    │         │              │         │    │    │    │                   │         │         │         │    │    │         │    │    │         │    └─■──first_extension_erection_second_floor ── Topic: 82\n",
      "          │              │    │         │    │         │                   │              │    │    │    │              │                             │         │              │         │    │    │    │         │              │         │    │    │    │                   │         │         │         │    │    │         │    │    │         └─■──return_construction_extension_floor_ground ── Topic: 79\n",
      "          │              │    │         │    │         │                   │              │    │    │    │              │                             │         │              │         │    │    │    │         │              │         │    │    │    │                   │         │         │         │    │    │         │    │    └─■──storey_framed_single_veranda_width ── Topic: 102\n",
      "          │              │    │         │    │         │                   │              │    │    │    │              │                             │         │              │         │    │    │    │         │              │         │    │    │    │                   │         │         │         │    │    │         │    └─window_windows_door_elevation_side\n",
      "          │              │    │         │    │         │                   │              │    │    │    │              │                             │         │              │         │    │    │    │         │              │         │    │    │    │                   │         │         │         │    │    │         │         ├─window_door_windows_side_doors\n",
      "          │              │    │         │    │         │                   │              │    │    │    │              │                             │         │              │         │    │    │    │         │              │         │    │    │    │                   │         │         │         │    │    │         │         │    ├─■──door_windows_window_doors_elevation ── Topic: 56\n",
      "          │              │    │         │    │         │                   │              │    │    │    │              │                             │         │              │         │    │    │    │         │              │         │    │    │    │                   │         │         │         │    │    │         │         │    └─■──window_door_side_lower_rear ── Topic: 23\n",
      "          │              │    │         │    │         │                   │              │    │    │    │              │                             │         │              │         │    │    │    │         │              │         │    │    │    │                   │         │         │         │    │    │         │         └─■──window_elevation_enlargement_insertion_upvc ── Topic: 42\n",
      "          │              │    │         │    │         │                   │              │    │    │    │              │                             │         │              │         │    │    │    │         │              │         │    │    │    │                   │         │         │         │    │    │         └─roof_dormer_mansard_terrace_conversion\n",
      "          │              │    │         │    │         │                   │              │    │    │    │              │                             │         │              │         │    │    │    │         │              │         │    │    │    │                   │         │         │         │    │    │              ├─roof_dormer_mansard_terrace_conversion\n",
      "          │              │    │         │    │         │                   │              │    │    │    │              │                             │         │              │         │    │    │    │         │              │         │    │    │    │                   │         │         │         │    │    │              │    ├─restaurant_a3_change_use_from\n",
      "          │              │    │         │    │         │                   │              │    │    │    │              │                             │         │              │         │    │    │    │         │              │         │    │    │    │                   │         │         │         │    │    │              │    │    ├─restaurant_a3_change_use_a1\n",
      "          │              │    │         │    │         │                   │              │    │    │    │              │                             │         │              │         │    │    │    │         │              │         │    │    │    │                   │         │         │         │    │    │              │    │    │    ├─■──restaurant_a3_b1a_office_bar ── Topic: 138\n",
      "          │              │    │         │    │         │                   │              │    │    │    │              │                             │         │              │         │    │    │    │         │              │         │    │    │    │                   │         │         │         │    │    │              │    │    │    └─restaurant_a3_a1_retail_change\n",
      "          │              │    │         │    │         │                   │              │    │    │    │              │                             │         │              │         │    │    │    │         │              │         │    │    │    │                   │         │         │         │    │    │              │    │    │         ├─■──restaurant_a3_change_use_basement ── Topic: 81\n",
      "          │              │    │         │    │         │                   │              │    │    │    │              │                             │         │              │         │    │    │    │         │              │         │    │    │    │                   │         │         │         │    │    │              │    │    │         └─■──restaurant_a3_a1_a5_retail ── Topic: 93\n",
      "          │              │    │         │    │         │                   │              │    │    │    │              │                             │         │              │         │    │    │    │         │              │         │    │    │    │                   │         │         │         │    │    │              │    │    └─■──restaurant_a3_third_second_from ── Topic: 118\n",
      "          │              │    │         │    │         │                   │              │    │    │    │              │                             │         │              │         │    │    │    │         │              │         │    │    │    │                   │         │         │         │    │    │              │    └─roof_dormer_mansard_terrace_conversion\n",
      "          │              │    │         │    │         │                   │              │    │    │    │              │                             │         │              │         │    │    │    │         │              │         │    │    │    │                   │         │         │         │    │    │              │         ├─■──refurbishment_office_building_plant_space ── Topic: 44\n",
      "          │              │    │         │    │         │                   │              │    │    │    │              │                             │         │              │         │    │    │    │         │              │         │    │    │    │                   │         │         │         │    │    │              │         └─roof_dormer_mansard_terrace_conversion\n",
      "          │              │    │         │    │         │                   │              │    │    │    │              │                             │         │              │         │    │    │    │         │              │         │    │    │    │                   │         │         │         │    │    │              │              ├─roof_dormer_mansard_terrace_conversion\n",
      "          │              │    │         │    │         │                   │              │    │    │    │              │                             │         │              │         │    │    │    │         │              │         │    │    │    │                   │         │         │         │    │    │              │              │    ├─terrace_roof_balustrade_creation_access\n",
      "          │              │    │         │    │         │                   │              │    │    │    │              │                             │         │              │         │    │    │    │         │              │         │    │    │    │                   │         │         │         │    │    │              │              │    │    ├─terrace_roof_extension_with_above\n",
      "          │              │    │         │    │         │                   │              │    │    │    │              │                             │         │              │         │    │    │    │         │              │         │    │    │    │                   │         │         │         │    │    │              │              │    │    │    ├─■──terrace_above_single_railings_storey ── Topic: 69\n",
      "          │              │    │         │    │         │                   │              │    │    │    │              │                             │         │              │         │    │    │    │         │              │         │    │    │    │                   │         │         │         │    │    │              │              │    │    │    └─■──terrace_roof_extension_gloucester_mews ── Topic: 15\n",
      "          │              │    │         │    │         │                   │              │    │    │    │              │                             │         │              │         │    │    │    │         │              │         │    │    │    │                   │         │         │         │    │    │              │              │    │    └─■──terrace_balustrade_roof_creation_access ── Topic: 4\n",
      "          │              │    │         │    │         │                   │              │    │    │    │              │                             │         │              │         │    │    │    │         │              │         │    │    │    │                   │         │         │         │    │    │              │              │    └─dormer_mansard_roof_conversion_maisonette\n",
      "          │              │    │         │    │         │                   │              │    │    │    │              │                             │         │              │         │    │    │    │         │              │         │    │    │    │                   │         │         │         │    │    │              │              │         ├─dormer_mansard_roof_conversion_maisonette\n",
      "          │              │    │         │    │         │                   │              │    │    │    │              │                             │         │              │         │    │    │    │         │              │         │    │    │    │                   │         │         │         │    │    │              │              │         │    ├─dormer_mansard_roof_conversion_maisonette\n",
      "          │              │    │         │    │         │                   │              │    │    │    │              │                             │         │              │         │    │    │    │         │              │         │    │    │    │                   │         │         │         │    │    │              │              │         │    │    ├─conversion_maisonette_flats_into_bedroom\n",
      "          │              │    │         │    │         │                   │              │    │    │    │              │                             │         │              │         │    │    │    │         │              │         │    │    │    │                   │         │         │         │    │    │              │              │         │    │    │    ├─a1_retail_change_use_from\n",
      "          │              │    │         │    │         │                   │              │    │    │    │              │                             │         │              │         │    │    │    │         │              │         │    │    │    │                   │         │         │         │    │    │              │              │         │    │    │    │    ├─■──a1_retail_b1_office_change ── Topic: 27\n",
      "          │              │    │         │    │         │                   │              │    │    │    │              │                             │         │              │         │    │    │    │         │              │         │    │    │    │                   │         │         │         │    │    │              │              │         │    │    │    │    └─■──retail_a1_change_residential_part ── Topic: 16\n",
      "          │              │    │         │    │         │                   │              │    │    │    │              │                             │         │              │         │    │    │    │         │              │         │    │    │    │                   │         │         │         │    │    │              │              │         │    │    │    └─conversion_maisonette_flats_into_bedroom\n",
      "          │              │    │         │    │         │                   │              │    │    │    │              │                             │         │              │         │    │    │    │         │              │         │    │    │    │                   │         │         │         │    │    │              │              │         │    │    │         ├─■──third_hemstal_7a_terraces_bedroom ── Topic: 90\n",
      "          │              │    │         │    │         │                   │              │    │    │    │              │                             │         │              │         │    │    │    │         │              │         │    │    │    │                   │         │         │         │    │    │              │              │         │    │    │         └─conversion_maisonette_into_flats_bedroom\n",
      "          │              │    │         │    │         │                   │              │    │    │    │              │                             │         │              │         │    │    │    │         │              │         │    │    │    │                   │         │         │         │    │    │              │              │         │    │    │              ├─conversion_maisonette_into_flats_bedroom\n",
      "          │              │    │         │    │         │                   │              │    │    │    │              │                             │         │              │         │    │    │    │         │              │         │    │    │    │                   │         │         │         │    │    │              │              │         │    │    │              │    ├─■──closet_conversion_wing_contained_self ── Topic: 122\n",
      "          │              │    │         │    │         │                   │              │    │    │    │              │                             │         │              │         │    │    │    │         │              │         │    │    │    │                   │         │         │         │    │    │              │              │         │    │    │              │    └─maisonette_conversion_into_flats_bed\n",
      "          │              │    │         │    │         │                   │              │    │    │    │              │                             │         │              │         │    │    │    │         │              │         │    │    │    │                   │         │         │         │    │    │              │              │         │    │    │              │         ├─b1a_office_change_from_bed\n",
      "          │              │    │         │    │         │                   │              │    │    │    │              │                             │         │              │         │    │    │    │         │              │         │    │    │    │                   │         │         │         │    │    │              │              │         │    │    │              │         │    ├─■──b1a_office_change_bedroom_flats ── Topic: 46\n",
      "          │              │    │         │    │         │                   │              │    │    │    │              │                             │         │              │         │    │    │    │         │              │         │    │    │    │                   │         │         │         │    │    │              │              │         │    │    │              │         │    └─■──office_b1_change_from_bed ── Topic: 19\n",
      "          │              │    │         │    │         │                   │              │    │    │    │              │                             │         │              │         │    │    │    │         │              │         │    │    │    │                   │         │         │         │    │    │              │              │         │    │    │              │         └─maisonette_conversion_into_flats_1x\n",
      "          │              │    │         │    │         │                   │              │    │    │    │              │                             │         │              │         │    │    │    │         │              │         │    │    │    │                   │         │         │         │    │    │              │              │         │    │    │              │              ├─maisonette_conversion_into_flats_bedroom\n",
      "          │              │    │         │    │         │                   │              │    │    │    │              │                             │         │              │         │    │    │    │         │              │         │    │    │    │                   │         │         │         │    │    │              │              │         │    │    │              │              │    ├─maisonette_conversion_into_bedroom_1x\n",
      "          │              │    │         │    │         │                   │              │    │    │    │              │                             │         │              │         │    │    │    │         │              │         │    │    │    │                   │         │         │         │    │    │              │              │         │    │    │              │              │    │    ├─■──bedroom_studio_flat_contained_self ── Topic: 104\n",
      "          │              │    │         │    │         │                   │              │    │    │    │              │                             │         │              │         │    │    │    │         │              │         │    │    │    │                   │         │         │         │    │    │              │              │         │    │    │              │              │    │    └─maisonette_conversion_into_1x_bedroom\n",
      "          │              │    │         │    │         │                   │              │    │    │    │              │                             │         │              │         │    │    │    │         │              │         │    │    │    │                   │         │         │         │    │    │              │              │         │    │    │              │              │    │         ├─maisonette_conversion_into_1x_bedroom\n",
      "          │              │    │         │    │         │                   │              │    │    │    │              │                             │         │              │         │    │    │    │         │              │         │    │    │    │                   │         │         │         │    │    │              │              │         │    │    │              │              │    │         │    ├─■──maisonette_fifth_seventh_sixth_become ── Topic: 146\n",
      "          │              │    │         │    │         │                   │              │    │    │    │              │                             │         │              │         │    │    │    │         │              │         │    │    │    │                   │         │         │         │    │    │              │              │         │    │    │              │              │    │         │    └─maisonette_conversion_into_1x_bedroom\n",
      "          │              │    │         │    │         │                   │              │    │    │    │              │                             │         │              │         │    │    │    │         │              │         │    │    │    │                   │         │         │         │    │    │              │              │         │    │    │              │              │    │         │         ├─maisonette_conversion_into_bedroom_lower\n",
      "          │              │    │         │    │         │                   │              │    │    │    │              │                             │         │              │         │    │    │    │         │              │         │    │    │    │                   │         │         │         │    │    │              │              │         │    │    │              │              │    │         │         │    ├─■──maisonette_lower_ground_bed_garden ── Topic: 37\n",
      "          │              │    │         │    │         │                   │              │    │    │    │              │                             │         │              │         │    │    │    │         │              │         │    │    │    │                   │         │         │         │    │    │              │              │         │    │    │              │              │    │         │         │    └─■──maisonette_conversion_into_bedroom_maisonettes ── Topic: 9\n",
      "          │              │    │         │    │         │                   │              │    │    │    │              │                             │         │              │         │    │    │    │         │              │         │    │    │    │                   │         │         │         │    │    │              │              │         │    │    │              │              │    │         │         └─1x_conversion_into_bedroom_bed\n",
      "          │              │    │         │    │         │                   │              │    │    │    │              │                             │         │              │         │    │    │    │         │              │         │    │    │    │                   │         │         │         │    │    │              │              │         │    │    │              │              │    │         │              ├─■──bedroom_conversion_1x_into_flat ── Topic: 75\n",
      "          │              │    │         │    │         │                   │              │    │    │    │              │                             │         │              │         │    │    │    │         │              │         │    │    │    │                   │         │         │         │    │    │              │              │         │    │    │              │              │    │         │              └─■──1x_conversion_2x_bed_into ── Topic: 67\n",
      "          │              │    │         │    │         │                   │              │    │    │    │              │                             │         │              │         │    │    │    │         │              │         │    │    │    │                   │         │         │         │    │    │              │              │         │    │    │              │              │    │         └─■──conversion_flats_bedroom_into_contained ── Topic: 97\n",
      "          │              │    │         │    │         │                   │              │    │    │    │              │                             │         │              │         │    │    │    │         │              │         │    │    │    │                   │         │         │         │    │    │              │              │         │    │    │              │              │    └─■──conversion_into_flats_dwellinghouse_single ── Topic: 66\n",
      "          │              │    │         │    │         │                   │              │    │    │    │              │                             │         │              │         │    │    │    │         │              │         │    │    │    │                   │         │         │         │    │    │              │              │         │    │    │              │              └─■──bed_dwellinghouse_family_into_conversion ── Topic: 150\n",
      "          │              │    │         │    │         │                   │              │    │    │    │              │                             │         │              │         │    │    │    │         │              │         │    │    │    │                   │         │         │         │    │    │              │              │         │    │    │              └─family_flats_into_dwelling_conversion\n",
      "          │              │    │         │    │         │                   │              │    │    │    │              │                             │         │              │         │    │    │    │         │              │         │    │    │    │                   │         │         │         │    │    │              │              │         │    │    │                   ├─■──family_into_conversion_flats_dwelling ── Topic: 120\n",
      "          │              │    │         │    │         │                   │              │    │    │    │              │                             │         │              │         │    │    │    │         │              │         │    │    │    │                   │         │         │         │    │    │              │              │         │    │    │                   └─■──family_dwellinghouse_flats_dwelling_contained ── Topic: 101\n",
      "          │              │    │         │    │         │                   │              │    │    │    │              │                             │         │              │         │    │    │    │         │              │         │    │    │    │                   │         │         │         │    │    │              │              │         │    │    └─dormer_mansard_roof_dormers_extension\n",
      "          │              │    │         │    │         │                   │              │    │    │    │              │                             │         │              │         │    │    │    │         │              │         │    │    │    │                   │         │         │         │    │    │              │              │         │    │         ├─dormer_mansard_roof_dormers_extension\n",
      "          │              │    │         │    │         │                   │              │    │    │    │              │                             │         │              │         │    │    │    │         │              │         │    │    │    │                   │         │         │         │    │    │              │              │         │    │         │    ├─dormer_mansard_roof_dormers_slope\n",
      "          │              │    │         │    │         │                   │              │    │    │    │              │                             │         │              │         │    │    │    │         │              │         │    │    │    │                   │         │         │         │    │    │              │              │         │    │         │    │    ├─■──dormer_dormers_roofslope_slope_window ── Topic: 0\n",
      "          │              │    │         │    │         │                   │              │    │    │    │              │                             │         │              │         │    │    │    │         │              │         │    │    │    │                   │         │         │         │    │    │              │              │         │    │         │    │    └─mansard_roof_extension_windows_erection\n",
      "          │              │    │         │    │         │                   │              │    │    │    │              │                             │         │              │         │    │    │    │         │              │         │    │    │    │                   │         │         │         │    │    │              │              │         │    │         │    │         ├─mansard_dormer_windows_roof_dormers\n",
      "          │              │    │         │    │         │                   │              │    │    │    │              │                             │         │              │         │    │    │    │         │              │         │    │    │    │                   │         │         │         │    │    │              │              │         │    │         │    │         │    ├─■──mansard_windows_dormer_roof_extend ── Topic: 106\n",
      "          │              │    │         │    │         │                   │              │    │    │    │              │                             │         │              │         │    │    │    │         │              │         │    │    │    │                   │         │         │         │    │    │              │              │         │    │         │    │         │    └─■──mansard_dormer_windows_dormers_roof ── Topic: 43\n",
      "          │              │    │         │    │         │                   │              │    │    │    │              │                             │         │              │         │    │    │    │         │              │         │    │    │    │                   │         │         │         │    │    │              │              │         │    │         │    │         └─mansard_roof_extension_create_erection\n",
      "          │              │    │         │    │         │                   │              │    │    │    │              │                             │         │              │         │    │    │    │         │              │         │    │    │    │                   │         │         │         │    │    │              │              │         │    │         │    │              ├─■──mansard_roof_extension_create_maisonette ── Topic: 3\n",
      "          │              │    │         │    │         │                   │              │    │    │    │              │                             │         │              │         │    │    │    │         │              │         │    │    │    │                   │         │         │         │    │    │              │              │         │    │         │    │              └─■──mansard_roof_extension_style_erection ── Topic: 33\n",
      "          │              │    │         │    │         │                   │              │    │    │    │              │                             │         │              │         │    │    │    │         │              │         │    │    │    │                   │         │         │         │    │    │              │              │         │    │         │    └─roof_flat_provide_additional_extension\n",
      "          │              │    │         │    │         │                   │              │    │    │    │              │                             │         │              │         │    │    │    │         │              │         │    │    │    │                   │         │         │         │    │    │              │              │         │    │         │         ├─■──roof_c3_flat_terrace_extension ── Topic: 14\n",
      "          │              │    │         │    │         │                   │              │    │    │    │              │                             │         │              │         │    │    │    │         │              │         │    │    │    │                   │         │         │         │    │    │              │              │         │    │         │         └─■──roof_provide_enhance_bed_additional ── Topic: 34\n",
      "          │              │    │         │    │         │                   │              │    │    │    │              │                             │         │              │         │    │    │    │         │              │         │    │    │    │                   │         │         │         │    │    │              │              │         │    │         └─■──108_mansard_quex_flats_extensions ── Topic: 127\n",
      "          │              │    │         │    │         │                   │              │    │    │    │              │                             │         │              │         │    │    │    │         │              │         │    │    │    │                   │         │         │         │    │    │              │              │         │    └─■──office_roof_b1a_b1_space ── Topic: 36\n",
      "          │              │    │         │    │         │                   │              │    │    │    │              │                             │         │              │         │    │    │    │         │              │         │    │    │    │                   │         │         │         │    │    │              │              │         └─■──additional_off_enlargement_first_provide ── Topic: 143\n",
      "          │              │    │         │    │         │                   │              │    │    │    │              │                             │         │              │         │    │    │    │         │              │         │    │    │    │                   │         │         │         │    │    │              │              └─■──retail_unit_a1_shop_blackburn ── Topic: 105\n",
      "          │              │    │         │    │         │                   │              │    │    │    │              │                             │         │              │         │    │    │    │         │              │         │    │    │    │                   │         │         │         │    │    │              └─shopfront_shop_a1_alterations_retail\n",
      "          │              │    │         │    │         │                   │              │    │    │    │              │                             │         │              │         │    │    │    │         │              │         │    │    │    │                   │         │         │         │    │    │                   ├─shopfront_shop_a1_alterations_retail\n",
      "          │              │    │         │    │         │                   │              │    │    │    │              │                             │         │              │         │    │    │    │         │              │         │    │    │    │                   │         │         │         │    │    │                   │    ├─shopfront_shop_a1_retail_retention\n",
      "          │              │    │         │    │         │                   │              │    │    │    │              │                             │         │              │         │    │    │    │         │              │         │    │    │    │                   │         │         │         │    │    │                   │    │    ├─■──retention_shopfront_a1_shop_retail ── Topic: 137\n",
      "          │              │    │         │    │         │                   │              │    │    │    │              │                             │         │              │         │    │    │    │         │              │         │    │    │    │                   │         │         │         │    │    │                   │    │    └─■──shopfront_shop_a1_retail_unit ── Topic: 45\n",
      "          │              │    │         │    │         │                   │              │    │    │    │              │                             │         │              │         │    │    │    │         │              │         │    │    │    │                   │         │         │         │    │    │                   │    └─■──shopfront_alterations_shopfronts_signs_shop ── Topic: 25\n",
      "          │              │    │         │    │         │                   │              │    │    │    │              │                             │         │              │         │    │    │    │         │              │         │    │    │    │                   │         │         │         │    │    │                   └─■──replacement_shopfront_shop_street_mercer ── Topic: 136\n",
      "          │              │    │         │    │         │                   │              │    │    │    │              │                             │         │              │         │    │    │    │         │              │         │    │    │    │                   │         │         │         │    │    └─■──a4_public_1x3_floors_create ── Topic: 77\n",
      "          │              │    │         │    │         │                   │              │    │    │    │              │                             │         │              │         │    │    │    │         │              │         │    │    │    │                   │         │         │         │    └─■──6th_5th_dwellinghouses_elevational_garage ── Topic: 148\n",
      "          │              │    │         │    │         │                   │              │    │    │    │              │                             │         │              │         │    │    │    │         │              │         │    │    │    │                   │         │         │         └─■──terrace_screening_structure_arbour_balustrade ── Topic: 121\n",
      "          │              │    │         │    │         │                   │              │    │    │    │              │                             │         │              │         │    │    │    │         │              │         │    │    │    │                   │         │         └─■──roofslope_rooflights_insertion_rooflight_slope ── Topic: 71\n",
      "          │              │    │         │    │         │                   │              │    │    │    │              │                             │         │              │         │    │    │    │         │              │         │    │    │    │                   │         └─■──infill_additional_lightwell_atrium_spotlights ── Topic: 89\n",
      "          │              │    │         │    │         │                   │              │    │    │    │              │                             │         │              │         │    │    │    │         │              │         │    │    │    │                   └─■──shopfront_unit_doorway_elevations_reconfiguration ── Topic: 129\n",
      "          │              │    │         │    │         │                   │              │    │    │    │              │                             │         │              │         │    │    │    │         │              │         │    │    │    └─■──windows_glazed_double_timber_replacement ── Topic: 8\n",
      "          │              │    │         │    │         │                   │              │    │    │    │              │                             │         │              │         │    │    │    │         │              │         │    │    └─■──06_1805_permmission_terrace_boundaries ── Topic: 152\n",
      "          │              │    │         │    │         │                   │              │    │    │    │              │                             │         │              │         │    │    │    │         │              │         │    └─■──rooflight_lights_rooflights_extension_single ── Topic: 39\n",
      "          │              │    │         │    │         │                   │              │    │    │    │              │                             │         │              │         │    │    │    │         │              │         └─fenestration_alterations_lower_rear_ground\n",
      "          │              │    │         │    │         │                   │              │    │    │    │              │                             │         │              │         │    │    │    │         │              │              ├─■──fenestration_alterations_lower_side_single ── Topic: 40\n",
      "          │              │    │         │    │         │                   │              │    │    │    │              │                             │         │              │         │    │    │    │         │              │              └─■──fenestration_rendering_fenestrations_alterations_macklin ── Topic: 113\n",
      "          │              │    │         │    │         │                   │              │    │    │    │              │                             │         │              │         │    │    │    │         │              └─■──loft_conversion_lights_rooflights_dormer ── Topic: 83\n",
      "          │              │    │         │    │         │                   │              │    │    │    │              │                             │         │              │         │    │    │    │         └─■──hmo_c4_multiple_occupation_bedsits ── Topic: 61\n",
      "          │              │    │         │    │         │                   │              │    │    │    │              │                             │         │              │         │    │    │    └─■──d2_fitness_yoga_gym_studio ── Topic: 28\n",
      "          │              │    │         │    │         │                   │              │    │    │    │              │                             │         │              │         │    │    └─generis_sui_beauty_salon_retail\n",
      "          │              │    │         │    │         │                   │              │    │    │    │              │                             │         │              │         │    │         ├─generis_sui_beauty_salon_a1\n",
      "          │              │    │         │    │         │                   │              │    │    │    │              │                             │         │              │         │    │         │    ├─■──beauty_salon_generis_sui_tattoo ── Topic: 51\n",
      "          │              │    │         │    │         │                   │              │    │    │    │              │                             │         │              │         │    │         │    └─■──sui_generis_a1_retail_cafe ── Topic: 59\n",
      "          │              │    │         │    │         │                   │              │    │    │    │              │                             │         │              │         │    │         └─■──market_sui_generis_continued_every ── Topic: 103\n",
      "          │              │    │         │    │         │                   │              │    │    │    │              │                             │         │              │         │    └─■──work_live_sui_generis_unit ── Topic: 114\n",
      "          │              │    │         │    │         │                   │              │    │    │    │              │                             │         │              │         └─■──wall_boundary_gates_gate_fence ── Topic: 2\n",
      "          │              │    │         │    │         │                   │              │    │    │    │              │                             │         │              └─■──fascia_shopfront_sign_signage_atm ── Topic: 124\n",
      "          │              │    │         │    │         │                   │              │    │    │    │              │                             │         └─■──balcony_railings_depth_balustrade_make ── Topic: 80\n",
      "          │              │    │         │    │         │                   │              │    │    │    │              │                             └─■──professional_financial_services_a2_a1 ── Topic: 49\n",
      "          │              │    │         │    │         │                   │              │    │    │    │              └─■──hostel_nurses_sui_generis_backpackers ── Topic: 76\n",
      "          │              │    │         │    │         │                   │              │    │    │    └─■──drinking_establishment_a4_duel_lavatories ── Topic: 151\n",
      "          │              │    │         │    │         │                   │              │    │    └─■──facade_pilasters_redecoration_shopfront_stucco ── Topic: 130\n",
      "          │              │    │         │    │         │                   │              │    └─■──plant_210_euston_rooftop_enclosure ── Topic: 147\n",
      "          │              │    │         │    │         │                   │              └─school_classroom_d1_temporary_playground\n",
      "          │              │    │         │    │         │                   │                   ├─■──school_classroom_d1_playground_nursery ── Topic: 21\n",
      "          │              │    │         │    │         │                   │                   └─■──temporary_structures_allotment_technology_classroom ── Topic: 139\n",
      "          │              │    │         │    │         │                   └─temporary_between_led_piazza_june\n",
      "          │              │    │         │    │         │                        ├─■──led_temporary_piazza_incorporating_june ── Topic: 87\n",
      "          │              │    │         │    │         │                        └─■──filming_temporary_july_location_officials ── Topic: 116\n",
      "          │              │    │         │    │         └─■──until_f1_education_years_2022 ── Topic: 133\n",
      "          │              │    │         │    └─■──mezzanine_annex_oversailing_midlands_roof ── Topic: 110\n",
      "          │              │    │         └─extract_duct_flue_ducting_ventilation\n",
      "          │              │    │              ├─■──duct_extract_ducting_ventilation_extraction ── Topic: 84\n",
      "          │              │    │              └─■──flue_extract_boiler_kitchen_retention ── Topic: 126\n",
      "          │              │    └─■──air_conditioning_condenser_retention_unit ── Topic: 31\n",
      "          │              └─■──pergola_pergolas_planting_seating_steel ── Topic: 86\n",
      "          └─■──chimney_stack_like_arms_buttress ── Topic: 119\n",
      "\n"
     ]
    }
   ],
   "source": [
    "tree = topic_model.get_topic_tree(hierarchical_topics)\n",
    "print(tree)"
   ]
  }
 ],
 "metadata": {
  "kernelspec": {
   "display_name": "Python 3 (ipykernel)",
   "language": "python",
   "name": "python3"
  },
  "language_info": {
   "codemirror_mode": {
    "name": "ipython",
    "version": 3
   },
   "file_extension": ".py",
   "mimetype": "text/x-python",
   "name": "python",
   "nbconvert_exporter": "python",
   "pygments_lexer": "ipython3",
   "version": "3.8.5"
  }
 },
 "nbformat": 4,
 "nbformat_minor": 2
}
