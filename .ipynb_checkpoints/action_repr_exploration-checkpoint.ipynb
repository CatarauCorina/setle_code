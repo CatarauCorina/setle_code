{
 "cells": [
  {
   "cell_type": "code",
   "execution_count": 3,
   "id": "19e3bcc5",
   "metadata": {},
   "outputs": [],
   "source": [
    "import sys,os,os.path\n",
    "os.environ['NEO4J_BOLT_URL']='bolt://localhost:7687'\n",
    "os.environ['NEO_PASS']='rl123456'\n",
    "os.environ['NEO_USER']='neo4j'"
   ]
  },
  {
   "cell_type": "code",
   "execution_count": 4,
   "id": "0298ca0c",
   "metadata": {},
   "outputs": [],
   "source": [
    "import argparse\n",
    "import os\n",
    "import torch\n",
    "import time\n",
    "\n",
    "from memory_graph.memory_utils import WorkingMemory, ConceptSpaceGDS\n",
    "\n",
    "from torch import optim\n",
    "from torch.autograd import Variable\n",
    "from torch.nn import functional as F\n",
    "from torch.utils import data\n",
    "from tqdm import tqdm"
   ]
  },
  {
   "cell_type": "code",
   "execution_count": null,
   "id": "ca1482a9",
   "metadata": {},
   "outputs": [],
   "source": []
  }
 ],
 "metadata": {
  "kernelspec": {
   "display_name": "Python 3 (ipykernel)",
   "language": "python",
   "name": "python3"
  },
  "language_info": {
   "codemirror_mode": {
    "name": "ipython",
    "version": 3
   },
   "file_extension": ".py",
   "mimetype": "text/x-python",
   "name": "python",
   "nbconvert_exporter": "python",
   "pygments_lexer": "ipython3",
   "version": "3.8.5"
  }
 },
 "nbformat": 4,
 "nbformat_minor": 5
}
